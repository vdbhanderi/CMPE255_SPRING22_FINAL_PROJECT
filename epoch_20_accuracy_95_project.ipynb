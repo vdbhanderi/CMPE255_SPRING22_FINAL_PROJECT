{
  "cells": [
    {
      "cell_type": "code",
      "execution_count": 1,
      "metadata": {
        "colab": {
          "base_uri": "https://localhost:8080/"
        },
        "id": "2NEWAoUNP8xH",
        "outputId": "1672578a-f65c-4113-9470-1c861e2ffc8a"
      },
      "outputs": [
        {
          "name": "stdout",
          "output_type": "stream",
          "text": [
            "Drive already mounted at /content/drive/; to attempt to forcibly remount, call drive.mount(\"/content/drive/\", force_remount=True).\n"
          ]
        }
      ],
      "source": [
        "import tensorflow as tf\n",
        "import numpy as np\n",
        "import pandas as pd\n",
        "from keras.preprocessing.sequence import pad_sequences\n",
        "from keras.preprocessing.text import Tokenizer\n",
        "import re\n",
        "import os\n",
        "tf.__version__\n",
        "from google.colab import drive\n",
        "drive.mount('/content/drive/')"
      ]
    },
    {
      "cell_type": "code",
      "execution_count": 2,
      "metadata": {
        "id": "CLrsbOIpTU1m"
      },
      "outputs": [],
      "source": [
        "df = pd.read_csv(\"/content/drive/MyDrive/Colab_Notebooks/train.csv\")"
      ]
    },
    {
      "cell_type": "code",
      "execution_count": 3,
      "metadata": {
        "id": "s5oWgBqmTp7p"
      },
      "outputs": [],
      "source": [
        "def clean_data(text):\n",
        "    text = text.lower()\n",
        "    text = re.sub(r\"[-=+*\\\"#@!$%^&()`<>\\[\\]]\",\"\",text)\n",
        "    text = re.sub(r\"i'm\",\"i am\",text)\n",
        "    text = re.sub(r\"he's\",\"he is\",text)\n",
        "    text = re.sub(r\"she's\",\"she is\",text)\n",
        "    text = re.sub(r\"it's\",\"it is\",text)\n",
        "    text = re.sub(r\"they're\",\"they are\",text)\n",
        "    text = re.sub(r\"there're\",\"there are\",text)\n",
        "    text = re.sub(r\"there's\",\"there is\",text)\n",
        "    text = re.sub(r\"how're\",\"how are\",text)\n",
        "    text = re.sub(r\"what're\",\"what are\",text)\n",
        "    text = re.sub(r\"where're\",\"where \",text)\n",
        "    text = re.sub(r\"who're\",\"who are\",text)\n",
        "    text = re.sub(r\"that're\",\"that are\",text)\n",
        "    text = re.sub(r\"when're\",\"when are\",text)\n",
        "    text = re.sub(r\"how's\",\"how is\",text)\n",
        "    text = re.sub(r\"what's\",\"what is\",text)\n",
        "    text = re.sub(r\"where's\",\"where is\",text)\n",
        "    text = re.sub(r\"who's\",\"who is\",text)\n",
        "    text = re.sub(r\"that's\",\"that is\",text)\n",
        "    text = re.sub(r\"when's\",\"when is\",text)\n",
        "    text = re.sub(r\"won't\",\"would not\",text)\n",
        "    text = re.sub(r\"nt't\",\"can not\",text)\n",
        "    text = re.sub(r\"\\'bout'\",\"about\",text)\n",
        "    text = re.sub(r\"\\'till'\",\"untill\",text)\n",
        "    text = re.sub(r\"\\'ll\",\"will\",text)\n",
        "    text = re.sub(r\"\\'ve\",\"have\",text)\n",
        "    text = re.sub(r\"\\'re\",\"are\",text)\n",
        "    text = re.sub(r\"\\'d\",\"would\",text)\n",
        "    text = re.sub(r\"\\.\",\" \",text)\n",
        "    text = re.sub(r\"\\,\",\" \",text)\n",
        "    text = re.sub(r\"\\!\",\" \",text)\n",
        "    text = re.sub(r\"\\?\",\" \",text)\n",
        "    text = re.sub(r\"\\;\",\" \",text)\n",
        "    text = re.sub(r\"\\:\",\" \",text)\n",
        "    return text\n",
        "\n",
        "    \n",
        "df['text'] = df['text'].apply(clean_data)\n",
        "df['augmented_text'] = df['augmented_text'].apply(clean_data)\n",
        "\n",
        "\n"
      ]
    },
    {
      "cell_type": "code",
      "execution_count": 5,
      "metadata": {
        "colab": {
          "base_uri": "https://localhost:8080/",
          "height": 423
        },
        "id": "IZMTBLH1H-U7",
        "outputId": "5d421291-9a5f-45ed-ec70-88eadecc4115"
      },
      "outputs": [
        {
          "data": {
            "text/html": [
              "\n",
              "  <div id=\"df-93b1997c-63a6-4594-8b2d-8f5b76cdf68e\">\n",
              "    <div class=\"colab-df-container\">\n",
              "      <div>\n",
              "<style scoped>\n",
              "    .dataframe tbody tr th:only-of-type {\n",
              "        vertical-align: middle;\n",
              "    }\n",
              "\n",
              "    .dataframe tbody tr th {\n",
              "        vertical-align: top;\n",
              "    }\n",
              "\n",
              "    .dataframe thead th {\n",
              "        text-align: right;\n",
              "    }\n",
              "</style>\n",
              "<table border=\"1\" class=\"dataframe\">\n",
              "  <thead>\n",
              "    <tr style=\"text-align: right;\">\n",
              "      <th></th>\n",
              "      <th>text</th>\n",
              "      <th>augmented_text</th>\n",
              "    </tr>\n",
              "  </thead>\n",
              "  <tbody>\n",
              "    <tr>\n",
              "      <th>0</th>\n",
              "      <td>1 billion darling harbour redevelopment plans ...</td>\n",
              "      <td>1 billion darling hsarfbour redeevelopment p3...</td>\n",
              "    </tr>\n",
              "    <tr>\n",
              "      <th>1</th>\n",
              "      <td>1 billion desalination claim frivolous walsh</td>\n",
              "      <td>1 ibllion desalination lciam rfivloous walsh</td>\n",
              "    </tr>\n",
              "    <tr>\n",
              "      <th>2</th>\n",
              "      <td>1 billion wiped from nsw budget in accounting ...</td>\n",
              "      <td>1 billino wiped from nsw budget in accountngi...</td>\n",
              "    </tr>\n",
              "    <tr>\n",
              "      <th>3</th>\n",
              "      <td>1 million reward in hunt for bowraville killer</td>\n",
              "      <td>1 million reward in htun for boawrville killre</td>\n",
              "    </tr>\n",
              "    <tr>\n",
              "      <th>4</th>\n",
              "      <td>1 million wall to shield coal train noise</td>\n",
              "      <td>1 million wqli to shjele coal raib noise</td>\n",
              "    </tr>\n",
              "    <tr>\n",
              "      <th>...</th>\n",
              "      <td>...</td>\n",
              "      <td>...</td>\n",
              "    </tr>\n",
              "    <tr>\n",
              "      <th>768636</th>\n",
              "      <td>zygier arrested after leaking mossad work to a...</td>\n",
              "      <td>zygier arrectrd after leak9nh mossad eoek to a...</td>\n",
              "    </tr>\n",
              "    <tr>\n",
              "      <th>768637</th>\n",
              "      <td>zygier sabotaged mission to retrieve soldiers</td>\n",
              "      <td>zgyire sabotaged misisno to retrieve soldiers</td>\n",
              "    </tr>\n",
              "    <tr>\n",
              "      <th>768638</th>\n",
              "      <td>zylvester streaks field in alice cup</td>\n",
              "      <td>zylvester streaks field in ialce cup</td>\n",
              "    </tr>\n",
              "    <tr>\n",
              "      <th>768639</th>\n",
              "      <td>zynga adoption pushes bitcoin back over 1000</td>\n",
              "      <td>z6ngz adoption pushes fitcokn naxk over 1000</td>\n",
              "    </tr>\n",
              "    <tr>\n",
              "      <th>768640</th>\n",
              "      <td>zyngier privatisation of schools</td>\n",
              "      <td>yzngeir privatisation of cshools</td>\n",
              "    </tr>\n",
              "  </tbody>\n",
              "</table>\n",
              "<p>768641 rows × 2 columns</p>\n",
              "</div>\n",
              "      <button class=\"colab-df-convert\" onclick=\"convertToInteractive('df-93b1997c-63a6-4594-8b2d-8f5b76cdf68e')\"\n",
              "              title=\"Convert this dataframe to an interactive table.\"\n",
              "              style=\"display:none;\">\n",
              "        \n",
              "  <svg xmlns=\"http://www.w3.org/2000/svg\" height=\"24px\"viewBox=\"0 0 24 24\"\n",
              "       width=\"24px\">\n",
              "    <path d=\"M0 0h24v24H0V0z\" fill=\"none\"/>\n",
              "    <path d=\"M18.56 5.44l.94 2.06.94-2.06 2.06-.94-2.06-.94-.94-2.06-.94 2.06-2.06.94zm-11 1L8.5 8.5l.94-2.06 2.06-.94-2.06-.94L8.5 2.5l-.94 2.06-2.06.94zm10 10l.94 2.06.94-2.06 2.06-.94-2.06-.94-.94-2.06-.94 2.06-2.06.94z\"/><path d=\"M17.41 7.96l-1.37-1.37c-.4-.4-.92-.59-1.43-.59-.52 0-1.04.2-1.43.59L10.3 9.45l-7.72 7.72c-.78.78-.78 2.05 0 2.83L4 21.41c.39.39.9.59 1.41.59.51 0 1.02-.2 1.41-.59l7.78-7.78 2.81-2.81c.8-.78.8-2.07 0-2.86zM5.41 20L4 18.59l7.72-7.72 1.47 1.35L5.41 20z\"/>\n",
              "  </svg>\n",
              "      </button>\n",
              "      \n",
              "  <style>\n",
              "    .colab-df-container {\n",
              "      display:flex;\n",
              "      flex-wrap:wrap;\n",
              "      gap: 12px;\n",
              "    }\n",
              "\n",
              "    .colab-df-convert {\n",
              "      background-color: #E8F0FE;\n",
              "      border: none;\n",
              "      border-radius: 50%;\n",
              "      cursor: pointer;\n",
              "      display: none;\n",
              "      fill: #1967D2;\n",
              "      height: 32px;\n",
              "      padding: 0 0 0 0;\n",
              "      width: 32px;\n",
              "    }\n",
              "\n",
              "    .colab-df-convert:hover {\n",
              "      background-color: #E2EBFA;\n",
              "      box-shadow: 0px 1px 2px rgba(60, 64, 67, 0.3), 0px 1px 3px 1px rgba(60, 64, 67, 0.15);\n",
              "      fill: #174EA6;\n",
              "    }\n",
              "\n",
              "    [theme=dark] .colab-df-convert {\n",
              "      background-color: #3B4455;\n",
              "      fill: #D2E3FC;\n",
              "    }\n",
              "\n",
              "    [theme=dark] .colab-df-convert:hover {\n",
              "      background-color: #434B5C;\n",
              "      box-shadow: 0px 1px 3px 1px rgba(0, 0, 0, 0.15);\n",
              "      filter: drop-shadow(0px 1px 2px rgba(0, 0, 0, 0.3));\n",
              "      fill: #FFFFFF;\n",
              "    }\n",
              "  </style>\n",
              "\n",
              "      <script>\n",
              "        const buttonEl =\n",
              "          document.querySelector('#df-93b1997c-63a6-4594-8b2d-8f5b76cdf68e button.colab-df-convert');\n",
              "        buttonEl.style.display =\n",
              "          google.colab.kernel.accessAllowed ? 'block' : 'none';\n",
              "\n",
              "        async function convertToInteractive(key) {\n",
              "          const element = document.querySelector('#df-93b1997c-63a6-4594-8b2d-8f5b76cdf68e');\n",
              "          const dataTable =\n",
              "            await google.colab.kernel.invokeFunction('convertToInteractive',\n",
              "                                                     [key], {});\n",
              "          if (!dataTable) return;\n",
              "\n",
              "          const docLinkHtml = 'Like what you see? Visit the ' +\n",
              "            '<a target=\"_blank\" href=https://colab.research.google.com/notebooks/data_table.ipynb>data table notebook</a>'\n",
              "            + ' to learn more about interactive tables.';\n",
              "          element.innerHTML = '';\n",
              "          dataTable['output_type'] = 'display_data';\n",
              "          await google.colab.output.renderOutput(dataTable, element);\n",
              "          const docLink = document.createElement('div');\n",
              "          docLink.innerHTML = docLinkHtml;\n",
              "          element.appendChild(docLink);\n",
              "        }\n",
              "      </script>\n",
              "    </div>\n",
              "  </div>\n",
              "  "
            ],
            "text/plain": [
              "                                                     text  \\\n",
              "0       1 billion darling harbour redevelopment plans ...   \n",
              "1            1 billion desalination claim frivolous walsh   \n",
              "2       1 billion wiped from nsw budget in accounting ...   \n",
              "3          1 million reward in hunt for bowraville killer   \n",
              "4               1 million wall to shield coal train noise   \n",
              "...                                                   ...   \n",
              "768636  zygier arrested after leaking mossad work to a...   \n",
              "768637      zygier sabotaged mission to retrieve soldiers   \n",
              "768638               zylvester streaks field in alice cup   \n",
              "768639       zynga adoption pushes bitcoin back over 1000   \n",
              "768640                   zyngier privatisation of schools   \n",
              "\n",
              "                                           augmented_text  \n",
              "0        1 billion darling hsarfbour redeevelopment p3...  \n",
              "1            1 ibllion desalination lciam rfivloous walsh  \n",
              "2        1 billino wiped from nsw budget in accountngi...  \n",
              "3          1 million reward in htun for boawrville killre  \n",
              "4                1 million wqli to shjele coal raib noise  \n",
              "...                                                   ...  \n",
              "768636  zygier arrectrd after leak9nh mossad eoek to a...  \n",
              "768637      zgyire sabotaged misisno to retrieve soldiers  \n",
              "768638               zylvester streaks field in ialce cup  \n",
              "768639       z6ngz adoption pushes fitcokn naxk over 1000  \n",
              "768640                   yzngeir privatisation of cshools  \n",
              "\n",
              "[768641 rows x 2 columns]"
            ]
          },
          "execution_count": 5,
          "metadata": {},
          "output_type": "execute_result"
        }
      ],
      "source": [
        "df"
      ]
    },
    {
      "cell_type": "code",
      "execution_count": 6,
      "metadata": {
        "id": "RKId0VY12U3m"
      },
      "outputs": [],
      "source": [
        "testing = df[72001:72006]\n",
        "text_data = df.iloc[0:72000,]\n"
      ]
    },
    {
      "cell_type": "code",
      "execution_count": 7,
      "metadata": {
        "id": "sTa8D0WfT1gf"
      },
      "outputs": [],
      "source": [
        "\n",
        "g_text_tokenizer = Tokenizer()\n",
        "g_text_tokenizer.fit_on_texts(text_data['augmented_text'])\n",
        "g_text_word_index = g_text_tokenizer.word_index\n",
        "train_sequences = g_text_tokenizer.texts_to_sequences(text_data['augmented_text'])\n",
        "train_padded = pad_sequences(train_sequences, padding='post')\n",
        "\n",
        "max_length_g = train_padded.shape[1]\n",
        "\n",
        "text_tokenizer = Tokenizer()\n",
        "text_tokenizer.fit_on_texts(text_data['text'])\n",
        "text_word_index = text_tokenizer.word_index\n",
        "test_sequences = text_tokenizer.texts_to_sequences(text_data['text'])\n",
        "test_padded = pad_sequences(test_sequences, padding='post')\n",
        "max_length = test_padded.shape[1]\n",
        "\n",
        "\n"
      ]
    },
    {
      "cell_type": "code",
      "execution_count": 8,
      "metadata": {
        "colab": {
          "base_uri": "https://localhost:8080/"
        },
        "id": "jdRfdUWa3B99",
        "outputId": "26f8306e-af1f-4471-c7f3-50813969da77"
      },
      "outputs": [
        {
          "name": "stdout",
          "output_type": "stream",
          "text": [
            "14 14\n"
          ]
        }
      ],
      "source": [
        "print(max_length_g,max_length)\n"
      ]
    },
    {
      "cell_type": "code",
      "execution_count": 10,
      "metadata": {
        "colab": {
          "base_uri": "https://localhost:8080/"
        },
        "id": "npA5T2pATdEK",
        "outputId": "8f02c529-0606-4ece-bf5a-dc0d147f838a"
      },
      "outputs": [
        {
          "name": "stdout",
          "output_type": "stream",
          "text": [
            "154250 31997\n"
          ]
        }
      ],
      "source": [
        "g_vocab_size = len(g_text_word_index)+1\n",
        "vocab_size = len(text_word_index)+1\n",
        "print(g_vocab_size, vocab_size)"
      ]
    },
    {
      "cell_type": "code",
      "execution_count": 11,
      "metadata": {
        "id": "_XpYdlglhS4Z"
      },
      "outputs": [],
      "source": [
        "model = tf.keras.Sequential([\n",
        "    tf.keras.layers.Embedding(input_dim=g_vocab_size, output_dim=2056, input_length=max_length_g),\n",
        "    tf.keras.layers.Bidirectional(tf.keras.layers.LSTM(1028, return_sequences=True)),\n",
        "    tf.keras.layers.TimeDistributed(tf.keras.layers.Dense(2056, activation='relu')),\n",
        "    tf.keras.layers.Bidirectional(tf.keras.layers.LSTM(1028, return_sequences=True)),\n",
        "    tf.keras.layers.Dropout(0.5),\n",
        "    tf.keras.layers.TimeDistributed(tf.keras.layers.Dense(vocab_size,activation='softmax'))\n",
        "])\n",
        "# learning_rate = 2\n",
        "optimizer = tf.keras.optimizers.RMSprop()\n",
        "optimizer = tf.keras.mixed_precision.LossScaleOptimizer(optimizer)\n",
        "model.compile(loss=\"sparse_categorical_crossentropy\",\n",
        "              optimizer=optimizer,\n",
        "              metrics=['accuracy'])"
      ]
    },
    {
      "cell_type": "code",
      "execution_count": 13,
      "metadata": {
        "colab": {
          "base_uri": "https://localhost:8080/"
        },
        "id": "BIDyD7DqT-_c",
        "outputId": "fb5b3849-f068-4476-b88d-2a1f710aa908"
      },
      "outputs": [
        {
          "name": "stdout",
          "output_type": "stream",
          "text": [
            "Model: \"sequential\"\n",
            "____________________________________________________________________________\n",
            " Layer (type)                Output Shape              Param #   Trainable  \n",
            "============================================================================\n",
            " embedding (Embedding)       (None, 14, 2056)          31713800  Y          \n",
            "                                                       0                    \n",
            "                                                                            \n",
            " bidirectional (Bidirectiona  (None, 14, 2056)         25371040  Y          \n",
            " l)                                                                         \n",
            "                                                                            \n",
            " time_distributed (TimeDistr  (None, 14, 2056)         4229192   Y          \n",
            " ibuted)                                                                    \n",
            "                                                                            \n",
            " bidirectional_1 (Bidirectio  (None, 14, 2056)         25371040  Y          \n",
            " nal)                                                                       \n",
            "                                                                            \n",
            " dropout (Dropout)           (None, 14, 2056)          0         Y          \n",
            "                                                                            \n",
            " time_distributed_1 (TimeDis  (None, 14, 31997)        65817829  Y          \n",
            " tributed)                                                                  \n",
            "                                                                            \n",
            "============================================================================\n",
            "Total params: 437,927,101\n",
            "Trainable params: 437,927,101\n",
            "Non-trainable params: 0\n",
            "____________________________________________________________________________\n"
          ]
        }
      ],
      "source": [
        "model.summary(expand_nested=True,\n",
        "    show_trainable=True)"
      ]
    },
    {
      "cell_type": "code",
      "execution_count": 14,
      "metadata": {
        "id": "eVK8H4m5dqdD"
      },
      "outputs": [],
      "source": [
        "temp_test_padded = test_padded.reshape((test_padded.shape[0], test_padded.shape[1],1))\n",
        "temp_train_padded = train_padded.reshape((train_padded.shape[0], train_padded.shape[1],1))\n"
      ]
    },
    {
      "cell_type": "code",
      "execution_count": 15,
      "metadata": {
        "colab": {
          "base_uri": "https://localhost:8080/"
        },
        "id": "Lz1009MuUGX-",
        "outputId": "286b931a-b4e2-4a4b-ebd7-fd15930af464"
      },
      "outputs": [
        {
          "name": "stdout",
          "output_type": "stream",
          "text": [
            "Epoch 1/20\n"
          ]
        },
        {
          "name": "stderr",
          "output_type": "stream",
          "text": [
            "/usr/local/lib/python3.7/dist-packages/tensorflow/python/framework/indexed_slices.py:439: UserWarning: Converting sparse IndexedSlices to a dense Tensor with 317138000 elements. This may consume a large amount of memory.\n",
            "  num_elements)\n"
          ]
        },
        {
          "name": "stdout",
          "output_type": "stream",
          "text": [
            "450/450 [==============================] - 178s 378ms/step - loss: 3.5059 - accuracy: 0.5716 - val_loss: 3.2273 - val_accuracy: 0.6272\n",
            "Epoch 2/20\n",
            "450/450 [==============================] - 168s 374ms/step - loss: 2.3330 - accuracy: 0.7058 - val_loss: 2.5779 - val_accuracy: 0.7122\n",
            "Epoch 3/20\n",
            "450/450 [==============================] - 173s 384ms/step - loss: 1.7879 - accuracy: 0.7669 - val_loss: 2.3790 - val_accuracy: 0.7449\n",
            "Epoch 4/20\n",
            "450/450 [==============================] - 168s 374ms/step - loss: 1.4541 - accuracy: 0.8021 - val_loss: 2.2929 - val_accuracy: 0.7634\n",
            "Epoch 5/20\n",
            "450/450 [==============================] - 168s 374ms/step - loss: 1.2174 - accuracy: 0.8298 - val_loss: 2.3238 - val_accuracy: 0.7725\n",
            "Epoch 6/20\n",
            "450/450 [==============================] - 168s 374ms/step - loss: 1.0473 - accuracy: 0.8518 - val_loss: 2.2283 - val_accuracy: 0.7796\n",
            "Epoch 7/20\n",
            "450/450 [==============================] - 168s 374ms/step - loss: 0.9456 - accuracy: 0.8671 - val_loss: 2.1604 - val_accuracy: 0.7863\n",
            "Epoch 8/20\n",
            "450/450 [==============================] - 168s 374ms/step - loss: 0.8636 - accuracy: 0.8805 - val_loss: 2.0879 - val_accuracy: 0.7919\n",
            "Epoch 9/20\n",
            "450/450 [==============================] - 168s 374ms/step - loss: 0.7951 - accuracy: 0.8917 - val_loss: 2.0309 - val_accuracy: 0.7967\n",
            "Epoch 10/20\n",
            "450/450 [==============================] - 168s 374ms/step - loss: 0.7394 - accuracy: 0.9013 - val_loss: 1.9934 - val_accuracy: 0.8004\n",
            "Epoch 11/20\n",
            "450/450 [==============================] - 168s 374ms/step - loss: 0.6824 - accuracy: 0.9103 - val_loss: 1.9475 - val_accuracy: 0.8038\n",
            "Epoch 12/20\n",
            "450/450 [==============================] - 168s 374ms/step - loss: 0.6245 - accuracy: 0.9181 - val_loss: 1.9500 - val_accuracy: 0.8065\n",
            "Epoch 13/20\n",
            "450/450 [==============================] - 168s 374ms/step - loss: 0.5751 - accuracy: 0.9246 - val_loss: 1.9380 - val_accuracy: 0.8095\n",
            "Epoch 14/20\n",
            "450/450 [==============================] - 173s 384ms/step - loss: 0.5250 - accuracy: 0.9306 - val_loss: 1.9139 - val_accuracy: 0.8120\n",
            "Epoch 15/20\n",
            "450/450 [==============================] - 168s 374ms/step - loss: 0.4748 - accuracy: 0.9361 - val_loss: 1.9260 - val_accuracy: 0.8146\n",
            "Epoch 16/20\n",
            "450/450 [==============================] - 168s 374ms/step - loss: 0.4300 - accuracy: 0.9416 - val_loss: 1.9631 - val_accuracy: 0.8166\n",
            "Epoch 17/20\n",
            "450/450 [==============================] - 168s 374ms/step - loss: 0.3922 - accuracy: 0.9460 - val_loss: 1.9747 - val_accuracy: 0.8175\n",
            "Epoch 18/20\n",
            "450/450 [==============================] - 168s 374ms/step - loss: 0.3639 - accuracy: 0.9496 - val_loss: 1.9854 - val_accuracy: 0.8191\n",
            "Epoch 19/20\n",
            "450/450 [==============================] - 168s 374ms/step - loss: 0.3417 - accuracy: 0.9525 - val_loss: 2.0135 - val_accuracy: 0.8195\n",
            "Epoch 20/20\n",
            "450/450 [==============================] - 168s 374ms/step - loss: 0.3230 - accuracy: 0.9549 - val_loss: 2.0361 - val_accuracy: 0.8202\n"
          ]
        },
        {
          "data": {
            "text/plain": [
              "<keras.callbacks.History at 0x7fcbf40b8790>"
            ]
          },
          "execution_count": 15,
          "metadata": {},
          "output_type": "execute_result"
        }
      ],
      "source": [
        "epoch = 20\n",
        "model.fit(train_padded, test_padded, batch_size=128, epochs=epoch, validation_split=0.2)"
      ]
    },
    {
      "cell_type": "code",
      "execution_count": 17,
      "metadata": {
        "colab": {
          "base_uri": "https://localhost:8080/"
        },
        "id": "ADAyQCdl7mmw",
        "outputId": "29de4dc2-80e9-419c-b57c-9906dea67ea1"
      },
      "outputs": [
        {
          "name": "stderr",
          "output_type": "stream",
          "text": [
            "WARNING:absl:Found untraced functions such as lstm_cell_1_layer_call_fn, lstm_cell_1_layer_call_and_return_conditional_losses, lstm_cell_2_layer_call_fn, lstm_cell_2_layer_call_and_return_conditional_losses, lstm_cell_4_layer_call_fn while saving (showing 5 of 8). These functions will not be directly callable after loading.\n"
          ]
        },
        {
          "name": "stdout",
          "output_type": "stream",
          "text": [
            "INFO:tensorflow:Assets written to: /content/drive/MyDrive/Colab_Notebooks/20_epoch_accuracy_95_bidirectional_lstm_rnn/assets\n"
          ]
        },
        {
          "name": "stderr",
          "output_type": "stream",
          "text": [
            "INFO:tensorflow:Assets written to: /content/drive/MyDrive/Colab_Notebooks/20_epoch_accuracy_95_bidirectional_lstm_rnn/assets\n",
            "WARNING:absl:<keras.layers.recurrent.LSTMCell object at 0x7fcbf7198790> has the same name 'LSTMCell' as a built-in Keras object. Consider renaming <class 'keras.layers.recurrent.LSTMCell'> to avoid naming conflicts when loading with `tf.keras.models.load_model`. If renaming is not possible, pass the object in the `custom_objects` parameter of the load function.\n",
            "WARNING:absl:<keras.layers.recurrent.LSTMCell object at 0x7fcbf7152510> has the same name 'LSTMCell' as a built-in Keras object. Consider renaming <class 'keras.layers.recurrent.LSTMCell'> to avoid naming conflicts when loading with `tf.keras.models.load_model`. If renaming is not possible, pass the object in the `custom_objects` parameter of the load function.\n",
            "WARNING:absl:<keras.layers.recurrent.LSTMCell object at 0x7fcbf6cab990> has the same name 'LSTMCell' as a built-in Keras object. Consider renaming <class 'keras.layers.recurrent.LSTMCell'> to avoid naming conflicts when loading with `tf.keras.models.load_model`. If renaming is not possible, pass the object in the `custom_objects` parameter of the load function.\n",
            "WARNING:absl:<keras.layers.recurrent.LSTMCell object at 0x7fcbf6cb6810> has the same name 'LSTMCell' as a built-in Keras object. Consider renaming <class 'keras.layers.recurrent.LSTMCell'> to avoid naming conflicts when loading with `tf.keras.models.load_model`. If renaming is not possible, pass the object in the `custom_objects` parameter of the load function.\n"
          ]
        }
      ],
      "source": [
        "model.save('/content/drive/MyDrive/Colab_Notebooks/20_epoch_accuracy_95_bidirectional_lstm_rnn')"
      ]
    },
    {
      "cell_type": "code",
      "execution_count": 18,
      "metadata": {
        "id": "KpGWAIiQUe0_"
      },
      "outputs": [],
      "source": [
        "\n",
        "test_sample = testing['augmented_text']\n",
        "\n",
        "test_sample = g_text_tokenizer.texts_to_sequences(test_sample)\n",
        "test_sample = pad_sequences(test_sample, maxlen=max_length_g, padding='post')\n"
      ]
    },
    {
      "cell_type": "code",
      "execution_count": 20,
      "metadata": {
        "colab": {
          "base_uri": "https://localhost:8080/",
          "height": 206
        },
        "id": "o48mfKmhsDv0",
        "outputId": "d6db7cd6-e4d0-49cb-84a8-b9ec657a4f26"
      },
      "outputs": [
        {
          "data": {
            "text/html": [
              "\n",
              "  <div id=\"df-70e6cf1f-1b4f-49c0-85bd-c47df853bc08\">\n",
              "    <div class=\"colab-df-container\">\n",
              "      <div>\n",
              "<style scoped>\n",
              "    .dataframe tbody tr th:only-of-type {\n",
              "        vertical-align: middle;\n",
              "    }\n",
              "\n",
              "    .dataframe tbody tr th {\n",
              "        vertical-align: top;\n",
              "    }\n",
              "\n",
              "    .dataframe thead th {\n",
              "        text-align: right;\n",
              "    }\n",
              "</style>\n",
              "<table border=\"1\" class=\"dataframe\">\n",
              "  <thead>\n",
              "    <tr style=\"text-align: right;\">\n",
              "      <th></th>\n",
              "      <th>text</th>\n",
              "      <th>augmented_text</th>\n",
              "    </tr>\n",
              "  </thead>\n",
              "  <tbody>\n",
              "    <tr>\n",
              "      <th>72001</th>\n",
              "      <td>beijing outbreak under control  says official</td>\n",
              "      <td>beijing outbreak under ocntrlo  assy official</td>\n",
              "    </tr>\n",
              "    <tr>\n",
              "      <th>72002</th>\n",
              "      <td>beijing petrol stations face olympic shutdown</td>\n",
              "      <td>biejnig petrol stations fcea olympic shutdown</td>\n",
              "    </tr>\n",
              "    <tr>\n",
              "      <th>72003</th>\n",
              "      <td>beijing plus 20 milestones for australian wome...</td>\n",
              "      <td>beijing plix 20 mil4qtones for australian wome...</td>\n",
              "    </tr>\n",
              "    <tr>\n",
              "      <th>72004</th>\n",
              "      <td>beijing pollution hits hazardous levels</td>\n",
              "      <td>beijgin pollution htsi hazardous levels</td>\n",
              "    </tr>\n",
              "    <tr>\n",
              "      <th>72005</th>\n",
              "      <td>beijing preparation goes awry for hoogie</td>\n",
              "      <td>ebiijng preparation goes awry for ohgoie</td>\n",
              "    </tr>\n",
              "  </tbody>\n",
              "</table>\n",
              "</div>\n",
              "      <button class=\"colab-df-convert\" onclick=\"convertToInteractive('df-70e6cf1f-1b4f-49c0-85bd-c47df853bc08')\"\n",
              "              title=\"Convert this dataframe to an interactive table.\"\n",
              "              style=\"display:none;\">\n",
              "        \n",
              "  <svg xmlns=\"http://www.w3.org/2000/svg\" height=\"24px\"viewBox=\"0 0 24 24\"\n",
              "       width=\"24px\">\n",
              "    <path d=\"M0 0h24v24H0V0z\" fill=\"none\"/>\n",
              "    <path d=\"M18.56 5.44l.94 2.06.94-2.06 2.06-.94-2.06-.94-.94-2.06-.94 2.06-2.06.94zm-11 1L8.5 8.5l.94-2.06 2.06-.94-2.06-.94L8.5 2.5l-.94 2.06-2.06.94zm10 10l.94 2.06.94-2.06 2.06-.94-2.06-.94-.94-2.06-.94 2.06-2.06.94z\"/><path d=\"M17.41 7.96l-1.37-1.37c-.4-.4-.92-.59-1.43-.59-.52 0-1.04.2-1.43.59L10.3 9.45l-7.72 7.72c-.78.78-.78 2.05 0 2.83L4 21.41c.39.39.9.59 1.41.59.51 0 1.02-.2 1.41-.59l7.78-7.78 2.81-2.81c.8-.78.8-2.07 0-2.86zM5.41 20L4 18.59l7.72-7.72 1.47 1.35L5.41 20z\"/>\n",
              "  </svg>\n",
              "      </button>\n",
              "      \n",
              "  <style>\n",
              "    .colab-df-container {\n",
              "      display:flex;\n",
              "      flex-wrap:wrap;\n",
              "      gap: 12px;\n",
              "    }\n",
              "\n",
              "    .colab-df-convert {\n",
              "      background-color: #E8F0FE;\n",
              "      border: none;\n",
              "      border-radius: 50%;\n",
              "      cursor: pointer;\n",
              "      display: none;\n",
              "      fill: #1967D2;\n",
              "      height: 32px;\n",
              "      padding: 0 0 0 0;\n",
              "      width: 32px;\n",
              "    }\n",
              "\n",
              "    .colab-df-convert:hover {\n",
              "      background-color: #E2EBFA;\n",
              "      box-shadow: 0px 1px 2px rgba(60, 64, 67, 0.3), 0px 1px 3px 1px rgba(60, 64, 67, 0.15);\n",
              "      fill: #174EA6;\n",
              "    }\n",
              "\n",
              "    [theme=dark] .colab-df-convert {\n",
              "      background-color: #3B4455;\n",
              "      fill: #D2E3FC;\n",
              "    }\n",
              "\n",
              "    [theme=dark] .colab-df-convert:hover {\n",
              "      background-color: #434B5C;\n",
              "      box-shadow: 0px 1px 3px 1px rgba(0, 0, 0, 0.15);\n",
              "      filter: drop-shadow(0px 1px 2px rgba(0, 0, 0, 0.3));\n",
              "      fill: #FFFFFF;\n",
              "    }\n",
              "  </style>\n",
              "\n",
              "      <script>\n",
              "        const buttonEl =\n",
              "          document.querySelector('#df-70e6cf1f-1b4f-49c0-85bd-c47df853bc08 button.colab-df-convert');\n",
              "        buttonEl.style.display =\n",
              "          google.colab.kernel.accessAllowed ? 'block' : 'none';\n",
              "\n",
              "        async function convertToInteractive(key) {\n",
              "          const element = document.querySelector('#df-70e6cf1f-1b4f-49c0-85bd-c47df853bc08');\n",
              "          const dataTable =\n",
              "            await google.colab.kernel.invokeFunction('convertToInteractive',\n",
              "                                                     [key], {});\n",
              "          if (!dataTable) return;\n",
              "\n",
              "          const docLinkHtml = 'Like what you see? Visit the ' +\n",
              "            '<a target=\"_blank\" href=https://colab.research.google.com/notebooks/data_table.ipynb>data table notebook</a>'\n",
              "            + ' to learn more about interactive tables.';\n",
              "          element.innerHTML = '';\n",
              "          dataTable['output_type'] = 'display_data';\n",
              "          await google.colab.output.renderOutput(dataTable, element);\n",
              "          const docLink = document.createElement('div');\n",
              "          docLink.innerHTML = docLinkHtml;\n",
              "          element.appendChild(docLink);\n",
              "        }\n",
              "      </script>\n",
              "    </div>\n",
              "  </div>\n",
              "  "
            ],
            "text/plain": [
              "                                                    text  \\\n",
              "72001      beijing outbreak under control  says official   \n",
              "72002      beijing petrol stations face olympic shutdown   \n",
              "72003  beijing plus 20 milestones for australian wome...   \n",
              "72004            beijing pollution hits hazardous levels   \n",
              "72005           beijing preparation goes awry for hoogie   \n",
              "\n",
              "                                          augmented_text  \n",
              "72001      beijing outbreak under ocntrlo  assy official  \n",
              "72002      biejnig petrol stations fcea olympic shutdown  \n",
              "72003  beijing plix 20 mil4qtones for australian wome...  \n",
              "72004            beijgin pollution htsi hazardous levels  \n",
              "72005           ebiijng preparation goes awry for ohgoie  "
            ]
          },
          "execution_count": 20,
          "metadata": {},
          "output_type": "execute_result"
        }
      ],
      "source": [
        "testing"
      ]
    },
    {
      "cell_type": "code",
      "execution_count": 21,
      "metadata": {
        "colab": {
          "base_uri": "https://localhost:8080/"
        },
        "id": "kvPsR8hHEQq9",
        "outputId": "31a28119-7b98-449c-f13c-acebf77bb30a"
      },
      "outputs": [
        {
          "data": {
            "text/plain": [
              "(5, 14, 31997)"
            ]
          },
          "execution_count": 21,
          "metadata": {},
          "output_type": "execute_result"
        }
      ],
      "source": [
        "pre = model.predict(test_sample)\n",
        "pre.shape"
      ]
    },
    {
      "cell_type": "code",
      "execution_count": 23,
      "metadata": {
        "id": "IGZ5AzDTcDHa"
      },
      "outputs": [],
      "source": [
        "def deTokenize(logits):\n",
        "    index_to_words = {id: word for word, id in text_tokenizer.word_index.items()}\n",
        "    index_to_words[0] = ''\n",
        "    pre_index = np.argmax(logits, 1)\n",
        "    return ' '.join(index_to_words[prediction] for prediction in pre_index)"
      ]
    },
    {
      "cell_type": "code",
      "execution_count": 32,
      "metadata": {
        "colab": {
          "base_uri": "https://localhost:8080/"
        },
        "id": "Za9Vd_dEED-H",
        "outputId": "ecae1afd-77bc-4923-9b55-ffeb052e66ec"
      },
      "outputs": [
        {
          "name": "stdout",
          "output_type": "stream",
          "text": [
            "Iutput:     beijing outbreak under ocntrlo  assy official\n",
            "Actual:     beijing outbreak under control  says official\n",
            "Predicted:  beijing outbreak under control says official        \n"
          ]
        }
      ],
      "source": [
        "print(\"Iutput:    \",testing['augmented_text'].iloc[0])\n",
        "print(\"Actual:    \",testing['text'].iloc[0])\n",
        "print(\"Predicted: \",deTokenize(pre[0]))"
      ]
    }
  ],
  "metadata": {
    "accelerator": "GPU",
    "colab": {
      "collapsed_sections": [],
      "name": "project.ipynb",
      "provenance": []
    },
    "kernelspec": {
      "display_name": "Python 3",
      "name": "python3"
    },
    "language_info": {
      "name": "python"
    }
  },
  "nbformat": 4,
  "nbformat_minor": 0
}
