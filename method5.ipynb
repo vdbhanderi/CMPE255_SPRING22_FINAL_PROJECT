{
  "cells": [
    {
      "cell_type": "code",
      "execution_count": 1,
      "metadata": {
        "colab": {
          "base_uri": "https://localhost:8080/"
        },
        "id": "2NEWAoUNP8xH",
        "outputId": "2dfb0522-b5aa-4aa5-e905-9a47a906aa5f"
      },
      "outputs": [
        {
          "output_type": "stream",
          "name": "stdout",
          "text": [
            "Drive already mounted at /content/drive/; to attempt to forcibly remount, call drive.mount(\"/content/drive/\", force_remount=True).\n"
          ]
        }
      ],
      "source": [
        "import tensorflow as tf\n",
        "import numpy as np\n",
        "import pandas as pd\n",
        "from keras.preprocessing.sequence import pad_sequences\n",
        "from keras.preprocessing.text import Tokenizer\n",
        "import re\n",
        "import os\n",
        "import matplotlib.pyplot as plt\n",
        "\n",
        "tf.__version__\n",
        "from google.colab import drive\n",
        "drive.mount('/content/drive/')"
      ]
    },
    {
      "cell_type": "code",
      "execution_count": 2,
      "metadata": {
        "id": "CLrsbOIpTU1m"
      },
      "outputs": [],
      "source": [
        "df_train = pd.read_csv(\"/content/drive/MyDrive/Colab_Notebooks/train.csv\")\n",
        "df_val = pd.read_csv(\"/content/drive/MyDrive/Colab_Notebooks/val.csv\")\n",
        "df_test = pd.read_csv(\"/content/drive/MyDrive/Colab_Notebooks/test.csv\")\n"
      ]
    },
    {
      "cell_type": "code",
      "execution_count": 3,
      "metadata": {
        "colab": {
          "base_uri": "https://localhost:8080/",
          "height": 424
        },
        "id": "WwEH5j4a-m_g",
        "outputId": "3bd02f7c-f63b-4146-d4c5-14a6247a4b70"
      },
      "outputs": [
        {
          "output_type": "execute_result",
          "data": {
            "text/plain": [
              "                                         text  \\\n",
              "6906          a league live streaming updates   \n",
              "9455    abc business news and market analysis   \n",
              "9476    abc business news and market analysis   \n",
              "9487    abc business news and market analysis   \n",
              "9498    abc business news and market analysis   \n",
              "...                                       ...   \n",
              "742784     wednesday finance with alan kohler   \n",
              "742790     wednesday finance with alan kohler   \n",
              "742816     wednesday finance with alan kohler   \n",
              "742873     wednesday markets with fiona clark   \n",
              "758107     woman to front court over stabbing   \n",
              "\n",
              "                               augmented_text  \n",
              "6906          a elgaue ivle streaming updates  \n",
              "9455    abc buisnses news and maretk analysis  \n",
              "9476    abc business ensw and market anyalsis  \n",
              "9487    abc ubisness news and market analysis  \n",
              "9498    abc busienss wnes and market analysis  \n",
              "...                                       ...  \n",
              "742784     wednesday finnaec with lana kohler  \n",
              "742790     wednesday finance with lana kohler  \n",
              "742816     wednesday finance with lana kohler  \n",
              "742873     wednesday markets iwht fiona lcakr  \n",
              "758107     woman to front ocutr over stabbing  \n",
              "\n",
              "[71 rows x 2 columns]"
            ],
            "text/html": [
              "\n",
              "  <div id=\"df-1c3adc79-e6b5-422b-ac7e-0507c0981538\">\n",
              "    <div class=\"colab-df-container\">\n",
              "      <div>\n",
              "<style scoped>\n",
              "    .dataframe tbody tr th:only-of-type {\n",
              "        vertical-align: middle;\n",
              "    }\n",
              "\n",
              "    .dataframe tbody tr th {\n",
              "        vertical-align: top;\n",
              "    }\n",
              "\n",
              "    .dataframe thead th {\n",
              "        text-align: right;\n",
              "    }\n",
              "</style>\n",
              "<table border=\"1\" class=\"dataframe\">\n",
              "  <thead>\n",
              "    <tr style=\"text-align: right;\">\n",
              "      <th></th>\n",
              "      <th>text</th>\n",
              "      <th>augmented_text</th>\n",
              "    </tr>\n",
              "  </thead>\n",
              "  <tbody>\n",
              "    <tr>\n",
              "      <th>6906</th>\n",
              "      <td>a league live streaming updates</td>\n",
              "      <td>a elgaue ivle streaming updates</td>\n",
              "    </tr>\n",
              "    <tr>\n",
              "      <th>9455</th>\n",
              "      <td>abc business news and market analysis</td>\n",
              "      <td>abc buisnses news and maretk analysis</td>\n",
              "    </tr>\n",
              "    <tr>\n",
              "      <th>9476</th>\n",
              "      <td>abc business news and market analysis</td>\n",
              "      <td>abc business ensw and market anyalsis</td>\n",
              "    </tr>\n",
              "    <tr>\n",
              "      <th>9487</th>\n",
              "      <td>abc business news and market analysis</td>\n",
              "      <td>abc ubisness news and market analysis</td>\n",
              "    </tr>\n",
              "    <tr>\n",
              "      <th>9498</th>\n",
              "      <td>abc business news and market analysis</td>\n",
              "      <td>abc busienss wnes and market analysis</td>\n",
              "    </tr>\n",
              "    <tr>\n",
              "      <th>...</th>\n",
              "      <td>...</td>\n",
              "      <td>...</td>\n",
              "    </tr>\n",
              "    <tr>\n",
              "      <th>742784</th>\n",
              "      <td>wednesday finance with alan kohler</td>\n",
              "      <td>wednesday finnaec with lana kohler</td>\n",
              "    </tr>\n",
              "    <tr>\n",
              "      <th>742790</th>\n",
              "      <td>wednesday finance with alan kohler</td>\n",
              "      <td>wednesday finance with lana kohler</td>\n",
              "    </tr>\n",
              "    <tr>\n",
              "      <th>742816</th>\n",
              "      <td>wednesday finance with alan kohler</td>\n",
              "      <td>wednesday finance with lana kohler</td>\n",
              "    </tr>\n",
              "    <tr>\n",
              "      <th>742873</th>\n",
              "      <td>wednesday markets with fiona clark</td>\n",
              "      <td>wednesday markets iwht fiona lcakr</td>\n",
              "    </tr>\n",
              "    <tr>\n",
              "      <th>758107</th>\n",
              "      <td>woman to front court over stabbing</td>\n",
              "      <td>woman to front ocutr over stabbing</td>\n",
              "    </tr>\n",
              "  </tbody>\n",
              "</table>\n",
              "<p>71 rows × 2 columns</p>\n",
              "</div>\n",
              "      <button class=\"colab-df-convert\" onclick=\"convertToInteractive('df-1c3adc79-e6b5-422b-ac7e-0507c0981538')\"\n",
              "              title=\"Convert this dataframe to an interactive table.\"\n",
              "              style=\"display:none;\">\n",
              "        \n",
              "  <svg xmlns=\"http://www.w3.org/2000/svg\" height=\"24px\"viewBox=\"0 0 24 24\"\n",
              "       width=\"24px\">\n",
              "    <path d=\"M0 0h24v24H0V0z\" fill=\"none\"/>\n",
              "    <path d=\"M18.56 5.44l.94 2.06.94-2.06 2.06-.94-2.06-.94-.94-2.06-.94 2.06-2.06.94zm-11 1L8.5 8.5l.94-2.06 2.06-.94-2.06-.94L8.5 2.5l-.94 2.06-2.06.94zm10 10l.94 2.06.94-2.06 2.06-.94-2.06-.94-.94-2.06-.94 2.06-2.06.94z\"/><path d=\"M17.41 7.96l-1.37-1.37c-.4-.4-.92-.59-1.43-.59-.52 0-1.04.2-1.43.59L10.3 9.45l-7.72 7.72c-.78.78-.78 2.05 0 2.83L4 21.41c.39.39.9.59 1.41.59.51 0 1.02-.2 1.41-.59l7.78-7.78 2.81-2.81c.8-.78.8-2.07 0-2.86zM5.41 20L4 18.59l7.72-7.72 1.47 1.35L5.41 20z\"/>\n",
              "  </svg>\n",
              "      </button>\n",
              "      \n",
              "  <style>\n",
              "    .colab-df-container {\n",
              "      display:flex;\n",
              "      flex-wrap:wrap;\n",
              "      gap: 12px;\n",
              "    }\n",
              "\n",
              "    .colab-df-convert {\n",
              "      background-color: #E8F0FE;\n",
              "      border: none;\n",
              "      border-radius: 50%;\n",
              "      cursor: pointer;\n",
              "      display: none;\n",
              "      fill: #1967D2;\n",
              "      height: 32px;\n",
              "      padding: 0 0 0 0;\n",
              "      width: 32px;\n",
              "    }\n",
              "\n",
              "    .colab-df-convert:hover {\n",
              "      background-color: #E2EBFA;\n",
              "      box-shadow: 0px 1px 2px rgba(60, 64, 67, 0.3), 0px 1px 3px 1px rgba(60, 64, 67, 0.15);\n",
              "      fill: #174EA6;\n",
              "    }\n",
              "\n",
              "    [theme=dark] .colab-df-convert {\n",
              "      background-color: #3B4455;\n",
              "      fill: #D2E3FC;\n",
              "    }\n",
              "\n",
              "    [theme=dark] .colab-df-convert:hover {\n",
              "      background-color: #434B5C;\n",
              "      box-shadow: 0px 1px 3px 1px rgba(0, 0, 0, 0.15);\n",
              "      filter: drop-shadow(0px 1px 2px rgba(0, 0, 0, 0.3));\n",
              "      fill: #FFFFFF;\n",
              "    }\n",
              "  </style>\n",
              "\n",
              "      <script>\n",
              "        const buttonEl =\n",
              "          document.querySelector('#df-1c3adc79-e6b5-422b-ac7e-0507c0981538 button.colab-df-convert');\n",
              "        buttonEl.style.display =\n",
              "          google.colab.kernel.accessAllowed ? 'block' : 'none';\n",
              "\n",
              "        async function convertToInteractive(key) {\n",
              "          const element = document.querySelector('#df-1c3adc79-e6b5-422b-ac7e-0507c0981538');\n",
              "          const dataTable =\n",
              "            await google.colab.kernel.invokeFunction('convertToInteractive',\n",
              "                                                     [key], {});\n",
              "          if (!dataTable) return;\n",
              "\n",
              "          const docLinkHtml = 'Like what you see? Visit the ' +\n",
              "            '<a target=\"_blank\" href=https://colab.research.google.com/notebooks/data_table.ipynb>data table notebook</a>'\n",
              "            + ' to learn more about interactive tables.';\n",
              "          element.innerHTML = '';\n",
              "          dataTable['output_type'] = 'display_data';\n",
              "          await google.colab.output.renderOutput(dataTable, element);\n",
              "          const docLink = document.createElement('div');\n",
              "          docLink.innerHTML = docLinkHtml;\n",
              "          element.appendChild(docLink);\n",
              "        }\n",
              "      </script>\n",
              "    </div>\n",
              "  </div>\n",
              "  "
            ]
          },
          "metadata": {},
          "execution_count": 3
        }
      ],
      "source": [
        "df_train[df_train.duplicated()]\n"
      ]
    },
    {
      "cell_type": "code",
      "execution_count": 4,
      "metadata": {
        "colab": {
          "base_uri": "https://localhost:8080/",
          "height": 112
        },
        "id": "fOtnbULR-sI_",
        "outputId": "70c712de-020f-4b7b-f49a-544eac577c1b"
      },
      "outputs": [
        {
          "output_type": "execute_result",
          "data": {
            "text/plain": [
              "                                         text  \\\n",
              "42958   abc business news and market analysis   \n",
              "150906  abc business news and market analysis   \n",
              "\n",
              "                               augmented_text  \n",
              "42958   abc ubsiness news and market analysis  \n",
              "150906  abc usbiness news and mraekt analysis  "
            ],
            "text/html": [
              "\n",
              "  <div id=\"df-ec49001f-fcd0-4685-bf20-8db009632e2d\">\n",
              "    <div class=\"colab-df-container\">\n",
              "      <div>\n",
              "<style scoped>\n",
              "    .dataframe tbody tr th:only-of-type {\n",
              "        vertical-align: middle;\n",
              "    }\n",
              "\n",
              "    .dataframe tbody tr th {\n",
              "        vertical-align: top;\n",
              "    }\n",
              "\n",
              "    .dataframe thead th {\n",
              "        text-align: right;\n",
              "    }\n",
              "</style>\n",
              "<table border=\"1\" class=\"dataframe\">\n",
              "  <thead>\n",
              "    <tr style=\"text-align: right;\">\n",
              "      <th></th>\n",
              "      <th>text</th>\n",
              "      <th>augmented_text</th>\n",
              "    </tr>\n",
              "  </thead>\n",
              "  <tbody>\n",
              "    <tr>\n",
              "      <th>42958</th>\n",
              "      <td>abc business news and market analysis</td>\n",
              "      <td>abc ubsiness news and market analysis</td>\n",
              "    </tr>\n",
              "    <tr>\n",
              "      <th>150906</th>\n",
              "      <td>abc business news and market analysis</td>\n",
              "      <td>abc usbiness news and mraekt analysis</td>\n",
              "    </tr>\n",
              "  </tbody>\n",
              "</table>\n",
              "</div>\n",
              "      <button class=\"colab-df-convert\" onclick=\"convertToInteractive('df-ec49001f-fcd0-4685-bf20-8db009632e2d')\"\n",
              "              title=\"Convert this dataframe to an interactive table.\"\n",
              "              style=\"display:none;\">\n",
              "        \n",
              "  <svg xmlns=\"http://www.w3.org/2000/svg\" height=\"24px\"viewBox=\"0 0 24 24\"\n",
              "       width=\"24px\">\n",
              "    <path d=\"M0 0h24v24H0V0z\" fill=\"none\"/>\n",
              "    <path d=\"M18.56 5.44l.94 2.06.94-2.06 2.06-.94-2.06-.94-.94-2.06-.94 2.06-2.06.94zm-11 1L8.5 8.5l.94-2.06 2.06-.94-2.06-.94L8.5 2.5l-.94 2.06-2.06.94zm10 10l.94 2.06.94-2.06 2.06-.94-2.06-.94-.94-2.06-.94 2.06-2.06.94z\"/><path d=\"M17.41 7.96l-1.37-1.37c-.4-.4-.92-.59-1.43-.59-.52 0-1.04.2-1.43.59L10.3 9.45l-7.72 7.72c-.78.78-.78 2.05 0 2.83L4 21.41c.39.39.9.59 1.41.59.51 0 1.02-.2 1.41-.59l7.78-7.78 2.81-2.81c.8-.78.8-2.07 0-2.86zM5.41 20L4 18.59l7.72-7.72 1.47 1.35L5.41 20z\"/>\n",
              "  </svg>\n",
              "      </button>\n",
              "      \n",
              "  <style>\n",
              "    .colab-df-container {\n",
              "      display:flex;\n",
              "      flex-wrap:wrap;\n",
              "      gap: 12px;\n",
              "    }\n",
              "\n",
              "    .colab-df-convert {\n",
              "      background-color: #E8F0FE;\n",
              "      border: none;\n",
              "      border-radius: 50%;\n",
              "      cursor: pointer;\n",
              "      display: none;\n",
              "      fill: #1967D2;\n",
              "      height: 32px;\n",
              "      padding: 0 0 0 0;\n",
              "      width: 32px;\n",
              "    }\n",
              "\n",
              "    .colab-df-convert:hover {\n",
              "      background-color: #E2EBFA;\n",
              "      box-shadow: 0px 1px 2px rgba(60, 64, 67, 0.3), 0px 1px 3px 1px rgba(60, 64, 67, 0.15);\n",
              "      fill: #174EA6;\n",
              "    }\n",
              "\n",
              "    [theme=dark] .colab-df-convert {\n",
              "      background-color: #3B4455;\n",
              "      fill: #D2E3FC;\n",
              "    }\n",
              "\n",
              "    [theme=dark] .colab-df-convert:hover {\n",
              "      background-color: #434B5C;\n",
              "      box-shadow: 0px 1px 3px 1px rgba(0, 0, 0, 0.15);\n",
              "      filter: drop-shadow(0px 1px 2px rgba(0, 0, 0, 0.3));\n",
              "      fill: #FFFFFF;\n",
              "    }\n",
              "  </style>\n",
              "\n",
              "      <script>\n",
              "        const buttonEl =\n",
              "          document.querySelector('#df-ec49001f-fcd0-4685-bf20-8db009632e2d button.colab-df-convert');\n",
              "        buttonEl.style.display =\n",
              "          google.colab.kernel.accessAllowed ? 'block' : 'none';\n",
              "\n",
              "        async function convertToInteractive(key) {\n",
              "          const element = document.querySelector('#df-ec49001f-fcd0-4685-bf20-8db009632e2d');\n",
              "          const dataTable =\n",
              "            await google.colab.kernel.invokeFunction('convertToInteractive',\n",
              "                                                     [key], {});\n",
              "          if (!dataTable) return;\n",
              "\n",
              "          const docLinkHtml = 'Like what you see? Visit the ' +\n",
              "            '<a target=\"_blank\" href=https://colab.research.google.com/notebooks/data_table.ipynb>data table notebook</a>'\n",
              "            + ' to learn more about interactive tables.';\n",
              "          element.innerHTML = '';\n",
              "          dataTable['output_type'] = 'display_data';\n",
              "          await google.colab.output.renderOutput(dataTable, element);\n",
              "          const docLink = document.createElement('div');\n",
              "          docLink.innerHTML = docLinkHtml;\n",
              "          element.appendChild(docLink);\n",
              "        }\n",
              "      </script>\n",
              "    </div>\n",
              "  </div>\n",
              "  "
            ]
          },
          "metadata": {},
          "execution_count": 4
        }
      ],
      "source": [
        "df_val[df_val.duplicated()]\n"
      ]
    },
    {
      "cell_type": "code",
      "execution_count": 5,
      "metadata": {
        "colab": {
          "base_uri": "https://localhost:8080/",
          "height": 112
        },
        "id": "KG_gPvnu-tGt",
        "outputId": "b7e00371-684d-41bf-d29e-4add1df08a1f"
      },
      "outputs": [
        {
          "output_type": "execute_result",
          "data": {
            "text/plain": [
              "                                        text  \\\n",
              "52797  abc business news and market analysis   \n",
              "98255  abc business news and market analysis   \n",
              "\n",
              "                              augmented_text  \n",
              "52797  abc business wnes and market aanlyiss  \n",
              "98255  abc ubsiness news and market analysis  "
            ],
            "text/html": [
              "\n",
              "  <div id=\"df-b436e811-21f5-4eba-a1b5-9940180a7b35\">\n",
              "    <div class=\"colab-df-container\">\n",
              "      <div>\n",
              "<style scoped>\n",
              "    .dataframe tbody tr th:only-of-type {\n",
              "        vertical-align: middle;\n",
              "    }\n",
              "\n",
              "    .dataframe tbody tr th {\n",
              "        vertical-align: top;\n",
              "    }\n",
              "\n",
              "    .dataframe thead th {\n",
              "        text-align: right;\n",
              "    }\n",
              "</style>\n",
              "<table border=\"1\" class=\"dataframe\">\n",
              "  <thead>\n",
              "    <tr style=\"text-align: right;\">\n",
              "      <th></th>\n",
              "      <th>text</th>\n",
              "      <th>augmented_text</th>\n",
              "    </tr>\n",
              "  </thead>\n",
              "  <tbody>\n",
              "    <tr>\n",
              "      <th>52797</th>\n",
              "      <td>abc business news and market analysis</td>\n",
              "      <td>abc business wnes and market aanlyiss</td>\n",
              "    </tr>\n",
              "    <tr>\n",
              "      <th>98255</th>\n",
              "      <td>abc business news and market analysis</td>\n",
              "      <td>abc ubsiness news and market analysis</td>\n",
              "    </tr>\n",
              "  </tbody>\n",
              "</table>\n",
              "</div>\n",
              "      <button class=\"colab-df-convert\" onclick=\"convertToInteractive('df-b436e811-21f5-4eba-a1b5-9940180a7b35')\"\n",
              "              title=\"Convert this dataframe to an interactive table.\"\n",
              "              style=\"display:none;\">\n",
              "        \n",
              "  <svg xmlns=\"http://www.w3.org/2000/svg\" height=\"24px\"viewBox=\"0 0 24 24\"\n",
              "       width=\"24px\">\n",
              "    <path d=\"M0 0h24v24H0V0z\" fill=\"none\"/>\n",
              "    <path d=\"M18.56 5.44l.94 2.06.94-2.06 2.06-.94-2.06-.94-.94-2.06-.94 2.06-2.06.94zm-11 1L8.5 8.5l.94-2.06 2.06-.94-2.06-.94L8.5 2.5l-.94 2.06-2.06.94zm10 10l.94 2.06.94-2.06 2.06-.94-2.06-.94-.94-2.06-.94 2.06-2.06.94z\"/><path d=\"M17.41 7.96l-1.37-1.37c-.4-.4-.92-.59-1.43-.59-.52 0-1.04.2-1.43.59L10.3 9.45l-7.72 7.72c-.78.78-.78 2.05 0 2.83L4 21.41c.39.39.9.59 1.41.59.51 0 1.02-.2 1.41-.59l7.78-7.78 2.81-2.81c.8-.78.8-2.07 0-2.86zM5.41 20L4 18.59l7.72-7.72 1.47 1.35L5.41 20z\"/>\n",
              "  </svg>\n",
              "      </button>\n",
              "      \n",
              "  <style>\n",
              "    .colab-df-container {\n",
              "      display:flex;\n",
              "      flex-wrap:wrap;\n",
              "      gap: 12px;\n",
              "    }\n",
              "\n",
              "    .colab-df-convert {\n",
              "      background-color: #E8F0FE;\n",
              "      border: none;\n",
              "      border-radius: 50%;\n",
              "      cursor: pointer;\n",
              "      display: none;\n",
              "      fill: #1967D2;\n",
              "      height: 32px;\n",
              "      padding: 0 0 0 0;\n",
              "      width: 32px;\n",
              "    }\n",
              "\n",
              "    .colab-df-convert:hover {\n",
              "      background-color: #E2EBFA;\n",
              "      box-shadow: 0px 1px 2px rgba(60, 64, 67, 0.3), 0px 1px 3px 1px rgba(60, 64, 67, 0.15);\n",
              "      fill: #174EA6;\n",
              "    }\n",
              "\n",
              "    [theme=dark] .colab-df-convert {\n",
              "      background-color: #3B4455;\n",
              "      fill: #D2E3FC;\n",
              "    }\n",
              "\n",
              "    [theme=dark] .colab-df-convert:hover {\n",
              "      background-color: #434B5C;\n",
              "      box-shadow: 0px 1px 3px 1px rgba(0, 0, 0, 0.15);\n",
              "      filter: drop-shadow(0px 1px 2px rgba(0, 0, 0, 0.3));\n",
              "      fill: #FFFFFF;\n",
              "    }\n",
              "  </style>\n",
              "\n",
              "      <script>\n",
              "        const buttonEl =\n",
              "          document.querySelector('#df-b436e811-21f5-4eba-a1b5-9940180a7b35 button.colab-df-convert');\n",
              "        buttonEl.style.display =\n",
              "          google.colab.kernel.accessAllowed ? 'block' : 'none';\n",
              "\n",
              "        async function convertToInteractive(key) {\n",
              "          const element = document.querySelector('#df-b436e811-21f5-4eba-a1b5-9940180a7b35');\n",
              "          const dataTable =\n",
              "            await google.colab.kernel.invokeFunction('convertToInteractive',\n",
              "                                                     [key], {});\n",
              "          if (!dataTable) return;\n",
              "\n",
              "          const docLinkHtml = 'Like what you see? Visit the ' +\n",
              "            '<a target=\"_blank\" href=https://colab.research.google.com/notebooks/data_table.ipynb>data table notebook</a>'\n",
              "            + ' to learn more about interactive tables.';\n",
              "          element.innerHTML = '';\n",
              "          dataTable['output_type'] = 'display_data';\n",
              "          await google.colab.output.renderOutput(dataTable, element);\n",
              "          const docLink = document.createElement('div');\n",
              "          docLink.innerHTML = docLinkHtml;\n",
              "          element.appendChild(docLink);\n",
              "        }\n",
              "      </script>\n",
              "    </div>\n",
              "  </div>\n",
              "  "
            ]
          },
          "metadata": {},
          "execution_count": 5
        }
      ],
      "source": [
        "df_test[df_test.duplicated()]\n"
      ]
    },
    {
      "cell_type": "code",
      "execution_count": 6,
      "metadata": {
        "id": "s5oWgBqmTp7p"
      },
      "outputs": [],
      "source": [
        "# def clean_data(text):\n",
        "#     text = text.lower()\n",
        "#     text = re.sub(r\"[-=+*\\\"#@!$%^&()`<>/[\\]]\",\"\",text)\n",
        "#     text = re.sub(r\"i'm\",\"i am\",text)\n",
        "#     text = re.sub(r\"he's\",\"he is\",text)\n",
        "#     text = re.sub(r\"she's\",\"she is\",text)\n",
        "#     text = re.sub(r\"it's\",\"it is\",text)\n",
        "#     text = re.sub(r\"they're\",\"they are\",text)\n",
        "#     text = re.sub(r\"there're\",\"there are\",text)\n",
        "#     text = re.sub(r\"there's\",\"there is\",text)\n",
        "#     text = re.sub(r\"how're\",\"how are\",text)\n",
        "#     text = re.sub(r\"what're\",\"what are\",text)\n",
        "#     text = re.sub(r\"where're\",\"where \",text)\n",
        "#     text = re.sub(r\"who're\",\"who are\",text)\n",
        "#     text = re.sub(r\"that're\",\"that are\",text)\n",
        "#     text = re.sub(r\"when're\",\"when are\",text)\n",
        "#     text = re.sub(r\"how's\",\"how is\",text)\n",
        "#     text = re.sub(r\"what's\",\"what is\",text)\n",
        "#     text = re.sub(r\"where's\",\"where is\",text)\n",
        "#     text = re.sub(r\"who's\",\"who is\",text)\n",
        "#     text = re.sub(r\"that's\",\"that is\",text)\n",
        "#     text = re.sub(r\"when's\",\"when is\",text)\n",
        "#     text = re.sub(r\"won't\",\"would not\",text)\n",
        "#     text = re.sub(r\"nt't\",\"can not\",text)\n",
        "#     text = re.sub(r\"\\'bout'\",\"about\",text)\n",
        "#     text = re.sub(r\"\\'till'\",\"untill\",text)\n",
        "#     text = re.sub(r\"\\'ll\",\"will\",text)\n",
        "#     text = re.sub(r\"\\'ve\",\"have\",text)\n",
        "#     text = re.sub(r\"\\'re\",\"are\",text)\n",
        "#     text = re.sub(r\"\\'d\",\"would\",text)\n",
        "#     text = re.sub(r\"\\.\",\" \",text)\n",
        "#     text = re.sub(r\"\\,\",\" \",text)\n",
        "#     text = re.sub(r\"\\!\",\" \",text)\n",
        "#     text = re.sub(r\"\\?\",\" \",text)\n",
        "#     text = re.sub(r\"\\;\",\" \",text)\n",
        "#     text = re.sub(r\"\\:\",\" \",text)\n",
        "#     return text\n",
        "\n",
        "    \n",
        "# df_train['text'] = df_train['text'].apply(clean_data)\n",
        "# df_train['augmented_text'] = df_train['augmented_text'].apply(clean_data)\n",
        "# df_val['text'] = df_val['text'].apply(clean_data)\n",
        "# df_val['augmented_text'] = df_val['augmented_text'].apply(clean_data)\n",
        "# df_test['text'] = df_test['text'].apply(clean_data)\n",
        "# df_test['augmented_text'] = df_test['augmented_text'].apply(clean_data)\n",
        "# data = pd.concat([df_train,df_val,df_test])\n"
      ]
    },
    {
      "cell_type": "code",
      "execution_count": 7,
      "metadata": {
        "id": "cBBa1A3aw0e2"
      },
      "outputs": [],
      "source": [
        "# data.to_csv('/content/drive/MyDrive/Colab_Notebooks/data.csv',index=False,)"
      ]
    },
    {
      "cell_type": "code",
      "execution_count": 8,
      "metadata": {
        "id": "9Rr916ahpnUm"
      },
      "outputs": [],
      "source": [
        "#data.csv is being pre-process to save time for training\n",
        "data = pd.read_csv('/content/drive/MyDrive/Colab_Notebooks/data.csv')"
      ]
    },
    {
      "cell_type": "code",
      "execution_count": 9,
      "metadata": {
        "colab": {
          "base_uri": "https://localhost:8080/"
        },
        "id": "BV4K4JPt-bXI",
        "outputId": "3daa5684-faff-4660-e823-266e2790003a"
      },
      "outputs": [
        {
          "output_type": "stream",
          "name": "stdout",
          "text": [
            "text              0\n",
            "augmented_text    0\n",
            "dtype: int64\n",
            "0\n"
          ]
        }
      ],
      "source": [
        "print(data.isnull().sum())\n",
        "data = data.drop_duplicates(subset=['augmented_text'])\n",
        "# data = (data[data[\"augmented_text\"] != \"name\"])\n",
        "print(data.duplicated().sum())"
      ]
    },
    {
      "cell_type": "code",
      "source": [
        "df = data"
      ],
      "metadata": {
        "id": "s5Q_QNItw7kV"
      },
      "execution_count": 12,
      "outputs": []
    },
    {
      "cell_type": "code",
      "execution_count": 13,
      "metadata": {
        "colab": {
          "base_uri": "https://localhost:8080/",
          "height": 175
        },
        "id": "NPdf-5Hn7RET",
        "outputId": "fdab42c3-d7f3-4aff-d7ef-db999f570166"
      },
      "outputs": [
        {
          "output_type": "execute_result",
          "data": {
            "text/plain": [
              "                                         text  \\\n",
              "count                                 1024690   \n",
              "unique                                1017097   \n",
              "top     abc business news and market analysis   \n",
              "freq                                      516   \n",
              "\n",
              "                                           augmented_text  \n",
              "count                                             1024690  \n",
              "unique                                            1024690  \n",
              "top      1 billion darling hsarfbour redeevelopment p3...  \n",
              "freq                                                    1  "
            ],
            "text/html": [
              "\n",
              "  <div id=\"df-0900af48-5ff1-4310-af19-c24d181e52fb\">\n",
              "    <div class=\"colab-df-container\">\n",
              "      <div>\n",
              "<style scoped>\n",
              "    .dataframe tbody tr th:only-of-type {\n",
              "        vertical-align: middle;\n",
              "    }\n",
              "\n",
              "    .dataframe tbody tr th {\n",
              "        vertical-align: top;\n",
              "    }\n",
              "\n",
              "    .dataframe thead th {\n",
              "        text-align: right;\n",
              "    }\n",
              "</style>\n",
              "<table border=\"1\" class=\"dataframe\">\n",
              "  <thead>\n",
              "    <tr style=\"text-align: right;\">\n",
              "      <th></th>\n",
              "      <th>text</th>\n",
              "      <th>augmented_text</th>\n",
              "    </tr>\n",
              "  </thead>\n",
              "  <tbody>\n",
              "    <tr>\n",
              "      <th>count</th>\n",
              "      <td>1024690</td>\n",
              "      <td>1024690</td>\n",
              "    </tr>\n",
              "    <tr>\n",
              "      <th>unique</th>\n",
              "      <td>1017097</td>\n",
              "      <td>1024690</td>\n",
              "    </tr>\n",
              "    <tr>\n",
              "      <th>top</th>\n",
              "      <td>abc business news and market analysis</td>\n",
              "      <td>1 billion darling hsarfbour redeevelopment p3...</td>\n",
              "    </tr>\n",
              "    <tr>\n",
              "      <th>freq</th>\n",
              "      <td>516</td>\n",
              "      <td>1</td>\n",
              "    </tr>\n",
              "  </tbody>\n",
              "</table>\n",
              "</div>\n",
              "      <button class=\"colab-df-convert\" onclick=\"convertToInteractive('df-0900af48-5ff1-4310-af19-c24d181e52fb')\"\n",
              "              title=\"Convert this dataframe to an interactive table.\"\n",
              "              style=\"display:none;\">\n",
              "        \n",
              "  <svg xmlns=\"http://www.w3.org/2000/svg\" height=\"24px\"viewBox=\"0 0 24 24\"\n",
              "       width=\"24px\">\n",
              "    <path d=\"M0 0h24v24H0V0z\" fill=\"none\"/>\n",
              "    <path d=\"M18.56 5.44l.94 2.06.94-2.06 2.06-.94-2.06-.94-.94-2.06-.94 2.06-2.06.94zm-11 1L8.5 8.5l.94-2.06 2.06-.94-2.06-.94L8.5 2.5l-.94 2.06-2.06.94zm10 10l.94 2.06.94-2.06 2.06-.94-2.06-.94-.94-2.06-.94 2.06-2.06.94z\"/><path d=\"M17.41 7.96l-1.37-1.37c-.4-.4-.92-.59-1.43-.59-.52 0-1.04.2-1.43.59L10.3 9.45l-7.72 7.72c-.78.78-.78 2.05 0 2.83L4 21.41c.39.39.9.59 1.41.59.51 0 1.02-.2 1.41-.59l7.78-7.78 2.81-2.81c.8-.78.8-2.07 0-2.86zM5.41 20L4 18.59l7.72-7.72 1.47 1.35L5.41 20z\"/>\n",
              "  </svg>\n",
              "      </button>\n",
              "      \n",
              "  <style>\n",
              "    .colab-df-container {\n",
              "      display:flex;\n",
              "      flex-wrap:wrap;\n",
              "      gap: 12px;\n",
              "    }\n",
              "\n",
              "    .colab-df-convert {\n",
              "      background-color: #E8F0FE;\n",
              "      border: none;\n",
              "      border-radius: 50%;\n",
              "      cursor: pointer;\n",
              "      display: none;\n",
              "      fill: #1967D2;\n",
              "      height: 32px;\n",
              "      padding: 0 0 0 0;\n",
              "      width: 32px;\n",
              "    }\n",
              "\n",
              "    .colab-df-convert:hover {\n",
              "      background-color: #E2EBFA;\n",
              "      box-shadow: 0px 1px 2px rgba(60, 64, 67, 0.3), 0px 1px 3px 1px rgba(60, 64, 67, 0.15);\n",
              "      fill: #174EA6;\n",
              "    }\n",
              "\n",
              "    [theme=dark] .colab-df-convert {\n",
              "      background-color: #3B4455;\n",
              "      fill: #D2E3FC;\n",
              "    }\n",
              "\n",
              "    [theme=dark] .colab-df-convert:hover {\n",
              "      background-color: #434B5C;\n",
              "      box-shadow: 0px 1px 3px 1px rgba(0, 0, 0, 0.15);\n",
              "      filter: drop-shadow(0px 1px 2px rgba(0, 0, 0, 0.3));\n",
              "      fill: #FFFFFF;\n",
              "    }\n",
              "  </style>\n",
              "\n",
              "      <script>\n",
              "        const buttonEl =\n",
              "          document.querySelector('#df-0900af48-5ff1-4310-af19-c24d181e52fb button.colab-df-convert');\n",
              "        buttonEl.style.display =\n",
              "          google.colab.kernel.accessAllowed ? 'block' : 'none';\n",
              "\n",
              "        async function convertToInteractive(key) {\n",
              "          const element = document.querySelector('#df-0900af48-5ff1-4310-af19-c24d181e52fb');\n",
              "          const dataTable =\n",
              "            await google.colab.kernel.invokeFunction('convertToInteractive',\n",
              "                                                     [key], {});\n",
              "          if (!dataTable) return;\n",
              "\n",
              "          const docLinkHtml = 'Like what you see? Visit the ' +\n",
              "            '<a target=\"_blank\" href=https://colab.research.google.com/notebooks/data_table.ipynb>data table notebook</a>'\n",
              "            + ' to learn more about interactive tables.';\n",
              "          element.innerHTML = '';\n",
              "          dataTable['output_type'] = 'display_data';\n",
              "          await google.colab.output.renderOutput(dataTable, element);\n",
              "          const docLink = document.createElement('div');\n",
              "          docLink.innerHTML = docLinkHtml;\n",
              "          element.appendChild(docLink);\n",
              "        }\n",
              "      </script>\n",
              "    </div>\n",
              "  </div>\n",
              "  "
            ]
          },
          "metadata": {},
          "execution_count": 13
        }
      ],
      "source": [
        "df.describe()"
      ]
    },
    {
      "cell_type": "code",
      "execution_count": 14,
      "metadata": {
        "id": "X4xURgshSrpT"
      },
      "outputs": [],
      "source": [
        "# df = df[:82000]\n",
        "train_df = df['augmented_text']\n",
        "test_df = df['text']\n",
        "from sklearn.model_selection import train_test_split\n",
        "train_x, test_x, train_y, test_y = train_test_split(train_df, test_df, test_size=0.2, random_state=0)\n",
        "val_x, test_x,val_y, test_y = train_test_split(test_x, test_y, test_size = 0.5, random_state=42)\n"
      ]
    },
    {
      "cell_type": "code",
      "execution_count": 15,
      "metadata": {
        "colab": {
          "base_uri": "https://localhost:8080/"
        },
        "id": "IZMTBLH1H-U7",
        "outputId": "3523c57f-a0ac-489f-e002-a633d2a5adf6"
      },
      "outputs": [
        {
          "output_type": "execute_result",
          "data": {
            "text/plain": [
              "161481           counfii digbs off on parks indigenkhs name\n",
              "61863       backbemches hle out hope for child care cgsnges\n",
              "900739    two more councillors resign frn xenmari lova  ...\n",
              "55388           zustrzlian killed in azerbz8jan plane crash\n",
              "349300    japanese hwlaing lfeets claim an abslouet lie sea\n",
              "                                ...                        \n",
              "963542    trump grand military paqdes and not so grsnr q...\n",
              "118001                     cxge sud9ends operations in iraq\n",
              "435903                    orme money lost on benidog pokies\n",
              "305771                     hlc ey backs coal rkjalty scheme\n",
              "985926      memornaudm sgnied to improve interaction within\n",
              "Name: augmented_text, Length: 819752, dtype: object"
            ]
          },
          "metadata": {},
          "execution_count": 15
        }
      ],
      "source": [
        "train_x"
      ]
    },
    {
      "cell_type": "code",
      "execution_count": 16,
      "metadata": {
        "colab": {
          "base_uri": "https://localhost:8080/"
        },
        "id": "inUltHgQ191H",
        "outputId": "26aed696-1795-4068-a382-399b3240ea3a"
      },
      "outputs": [
        {
          "output_type": "execute_result",
          "data": {
            "text/plain": [
              "161481           council signs off on parks indigenous name\n",
              "61863     backbenchers hold out hope for child care changes\n",
              "900739    two more councillors resign from denmark local...\n",
              "55388           australian killed in azerbaijan plane crash\n",
              "349300    japanese whaling fleets claim an absolute lie sea\n",
              "                                ...                        \n",
              "963542    trump grand military parades and not so grand ...\n",
              "118001                     care suspends operations in iraq\n",
              "435903                    more money lost on bendigo pokies\n",
              "305771                     hickey backs coal royalty scheme\n",
              "985926      memorandum signed to improve interaction within\n",
              "Name: text, Length: 819752, dtype: object"
            ]
          },
          "metadata": {},
          "execution_count": 16
        }
      ],
      "source": [
        "train_y"
      ]
    },
    {
      "cell_type": "code",
      "execution_count": 17,
      "metadata": {
        "id": "gK5wiBIXZLis"
      },
      "outputs": [],
      "source": [
        "max_length = 74"
      ]
    },
    {
      "cell_type": "code",
      "execution_count": 18,
      "metadata": {
        "id": "sTa8D0WfT1gf"
      },
      "outputs": [],
      "source": [
        "\n",
        "g_text_tokenizer = Tokenizer(char_level=True)\n",
        "g_text_tokenizer.fit_on_texts(train_x)\n",
        "g_text_word_index = g_text_tokenizer.word_index\n",
        "train_sequences = g_text_tokenizer.texts_to_sequences(train_x)\n",
        "train_padded = pad_sequences(train_sequences, maxlen = max_length, padding='post')\n",
        "\n",
        "\n",
        "text_tokenizer = Tokenizer(char_level=True)\n",
        "text_tokenizer.fit_on_texts(train_y)\n",
        "text_word_index = text_tokenizer.word_index\n",
        "test_sequences = text_tokenizer.texts_to_sequences(train_y)\n",
        "test_padded = pad_sequences(test_sequences,maxlen = max_length, padding='post')\n",
        "\n",
        "\n",
        "\n"
      ]
    },
    {
      "cell_type": "code",
      "execution_count": 19,
      "metadata": {
        "colab": {
          "base_uri": "https://localhost:8080/"
        },
        "id": "EoS-zPByYYPU",
        "outputId": "81a08a5a-54bd-4685-abbb-be8ea03357c9"
      },
      "outputs": [
        {
          "output_type": "execute_result",
          "data": {
            "text/plain": [
              "{' ': 1,\n",
              " \"'\": 32,\n",
              " '0': 27,\n",
              " '1': 29,\n",
              " '2': 30,\n",
              " '3': 33,\n",
              " '4': 34,\n",
              " '5': 31,\n",
              " '6': 35,\n",
              " '7': 37,\n",
              " '8': 38,\n",
              " '9': 36,\n",
              " 'a': 3,\n",
              " 'b': 19,\n",
              " 'c': 11,\n",
              " 'd': 12,\n",
              " 'e': 2,\n",
              " 'f': 18,\n",
              " 'g': 17,\n",
              " 'h': 14,\n",
              " 'i': 7,\n",
              " 'j': 24,\n",
              " 'k': 23,\n",
              " 'l': 10,\n",
              " 'm': 15,\n",
              " 'n': 9,\n",
              " 'o': 6,\n",
              " 'p': 16,\n",
              " 'q': 26,\n",
              " 'r': 4,\n",
              " 's': 5,\n",
              " 't': 8,\n",
              " 'u': 13,\n",
              " 'v': 22,\n",
              " 'w': 20,\n",
              " 'x': 25,\n",
              " 'y': 21,\n",
              " 'z': 28}"
            ]
          },
          "metadata": {},
          "execution_count": 19
        }
      ],
      "source": [
        "text_tokenizer.word_index"
      ]
    },
    {
      "cell_type": "code",
      "execution_count": 20,
      "metadata": {
        "id": "4PWLtCPyLNVJ"
      },
      "outputs": [],
      "source": [
        "val_train_sequences = g_text_tokenizer.texts_to_sequences(val_x)\n",
        "val_train_padded = pad_sequences(val_train_sequences, maxlen = max_length, padding='post')\n",
        "\n",
        "val_test_sequences = text_tokenizer.texts_to_sequences(val_y)\n",
        "val_test_padded = pad_sequences(val_test_sequences, maxlen = max_length, padding='post')"
      ]
    },
    {
      "cell_type": "code",
      "execution_count": 21,
      "metadata": {
        "colab": {
          "base_uri": "https://localhost:8080/"
        },
        "id": "npA5T2pATdEK",
        "outputId": "16df0f18-1f38-406d-df04-11546bbfb56d"
      },
      "outputs": [
        {
          "output_type": "stream",
          "name": "stdout",
          "text": [
            "40 39\n"
          ]
        }
      ],
      "source": [
        "g_vocab_size = len(g_text_word_index)+1\n",
        "vocab_size = len(text_word_index)+1\n",
        "print(g_vocab_size, vocab_size)"
      ]
    },
    {
      "cell_type": "code",
      "execution_count": 22,
      "metadata": {
        "colab": {
          "base_uri": "https://localhost:8080/",
          "height": 281
        },
        "id": "9EspCkMbCKx_",
        "outputId": "fc8f0287-0b2c-4ae0-9d40-d84685414dfb"
      },
      "outputs": [
        {
          "output_type": "display_data",
          "data": {
            "text/plain": [
              "<Figure size 432x288 with 1 Axes>"
            ],
            "image/png": "[encoded data removed]"
          },
          "metadata": {
            "needs_background": "light"
          }
        }
      ],
      "source": [
        "voc = [\"Text Vocabulary\", \"Augmented Text Vocabulary\"]\n",
        "voc_count = [vocab_size, g_vocab_size]\n",
        "\n",
        "plt.bar(voc, voc_count, width = 0.4)\n",
        "plt.title(\"Vocabulary Graph\")\n",
        "plt.show()"
      ]
    },
    {
      "cell_type": "code",
      "execution_count": 23,
      "metadata": {
        "id": "eVK8H4m5dqdD"
      },
      "outputs": [],
      "source": [
        "temp_test_padded = test_padded.reshape((test_padded.shape[0], test_padded.shape[1],1))\n"
      ]
    },
    {
      "cell_type": "code",
      "execution_count": 24,
      "metadata": {
        "id": "msrdgdWvea79"
      },
      "outputs": [],
      "source": [
        "epoch = 20"
      ]
    },
    {
      "cell_type": "code",
      "execution_count": 37,
      "metadata": {
        "id": "oANQwWFFgTzh",
        "colab": {
          "base_uri": "https://localhost:8080/"
        },
        "outputId": "b96d1d42-9aab-4398-abbd-3a83573fac24"
      },
      "outputs": [
        {
          "output_type": "stream",
          "name": "stdout",
          "text": [
            "Model: \"sequential_5\"\n",
            "____________________________________________________________________________\n",
            " Layer (type)                Output Shape              Param #   Trainable  \n",
            "============================================================================\n",
            " embedding_4 (Embedding)     (None, 74, 512)           20480     Y          \n",
            "                                                                            \n",
            " bidirectional_30 (Bidirecti  (None, 1024)             4198400   Y          \n",
            " onal)                                                                      \n",
            "                                                                            \n",
            " repeat_vector_2 (RepeatVect  (None, 74, 1024)         0         Y          \n",
            " or)                                                                        \n",
            "                                                                            \n",
            " bidirectional_31 (Bidirecti  (None, 74, 512)          2623488   Y          \n",
            " onal)                                                                      \n",
            "                                                                            \n",
            " bidirectional_32 (Bidirecti  (None, 74, 256)          656384    Y          \n",
            " onal)                                                                      \n",
            "                                                                            \n",
            " bidirectional_33 (Bidirecti  (None, 74, 256)          394240    Y          \n",
            " onal)                                                                      \n",
            "                                                                            \n",
            " bidirectional_34 (Bidirecti  (None, 74, 160)          215680    Y          \n",
            " onal)                                                                      \n",
            "                                                                            \n",
            " dense_5 (Dense)             (None, 74, 39)            6279      Y          \n",
            "                                                                            \n",
            "============================================================================\n",
            "Total params: 8,114,951\n",
            "Trainable params: 8,114,951\n",
            "Non-trainable params: 0\n",
            "____________________________________________________________________________\n"
          ]
        }
      ],
      "source": [
        "#combine the first two methods\n",
        "from keras.regularizers import l2\n",
        "model_4 = tf.keras.Sequential([\n",
        "    tf.keras.layers.Embedding(input_dim=g_vocab_size, output_dim=512, input_length=max_length, mask_zero=True),\n",
        "    tf.keras.layers.Bidirectional(tf.keras.layers.LSTM(512)),\n",
        "\n",
        "    tf.keras.layers.RepeatVector(max_length),\n",
        "    tf.keras.layers.Bidirectional(tf.keras.layers.LSTM(256, return_sequences=True)),\n",
        "    tf.keras.layers.Bidirectional(tf.keras.layers.LSTM(128,  return_sequences=True)),\n",
        "    tf.keras.layers.Bidirectional(tf.keras.layers.LSTM(128,  return_sequences=True)),\n",
        "    tf.keras.layers.Bidirectional(tf.keras.layers.LSTM(80,  return_sequences=True)),\n",
        "\n",
        "    # tf.keras.layers.Dropout(0.3),\n",
        "    # tf.keras.layers.BatchNormalization(),\n",
        "    tf.keras.layers.Dense(vocab_size,activation='softmax')\n",
        "])\n",
        "learning_rate = 0.0015\n",
        "optimizer = tf.keras.optimizers.Adam(learning_rate)\n",
        "# learning_rate = 0.0001\n",
        "# optimizer = tf.keras.optimizers.RMSprop(learning_rate)\n",
        "# optimizer = tf.keras.mixed_precision.LossScaleOptimizer(optimizer)\n",
        "model_4.compile(loss=\"sparse_categorical_crossentropy\",\n",
        "              optimizer=optimizer,\n",
        "              metrics=['accuracy'])\n",
        "model_4.summary(expand_nested=True,\n",
        "    show_trainable=True)"
      ]
    },
    {
      "cell_type": "code",
      "execution_count": 38,
      "metadata": {
        "id": "rvTWGQjJgVRq",
        "colab": {
          "base_uri": "https://localhost:8080/",
          "height": 959
        },
        "outputId": "7a8eb0b3-2fcf-4247-9dae-bd72a428b3b4"
      },
      "outputs": [
        {
          "output_type": "stream",
          "name": "stdout",
          "text": [
            "Epoch 1/20\n",
            "3203/3203 [==============================] - 681s 205ms/step - loss: 1.9620 - accuracy: 0.4658 - val_loss: 1.9302 - val_accuracy: 0.4768\n",
            "Epoch 2/20\n",
            "3203/3203 [==============================] - 653s 204ms/step - loss: 1.6646 - accuracy: 0.5317 - val_loss: 1.3590 - val_accuracy: 0.6114\n",
            "Epoch 3/20\n",
            "3203/3203 [==============================] - 651s 203ms/step - loss: 1.0503 - accuracy: 0.6964 - val_loss: 0.8250 - val_accuracy: 0.7643\n",
            "Epoch 4/20\n",
            "3203/3203 [==============================] - 652s 203ms/step - loss: 0.7268 - accuracy: 0.7884 - val_loss: 0.6226 - val_accuracy: 0.8186\n",
            "Epoch 5/20\n",
            "3203/3203 [==============================] - 651s 203ms/step - loss: 0.5929 - accuracy: 0.8222 - val_loss: 0.5555 - val_accuracy: 0.8351\n",
            "Epoch 6/20\n",
            "3203/3203 [==============================] - 652s 203ms/step - loss: 0.5175 - accuracy: 0.8425 - val_loss: 0.4998 - val_accuracy: 0.8471\n",
            "Epoch 7/20\n",
            "3203/3203 [==============================] - 653s 204ms/step - loss: 0.4663 - accuracy: 0.8569 - val_loss: 0.4434 - val_accuracy: 0.8659\n",
            "Epoch 8/20\n",
            "3203/3203 [==============================] - 652s 204ms/step - loss: 0.4268 - accuracy: 0.8683 - val_loss: 0.4558 - val_accuracy: 0.8612\n",
            "Epoch 9/20\n",
            "3203/3203 [==============================] - 652s 204ms/step - loss: 0.4001 - accuracy: 0.8761 - val_loss: 0.3955 - val_accuracy: 0.8808\n",
            "Epoch 10/20\n",
            "3203/3203 [==============================] - 652s 204ms/step - loss: 0.3766 - accuracy: 0.8829 - val_loss: 0.3835 - val_accuracy: 0.8848\n",
            "Epoch 11/20\n",
            "3203/3203 [==============================] - 653s 204ms/step - loss: 0.3552 - accuracy: 0.8895 - val_loss: 0.3698 - val_accuracy: 0.8875\n",
            "Epoch 12/20\n",
            "3203/3203 [==============================] - 652s 204ms/step - loss: 0.3363 - accuracy: 0.8951 - val_loss: 0.3898 - val_accuracy: 0.8805\n",
            "Epoch 13/20\n",
            "3203/3203 [==============================] - 653s 204ms/step - loss: 0.3193 - accuracy: 0.9003 - val_loss: 0.3491 - val_accuracy: 0.8945\n",
            "Epoch 14/20\n",
            "3203/3203 [==============================] - 653s 204ms/step - loss: 0.3072 - accuracy: 0.9041 - val_loss: 0.3623 - val_accuracy: 0.8891\n",
            "Epoch 15/20\n",
            "3203/3203 [==============================] - 653s 204ms/step - loss: 0.2957 - accuracy: 0.9077 - val_loss: 0.3402 - val_accuracy: 0.8979\n",
            "Epoch 16/20\n",
            "3203/3203 [==============================] - 653s 204ms/step - loss: 0.2850 - accuracy: 0.9109 - val_loss: 0.3417 - val_accuracy: 0.8970\n",
            "Epoch 17/20\n",
            "3203/3203 [==============================] - 652s 204ms/step - loss: 0.2717 - accuracy: 0.9152 - val_loss: 0.3459 - val_accuracy: 0.8992\n",
            "Epoch 18/20\n",
            "3203/3203 [==============================] - 652s 204ms/step - loss: 0.2655 - accuracy: 0.9171 - val_loss: 0.3448 - val_accuracy: 0.8967\n",
            "Epoch 19/20\n",
            "3203/3203 [==============================] - 654s 204ms/step - loss: 0.2569 - accuracy: 0.9199 - val_loss: 0.3981 - val_accuracy: 0.8806\n",
            "Epoch 20/20\n",
            "3203/3203 [==============================] - 656s 205ms/step - loss: 0.2496 - accuracy: 0.9222 - val_loss: 0.3416 - val_accuracy: 0.9002\n"
          ]
        },
        {
          "output_type": "display_data",
          "data": {
            "text/plain": [
              "<Figure size 432x288 with 1 Axes>"
            ],
            "image/png": "[encoded data removed]"
          },
          "metadata": {
            "needs_background": "light"
          }
        }
      ],
      "source": [
        "his_4 = model_4.fit(train_padded, test_padded, batch_size=256, epochs=epoch, validation_data = (val_train_padded, val_test_padded))\n",
        "\n",
        "plt.plot(his_4.history['loss'])\n",
        "plt.plot(his_4.history['val_loss'])\n",
        "plt.legend(['train','validation'])\n",
        "plt.show()"
      ]
    },
    {
      "cell_type": "code",
      "execution_count": null,
      "metadata": {
        "id": "Lz1009MuUGX-"
      },
      "outputs": [],
      "source": [
        "# epoch = 10\n",
        "# his = model.fit(train_padded, test_padded, batch_size=512, epochs=epoch, validation_data = (val_train_padded, val_test_padded))"
      ]
    },
    {
      "cell_type": "code",
      "execution_count": null,
      "metadata": {
        "id": "ADAyQCdl7mmw"
      },
      "outputs": [],
      "source": [
        "# model.save('/content/drive/MyDrive/Colab_Notebooks/accuracy_84_3lstm_rnn_8inputlength')"
      ]
    },
    {
      "cell_type": "code",
      "execution_count": 39,
      "metadata": {
        "id": "KpGWAIiQUe0_"
      },
      "outputs": [],
      "source": [
        "test_sample = test_x.iloc[:10]\n",
        "test_sample = g_text_tokenizer.texts_to_sequences(test_sample)\n",
        "test_sample = pad_sequences(test_sample, maxlen=max_length, padding='post')\n"
      ]
    },
    {
      "cell_type": "code",
      "execution_count": 44,
      "metadata": {
        "id": "wUHeCyCM02he",
        "colab": {
          "base_uri": "https://localhost:8080/"
        },
        "outputId": "65a2b3c3-8323-45db-a88e-4fdc0d9644e4"
      },
      "outputs": [
        {
          "output_type": "execute_result",
          "data": {
            "text/plain": [
              "775998    wa rolls out qr xkdes for contact teacong as b...\n",
              "681386          three seriously inkurd in ballarat qccidebt\n",
              "384277                 local ccylists finish outr de france\n",
              "951111       wadeye residents eskeing return to outstaitosn\n",
              "447964      mystrye of missing olrf harris painting remains\n",
              "921442       xomstic markets flat deslits ihtereet rate cut\n",
              "105140               businxsman pays 840000 for numhr plate\n",
              "41074     art exhibition 4este boundaries of mkderm femi...\n",
              "521659         police consider wpefd in fatzp wodonga cfasn\n",
              "550832               ypen bojetcs to pms holocaust allusion\n",
              "Name: augmented_text, dtype: object"
            ]
          },
          "metadata": {},
          "execution_count": 44
        }
      ],
      "source": [
        "test_x.iloc[:10]"
      ]
    },
    {
      "cell_type": "code",
      "execution_count": 45,
      "metadata": {
        "id": "o48mfKmhsDv0",
        "colab": {
          "base_uri": "https://localhost:8080/"
        },
        "outputId": "0ca653c8-8d19-48a2-b37a-1aae9f2e5bbb"
      },
      "outputs": [
        {
          "output_type": "execute_result",
          "data": {
            "text/plain": [
              "775998    wa rolls out qr codes for contact tracing as b...\n",
              "681386         three seriously injured in ballarat accident\n",
              "384277                 local cyclists finish tour de france\n",
              "951111       wadeye residents seeking return to outstations\n",
              "447964      mystery of missing rolf harris painting remains\n",
              "921442      domestic markets flat despite interest rate cut\n",
              "105140             businessman pays 840000 for number plate\n",
              "41074     art exhibition tests boundaries of modern femi...\n",
              "521659         police consider speed in fatal wodonga crash\n",
              "550832               pyne objects to pms holocaust allusion\n",
              "Name: text, dtype: object"
            ]
          },
          "metadata": {},
          "execution_count": 45
        }
      ],
      "source": [
        "test_y.iloc[:10]"
      ]
    },
    {
      "cell_type": "code",
      "execution_count": 40,
      "metadata": {
        "id": "kvPsR8hHEQq9"
      },
      "outputs": [],
      "source": [
        "pre = model_4.predict(test_sample)\n",
        "def deTokenize(logits):\n",
        "    index_to_words = {id: word for word, id in text_tokenizer.word_index.items()}\n",
        "    index_to_words[0] = ''\n",
        "    pre_index = np.argmax(logits, 1)\n",
        "    return ''.join(index_to_words[prediction] for prediction in pre_index)\n",
        "predict = []\n",
        "for i in range(10):\n",
        "  predict.append(deTokenize(pre[i]))"
      ]
    },
    {
      "cell_type": "code",
      "execution_count": 41,
      "metadata": {
        "id": "LCXcto7u1iTa",
        "colab": {
          "base_uri": "https://localhost:8080/",
          "height": 363
        },
        "outputId": "bf62752d-a951-4955-ef7f-326e36f49fdc"
      },
      "outputs": [
        {
          "output_type": "execute_result",
          "data": {
            "text/plain": [
              "                                                    input  \\\n",
              "775998  wa rolls out qr xkdes for contact teacong as b...   \n",
              "681386        three seriously inkurd in ballarat qccidebt   \n",
              "384277               local ccylists finish outr de france   \n",
              "951111     wadeye residents eskeing return to outstaitosn   \n",
              "447964    mystrye of missing olrf harris painting remains   \n",
              "921442     xomstic markets flat deslits ihtereet rate cut   \n",
              "105140             businxsman pays 840000 for numhr plate   \n",
              "41074   art exhibition 4este boundaries of mkderm femi...   \n",
              "521659       police consider wpefd in fatzp wodonga cfasn   \n",
              "550832             ypen bojetcs to pms holocaust allusion   \n",
              "\n",
              "                                                   output  \\\n",
              "775998  wa rolls out qr codes for contact tracing as b...   \n",
              "681386       three seriously injured in ballarat accident   \n",
              "384277               local cyclists finish tour de france   \n",
              "951111     wadeye residents seeking return to outstations   \n",
              "447964    mystery of missing rolf harris painting remains   \n",
              "921442    domestic markets flat despite interest rate cut   \n",
              "105140           businessman pays 840000 for number plate   \n",
              "41074   art exhibition tests boundaries of modern femi...   \n",
              "521659       police consider speed in fatal wodonga crash   \n",
              "550832             pyne objects to pms holocaust allusion   \n",
              "\n",
              "                                                  predict  \n",
              "775998  wa rolls out wr sakes for contact teaaing as b...  \n",
              "681386       three seriously injured in ballarat cccident  \n",
              "384277               local cyclists finish tour de france  \n",
              "951111     wedeyy residents seeking return to outtaaiions  \n",
              "447964    mystrey of missing loff harris painting remains  \n",
              "921442     comstic markets flat despits interest rate cut  \n",
              "105140             businasman pays 100000 for number paae  \n",
              "41074   art exhibition westee boundariss of mmrerr rem...  \n",
              "521659       police consider speed in fatal wodonga crash  \n",
              "550832             pyee bbjects to pms holocaust allusion  "
            ],
            "text/html": [
              "\n",
              "  <div id=\"df-fffc69b3-65ba-47b8-bc19-5ef1dc88e751\">\n",
              "    <div class=\"colab-df-container\">\n",
              "      <div>\n",
              "<style scoped>\n",
              "    .dataframe tbody tr th:only-of-type {\n",
              "        vertical-align: middle;\n",
              "    }\n",
              "\n",
              "    .dataframe tbody tr th {\n",
              "        vertical-align: top;\n",
              "    }\n",
              "\n",
              "    .dataframe thead th {\n",
              "        text-align: right;\n",
              "    }\n",
              "</style>\n",
              "<table border=\"1\" class=\"dataframe\">\n",
              "  <thead>\n",
              "    <tr style=\"text-align: right;\">\n",
              "      <th></th>\n",
              "      <th>input</th>\n",
              "      <th>output</th>\n",
              "      <th>predict</th>\n",
              "    </tr>\n",
              "  </thead>\n",
              "  <tbody>\n",
              "    <tr>\n",
              "      <th>775998</th>\n",
              "      <td>wa rolls out qr xkdes for contact teacong as b...</td>\n",
              "      <td>wa rolls out qr codes for contact tracing as b...</td>\n",
              "      <td>wa rolls out wr sakes for contact teaaing as b...</td>\n",
              "    </tr>\n",
              "    <tr>\n",
              "      <th>681386</th>\n",
              "      <td>three seriously inkurd in ballarat qccidebt</td>\n",
              "      <td>three seriously injured in ballarat accident</td>\n",
              "      <td>three seriously injured in ballarat cccident</td>\n",
              "    </tr>\n",
              "    <tr>\n",
              "      <th>384277</th>\n",
              "      <td>local ccylists finish outr de france</td>\n",
              "      <td>local cyclists finish tour de france</td>\n",
              "      <td>local cyclists finish tour de france</td>\n",
              "    </tr>\n",
              "    <tr>\n",
              "      <th>951111</th>\n",
              "      <td>wadeye residents eskeing return to outstaitosn</td>\n",
              "      <td>wadeye residents seeking return to outstations</td>\n",
              "      <td>wedeyy residents seeking return to outtaaiions</td>\n",
              "    </tr>\n",
              "    <tr>\n",
              "      <th>447964</th>\n",
              "      <td>mystrye of missing olrf harris painting remains</td>\n",
              "      <td>mystery of missing rolf harris painting remains</td>\n",
              "      <td>mystrey of missing loff harris painting remains</td>\n",
              "    </tr>\n",
              "    <tr>\n",
              "      <th>921442</th>\n",
              "      <td>xomstic markets flat deslits ihtereet rate cut</td>\n",
              "      <td>domestic markets flat despite interest rate cut</td>\n",
              "      <td>comstic markets flat despits interest rate cut</td>\n",
              "    </tr>\n",
              "    <tr>\n",
              "      <th>105140</th>\n",
              "      <td>businxsman pays 840000 for numhr plate</td>\n",
              "      <td>businessman pays 840000 for number plate</td>\n",
              "      <td>businasman pays 100000 for number paae</td>\n",
              "    </tr>\n",
              "    <tr>\n",
              "      <th>41074</th>\n",
              "      <td>art exhibition 4este boundaries of mkderm femi...</td>\n",
              "      <td>art exhibition tests boundaries of modern femi...</td>\n",
              "      <td>art exhibition westee boundariss of mmrerr rem...</td>\n",
              "    </tr>\n",
              "    <tr>\n",
              "      <th>521659</th>\n",
              "      <td>police consider wpefd in fatzp wodonga cfasn</td>\n",
              "      <td>police consider speed in fatal wodonga crash</td>\n",
              "      <td>police consider speed in fatal wodonga crash</td>\n",
              "    </tr>\n",
              "    <tr>\n",
              "      <th>550832</th>\n",
              "      <td>ypen bojetcs to pms holocaust allusion</td>\n",
              "      <td>pyne objects to pms holocaust allusion</td>\n",
              "      <td>pyee bbjects to pms holocaust allusion</td>\n",
              "    </tr>\n",
              "  </tbody>\n",
              "</table>\n",
              "</div>\n",
              "      <button class=\"colab-df-convert\" onclick=\"convertToInteractive('df-fffc69b3-65ba-47b8-bc19-5ef1dc88e751')\"\n",
              "              title=\"Convert this dataframe to an interactive table.\"\n",
              "              style=\"display:none;\">\n",
              "        \n",
              "  <svg xmlns=\"http://www.w3.org/2000/svg\" height=\"24px\"viewBox=\"0 0 24 24\"\n",
              "       width=\"24px\">\n",
              "    <path d=\"M0 0h24v24H0V0z\" fill=\"none\"/>\n",
              "    <path d=\"M18.56 5.44l.94 2.06.94-2.06 2.06-.94-2.06-.94-.94-2.06-.94 2.06-2.06.94zm-11 1L8.5 8.5l.94-2.06 2.06-.94-2.06-.94L8.5 2.5l-.94 2.06-2.06.94zm10 10l.94 2.06.94-2.06 2.06-.94-2.06-.94-.94-2.06-.94 2.06-2.06.94z\"/><path d=\"M17.41 7.96l-1.37-1.37c-.4-.4-.92-.59-1.43-.59-.52 0-1.04.2-1.43.59L10.3 9.45l-7.72 7.72c-.78.78-.78 2.05 0 2.83L4 21.41c.39.39.9.59 1.41.59.51 0 1.02-.2 1.41-.59l7.78-7.78 2.81-2.81c.8-.78.8-2.07 0-2.86zM5.41 20L4 18.59l7.72-7.72 1.47 1.35L5.41 20z\"/>\n",
              "  </svg>\n",
              "      </button>\n",
              "      \n",
              "  <style>\n",
              "    .colab-df-container {\n",
              "      display:flex;\n",
              "      flex-wrap:wrap;\n",
              "      gap: 12px;\n",
              "    }\n",
              "\n",
              "    .colab-df-convert {\n",
              "      background-color: #E8F0FE;\n",
              "      border: none;\n",
              "      border-radius: 50%;\n",
              "      cursor: pointer;\n",
              "      display: none;\n",
              "      fill: #1967D2;\n",
              "      height: 32px;\n",
              "      padding: 0 0 0 0;\n",
              "      width: 32px;\n",
              "    }\n",
              "\n",
              "    .colab-df-convert:hover {\n",
              "      background-color: #E2EBFA;\n",
              "      box-shadow: 0px 1px 2px rgba(60, 64, 67, 0.3), 0px 1px 3px 1px rgba(60, 64, 67, 0.15);\n",
              "      fill: #174EA6;\n",
              "    }\n",
              "\n",
              "    [theme=dark] .colab-df-convert {\n",
              "      background-color: #3B4455;\n",
              "      fill: #D2E3FC;\n",
              "    }\n",
              "\n",
              "    [theme=dark] .colab-df-convert:hover {\n",
              "      background-color: #434B5C;\n",
              "      box-shadow: 0px 1px 3px 1px rgba(0, 0, 0, 0.15);\n",
              "      filter: drop-shadow(0px 1px 2px rgba(0, 0, 0, 0.3));\n",
              "      fill: #FFFFFF;\n",
              "    }\n",
              "  </style>\n",
              "\n",
              "      <script>\n",
              "        const buttonEl =\n",
              "          document.querySelector('#df-fffc69b3-65ba-47b8-bc19-5ef1dc88e751 button.colab-df-convert');\n",
              "        buttonEl.style.display =\n",
              "          google.colab.kernel.accessAllowed ? 'block' : 'none';\n",
              "\n",
              "        async function convertToInteractive(key) {\n",
              "          const element = document.querySelector('#df-fffc69b3-65ba-47b8-bc19-5ef1dc88e751');\n",
              "          const dataTable =\n",
              "            await google.colab.kernel.invokeFunction('convertToInteractive',\n",
              "                                                     [key], {});\n",
              "          if (!dataTable) return;\n",
              "\n",
              "          const docLinkHtml = 'Like what you see? Visit the ' +\n",
              "            '<a target=\"_blank\" href=https://colab.research.google.com/notebooks/data_table.ipynb>data table notebook</a>'\n",
              "            + ' to learn more about interactive tables.';\n",
              "          element.innerHTML = '';\n",
              "          dataTable['output_type'] = 'display_data';\n",
              "          await google.colab.output.renderOutput(dataTable, element);\n",
              "          const docLink = document.createElement('div');\n",
              "          docLink.innerHTML = docLinkHtml;\n",
              "          element.appendChild(docLink);\n",
              "        }\n",
              "      </script>\n",
              "    </div>\n",
              "  </div>\n",
              "  "
            ]
          },
          "metadata": {},
          "execution_count": 41
        }
      ],
      "source": [
        "eva = pd.DataFrame({'input': test_x.iloc[:10], 'output': test_y.iloc[:10], 'predict':predict})\n",
        "eva\n"
      ]
    },
    {
      "cell_type": "code",
      "execution_count": 43,
      "metadata": {
        "id": "T-6vwxhK56Uw",
        "colab": {
          "base_uri": "https://localhost:8080/"
        },
        "outputId": "d8edc43e-f26b-43d8-dff2-09f25cad7165"
      },
      "outputs": [
        {
          "output_type": "stream",
          "name": "stdout",
          "text": [
            "Iutput:     three seriously inkurd in ballarat qccidebt\n",
            "Actual:     three seriously injured in ballarat accident\n",
            "Predicted:  three seriously injured in ballarat cccident\n"
          ]
        }
      ],
      "source": [
        "print(\"Iutput:    \",test_x.iloc[1])\n",
        "print(\"Actual:    \",test_y.iloc[1])\n",
        "print(\"Predicted: \",deTokenize(pre[1]))"
      ]
    }
  ],
  "metadata": {
    "accelerator": "GPU",
    "colab": {
      "collapsed_sections": [],
      "name": "method5.ipynb",
      "provenance": []
    },
    "kernelspec": {
      "display_name": "Python 3",
      "name": "python3"
    },
    "language_info": {
      "name": "python"
    }
  },
  "nbformat": 4,
  "nbformat_minor": 0
}