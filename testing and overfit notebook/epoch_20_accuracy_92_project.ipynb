{
  "cells": [
    {
      "cell_type": "code",
      "execution_count": 1,
      "metadata": {
        "colab": {
          "base_uri": "https://localhost:8080/"
        },
        "id": "2NEWAoUNP8xH",
        "outputId": "56f87419-d404-4e79-b5a5-c7783d238745"
      },
      "outputs": [
        {
          "output_type": "stream",
          "name": "stdout",
          "text": [
            "Drive already mounted at /content/drive/; to attempt to forcibly remount, call drive.mount(\"/content/drive/\", force_remount=True).\n"
          ]
        }
      ],
      "source": [
        "import tensorflow as tf\n",
        "import numpy as np\n",
        "import pandas as pd\n",
        "from keras.preprocessing.sequence import pad_sequences\n",
        "from keras.preprocessing.text import Tokenizer\n",
        "import re\n",
        "import os\n",
        "from sklearn.model_selection import train_test_split\n",
        "tf.__version__\n",
        "from google.colab import drive\n",
        "drive.mount('/content/drive/')"
      ]
    },
    {
      "cell_type": "code",
      "execution_count": 2,
      "metadata": {
        "id": "CLrsbOIpTU1m"
      },
      "outputs": [],
      "source": [
        "# df = pd.read_csv(\"/content/drive/MyDrive/Colab_Notebooks/train.csv\")"
      ]
    },
    {
      "cell_type": "code",
      "execution_count": 3,
      "metadata": {
        "id": "s5oWgBqmTp7p"
      },
      "outputs": [],
      "source": [
        "# def clean_data(text):\n",
        "#     text = text.lower()\n",
        "#     text = re.sub(r\"[-=+*\\\"#@!$%^&()`<>\\[\\]]\",\"\",text)\n",
        "#     text = re.sub(r\"i'm\",\"i am\",text)\n",
        "#     text = re.sub(r\"he's\",\"he is\",text)\n",
        "#     text = re.sub(r\"she's\",\"she is\",text)\n",
        "#     text = re.sub(r\"it's\",\"it is\",text)\n",
        "#     text = re.sub(r\"they're\",\"they are\",text)\n",
        "#     text = re.sub(r\"there're\",\"there are\",text)\n",
        "#     text = re.sub(r\"there's\",\"there is\",text)\n",
        "#     text = re.sub(r\"how're\",\"how are\",text)\n",
        "#     text = re.sub(r\"what're\",\"what are\",text)\n",
        "#     text = re.sub(r\"where're\",\"where \",text)\n",
        "#     text = re.sub(r\"who're\",\"who are\",text)\n",
        "#     text = re.sub(r\"that're\",\"that are\",text)\n",
        "#     text = re.sub(r\"when're\",\"when are\",text)\n",
        "#     text = re.sub(r\"how's\",\"how is\",text)\n",
        "#     text = re.sub(r\"what's\",\"what is\",text)\n",
        "#     text = re.sub(r\"where's\",\"where is\",text)\n",
        "#     text = re.sub(r\"who's\",\"who is\",text)\n",
        "#     text = re.sub(r\"that's\",\"that is\",text)\n",
        "#     text = re.sub(r\"when's\",\"when is\",text)\n",
        "#     text = re.sub(r\"won't\",\"would not\",text)\n",
        "#     text = re.sub(r\"nt't\",\"can not\",text)\n",
        "#     text = re.sub(r\"\\'bout'\",\"about\",text)\n",
        "#     text = re.sub(r\"\\'till'\",\"untill\",text)\n",
        "#     text = re.sub(r\"\\'ll\",\"will\",text)\n",
        "#     text = re.sub(r\"\\'ve\",\"have\",text)\n",
        "#     text = re.sub(r\"\\'re\",\"are\",text)\n",
        "#     text = re.sub(r\"\\'d\",\"would\",text)\n",
        "#     text = re.sub(r\"\\.\",\" \",text)\n",
        "#     text = re.sub(r\"\\,\",\" \",text)\n",
        "#     text = re.sub(r\"\\!\",\" \",text)\n",
        "#     text = re.sub(r\"\\?\",\" \",text)\n",
        "#     text = re.sub(r\"\\;\",\" \",text)\n",
        "#     text = re.sub(r\"\\:\",\" \",text)\n",
        "#     return text\n",
        "\n",
        "    \n",
        "# df['text'] = df['text'].apply(clean_data)\n",
        "# df['augmented_text'] = df['augmented_text'].apply(clean_data)\n",
        "\n",
        "\n"
      ]
    },
    {
      "cell_type": "code",
      "source": [
        "df = pd.read_csv(\"/content/drive/MyDrive/Colab_Notebooks/Copy of data.csv\")\n",
        "train_x, test_x, train_y, test_y = train_test_split(df['augmented_text'], df['text'], test_size=0.33,random_state=4)\n",
        "val_x, test_x, val_y, test_y = train_test_split(test_x, test_y, random_state=4, test_size=0.5)"
      ],
      "metadata": {
        "id": "ou16vOMyXuMo"
      },
      "execution_count": 4,
      "outputs": []
    },
    {
      "cell_type": "code",
      "execution_count": 5,
      "metadata": {
        "colab": {
          "base_uri": "https://localhost:8080/",
          "height": 423
        },
        "id": "IZMTBLH1H-U7",
        "outputId": "904f01b7-6472-420e-e9f5-daf7a9731fcb"
      },
      "outputs": [
        {
          "output_type": "execute_result",
          "data": {
            "text/plain": [
              "        Unnamed: 0                                               text  \\\n",
              "0                0         barbaric and shocking use of force against   \n",
              "1                1  pm says energy policy has almost universal sup...   \n",
              "2                2  coronavirus tasmania peter gutwein economy impact   \n",
              "3                3      tamworth police continue hunt for missing man   \n",
              "4                4                   help us secure borders iraq says   \n",
              "...            ...                                                ...   \n",
              "922364      153723           retailers fume over lost easter business   \n",
              "922365      153724  malcolm turnbull should put his authority on t...   \n",
              "922366      153725         miner considers early bronzewing reopening   \n",
              "922367      153726              rann government curbs internet debate   \n",
              "922368      153727    local surfer causes upset at margaret river pro   \n",
              "\n",
              "                                           augmented_text  \n",
              "0              barbaric and shocking use of ofcre agaistn  \n",
              "1       pm assy energy policy has laomst universal sup...  \n",
              "2       coronavirus tasmania peter gutwein econijy jjpact  \n",
              "3             tawortj olicr continue hunt for miesimg man  \n",
              "4                         help us secure bogcers iraq szs  \n",
              "...                                                   ...  \n",
              "922364           retailers fume over lost easfef bjsijess  \n",
              "922365  amclolm turnbull should put his authority on t...  \n",
              "922366          kine considers fariy bronzewing reopening  \n",
              "922367               ramg government curbs ine5net debate  \n",
              "922368    olcla surfer cuaess upset at margaret river pro  \n",
              "\n",
              "[922369 rows x 3 columns]"
            ],
            "text/html": [
              "\n",
              "  <div id=\"df-d2375ff0-7cb1-4675-b3a4-e52eacf5a229\">\n",
              "    <div class=\"colab-df-container\">\n",
              "      <div>\n",
              "<style scoped>\n",
              "    .dataframe tbody tr th:only-of-type {\n",
              "        vertical-align: middle;\n",
              "    }\n",
              "\n",
              "    .dataframe tbody tr th {\n",
              "        vertical-align: top;\n",
              "    }\n",
              "\n",
              "    .dataframe thead th {\n",
              "        text-align: right;\n",
              "    }\n",
              "</style>\n",
              "<table border=\"1\" class=\"dataframe\">\n",
              "  <thead>\n",
              "    <tr style=\"text-align: right;\">\n",
              "      <th></th>\n",
              "      <th>Unnamed: 0</th>\n",
              "      <th>text</th>\n",
              "      <th>augmented_text</th>\n",
              "    </tr>\n",
              "  </thead>\n",
              "  <tbody>\n",
              "    <tr>\n",
              "      <th>0</th>\n",
              "      <td>0</td>\n",
              "      <td>barbaric and shocking use of force against</td>\n",
              "      <td>barbaric and shocking use of ofcre agaistn</td>\n",
              "    </tr>\n",
              "    <tr>\n",
              "      <th>1</th>\n",
              "      <td>1</td>\n",
              "      <td>pm says energy policy has almost universal sup...</td>\n",
              "      <td>pm assy energy policy has laomst universal sup...</td>\n",
              "    </tr>\n",
              "    <tr>\n",
              "      <th>2</th>\n",
              "      <td>2</td>\n",
              "      <td>coronavirus tasmania peter gutwein economy impact</td>\n",
              "      <td>coronavirus tasmania peter gutwein econijy jjpact</td>\n",
              "    </tr>\n",
              "    <tr>\n",
              "      <th>3</th>\n",
              "      <td>3</td>\n",
              "      <td>tamworth police continue hunt for missing man</td>\n",
              "      <td>tawortj olicr continue hunt for miesimg man</td>\n",
              "    </tr>\n",
              "    <tr>\n",
              "      <th>4</th>\n",
              "      <td>4</td>\n",
              "      <td>help us secure borders iraq says</td>\n",
              "      <td>help us secure bogcers iraq szs</td>\n",
              "    </tr>\n",
              "    <tr>\n",
              "      <th>...</th>\n",
              "      <td>...</td>\n",
              "      <td>...</td>\n",
              "      <td>...</td>\n",
              "    </tr>\n",
              "    <tr>\n",
              "      <th>922364</th>\n",
              "      <td>153723</td>\n",
              "      <td>retailers fume over lost easter business</td>\n",
              "      <td>retailers fume over lost easfef bjsijess</td>\n",
              "    </tr>\n",
              "    <tr>\n",
              "      <th>922365</th>\n",
              "      <td>153724</td>\n",
              "      <td>malcolm turnbull should put his authority on t...</td>\n",
              "      <td>amclolm turnbull should put his authority on t...</td>\n",
              "    </tr>\n",
              "    <tr>\n",
              "      <th>922366</th>\n",
              "      <td>153725</td>\n",
              "      <td>miner considers early bronzewing reopening</td>\n",
              "      <td>kine considers fariy bronzewing reopening</td>\n",
              "    </tr>\n",
              "    <tr>\n",
              "      <th>922367</th>\n",
              "      <td>153726</td>\n",
              "      <td>rann government curbs internet debate</td>\n",
              "      <td>ramg government curbs ine5net debate</td>\n",
              "    </tr>\n",
              "    <tr>\n",
              "      <th>922368</th>\n",
              "      <td>153727</td>\n",
              "      <td>local surfer causes upset at margaret river pro</td>\n",
              "      <td>olcla surfer cuaess upset at margaret river pro</td>\n",
              "    </tr>\n",
              "  </tbody>\n",
              "</table>\n",
              "<p>922369 rows × 3 columns</p>\n",
              "</div>\n",
              "      <button class=\"colab-df-convert\" onclick=\"convertToInteractive('df-d2375ff0-7cb1-4675-b3a4-e52eacf5a229')\"\n",
              "              title=\"Convert this dataframe to an interactive table.\"\n",
              "              style=\"display:none;\">\n",
              "        \n",
              "  <svg xmlns=\"http://www.w3.org/2000/svg\" height=\"24px\"viewBox=\"0 0 24 24\"\n",
              "       width=\"24px\">\n",
              "    <path d=\"M0 0h24v24H0V0z\" fill=\"none\"/>\n",
              "    <path d=\"M18.56 5.44l.94 2.06.94-2.06 2.06-.94-2.06-.94-.94-2.06-.94 2.06-2.06.94zm-11 1L8.5 8.5l.94-2.06 2.06-.94-2.06-.94L8.5 2.5l-.94 2.06-2.06.94zm10 10l.94 2.06.94-2.06 2.06-.94-2.06-.94-.94-2.06-.94 2.06-2.06.94z\"/><path d=\"M17.41 7.96l-1.37-1.37c-.4-.4-.92-.59-1.43-.59-.52 0-1.04.2-1.43.59L10.3 9.45l-7.72 7.72c-.78.78-.78 2.05 0 2.83L4 21.41c.39.39.9.59 1.41.59.51 0 1.02-.2 1.41-.59l7.78-7.78 2.81-2.81c.8-.78.8-2.07 0-2.86zM5.41 20L4 18.59l7.72-7.72 1.47 1.35L5.41 20z\"/>\n",
              "  </svg>\n",
              "      </button>\n",
              "      \n",
              "  <style>\n",
              "    .colab-df-container {\n",
              "      display:flex;\n",
              "      flex-wrap:wrap;\n",
              "      gap: 12px;\n",
              "    }\n",
              "\n",
              "    .colab-df-convert {\n",
              "      background-color: #E8F0FE;\n",
              "      border: none;\n",
              "      border-radius: 50%;\n",
              "      cursor: pointer;\n",
              "      display: none;\n",
              "      fill: #1967D2;\n",
              "      height: 32px;\n",
              "      padding: 0 0 0 0;\n",
              "      width: 32px;\n",
              "    }\n",
              "\n",
              "    .colab-df-convert:hover {\n",
              "      background-color: #E2EBFA;\n",
              "      box-shadow: 0px 1px 2px rgba(60, 64, 67, 0.3), 0px 1px 3px 1px rgba(60, 64, 67, 0.15);\n",
              "      fill: #174EA6;\n",
              "    }\n",
              "\n",
              "    [theme=dark] .colab-df-convert {\n",
              "      background-color: #3B4455;\n",
              "      fill: #D2E3FC;\n",
              "    }\n",
              "\n",
              "    [theme=dark] .colab-df-convert:hover {\n",
              "      background-color: #434B5C;\n",
              "      box-shadow: 0px 1px 3px 1px rgba(0, 0, 0, 0.15);\n",
              "      filter: drop-shadow(0px 1px 2px rgba(0, 0, 0, 0.3));\n",
              "      fill: #FFFFFF;\n",
              "    }\n",
              "  </style>\n",
              "\n",
              "      <script>\n",
              "        const buttonEl =\n",
              "          document.querySelector('#df-d2375ff0-7cb1-4675-b3a4-e52eacf5a229 button.colab-df-convert');\n",
              "        buttonEl.style.display =\n",
              "          google.colab.kernel.accessAllowed ? 'block' : 'none';\n",
              "\n",
              "        async function convertToInteractive(key) {\n",
              "          const element = document.querySelector('#df-d2375ff0-7cb1-4675-b3a4-e52eacf5a229');\n",
              "          const dataTable =\n",
              "            await google.colab.kernel.invokeFunction('convertToInteractive',\n",
              "                                                     [key], {});\n",
              "          if (!dataTable) return;\n",
              "\n",
              "          const docLinkHtml = 'Like what you see? Visit the ' +\n",
              "            '<a target=\"_blank\" href=https://colab.research.google.com/notebooks/data_table.ipynb>data table notebook</a>'\n",
              "            + ' to learn more about interactive tables.';\n",
              "          element.innerHTML = '';\n",
              "          dataTable['output_type'] = 'display_data';\n",
              "          await google.colab.output.renderOutput(dataTable, element);\n",
              "          const docLink = document.createElement('div');\n",
              "          docLink.innerHTML = docLinkHtml;\n",
              "          element.appendChild(docLink);\n",
              "        }\n",
              "      </script>\n",
              "    </div>\n",
              "  </div>\n",
              "  "
            ]
          },
          "metadata": {},
          "execution_count": 5
        }
      ],
      "source": [
        "df"
      ]
    },
    {
      "cell_type": "code",
      "source": [
        "max_length = 10"
      ],
      "metadata": {
        "id": "y_rf-PXjYpAv"
      },
      "execution_count": 6,
      "outputs": []
    },
    {
      "cell_type": "code",
      "execution_count": 7,
      "metadata": {
        "id": "sTa8D0WfT1gf"
      },
      "outputs": [],
      "source": [
        "\n",
        "g_text_tokenizer = Tokenizer()\n",
        "g_text_tokenizer.fit_on_texts(train_x)\n",
        "g_text_word_index = g_text_tokenizer.word_index\n",
        "train_sequences = g_text_tokenizer.texts_to_sequences(train_x)\n",
        "train_padded = pad_sequences(train_sequences, maxlen = max_length, padding='post')\n",
        "\n",
        "\n",
        "text_tokenizer = Tokenizer()\n",
        "text_tokenizer.fit_on_texts(train_y)\n",
        "text_word_index = text_tokenizer.word_index\n",
        "test_sequences = text_tokenizer.texts_to_sequences(train_y)\n",
        "test_padded = pad_sequences(test_sequences, maxlen = max_length, padding='post')\n",
        "\n",
        "\n",
        "\n"
      ]
    },
    {
      "cell_type": "code",
      "source": [
        "train_padded.shape"
      ],
      "metadata": {
        "colab": {
          "base_uri": "https://localhost:8080/"
        },
        "id": "WfXV4N8aZ30I",
        "outputId": "b22502b5-8b8f-4be0-d129-5d45406c010b"
      },
      "execution_count": 8,
      "outputs": [
        {
          "output_type": "execute_result",
          "data": {
            "text/plain": [
              "(617987, 10)"
            ]
          },
          "metadata": {},
          "execution_count": 8
        }
      ]
    },
    {
      "cell_type": "code",
      "source": [
        "test_padded.shape"
      ],
      "metadata": {
        "colab": {
          "base_uri": "https://localhost:8080/"
        },
        "id": "y2j0-pDcZ6Us",
        "outputId": "6309fc91-c3b5-4040-a935-53ddf869d6ef"
      },
      "execution_count": 9,
      "outputs": [
        {
          "output_type": "execute_result",
          "data": {
            "text/plain": [
              "(617987, 10)"
            ]
          },
          "metadata": {},
          "execution_count": 9
        }
      ]
    },
    {
      "cell_type": "code",
      "source": [
        "val_train_sequences = g_text_tokenizer.texts_to_sequences(val_x)\n",
        "val_train_padded = pad_sequences(val_train_sequences, maxlen = max_length, padding='post')\n",
        "\n",
        "val_test_sequences = text_tokenizer.texts_to_sequences(val_y)\n",
        "val_test_padded = pad_sequences(val_test_sequences, maxlen = max_length, padding='post')"
      ],
      "metadata": {
        "id": "gi7scTZLY5vI"
      },
      "execution_count": 10,
      "outputs": []
    },
    {
      "cell_type": "code",
      "execution_count": 11,
      "metadata": {
        "colab": {
          "base_uri": "https://localhost:8080/"
        },
        "id": "npA5T2pATdEK",
        "outputId": "5bb8a0af-ffba-431e-e51f-b20904fa0e6d"
      },
      "outputs": [
        {
          "output_type": "stream",
          "name": "stdout",
          "text": [
            "862683 84191\n"
          ]
        }
      ],
      "source": [
        "g_vocab_size = len(g_text_word_index)+1\n",
        "vocab_size = len(text_word_index)+1\n",
        "print(g_vocab_size, vocab_size)"
      ]
    },
    {
      "cell_type": "code",
      "execution_count": 12,
      "metadata": {
        "id": "_XpYdlglhS4Z"
      },
      "outputs": [],
      "source": [
        "model = tf.keras.Sequential([\n",
        "    tf.keras.layers.Embedding(input_dim=g_vocab_size, output_dim=512, input_length=max_length),\n",
        "    tf.keras.layers.Bidirectional(tf.keras.layers.LSTM(256, return_sequences=True)),\n",
        "    tf.keras.layers.Dropout(0.5),\n",
        "    tf.keras.layers.Dense(512, activation='relu'),\n",
        "    tf.keras.layers.Bidirectional(tf.keras.layers.LSTM(256, return_sequences=True)),\n",
        "    tf.keras.layers.Dropout(0.5),\n",
        "    tf.keras.layers.Dense(vocab_size,activation='softmax')\n",
        "])\n",
        "# learning_rate = 2\n",
        "optimizer = tf.keras.optimizers.RMSprop()\n",
        "optimizer = tf.keras.mixed_precision.LossScaleOptimizer(optimizer)\n",
        "model.compile(loss=\"sparse_categorical_crossentropy\",\n",
        "              optimizer=optimizer,\n",
        "              metrics=['accuracy'])"
      ]
    },
    {
      "cell_type": "code",
      "execution_count": 13,
      "metadata": {
        "colab": {
          "base_uri": "https://localhost:8080/"
        },
        "id": "BIDyD7DqT-_c",
        "outputId": "3133777a-9c70-486a-91fe-5589cf42b51d"
      },
      "outputs": [
        {
          "output_type": "stream",
          "name": "stdout",
          "text": [
            "Model: \"sequential\"\n",
            "____________________________________________________________________________\n",
            " Layer (type)                Output Shape              Param #   Trainable  \n",
            "============================================================================\n",
            " embedding (Embedding)       (None, 10, 512)           44169369  Y          \n",
            "                                                       6                    \n",
            "                                                                            \n",
            " bidirectional (Bidirectiona  (None, 10, 512)          1574912   Y          \n",
            " l)                                                                         \n",
            "                                                                            \n",
            " dropout (Dropout)           (None, 10, 512)           0         Y          \n",
            "                                                                            \n",
            " dense (Dense)               (None, 10, 512)           262656    Y          \n",
            "                                                                            \n",
            " bidirectional_1 (Bidirectio  (None, 10, 512)          1574912   Y          \n",
            " nal)                                                                       \n",
            "                                                                            \n",
            " dropout_1 (Dropout)         (None, 10, 512)           0         Y          \n",
            "                                                                            \n",
            " dense_1 (Dense)             (None, 10, 84191)         43189983  Y          \n",
            "                                                                            \n",
            "============================================================================\n",
            "Total params: 488,296,159\n",
            "Trainable params: 488,296,159\n",
            "Non-trainable params: 0\n",
            "____________________________________________________________________________\n"
          ]
        }
      ],
      "source": [
        "model.summary(expand_nested=True,\n",
        "    show_trainable=True)"
      ]
    },
    {
      "cell_type": "code",
      "execution_count": 14,
      "metadata": {
        "id": "eVK8H4m5dqdD"
      },
      "outputs": [],
      "source": [
        "temp_test_padded = test_padded.reshape((test_padded.shape[0], test_padded.shape[1],1))\n",
        "# temp_train_padded = train_padded.reshape((train_padded.shape[0], train_padded.shape[1],1))\n"
      ]
    },
    {
      "cell_type": "code",
      "execution_count": 15,
      "metadata": {
        "colab": {
          "base_uri": "https://localhost:8080/"
        },
        "id": "Lz1009MuUGX-",
        "outputId": "5ef1834c-52c8-466b-b226-1f443a3cfbfb"
      },
      "outputs": [
        {
          "output_type": "stream",
          "name": "stdout",
          "text": [
            "Epoch 1/20\n"
          ]
        },
        {
          "output_type": "stream",
          "name": "stderr",
          "text": [
            "/usr/local/lib/python3.7/dist-packages/tensorflow/python/framework/indexed_slices.py:439: UserWarning: Converting sparse IndexedSlices to a dense Tensor with 441693696 elements. This may consume a large amount of memory.\n",
            "  num_elements)\n"
          ]
        },
        {
          "output_type": "stream",
          "name": "stdout",
          "text": [
            "1208/1208 [==============================] - 994s 817ms/step - loss: 4.0537 - accuracy: 0.4909 - val_loss: 6.1665 - val_accuracy: 0.5501\n",
            "Epoch 2/20\n",
            "1208/1208 [==============================] - 994s 823ms/step - loss: 2.5153 - accuracy: 0.6905 - val_loss: 6.7667 - val_accuracy: 0.6035\n",
            "Epoch 3/20\n",
            "1208/1208 [==============================] - 997s 825ms/step - loss: 2.0530 - accuracy: 0.7449 - val_loss: 7.7668 - val_accuracy: 0.6251\n",
            "Epoch 4/20\n",
            "1208/1208 [==============================] - 996s 824ms/step - loss: 1.7863 - accuracy: 0.7745 - val_loss: 7.9537 - val_accuracy: 0.6355\n",
            "Epoch 5/20\n",
            "1208/1208 [==============================] - 995s 824ms/step - loss: 1.5867 - accuracy: 0.7967 - val_loss: 9.0317 - val_accuracy: 0.6434\n",
            "Epoch 6/20\n",
            "1208/1208 [==============================] - 994s 823ms/step - loss: 1.4242 - accuracy: 0.8152 - val_loss: 9.3846 - val_accuracy: 0.6492\n",
            "Epoch 7/20\n",
            "1208/1208 [==============================] - 995s 823ms/step - loss: 1.2993 - accuracy: 0.8303 - val_loss: 9.4667 - val_accuracy: 0.6541\n",
            "Epoch 8/20\n",
            "1208/1208 [==============================] - 996s 824ms/step - loss: 1.1940 - accuracy: 0.8433 - val_loss: 10.0320 - val_accuracy: 0.6572\n",
            "Epoch 9/20\n",
            "1208/1208 [==============================] - 996s 825ms/step - loss: 1.1069 - accuracy: 0.8545 - val_loss: 9.7942 - val_accuracy: 0.6599\n",
            "Epoch 10/20\n",
            "1208/1208 [==============================] - 995s 824ms/step - loss: 1.0369 - accuracy: 0.8639 - val_loss: 10.2933 - val_accuracy: 0.6622\n",
            "Epoch 11/20\n",
            "1208/1208 [==============================] - 994s 823ms/step - loss: 0.9816 - accuracy: 0.8717 - val_loss: 10.5042 - val_accuracy: 0.6644\n",
            "Epoch 12/20\n",
            "1208/1208 [==============================] - 994s 823ms/step - loss: 0.9372 - accuracy: 0.8793 - val_loss: 10.9286 - val_accuracy: 0.6666\n",
            "Epoch 13/20\n",
            "1208/1208 [==============================] - 994s 823ms/step - loss: 0.8870 - accuracy: 0.8862 - val_loss: 10.9157 - val_accuracy: 0.6685\n",
            "Epoch 14/20\n",
            "1208/1208 [==============================] - 994s 823ms/step - loss: 0.8311 - accuracy: 0.8935 - val_loss: 11.5125 - val_accuracy: 0.6701\n",
            "Epoch 15/20\n",
            "1208/1208 [==============================] - 994s 823ms/step - loss: 0.7868 - accuracy: 0.8995 - val_loss: 11.0542 - val_accuracy: 0.6718\n",
            "Epoch 16/20\n",
            "1208/1208 [==============================] - 995s 824ms/step - loss: 0.7494 - accuracy: 0.9049 - val_loss: 11.3312 - val_accuracy: 0.6735\n",
            "Epoch 17/20\n",
            "1208/1208 [==============================] - 995s 823ms/step - loss: 0.7186 - accuracy: 0.9097 - val_loss: 11.6393 - val_accuracy: 0.6745\n",
            "Epoch 18/20\n",
            "1208/1208 [==============================] - 995s 824ms/step - loss: 0.6914 - accuracy: 0.9140 - val_loss: 11.3749 - val_accuracy: 0.6753\n",
            "Epoch 19/20\n",
            "1208/1208 [==============================] - 995s 824ms/step - loss: 0.6681 - accuracy: 0.9176 - val_loss: 11.5168 - val_accuracy: 0.6762\n",
            "Epoch 20/20\n",
            "1208/1208 [==============================] - 995s 824ms/step - loss: 0.6478 - accuracy: 0.9209 - val_loss: 11.3121 - val_accuracy: 0.6767\n"
          ]
        },
        {
          "output_type": "execute_result",
          "data": {
            "text/plain": [
              "<keras.callbacks.History at 0x7fcff125d5d0>"
            ]
          },
          "metadata": {},
          "execution_count": 15
        }
      ],
      "source": [
        "epoch = 20\n",
        "model.fit(train_padded, test_padded, batch_size=512, epochs=epoch, validation_data=(val_train_padded,val_test_padded))"
      ]
    },
    {
      "cell_type": "code",
      "execution_count": 51,
      "metadata": {
        "colab": {
          "base_uri": "https://localhost:8080/"
        },
        "id": "ADAyQCdl7mmw",
        "outputId": "f39e35f0-9bbd-4b90-9de5-10b20f59a6ad"
      },
      "outputs": [
        {
          "output_type": "stream",
          "name": "stderr",
          "text": [
            "WARNING:absl:Found untraced functions such as lstm_cell_1_layer_call_fn, lstm_cell_1_layer_call_and_return_conditional_losses, lstm_cell_2_layer_call_fn, lstm_cell_2_layer_call_and_return_conditional_losses, lstm_cell_4_layer_call_fn while saving (showing 5 of 8). These functions will not be directly callable after loading.\n"
          ]
        },
        {
          "output_type": "stream",
          "name": "stdout",
          "text": [
            "INFO:tensorflow:Assets written to: /content/drive/MyDrive/Colab_Notebooks/20_epoch_accuracy_92_bidirectional_lstm_rnn_2dropout_1dense/assets\n"
          ]
        },
        {
          "output_type": "stream",
          "name": "stderr",
          "text": [
            "INFO:tensorflow:Assets written to: /content/drive/MyDrive/Colab_Notebooks/20_epoch_accuracy_92_bidirectional_lstm_rnn_2dropout_1dense/assets\n",
            "WARNING:absl:<keras.layers.recurrent.LSTMCell object at 0x7fcff0951110> has the same name 'LSTMCell' as a built-in Keras object. Consider renaming <class 'keras.layers.recurrent.LSTMCell'> to avoid naming conflicts when loading with `tf.keras.models.load_model`. If renaming is not possible, pass the object in the `custom_objects` parameter of the load function.\n",
            "WARNING:absl:<keras.layers.recurrent.LSTMCell object at 0x7fcff0951c90> has the same name 'LSTMCell' as a built-in Keras object. Consider renaming <class 'keras.layers.recurrent.LSTMCell'> to avoid naming conflicts when loading with `tf.keras.models.load_model`. If renaming is not possible, pass the object in the `custom_objects` parameter of the load function.\n",
            "WARNING:absl:<keras.layers.recurrent.LSTMCell object at 0x7fcfe019a1d0> has the same name 'LSTMCell' as a built-in Keras object. Consider renaming <class 'keras.layers.recurrent.LSTMCell'> to avoid naming conflicts when loading with `tf.keras.models.load_model`. If renaming is not possible, pass the object in the `custom_objects` parameter of the load function.\n",
            "WARNING:absl:<keras.layers.recurrent.LSTMCell object at 0x7fcfe01a3090> has the same name 'LSTMCell' as a built-in Keras object. Consider renaming <class 'keras.layers.recurrent.LSTMCell'> to avoid naming conflicts when loading with `tf.keras.models.load_model`. If renaming is not possible, pass the object in the `custom_objects` parameter of the load function.\n"
          ]
        }
      ],
      "source": [
        "model.save('/content/drive/MyDrive/Colab_Notebooks/20_epoch_accuracy_92_bidirectional_lstm_rnn_2dropout_1dense')"
      ]
    },
    {
      "cell_type": "code",
      "execution_count": 41,
      "metadata": {
        "id": "KpGWAIiQUe0_"
      },
      "outputs": [],
      "source": [
        "\n",
        "test_sample = test_x[:10]\n",
        "\n",
        "test_sample = g_text_tokenizer.texts_to_sequences(test_sample)\n",
        "test_sample = pad_sequences(test_sample, maxlen=max_length, padding='post')\n"
      ]
    },
    {
      "cell_type": "code",
      "execution_count": 42,
      "metadata": {
        "colab": {
          "base_uri": "https://localhost:8080/"
        },
        "id": "o48mfKmhsDv0",
        "outputId": "e11febd1-aa6f-4014-e357-5f78ec9077f1"
      },
      "outputs": [
        {
          "output_type": "execute_result",
          "data": {
            "text/plain": [
              "553828       asx slip bank wesigvh market bhu6dget ucpdajte\n",
              "774779                humph4yq nwlcolm not so in the mudcle\n",
              "60183                      sin slows indias psn for victory\n",
              "211674            aussie briwxoe wins indycar aeasoh opener\n",
              "274383                 barnett fum8nb ive5 rio bhp ore fesl\n",
              "577753       wranadn nun sentenced to 30 eyasr for egnocdie\n",
              "188249       mcfadden makes cyangea in first wqdriors equax\n",
              "912396                 tsamanain airbnb regulaotin concerns\n",
              "229399    sxtholic djurch has discrimination case to ajswet\n",
              "784557             every orda adeth in australia since 1899\n",
              "Name: augmented_text, dtype: object"
            ]
          },
          "metadata": {},
          "execution_count": 42
        }
      ],
      "source": [
        "test_x[:10]"
      ]
    },
    {
      "cell_type": "code",
      "source": [
        "test_y[:10]"
      ],
      "metadata": {
        "colab": {
          "base_uri": "https://localhost:8080/"
        },
        "id": "pXV6WChVsXWI",
        "outputId": "ea131fda-5eb6-4b6f-d13a-9f43cd661bfa"
      },
      "execution_count": 43,
      "outputs": [
        {
          "output_type": "execute_result",
          "data": {
            "text/plain": [
              "553828             asx slip bank weigh market budget update\n",
              "774779                humphrys malcolm not so in the middle\n",
              "60183                    rain slows indias push for victory\n",
              "211674            aussie briscoe wins indycar season opener\n",
              "274383                 barnett fuming over rio bhp ore deal\n",
              "577753       rwandan nun sentenced to 30 years for genocide\n",
              "188249       mcfadden makes changes in first warriors squad\n",
              "912396                 tasmanian airbnb regulation concerns\n",
              "229399    catholic church has discrimination case to answer\n",
              "784557             every road death in australia since 1989\n",
              "Name: text, dtype: object"
            ]
          },
          "metadata": {},
          "execution_count": 43
        }
      ]
    },
    {
      "cell_type": "code",
      "execution_count": 44,
      "metadata": {
        "colab": {
          "base_uri": "https://localhost:8080/"
        },
        "id": "kvPsR8hHEQq9",
        "outputId": "e9691a29-2f4d-4696-e659-777a3ecadfc7"
      },
      "outputs": [
        {
          "output_type": "execute_result",
          "data": {
            "text/plain": [
              "(10, 10, 84191)"
            ]
          },
          "metadata": {},
          "execution_count": 44
        }
      ],
      "source": [
        "pre = model.predict(test_sample)\n",
        "pre.shape"
      ]
    },
    {
      "cell_type": "code",
      "execution_count": 45,
      "metadata": {
        "id": "IGZ5AzDTcDHa"
      },
      "outputs": [],
      "source": [
        "def deTokenize(logits):\n",
        "    index_to_words = {id: word for word, id in text_tokenizer.word_index.items()}\n",
        "    index_to_words[0] = ''\n",
        "    pre_index = np.argmax(logits, 1)\n",
        "    return ' '.join(index_to_words[prediction] for prediction in pre_index)"
      ]
    },
    {
      "cell_type": "code",
      "execution_count": 50,
      "metadata": {
        "colab": {
          "base_uri": "https://localhost:8080/"
        },
        "id": "Za9Vd_dEED-H",
        "outputId": "500c7b69-a0f6-4a18-ca55-f03ffacfd3f3"
      },
      "outputs": [
        {
          "output_type": "stream",
          "name": "stdout",
          "text": [
            "Predicted:  nun sentenced to 30 years for genocide   \n"
          ]
        }
      ],
      "source": [
        "# print(\"Iutput:    \",test_x[2])\n",
        "# print(\"Actual:    \",test_y[2])\n",
        "print(\"Predicted: \",deTokenize(pre[5]))"
      ]
    }
  ],
  "metadata": {
    "accelerator": "GPU",
    "colab": {
      "collapsed_sections": [],
      "name": "epoch_20_accuracy_95_project.ipynb",
      "provenance": []
    },
    "kernelspec": {
      "display_name": "Python 3",
      "name": "python3"
    },
    "language_info": {
      "name": "python"
    }
  },
  "nbformat": 4,
  "nbformat_minor": 0
}