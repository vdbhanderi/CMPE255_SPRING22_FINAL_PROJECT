{
  "cells": [
    {
      "cell_type": "code",
      "execution_count": 1,
      "metadata": {
        "colab": {
          "base_uri": "https://localhost:8080/"
        },
        "id": "2NEWAoUNP8xH",
        "outputId": "5e3e1b3a-ed8a-4338-b9cc-c94872b1890e"
      },
      "outputs": [
        {
          "name": "stdout",
          "output_type": "stream",
          "text": [
            "Drive already mounted at /content/drive/; to attempt to forcibly remount, call drive.mount(\"/content/drive/\", force_remount=True).\n"
          ]
        }
      ],
      "source": [
        "import tensorflow as tf\n",
        "import numpy as np\n",
        "import pandas as pd\n",
        "from keras.preprocessing.sequence import pad_sequences\n",
        "from keras.preprocessing.text import Tokenizer\n",
        "import re\n",
        "import os\n",
        "tf.__version__\n",
        "from google.colab import drive\n",
        "drive.mount('/content/drive/')"
      ]
    },
    {
      "cell_type": "code",
      "execution_count": 3,
      "metadata": {
        "id": "s5oWgBqmTp7p"
      },
      "outputs": [],
      "source": [
        "# def clean_data(text):\n",
        "#     text = text.lower()\n",
        "#     text = re.sub(r\"[-=+*\\\"#@!$%^&()`<>\\[\\]]\",\"\",text)\n",
        "#     text = re.sub(r\"i'm\",\"i am\",text)\n",
        "#     text = re.sub(r\"he's\",\"he is\",text)\n",
        "#     text = re.sub(r\"she's\",\"she is\",text)\n",
        "#     text = re.sub(r\"it's\",\"it is\",text)\n",
        "#     text = re.sub(r\"they're\",\"they are\",text)\n",
        "#     text = re.sub(r\"there're\",\"there are\",text)\n",
        "#     text = re.sub(r\"there's\",\"there is\",text)\n",
        "#     text = re.sub(r\"how're\",\"how are\",text)\n",
        "#     text = re.sub(r\"what're\",\"what are\",text)\n",
        "#     text = re.sub(r\"where're\",\"where \",text)\n",
        "#     text = re.sub(r\"who're\",\"who are\",text)\n",
        "#     text = re.sub(r\"that're\",\"that are\",text)\n",
        "#     text = re.sub(r\"when're\",\"when are\",text)\n",
        "#     text = re.sub(r\"how's\",\"how is\",text)\n",
        "#     text = re.sub(r\"what's\",\"what is\",text)\n",
        "#     text = re.sub(r\"where's\",\"where is\",text)\n",
        "#     text = re.sub(r\"who's\",\"who is\",text)\n",
        "#     text = re.sub(r\"that's\",\"that is\",text)\n",
        "#     text = re.sub(r\"when's\",\"when is\",text)\n",
        "#     text = re.sub(r\"won't\",\"would not\",text)\n",
        "#     text = re.sub(r\"nt't\",\"can not\",text)\n",
        "#     text = re.sub(r\"\\'bout'\",\"about\",text)\n",
        "#     text = re.sub(r\"\\'till'\",\"untill\",text)\n",
        "#     text = re.sub(r\"\\'ll\",\"will\",text)\n",
        "#     text = re.sub(r\"\\'ve\",\"have\",text)\n",
        "#     text = re.sub(r\"\\'re\",\"are\",text)\n",
        "#     text = re.sub(r\"\\'d\",\"would\",text)\n",
        "#     text = re.sub(r\"\\.\",\" \",text)\n",
        "#     text = re.sub(r\"\\,\",\" \",text)\n",
        "#     text = re.sub(r\"\\!\",\" \",text)\n",
        "#     text = re.sub(r\"\\?\",\" \",text)\n",
        "#     text = re.sub(r\"\\;\",\" \",text)\n",
        "#     text = re.sub(r\"\\:\",\" \",text)\n",
        "#     return text\n",
        "\n",
        "    \n",
        "# df['text'] = df['text'].apply(clean_data)\n",
        "# df['augmented_text'] = df['augmented_text'].apply(clean_data)\n",
        "# df_val['text'] = df['text'].apply(clean_data)\n",
        "# df_val['augmented_text'] = df['augmented_text'].apply(clean_data)\n",
        "\n"
      ]
    },
    {
      "cell_type": "code",
      "execution_count": 4,
      "metadata": {
        "id": "9Rr916ahpnUm"
      },
      "outputs": [],
      "source": [
        "# data is being preprocessed, use it to save time for training\n",
        "data = pd.read_csv('/content/drive/MyDrive/Colab_Notebooks/Copy of data.csv')\n",
        "\n"
      ]
    },
    {
      "cell_type": "code",
      "execution_count": 5,
      "metadata": {
        "id": "p8yRxvmbUQNu"
      },
      "outputs": [],
      "source": [
        "max_length = 8"
      ]
    },
    {
      "cell_type": "code",
      "execution_count": 6,
      "metadata": {
        "id": "oFwaj7r9rIZP"
      },
      "outputs": [],
      "source": [
        "\n",
        "df = data[data['text'].apply(lambda x: len(x.split(\" \"))< max_length +1)]"
      ]
    },
    {
      "cell_type": "code",
      "execution_count": 8,
      "metadata": {
        "id": "X4xURgshSrpT"
      },
      "outputs": [],
      "source": [
        "\n",
        "train_df = df['augmented_text']\n",
        "test_df = df['text']\n",
        "from sklearn.model_selection import train_test_split\n",
        "train_x, test_x, train_y, test_y = train_test_split(train_df, test_df, test_size=0.2, random_state=24)\n",
        "val_x, test_x,val_y, test_y = train_test_split(test_x, test_y, test_size = 0.5, random_state=24)\n"
      ]
    },
    {
      "cell_type": "code",
      "execution_count": 9,
      "metadata": {
        "colab": {
          "base_uri": "https://localhost:8080/"
        },
        "id": "IZMTBLH1H-U7",
        "outputId": "5df408f8-597e-4260-8617-0547e820248d"
      },
      "outputs": [
        {
          "data": {
            "text/plain": [
              "402452               elagl fight over alp cmapagin brochure\n",
              "45026                 0sczrs qhoq goes on but no red dar0et\n",
              "658341     solar hokd precibft launched in qbite gum valley\n",
              "207624      apm housing rental eroprt darwin most expenisev\n",
              "917206           us soldier klilde 4 uhtr in abgdhad attack\n",
              "                                ...                        \n",
              "577944                 airoptr sells benefits of new urcfew\n",
              "623630             chxllehge for tasmanias housing inwusfry\n",
              "254890    action group clasrifies menindee nwatecr situa...\n",
              "1081         qarkizy criticises us yustic2 in polsnzki case\n",
              "292316         oppoistoin questions power sattoin viability\n",
              "Name: augmented_text, Length: 611100, dtype: object"
            ]
          },
          "execution_count": 9,
          "metadata": {},
          "output_type": "execute_result"
        }
      ],
      "source": [
        "train_x"
      ]
    },
    {
      "cell_type": "code",
      "execution_count": 10,
      "metadata": {
        "colab": {
          "base_uri": "https://localhost:8080/"
        },
        "id": "inUltHgQ191H",
        "outputId": "88dbc41f-c7d7-4632-9f84-24f63bcfbb8f"
      },
      "outputs": [
        {
          "data": {
            "text/plain": [
              "423286    serial drink xiver allegedly caught drumk drkv...\n",
              "574202    tourism bpry confident of improved faculties a...\n",
              "147188                   btteer to come from norman  odhges\n",
              "802320    reportevr baea5ts ppnolice to witness in backp...\n",
              "151734    uji9n wants rethink on teacher crimijsl record...\n",
              "                                ...                        \n",
              "132413             phoenix expevtee to ta  fight to t bkrdq\n",
              "57286     timothy baker not guklt5 of murveding glwdo mi...\n",
              "396333                a few words with the lcubhosue ledare\n",
              "704777                congo cu rigbleader surrounded kabila\n",
              "301112        ex62nded interview qitg diuy ferguson ap golf\n",
              "Name: augmented_text, Length: 76388, dtype: object"
            ]
          },
          "execution_count": 10,
          "metadata": {},
          "output_type": "execute_result"
        }
      ],
      "source": [
        "val_x"
      ]
    },
    {
      "cell_type": "code",
      "execution_count": 12,
      "metadata": {
        "id": "sTa8D0WfT1gf"
      },
      "outputs": [],
      "source": [
        "\n",
        "g_text_tokenizer = Tokenizer()\n",
        "g_text_tokenizer.fit_on_texts(train_x)\n",
        "g_text_word_index = g_text_tokenizer.word_index\n",
        "train_sequences = g_text_tokenizer.texts_to_sequences(train_x)\n",
        "train_padded = pad_sequences(train_sequences, maxlen = max_length, padding='post')\n",
        "\n",
        "\n",
        "text_tokenizer = Tokenizer()\n",
        "text_tokenizer.fit_on_texts(train_y)\n",
        "text_word_index = text_tokenizer.word_index\n",
        "test_sequences = text_tokenizer.texts_to_sequences(train_y)\n",
        "test_padded = pad_sequences(test_sequences,maxlen = max_length, padding='post')\n",
        "\n",
        "\n",
        "\n"
      ]
    },
    {
      "cell_type": "code",
      "execution_count": 13,
      "metadata": {
        "id": "4PWLtCPyLNVJ"
      },
      "outputs": [],
      "source": [
        "val_train_sequences = g_text_tokenizer.texts_to_sequences(val_x)\n",
        "val_train_padded = pad_sequences(val_train_sequences, maxlen = max_length, padding='post')\n",
        "\n",
        "val_test_sequences = text_tokenizer.texts_to_sequences(val_y)\n",
        "val_test_padded = pad_sequences(val_test_sequences, maxlen = max_length, padding='post')"
      ]
    },
    {
      "cell_type": "code",
      "execution_count": 15,
      "metadata": {
        "colab": {
          "base_uri": "https://localhost:8080/"
        },
        "id": "npA5T2pATdEK",
        "outputId": "9ede4fd0-62dd-4c63-fd10-814e4f33096e"
      },
      "outputs": [
        {
          "name": "stdout",
          "output_type": "stream",
          "text": [
            "844814 79061\n"
          ]
        }
      ],
      "source": [
        "g_vocab_size = len(g_text_word_index)+1\n",
        "vocab_size = len(text_word_index)+1\n",
        "print(g_vocab_size, vocab_size)"
      ]
    },
    {
      "cell_type": "code",
      "execution_count": 17,
      "metadata": {
        "id": "EoIOVmTlT7c5"
      },
      "outputs": [],
      "source": [
        "model = tf.keras.Sequential([\n",
        "    tf.keras.layers.Embedding(input_dim=g_vocab_size, output_dim=128, input_length=max_length, mask_zero=True),\n",
        "    tf.keras.layers.LSTM(128),\n",
        "    tf.keras.layers.RepeatVector(max_length),\n",
        "    tf.keras.layers.LSTM(128,return_sequences=True),\n",
        "    tf.keras.layers.LSTM(128,return_sequences=True),\n",
        "    tf.keras.layers.Dropout(0.5),\n",
        "    tf.keras.layers.BatchNormalization(),\n",
        "    tf.keras.layers.Dense(vocab_size,activation='softmax')\n",
        "])\n",
        "learning_rate = 0.005\n",
        "optimizer = tf.keras.optimizers.RMSprop(learning_rate)\n",
        "optimizer = tf.keras.mixed_precision.LossScaleOptimizer(optimizer)\n",
        "model.compile(loss=\"sparse_categorical_crossentropy\",\n",
        "              optimizer=optimizer,\n",
        "              metrics=['accuracy'])"
      ]
    },
    {
      "cell_type": "code",
      "execution_count": 18,
      "metadata": {
        "colab": {
          "base_uri": "https://localhost:8080/"
        },
        "id": "BIDyD7DqT-_c",
        "outputId": "bad276e8-2ae0-47dd-e540-1613e0a351ce"
      },
      "outputs": [
        {
          "name": "stdout",
          "output_type": "stream",
          "text": [
            "Model: \"sequential\"\n",
            "____________________________________________________________________________\n",
            " Layer (type)                Output Shape              Param #   Trainable  \n",
            "============================================================================\n",
            " embedding (Embedding)       (None, 8, 128)            10813619  Y          \n",
            "                                                       2                    \n",
            "                                                                            \n",
            " lstm (LSTM)                 (None, 128)               131584    Y          \n",
            "                                                                            \n",
            " repeat_vector (RepeatVector  (None, 8, 128)           0         Y          \n",
            " )                                                                          \n",
            "                                                                            \n",
            " lstm_1 (LSTM)               (None, 8, 128)            131584    Y          \n",
            "                                                                            \n",
            " lstm_2 (LSTM)               (None, 8, 128)            131584    Y          \n",
            "                                                                            \n",
            " dropout (Dropout)           (None, 8, 128)            0         Y          \n",
            "                                                                            \n",
            " batch_normalization (BatchN  (None, 8, 128)           512       Y          \n",
            " ormalization)                                                              \n",
            "                                                                            \n",
            " dense (Dense)               (None, 8, 79061)          10198869  Y          \n",
            "                                                                            \n",
            "============================================================================\n",
            "Total params: 118,730,325\n",
            "Trainable params: 118,730,069\n",
            "Non-trainable params: 256\n",
            "____________________________________________________________________________\n"
          ]
        }
      ],
      "source": [
        "model.summary(expand_nested=True,\n",
        "    show_trainable=True)"
      ]
    },
    {
      "cell_type": "code",
      "execution_count": 19,
      "metadata": {
        "colab": {
          "base_uri": "https://localhost:8080/"
        },
        "id": "DuTZ37PK2-mh",
        "outputId": "1dc08729-7a2a-4593-d9e2-023f1baa0ad5"
      },
      "outputs": [
        {
          "data": {
            "text/plain": [
              "(611100, 8)"
            ]
          },
          "execution_count": 19,
          "metadata": {},
          "output_type": "execute_result"
        }
      ],
      "source": [
        "train_padded.shape"
      ]
    },
    {
      "cell_type": "code",
      "execution_count": 20,
      "metadata": {
        "id": "eVK8H4m5dqdD"
      },
      "outputs": [],
      "source": [
        "temp_test_padded = test_padded.reshape((test_padded.shape[0], test_padded.shape[1],1))\n",
        "temp_train_padded = train_padded.reshape((train_padded.shape[0], train_padded.shape[1],1))\n"
      ]
    },
    {
      "cell_type": "code",
      "execution_count": 21,
      "metadata": {
        "colab": {
          "base_uri": "https://localhost:8080/"
        },
        "id": "Lz1009MuUGX-",
        "outputId": "20ac24ee-44c3-4df6-8adf-bf4e1a0863dd"
      },
      "outputs": [
        {
          "name": "stdout",
          "output_type": "stream",
          "text": [
            "Epoch 1/14\n"
          ]
        },
        {
          "name": "stderr",
          "output_type": "stream",
          "text": [
            "/usr/local/lib/python3.7/dist-packages/tensorflow/python/framework/indexed_slices.py:439: UserWarning: Converting sparse IndexedSlices to a dense Tensor with 108136192 elements. This may consume a large amount of memory.\n",
            "  num_elements)\n"
          ]
        },
        {
          "name": "stdout",
          "output_type": "stream",
          "text": [
            "1194/1194 [==============================] - 383s 313ms/step - loss: 5.5646 - accuracy: 0.3287 - val_loss: 6.7114 - val_accuracy: 0.3945\n",
            "Epoch 2/14\n",
            "1194/1194 [==============================] - 371s 311ms/step - loss: 3.5042 - accuracy: 0.5490 - val_loss: 6.8304 - val_accuracy: 0.5176\n",
            "Epoch 3/14\n",
            "1194/1194 [==============================] - 371s 311ms/step - loss: 2.7869 - accuracy: 0.6557 - val_loss: 7.1075 - val_accuracy: 0.5499\n",
            "Epoch 4/14\n",
            "1194/1194 [==============================] - 371s 311ms/step - loss: 2.3859 - accuracy: 0.7051 - val_loss: 7.8377 - val_accuracy: 0.5639\n",
            "Epoch 5/14\n",
            "1194/1194 [==============================] - 371s 311ms/step - loss: 2.1134 - accuracy: 0.7385 - val_loss: 9.0016 - val_accuracy: 0.5733\n",
            "Epoch 6/14\n",
            "1194/1194 [==============================] - 371s 311ms/step - loss: 1.8790 - accuracy: 0.7659 - val_loss: 11.5841 - val_accuracy: 0.5852\n",
            "Epoch 7/14\n",
            "1194/1194 [==============================] - 372s 311ms/step - loss: 1.6835 - accuracy: 0.7898 - val_loss: 13.0568 - val_accuracy: 0.5893\n",
            "Epoch 8/14\n",
            "1194/1194 [==============================] - 372s 311ms/step - loss: 1.5422 - accuracy: 0.8064 - val_loss: 13.5566 - val_accuracy: 0.5948\n",
            "Epoch 9/14\n",
            "1194/1194 [==============================] - 371s 311ms/step - loss: 1.4474 - accuracy: 0.8175 - val_loss: 13.5332 - val_accuracy: 0.5983\n",
            "Epoch 10/14\n",
            "1194/1194 [==============================] - 371s 311ms/step - loss: 1.3832 - accuracy: 0.8245 - val_loss: 13.3367 - val_accuracy: 0.5993\n",
            "Epoch 11/14\n",
            "1194/1194 [==============================] - 371s 311ms/step - loss: 1.3313 - accuracy: 0.8303 - val_loss: 12.1451 - val_accuracy: 0.6015\n",
            "Epoch 12/14\n",
            "1194/1194 [==============================] - 371s 311ms/step - loss: 1.2971 - accuracy: 0.8341 - val_loss: 12.5538 - val_accuracy: 0.6022\n",
            "Epoch 13/14\n",
            "1194/1194 [==============================] - 371s 311ms/step - loss: 1.2641 - accuracy: 0.8379 - val_loss: 12.8586 - val_accuracy: 0.6038\n",
            "Epoch 14/14\n",
            "1194/1194 [==============================] - 371s 311ms/step - loss: 1.2360 - accuracy: 0.8413 - val_loss: 13.1399 - val_accuracy: 0.6046\n"
          ]
        },
        {
          "data": {
            "text/plain": [
              "<keras.callbacks.History at 0x7f56442063d0>"
            ]
          },
          "execution_count": 21,
          "metadata": {},
          "output_type": "execute_result"
        }
      ],
      "source": [
        "epoch = 14\n",
        "his = model.fit(train_padded, test_padded, batch_size=512, epochs=epoch, validation_data = (val_train_padded, val_test_padded))"
      ]
    },
    {
      "cell_type": "code",
      "execution_count": 34,
      "metadata": {
        "colab": {
          "base_uri": "https://localhost:8080/"
        },
        "id": "ADAyQCdl7mmw",
        "outputId": "13e0b283-ed9a-41b3-929a-efe0e4261e02"
      },
      "outputs": [
        {
          "name": "stderr",
          "output_type": "stream",
          "text": [
            "WARNING:absl:Found untraced functions such as lstm_cell_layer_call_fn, lstm_cell_layer_call_and_return_conditional_losses, lstm_cell_1_layer_call_fn, lstm_cell_1_layer_call_and_return_conditional_losses, lstm_cell_2_layer_call_fn while saving (showing 5 of 6). These functions will not be directly callable after loading.\n"
          ]
        },
        {
          "name": "stdout",
          "output_type": "stream",
          "text": [
            "INFO:tensorflow:Assets written to: /content/drive/MyDrive/Colab_Notebooks/accuracy_84_3lstm_rnn_8inputlength/assets\n"
          ]
        },
        {
          "name": "stderr",
          "output_type": "stream",
          "text": [
            "INFO:tensorflow:Assets written to: /content/drive/MyDrive/Colab_Notebooks/accuracy_84_3lstm_rnn_8inputlength/assets\n",
            "WARNING:absl:<keras.layers.recurrent.LSTMCell object at 0x7f56c2791f50> has the same name 'LSTMCell' as a built-in Keras object. Consider renaming <class 'keras.layers.recurrent.LSTMCell'> to avoid naming conflicts when loading with `tf.keras.models.load_model`. If renaming is not possible, pass the object in the `custom_objects` parameter of the load function.\n",
            "WARNING:absl:<keras.layers.recurrent.LSTMCell object at 0x7f56c1edf110> has the same name 'LSTMCell' as a built-in Keras object. Consider renaming <class 'keras.layers.recurrent.LSTMCell'> to avoid naming conflicts when loading with `tf.keras.models.load_model`. If renaming is not possible, pass the object in the `custom_objects` parameter of the load function.\n",
            "WARNING:absl:<keras.layers.recurrent.LSTMCell object at 0x7f56c1edfd10> has the same name 'LSTMCell' as a built-in Keras object. Consider renaming <class 'keras.layers.recurrent.LSTMCell'> to avoid naming conflicts when loading with `tf.keras.models.load_model`. If renaming is not possible, pass the object in the `custom_objects` parameter of the load function.\n"
          ]
        }
      ],
      "source": [
        "# model.save('/content/drive/MyDrive/Colab_Notebooks/accuracy_84_3lstm_rnn_8inputlength')"
      ]
    },
    {
      "cell_type": "code",
      "execution_count": null,
      "metadata": {
        "id": "SVa9_iLs5njq"
      },
      "outputs": [],
      "source": [
        "import matplotlib.pyplot as plt\n",
        "plt.plot(his.history['loss'])\n",
        "plt.plot(his.history['val_loss'])\n",
        "plt.legend(['train','validation'])\n",
        "plt.show()"
      ]
    },
    {
      "cell_type": "code",
      "execution_count": 35,
      "metadata": {
        "id": "KpGWAIiQUe0_"
      },
      "outputs": [],
      "source": [
        "\n",
        "test_sample = test_x.iloc[:10]\n",
        "test_sample = g_text_tokenizer.texts_to_sequences(test_sample)\n",
        "test_sample = pad_sequences(test_sample, maxlen=max_length, padding='post')"
      ]
    },
    {
      "cell_type": "code",
      "execution_count": 24,
      "metadata": {
        "colab": {
          "base_uri": "https://localhost:8080/"
        },
        "id": "phthuwn2sMov",
        "outputId": "16de048a-c16b-4c65-c7e9-813ca8b15894"
      },
      "outputs": [
        {
          "data": {
            "text/plain": [
              "(2, 8)"
            ]
          },
          "execution_count": 24,
          "metadata": {},
          "output_type": "execute_result"
        }
      ],
      "source": [
        "test_sample.shape"
      ]
    },
    {
      "cell_type": "code",
      "execution_count": 25,
      "metadata": {
        "colab": {
          "base_uri": "https://localhost:8080/"
        },
        "id": "wUHeCyCM02he",
        "outputId": "7ca59af7-2a22-49d4-c183-e77a6aba6a88"
      },
      "outputs": [
        {
          "data": {
            "text/plain": [
              "810765    kroena war vetrenas lay wrethas at war memorial\n",
              "647694           clmiaet change still on the radar survey\n",
              "Name: augmented_text, dtype: object"
            ]
          },
          "execution_count": 25,
          "metadata": {},
          "output_type": "execute_result"
        }
      ],
      "source": [
        "test_x.iloc[:2]"
      ]
    },
    {
      "cell_type": "code",
      "execution_count": 26,
      "metadata": {
        "colab": {
          "base_uri": "https://localhost:8080/"
        },
        "id": "o48mfKmhsDv0",
        "outputId": "10f027cd-64f4-422b-9006-48148ebf9443"
      },
      "outputs": [
        {
          "data": {
            "text/plain": [
              "810765    korean war veterans lay wreaths at war memorial\n",
              "647694           climate change still on the radar survey\n",
              "Name: text, dtype: object"
            ]
          },
          "execution_count": 26,
          "metadata": {},
          "output_type": "execute_result"
        }
      ],
      "source": [
        "test_y.iloc[:2]"
      ]
    },
    {
      "cell_type": "code",
      "execution_count": 36,
      "metadata": {
        "colab": {
          "base_uri": "https://localhost:8080/"
        },
        "id": "kvPsR8hHEQq9",
        "outputId": "927e9f2c-7b3b-4ebd-ce89-2bfc338b5287"
      },
      "outputs": [
        {
          "data": {
            "text/plain": [
              "(10, 8, 79061)"
            ]
          },
          "execution_count": 36,
          "metadata": {},
          "output_type": "execute_result"
        }
      ],
      "source": [
        "pre = model.predict(test_sample)\n",
        "pre.shape"
      ]
    },
    {
      "cell_type": "code",
      "execution_count": 42,
      "metadata": {
        "colab": {
          "base_uri": "https://localhost:8080/"
        },
        "id": "XdiWQZ5o4ie7",
        "outputId": "5c29e91b-e7db-49a4-c6f0-6df6b7d3ff24"
      },
      "outputs": [
        {
          "data": {
            "text/plain": [
              "array([[3.0370647e-11, 9.9192306e-08, 1.5794976e-09, ..., 1.0274919e-11,\n",
              "        9.5638419e-12, 1.6759474e-11],\n",
              "       [2.0466103e-18, 6.9998867e-19, 5.4914064e-18, ..., 4.2240773e-20,\n",
              "        3.9531659e-20, 2.0152629e-20],\n",
              "       [2.4330707e-10, 7.1795951e-09, 1.5694761e-11, ..., 2.3098025e-13,\n",
              "        1.8593799e-13, 1.1228942e-13],\n",
              "       ...,\n",
              "       [3.6076637e-16, 4.7104529e-16, 3.4065063e-16, ..., 1.3761941e-18,\n",
              "        1.3570927e-18, 4.6012402e-19],\n",
              "       [2.2333469e-16, 1.2614383e-19, 1.9610285e-17, ..., 7.9882277e-23,\n",
              "        1.2472492e-22, 2.0075050e-22],\n",
              "       [1.0000000e+00, 2.6886609e-32, 1.6186549e-27, ..., 1.1413105e-34,\n",
              "        9.2468467e-35, 1.7932336e-34]], dtype=float32)"
            ]
          },
          "execution_count": 42,
          "metadata": {},
          "output_type": "execute_result"
        }
      ],
      "source": [
        "pre[0]"
      ]
    },
    {
      "cell_type": "code",
      "execution_count": 28,
      "metadata": {
        "colab": {
          "base_uri": "https://localhost:8080/"
        },
        "id": "LCXcto7u1iTa",
        "outputId": "210bcd0b-b655-4277-99e5-6b95c579ac6a"
      },
      "outputs": [
        {
          "data": {
            "text/plain": [
              "array([1295,  245, 1658, 3768,   11,  245,  881,    0])"
            ]
          },
          "execution_count": 28,
          "metadata": {},
          "output_type": "execute_result"
        }
      ],
      "source": [
        "np.argmax(pre[0],1)"
      ]
    },
    {
      "cell_type": "code",
      "execution_count": 29,
      "metadata": {
        "id": "IGZ5AzDTcDHa"
      },
      "outputs": [],
      "source": [
        "def deTokenize(logits):\n",
        "    index_to_words = {id: word for word, id in text_tokenizer.word_index.items()}\n",
        "    index_to_words[0] = ''\n",
        "    pre_index = np.argmax(logits, 1)\n",
        "    return ' '.join(index_to_words[prediction] for prediction in pre_index)"
      ]
    },
    {
      "cell_type": "code",
      "execution_count": 47,
      "metadata": {
        "colab": {
          "base_uri": "https://localhost:8080/"
        },
        "id": "T-6vwxhK56Uw",
        "outputId": "aebfc127-49cf-408f-9cf1-3c3647c1a26e"
      },
      "outputs": [
        {
          "name": "stdout",
          "output_type": "stream",
          "text": [
            "Iutput:     clmiaet change still on the radar survey\n",
            "Actual:     climate change still on the radar survey\n",
            "Predicted:  climate change still on the radar survey \n"
          ]
        }
      ],
      "source": [
        "print(\"Iutput:    \",test_x.iloc[1])\n",
        "print(\"Actual:    \",test_y.iloc[1])\n",
        "print(\"Predicted: \",deTokenize(pre[1]))"
      ]
    },
    {
      "cell_type": "code",
      "execution_count": 43,
      "metadata": {
        "id": "JFc6ws8H2MpN"
      },
      "outputs": [],
      "source": [
        "predict = []\n",
        "for i in range(10):\n",
        "  predict.append(deTokenize(pre[i]))\n",
        "\n"
      ]
    },
    {
      "cell_type": "code",
      "execution_count": 44,
      "metadata": {
        "colab": {
          "base_uri": "https://localhost:8080/"
        },
        "id": "twFY9OQb3I6p",
        "outputId": "eb566e53-dfe9-4bbf-9332-3b0612e5fee8"
      },
      "outputs": [
        {
          "data": {
            "text/plain": [
              "['korean war veterans lay at war memorial ',\n",
              " 'climate change still on the radar survey ',\n",
              " 'form populations threatens naplan test potentially union says',\n",
              " 'bargaining risk tasmania processor    ',\n",
              " 'rhino charges promoted family at australia zoo ',\n",
              " 'man wins retrial over sex   ',\n",
              " 'health service mental health    ',\n",
              " '11 arrested travelling to 1000   ',\n",
              " 'premier attacks opposition over foi   ',\n",
              " 'cowboys coach courage nrl fine   ']"
            ]
          },
          "execution_count": 44,
          "metadata": {},
          "output_type": "execute_result"
        }
      ],
      "source": [
        "predict"
      ]
    },
    {
      "cell_type": "code",
      "execution_count": 45,
      "metadata": {
        "id": "Q_fA4jdz4ycy"
      },
      "outputs": [],
      "source": [
        "eva = pd.DataFrame({'input': test_x.iloc[:10], 'output': test_y.iloc[:10], 'predict':predict})"
      ]
    },
    {
      "cell_type": "code",
      "execution_count": 46,
      "metadata": {
        "colab": {
          "base_uri": "https://localhost:8080/",
          "height": 324
        },
        "id": "tlmsq58U5GA7",
        "outputId": "40a9fcf2-e246-43b6-dfa7-cbf0c57e5436"
      },
      "outputs": [
        {
          "data": {
            "text/html": [
              "\n",
              "  <div id=\"df-ab888ade-9e8e-446f-b646-6e9bbab26298\">\n",
              "    <div class=\"colab-df-container\">\n",
              "      <div>\n",
              "<style scoped>\n",
              "    .dataframe tbody tr th:only-of-type {\n",
              "        vertical-align: middle;\n",
              "    }\n",
              "\n",
              "    .dataframe tbody tr th {\n",
              "        vertical-align: top;\n",
              "    }\n",
              "\n",
              "    .dataframe thead th {\n",
              "        text-align: right;\n",
              "    }\n",
              "</style>\n",
              "<table border=\"1\" class=\"dataframe\">\n",
              "  <thead>\n",
              "    <tr style=\"text-align: right;\">\n",
              "      <th></th>\n",
              "      <th>input</th>\n",
              "      <th>output</th>\n",
              "      <th>predict</th>\n",
              "    </tr>\n",
              "  </thead>\n",
              "  <tbody>\n",
              "    <tr>\n",
              "      <th>810765</th>\n",
              "      <td>kroena war vetrenas lay wrethas at war memorial</td>\n",
              "      <td>korean war veterans lay wreaths at war memorial</td>\n",
              "      <td>korean war veterans lay at war memorial</td>\n",
              "    </tr>\n",
              "    <tr>\n",
              "      <th>647694</th>\n",
              "      <td>clmiaet change still on the radar survey</td>\n",
              "      <td>climate change still on the radar survey</td>\n",
              "      <td>climate change still on the radar survey</td>\n",
              "    </tr>\n",
              "    <tr>\n",
              "      <th>906447</th>\n",
              "      <td>ofmr flaw threatens naplan estt accuracy union...</td>\n",
              "      <td>form flaw threatens naplan test accuracy union...</td>\n",
              "      <td>form populations threatens naplan test potenti...</td>\n",
              "    </tr>\n",
              "    <tr>\n",
              "      <th>43169</th>\n",
              "      <td>0ppy mildew risk tazmanix processor</td>\n",
              "      <td>poppy mildew risk tasmania processor</td>\n",
              "      <td>bargaining risk tasmania processor</td>\n",
              "    </tr>\n",
              "    <tr>\n",
              "      <th>849703</th>\n",
              "      <td>rhino carhges iirwn family at asurtalia zoo</td>\n",
              "      <td>rhino charges irwin family at australia zoo</td>\n",
              "      <td>rhino charges promoted family at australia zoo</td>\n",
              "    </tr>\n",
              "    <tr>\n",
              "      <th>890223</th>\n",
              "      <td>man wins retrial ov3e sex offrnde vharyes</td>\n",
              "      <td>man wins retrial over sex offence charges</td>\n",
              "      <td>man wins retrial over sex</td>\n",
              "    </tr>\n",
              "    <tr>\n",
              "      <th>447621</th>\n",
              "      <td>health service addressgin mental haelht</td>\n",
              "      <td>health service addressing mental health</td>\n",
              "      <td>health service mental health</td>\n",
              "    </tr>\n",
              "    <tr>\n",
              "      <th>329081</th>\n",
              "      <td>11 arrested rtavelilng to bathruts 1000</td>\n",
              "      <td>11 arrested travelling to bathurst 1000</td>\n",
              "      <td>11 arrested travelling to 1000</td>\n",
              "    </tr>\n",
              "    <tr>\n",
              "      <th>151255</th>\n",
              "      <td>premier attacks opposition oc4r foi tequesfs</td>\n",
              "      <td>premier attacks opposition over foi requests</td>\n",
              "      <td>premier attacks opposition over foi</td>\n",
              "    </tr>\n",
              "    <tr>\n",
              "      <th>598551</th>\n",
              "      <td>owcboys coach queries nrl atmuo fine</td>\n",
              "      <td>cowboys coach queries nrl tamou fine</td>\n",
              "      <td>cowboys coach courage nrl fine</td>\n",
              "    </tr>\n",
              "  </tbody>\n",
              "</table>\n",
              "</div>\n",
              "      <button class=\"colab-df-convert\" onclick=\"convertToInteractive('df-ab888ade-9e8e-446f-b646-6e9bbab26298')\"\n",
              "              title=\"Convert this dataframe to an interactive table.\"\n",
              "              style=\"display:none;\">\n",
              "        \n",
              "  <svg xmlns=\"http://www.w3.org/2000/svg\" height=\"24px\"viewBox=\"0 0 24 24\"\n",
              "       width=\"24px\">\n",
              "    <path d=\"M0 0h24v24H0V0z\" fill=\"none\"/>\n",
              "    <path d=\"M18.56 5.44l.94 2.06.94-2.06 2.06-.94-2.06-.94-.94-2.06-.94 2.06-2.06.94zm-11 1L8.5 8.5l.94-2.06 2.06-.94-2.06-.94L8.5 2.5l-.94 2.06-2.06.94zm10 10l.94 2.06.94-2.06 2.06-.94-2.06-.94-.94-2.06-.94 2.06-2.06.94z\"/><path d=\"M17.41 7.96l-1.37-1.37c-.4-.4-.92-.59-1.43-.59-.52 0-1.04.2-1.43.59L10.3 9.45l-7.72 7.72c-.78.78-.78 2.05 0 2.83L4 21.41c.39.39.9.59 1.41.59.51 0 1.02-.2 1.41-.59l7.78-7.78 2.81-2.81c.8-.78.8-2.07 0-2.86zM5.41 20L4 18.59l7.72-7.72 1.47 1.35L5.41 20z\"/>\n",
              "  </svg>\n",
              "      </button>\n",
              "      \n",
              "  <style>\n",
              "    .colab-df-container {\n",
              "      display:flex;\n",
              "      flex-wrap:wrap;\n",
              "      gap: 12px;\n",
              "    }\n",
              "\n",
              "    .colab-df-convert {\n",
              "      background-color: #E8F0FE;\n",
              "      border: none;\n",
              "      border-radius: 50%;\n",
              "      cursor: pointer;\n",
              "      display: none;\n",
              "      fill: #1967D2;\n",
              "      height: 32px;\n",
              "      padding: 0 0 0 0;\n",
              "      width: 32px;\n",
              "    }\n",
              "\n",
              "    .colab-df-convert:hover {\n",
              "      background-color: #E2EBFA;\n",
              "      box-shadow: 0px 1px 2px rgba(60, 64, 67, 0.3), 0px 1px 3px 1px rgba(60, 64, 67, 0.15);\n",
              "      fill: #174EA6;\n",
              "    }\n",
              "\n",
              "    [theme=dark] .colab-df-convert {\n",
              "      background-color: #3B4455;\n",
              "      fill: #D2E3FC;\n",
              "    }\n",
              "\n",
              "    [theme=dark] .colab-df-convert:hover {\n",
              "      background-color: #434B5C;\n",
              "      box-shadow: 0px 1px 3px 1px rgba(0, 0, 0, 0.15);\n",
              "      filter: drop-shadow(0px 1px 2px rgba(0, 0, 0, 0.3));\n",
              "      fill: #FFFFFF;\n",
              "    }\n",
              "  </style>\n",
              "\n",
              "      <script>\n",
              "        const buttonEl =\n",
              "          document.querySelector('#df-ab888ade-9e8e-446f-b646-6e9bbab26298 button.colab-df-convert');\n",
              "        buttonEl.style.display =\n",
              "          google.colab.kernel.accessAllowed ? 'block' : 'none';\n",
              "\n",
              "        async function convertToInteractive(key) {\n",
              "          const element = document.querySelector('#df-ab888ade-9e8e-446f-b646-6e9bbab26298');\n",
              "          const dataTable =\n",
              "            await google.colab.kernel.invokeFunction('convertToInteractive',\n",
              "                                                     [key], {});\n",
              "          if (!dataTable) return;\n",
              "\n",
              "          const docLinkHtml = 'Like what you see? Visit the ' +\n",
              "            '<a target=\"_blank\" href=https://colab.research.google.com/notebooks/data_table.ipynb>data table notebook</a>'\n",
              "            + ' to learn more about interactive tables.';\n",
              "          element.innerHTML = '';\n",
              "          dataTable['output_type'] = 'display_data';\n",
              "          await google.colab.output.renderOutput(dataTable, element);\n",
              "          const docLink = document.createElement('div');\n",
              "          docLink.innerHTML = docLinkHtml;\n",
              "          element.appendChild(docLink);\n",
              "        }\n",
              "      </script>\n",
              "    </div>\n",
              "  </div>\n",
              "  "
            ],
            "text/plain": [
              "                                                    input  \\\n",
              "810765    kroena war vetrenas lay wrethas at war memorial   \n",
              "647694           clmiaet change still on the radar survey   \n",
              "906447  ofmr flaw threatens naplan estt accuracy union...   \n",
              "43169                 0ppy mildew risk tazmanix processor   \n",
              "849703        rhino carhges iirwn family at asurtalia zoo   \n",
              "890223          man wins retrial ov3e sex offrnde vharyes   \n",
              "447621            health service addressgin mental haelht   \n",
              "329081            11 arrested rtavelilng to bathruts 1000   \n",
              "151255       premier attacks opposition oc4r foi tequesfs   \n",
              "598551               owcboys coach queries nrl atmuo fine   \n",
              "\n",
              "                                                   output  \\\n",
              "810765    korean war veterans lay wreaths at war memorial   \n",
              "647694           climate change still on the radar survey   \n",
              "906447  form flaw threatens naplan test accuracy union...   \n",
              "43169                poppy mildew risk tasmania processor   \n",
              "849703        rhino charges irwin family at australia zoo   \n",
              "890223          man wins retrial over sex offence charges   \n",
              "447621            health service addressing mental health   \n",
              "329081            11 arrested travelling to bathurst 1000   \n",
              "151255       premier attacks opposition over foi requests   \n",
              "598551               cowboys coach queries nrl tamou fine   \n",
              "\n",
              "                                                  predict  \n",
              "810765           korean war veterans lay at war memorial   \n",
              "647694          climate change still on the radar survey   \n",
              "906447  form populations threatens naplan test potenti...  \n",
              "43169              bargaining risk tasmania processor      \n",
              "849703    rhino charges promoted family at australia zoo   \n",
              "890223                       man wins retrial over sex     \n",
              "447621                   health service mental health      \n",
              "329081                  11 arrested travelling to 1000     \n",
              "151255             premier attacks opposition over foi     \n",
              "598551                  cowboys coach courage nrl fine     "
            ]
          },
          "execution_count": 46,
          "metadata": {},
          "output_type": "execute_result"
        }
      ],
      "source": [
        "eva"
      ]
    }
  ],
  "metadata": {
    "accelerator": "GPU",
    "colab": {
      "collapsed_sections": [],
      "machine_shape": "hm",
      "name": "project.ipynb",
      "provenance": []
    },
    "kernelspec": {
      "display_name": "Python 3",
      "name": "python3"
    },
    "language_info": {
      "name": "python"
    }
  },
  "nbformat": 4,
  "nbformat_minor": 0
}
