{
  "cells": [
    {
      "cell_type": "code",
      "execution_count": null,
      "metadata": {
        "colab": {
          "base_uri": "https://localhost:8080/"
        },
        "id": "2NEWAoUNP8xH",
        "outputId": "04ffe67c-6b6b-49bf-cc02-7f40bc2bcc96"
      },
      "outputs": [
        {
          "name": "stdout",
          "output_type": "stream",
          "text": [
            "Mounted at /content/drive/\n"
          ]
        }
      ],
      "source": [
        "import tensorflow as tf\n",
        "import numpy as np\n",
        "import pandas as pd\n",
        "from keras.preprocessing.sequence import pad_sequences\n",
        "from keras.preprocessing.text import Tokenizer\n",
        "import re\n",
        "import os\n",
        "import matplotlib.pyplot as plt\n",
        "\n",
        "tf.__version__\n",
        "from google.colab import drive\n",
        "drive.mount('/content/drive/')"
      ]
    },
    {
      "cell_type": "code",
      "execution_count": null,
      "metadata": {
        "id": "CLrsbOIpTU1m"
      },
      "outputs": [],
      "source": [
        "df_train = pd.read_csv(\"/content/drive/MyDrive/Colab_Notebooks/train.csv\")\n",
        "df_val = pd.read_csv(\"/content/drive/MyDrive/Colab_Notebooks/val.csv\")\n",
        "df_test = pd.read_csv(\"/content/drive/MyDrive/Colab_Notebooks/test.csv\")\n"
      ]
    },
    {
      "cell_type": "code",
      "execution_count": null,
      "metadata": {
        "colab": {
          "base_uri": "https://localhost:8080/",
          "height": 424
        },
        "id": "WwEH5j4a-m_g",
        "outputId": "954ed587-8c33-4ac6-8610-896aa2a95a4d"
      },
      "outputs": [
        {
          "data": {
            "text/html": [
              "\n",
              "  <div id=\"df-d0558bb9-254e-41cd-9b45-ff938344288a\">\n",
              "    <div class=\"colab-df-container\">\n",
              "      <div>\n",
              "<style scoped>\n",
              "    .dataframe tbody tr th:only-of-type {\n",
              "        vertical-align: middle;\n",
              "    }\n",
              "\n",
              "    .dataframe tbody tr th {\n",
              "        vertical-align: top;\n",
              "    }\n",
              "\n",
              "    .dataframe thead th {\n",
              "        text-align: right;\n",
              "    }\n",
              "</style>\n",
              "<table border=\"1\" class=\"dataframe\">\n",
              "  <thead>\n",
              "    <tr style=\"text-align: right;\">\n",
              "      <th></th>\n",
              "      <th>text</th>\n",
              "      <th>augmented_text</th>\n",
              "    </tr>\n",
              "  </thead>\n",
              "  <tbody>\n",
              "    <tr>\n",
              "      <th>6906</th>\n",
              "      <td>a league live streaming updates</td>\n",
              "      <td>a elgaue ivle streaming updates</td>\n",
              "    </tr>\n",
              "    <tr>\n",
              "      <th>9455</th>\n",
              "      <td>abc business news and market analysis</td>\n",
              "      <td>abc buisnses news and maretk analysis</td>\n",
              "    </tr>\n",
              "    <tr>\n",
              "      <th>9476</th>\n",
              "      <td>abc business news and market analysis</td>\n",
              "      <td>abc business ensw and market anyalsis</td>\n",
              "    </tr>\n",
              "    <tr>\n",
              "      <th>9487</th>\n",
              "      <td>abc business news and market analysis</td>\n",
              "      <td>abc ubisness news and market analysis</td>\n",
              "    </tr>\n",
              "    <tr>\n",
              "      <th>9498</th>\n",
              "      <td>abc business news and market analysis</td>\n",
              "      <td>abc busienss wnes and market analysis</td>\n",
              "    </tr>\n",
              "    <tr>\n",
              "      <th>...</th>\n",
              "      <td>...</td>\n",
              "      <td>...</td>\n",
              "    </tr>\n",
              "    <tr>\n",
              "      <th>742784</th>\n",
              "      <td>wednesday finance with alan kohler</td>\n",
              "      <td>wednesday finnaec with lana kohler</td>\n",
              "    </tr>\n",
              "    <tr>\n",
              "      <th>742790</th>\n",
              "      <td>wednesday finance with alan kohler</td>\n",
              "      <td>wednesday finance with lana kohler</td>\n",
              "    </tr>\n",
              "    <tr>\n",
              "      <th>742816</th>\n",
              "      <td>wednesday finance with alan kohler</td>\n",
              "      <td>wednesday finance with lana kohler</td>\n",
              "    </tr>\n",
              "    <tr>\n",
              "      <th>742873</th>\n",
              "      <td>wednesday markets with fiona clark</td>\n",
              "      <td>wednesday markets iwht fiona lcakr</td>\n",
              "    </tr>\n",
              "    <tr>\n",
              "      <th>758107</th>\n",
              "      <td>woman to front court over stabbing</td>\n",
              "      <td>woman to front ocutr over stabbing</td>\n",
              "    </tr>\n",
              "  </tbody>\n",
              "</table>\n",
              "<p>71 rows × 2 columns</p>\n",
              "</div>\n",
              "      <button class=\"colab-df-convert\" onclick=\"convertToInteractive('df-d0558bb9-254e-41cd-9b45-ff938344288a')\"\n",
              "              title=\"Convert this dataframe to an interactive table.\"\n",
              "              style=\"display:none;\">\n",
              "        \n",
              "  <svg xmlns=\"http://www.w3.org/2000/svg\" height=\"24px\"viewBox=\"0 0 24 24\"\n",
              "       width=\"24px\">\n",
              "    <path d=\"M0 0h24v24H0V0z\" fill=\"none\"/>\n",
              "    <path d=\"M18.56 5.44l.94 2.06.94-2.06 2.06-.94-2.06-.94-.94-2.06-.94 2.06-2.06.94zm-11 1L8.5 8.5l.94-2.06 2.06-.94-2.06-.94L8.5 2.5l-.94 2.06-2.06.94zm10 10l.94 2.06.94-2.06 2.06-.94-2.06-.94-.94-2.06-.94 2.06-2.06.94z\"/><path d=\"M17.41 7.96l-1.37-1.37c-.4-.4-.92-.59-1.43-.59-.52 0-1.04.2-1.43.59L10.3 9.45l-7.72 7.72c-.78.78-.78 2.05 0 2.83L4 21.41c.39.39.9.59 1.41.59.51 0 1.02-.2 1.41-.59l7.78-7.78 2.81-2.81c.8-.78.8-2.07 0-2.86zM5.41 20L4 18.59l7.72-7.72 1.47 1.35L5.41 20z\"/>\n",
              "  </svg>\n",
              "      </button>\n",
              "      \n",
              "  <style>\n",
              "    .colab-df-container {\n",
              "      display:flex;\n",
              "      flex-wrap:wrap;\n",
              "      gap: 12px;\n",
              "    }\n",
              "\n",
              "    .colab-df-convert {\n",
              "      background-color: #E8F0FE;\n",
              "      border: none;\n",
              "      border-radius: 50%;\n",
              "      cursor: pointer;\n",
              "      display: none;\n",
              "      fill: #1967D2;\n",
              "      height: 32px;\n",
              "      padding: 0 0 0 0;\n",
              "      width: 32px;\n",
              "    }\n",
              "\n",
              "    .colab-df-convert:hover {\n",
              "      background-color: #E2EBFA;\n",
              "      box-shadow: 0px 1px 2px rgba(60, 64, 67, 0.3), 0px 1px 3px 1px rgba(60, 64, 67, 0.15);\n",
              "      fill: #174EA6;\n",
              "    }\n",
              "\n",
              "    [theme=dark] .colab-df-convert {\n",
              "      background-color: #3B4455;\n",
              "      fill: #D2E3FC;\n",
              "    }\n",
              "\n",
              "    [theme=dark] .colab-df-convert:hover {\n",
              "      background-color: #434B5C;\n",
              "      box-shadow: 0px 1px 3px 1px rgba(0, 0, 0, 0.15);\n",
              "      filter: drop-shadow(0px 1px 2px rgba(0, 0, 0, 0.3));\n",
              "      fill: #FFFFFF;\n",
              "    }\n",
              "  </style>\n",
              "\n",
              "      <script>\n",
              "        const buttonEl =\n",
              "          document.querySelector('#df-d0558bb9-254e-41cd-9b45-ff938344288a button.colab-df-convert');\n",
              "        buttonEl.style.display =\n",
              "          google.colab.kernel.accessAllowed ? 'block' : 'none';\n",
              "\n",
              "        async function convertToInteractive(key) {\n",
              "          const element = document.querySelector('#df-d0558bb9-254e-41cd-9b45-ff938344288a');\n",
              "          const dataTable =\n",
              "            await google.colab.kernel.invokeFunction('convertToInteractive',\n",
              "                                                     [key], {});\n",
              "          if (!dataTable) return;\n",
              "\n",
              "          const docLinkHtml = 'Like what you see? Visit the ' +\n",
              "            '<a target=\"_blank\" href=https://colab.research.google.com/notebooks/data_table.ipynb>data table notebook</a>'\n",
              "            + ' to learn more about interactive tables.';\n",
              "          element.innerHTML = '';\n",
              "          dataTable['output_type'] = 'display_data';\n",
              "          await google.colab.output.renderOutput(dataTable, element);\n",
              "          const docLink = document.createElement('div');\n",
              "          docLink.innerHTML = docLinkHtml;\n",
              "          element.appendChild(docLink);\n",
              "        }\n",
              "      </script>\n",
              "    </div>\n",
              "  </div>\n",
              "  "
            ],
            "text/plain": [
              "                                         text  \\\n",
              "6906          a league live streaming updates   \n",
              "9455    abc business news and market analysis   \n",
              "9476    abc business news and market analysis   \n",
              "9487    abc business news and market analysis   \n",
              "9498    abc business news and market analysis   \n",
              "...                                       ...   \n",
              "742784     wednesday finance with alan kohler   \n",
              "742790     wednesday finance with alan kohler   \n",
              "742816     wednesday finance with alan kohler   \n",
              "742873     wednesday markets with fiona clark   \n",
              "758107     woman to front court over stabbing   \n",
              "\n",
              "                               augmented_text  \n",
              "6906          a elgaue ivle streaming updates  \n",
              "9455    abc buisnses news and maretk analysis  \n",
              "9476    abc business ensw and market anyalsis  \n",
              "9487    abc ubisness news and market analysis  \n",
              "9498    abc busienss wnes and market analysis  \n",
              "...                                       ...  \n",
              "742784     wednesday finnaec with lana kohler  \n",
              "742790     wednesday finance with lana kohler  \n",
              "742816     wednesday finance with lana kohler  \n",
              "742873     wednesday markets iwht fiona lcakr  \n",
              "758107     woman to front ocutr over stabbing  \n",
              "\n",
              "[71 rows x 2 columns]"
            ]
          },
          "execution_count": 3,
          "metadata": {},
          "output_type": "execute_result"
        }
      ],
      "source": [
        "df_train[df_train.duplicated()]\n"
      ]
    },
    {
      "cell_type": "code",
      "execution_count": null,
      "metadata": {
        "colab": {
          "base_uri": "https://localhost:8080/",
          "height": 112
        },
        "id": "fOtnbULR-sI_",
        "outputId": "fdf14ca5-94f6-4afc-ed13-4739596705db"
      },
      "outputs": [
        {
          "data": {
            "text/html": [
              "\n",
              "  <div id=\"df-9b25f0ac-2351-4022-90ff-e76af468e129\">\n",
              "    <div class=\"colab-df-container\">\n",
              "      <div>\n",
              "<style scoped>\n",
              "    .dataframe tbody tr th:only-of-type {\n",
              "        vertical-align: middle;\n",
              "    }\n",
              "\n",
              "    .dataframe tbody tr th {\n",
              "        vertical-align: top;\n",
              "    }\n",
              "\n",
              "    .dataframe thead th {\n",
              "        text-align: right;\n",
              "    }\n",
              "</style>\n",
              "<table border=\"1\" class=\"dataframe\">\n",
              "  <thead>\n",
              "    <tr style=\"text-align: right;\">\n",
              "      <th></th>\n",
              "      <th>text</th>\n",
              "      <th>augmented_text</th>\n",
              "    </tr>\n",
              "  </thead>\n",
              "  <tbody>\n",
              "    <tr>\n",
              "      <th>42958</th>\n",
              "      <td>abc business news and market analysis</td>\n",
              "      <td>abc ubsiness news and market analysis</td>\n",
              "    </tr>\n",
              "    <tr>\n",
              "      <th>150906</th>\n",
              "      <td>abc business news and market analysis</td>\n",
              "      <td>abc usbiness news and mraekt analysis</td>\n",
              "    </tr>\n",
              "  </tbody>\n",
              "</table>\n",
              "</div>\n",
              "      <button class=\"colab-df-convert\" onclick=\"convertToInteractive('df-9b25f0ac-2351-4022-90ff-e76af468e129')\"\n",
              "              title=\"Convert this dataframe to an interactive table.\"\n",
              "              style=\"display:none;\">\n",
              "        \n",
              "  <svg xmlns=\"http://www.w3.org/2000/svg\" height=\"24px\"viewBox=\"0 0 24 24\"\n",
              "       width=\"24px\">\n",
              "    <path d=\"M0 0h24v24H0V0z\" fill=\"none\"/>\n",
              "    <path d=\"M18.56 5.44l.94 2.06.94-2.06 2.06-.94-2.06-.94-.94-2.06-.94 2.06-2.06.94zm-11 1L8.5 8.5l.94-2.06 2.06-.94-2.06-.94L8.5 2.5l-.94 2.06-2.06.94zm10 10l.94 2.06.94-2.06 2.06-.94-2.06-.94-.94-2.06-.94 2.06-2.06.94z\"/><path d=\"M17.41 7.96l-1.37-1.37c-.4-.4-.92-.59-1.43-.59-.52 0-1.04.2-1.43.59L10.3 9.45l-7.72 7.72c-.78.78-.78 2.05 0 2.83L4 21.41c.39.39.9.59 1.41.59.51 0 1.02-.2 1.41-.59l7.78-7.78 2.81-2.81c.8-.78.8-2.07 0-2.86zM5.41 20L4 18.59l7.72-7.72 1.47 1.35L5.41 20z\"/>\n",
              "  </svg>\n",
              "      </button>\n",
              "      \n",
              "  <style>\n",
              "    .colab-df-container {\n",
              "      display:flex;\n",
              "      flex-wrap:wrap;\n",
              "      gap: 12px;\n",
              "    }\n",
              "\n",
              "    .colab-df-convert {\n",
              "      background-color: #E8F0FE;\n",
              "      border: none;\n",
              "      border-radius: 50%;\n",
              "      cursor: pointer;\n",
              "      display: none;\n",
              "      fill: #1967D2;\n",
              "      height: 32px;\n",
              "      padding: 0 0 0 0;\n",
              "      width: 32px;\n",
              "    }\n",
              "\n",
              "    .colab-df-convert:hover {\n",
              "      background-color: #E2EBFA;\n",
              "      box-shadow: 0px 1px 2px rgba(60, 64, 67, 0.3), 0px 1px 3px 1px rgba(60, 64, 67, 0.15);\n",
              "      fill: #174EA6;\n",
              "    }\n",
              "\n",
              "    [theme=dark] .colab-df-convert {\n",
              "      background-color: #3B4455;\n",
              "      fill: #D2E3FC;\n",
              "    }\n",
              "\n",
              "    [theme=dark] .colab-df-convert:hover {\n",
              "      background-color: #434B5C;\n",
              "      box-shadow: 0px 1px 3px 1px rgba(0, 0, 0, 0.15);\n",
              "      filter: drop-shadow(0px 1px 2px rgba(0, 0, 0, 0.3));\n",
              "      fill: #FFFFFF;\n",
              "    }\n",
              "  </style>\n",
              "\n",
              "      <script>\n",
              "        const buttonEl =\n",
              "          document.querySelector('#df-9b25f0ac-2351-4022-90ff-e76af468e129 button.colab-df-convert');\n",
              "        buttonEl.style.display =\n",
              "          google.colab.kernel.accessAllowed ? 'block' : 'none';\n",
              "\n",
              "        async function convertToInteractive(key) {\n",
              "          const element = document.querySelector('#df-9b25f0ac-2351-4022-90ff-e76af468e129');\n",
              "          const dataTable =\n",
              "            await google.colab.kernel.invokeFunction('convertToInteractive',\n",
              "                                                     [key], {});\n",
              "          if (!dataTable) return;\n",
              "\n",
              "          const docLinkHtml = 'Like what you see? Visit the ' +\n",
              "            '<a target=\"_blank\" href=https://colab.research.google.com/notebooks/data_table.ipynb>data table notebook</a>'\n",
              "            + ' to learn more about interactive tables.';\n",
              "          element.innerHTML = '';\n",
              "          dataTable['output_type'] = 'display_data';\n",
              "          await google.colab.output.renderOutput(dataTable, element);\n",
              "          const docLink = document.createElement('div');\n",
              "          docLink.innerHTML = docLinkHtml;\n",
              "          element.appendChild(docLink);\n",
              "        }\n",
              "      </script>\n",
              "    </div>\n",
              "  </div>\n",
              "  "
            ],
            "text/plain": [
              "                                         text  \\\n",
              "42958   abc business news and market analysis   \n",
              "150906  abc business news and market analysis   \n",
              "\n",
              "                               augmented_text  \n",
              "42958   abc ubsiness news and market analysis  \n",
              "150906  abc usbiness news and mraekt analysis  "
            ]
          },
          "execution_count": 4,
          "metadata": {},
          "output_type": "execute_result"
        }
      ],
      "source": [
        "df_val[df_val.duplicated()]\n"
      ]
    },
    {
      "cell_type": "code",
      "execution_count": null,
      "metadata": {
        "colab": {
          "base_uri": "https://localhost:8080/",
          "height": 112
        },
        "id": "KG_gPvnu-tGt",
        "outputId": "79ab09ea-3ea1-409c-e034-c18c5cd9e1da"
      },
      "outputs": [
        {
          "data": {
            "text/html": [
              "\n",
              "  <div id=\"df-6e1a7ef9-1d40-4621-baa1-ba7219626459\">\n",
              "    <div class=\"colab-df-container\">\n",
              "      <div>\n",
              "<style scoped>\n",
              "    .dataframe tbody tr th:only-of-type {\n",
              "        vertical-align: middle;\n",
              "    }\n",
              "\n",
              "    .dataframe tbody tr th {\n",
              "        vertical-align: top;\n",
              "    }\n",
              "\n",
              "    .dataframe thead th {\n",
              "        text-align: right;\n",
              "    }\n",
              "</style>\n",
              "<table border=\"1\" class=\"dataframe\">\n",
              "  <thead>\n",
              "    <tr style=\"text-align: right;\">\n",
              "      <th></th>\n",
              "      <th>text</th>\n",
              "      <th>augmented_text</th>\n",
              "    </tr>\n",
              "  </thead>\n",
              "  <tbody>\n",
              "    <tr>\n",
              "      <th>52797</th>\n",
              "      <td>abc business news and market analysis</td>\n",
              "      <td>abc business wnes and market aanlyiss</td>\n",
              "    </tr>\n",
              "    <tr>\n",
              "      <th>98255</th>\n",
              "      <td>abc business news and market analysis</td>\n",
              "      <td>abc ubsiness news and market analysis</td>\n",
              "    </tr>\n",
              "  </tbody>\n",
              "</table>\n",
              "</div>\n",
              "      <button class=\"colab-df-convert\" onclick=\"convertToInteractive('df-6e1a7ef9-1d40-4621-baa1-ba7219626459')\"\n",
              "              title=\"Convert this dataframe to an interactive table.\"\n",
              "              style=\"display:none;\">\n",
              "        \n",
              "  <svg xmlns=\"http://www.w3.org/2000/svg\" height=\"24px\"viewBox=\"0 0 24 24\"\n",
              "       width=\"24px\">\n",
              "    <path d=\"M0 0h24v24H0V0z\" fill=\"none\"/>\n",
              "    <path d=\"M18.56 5.44l.94 2.06.94-2.06 2.06-.94-2.06-.94-.94-2.06-.94 2.06-2.06.94zm-11 1L8.5 8.5l.94-2.06 2.06-.94-2.06-.94L8.5 2.5l-.94 2.06-2.06.94zm10 10l.94 2.06.94-2.06 2.06-.94-2.06-.94-.94-2.06-.94 2.06-2.06.94z\"/><path d=\"M17.41 7.96l-1.37-1.37c-.4-.4-.92-.59-1.43-.59-.52 0-1.04.2-1.43.59L10.3 9.45l-7.72 7.72c-.78.78-.78 2.05 0 2.83L4 21.41c.39.39.9.59 1.41.59.51 0 1.02-.2 1.41-.59l7.78-7.78 2.81-2.81c.8-.78.8-2.07 0-2.86zM5.41 20L4 18.59l7.72-7.72 1.47 1.35L5.41 20z\"/>\n",
              "  </svg>\n",
              "      </button>\n",
              "      \n",
              "  <style>\n",
              "    .colab-df-container {\n",
              "      display:flex;\n",
              "      flex-wrap:wrap;\n",
              "      gap: 12px;\n",
              "    }\n",
              "\n",
              "    .colab-df-convert {\n",
              "      background-color: #E8F0FE;\n",
              "      border: none;\n",
              "      border-radius: 50%;\n",
              "      cursor: pointer;\n",
              "      display: none;\n",
              "      fill: #1967D2;\n",
              "      height: 32px;\n",
              "      padding: 0 0 0 0;\n",
              "      width: 32px;\n",
              "    }\n",
              "\n",
              "    .colab-df-convert:hover {\n",
              "      background-color: #E2EBFA;\n",
              "      box-shadow: 0px 1px 2px rgba(60, 64, 67, 0.3), 0px 1px 3px 1px rgba(60, 64, 67, 0.15);\n",
              "      fill: #174EA6;\n",
              "    }\n",
              "\n",
              "    [theme=dark] .colab-df-convert {\n",
              "      background-color: #3B4455;\n",
              "      fill: #D2E3FC;\n",
              "    }\n",
              "\n",
              "    [theme=dark] .colab-df-convert:hover {\n",
              "      background-color: #434B5C;\n",
              "      box-shadow: 0px 1px 3px 1px rgba(0, 0, 0, 0.15);\n",
              "      filter: drop-shadow(0px 1px 2px rgba(0, 0, 0, 0.3));\n",
              "      fill: #FFFFFF;\n",
              "    }\n",
              "  </style>\n",
              "\n",
              "      <script>\n",
              "        const buttonEl =\n",
              "          document.querySelector('#df-6e1a7ef9-1d40-4621-baa1-ba7219626459 button.colab-df-convert');\n",
              "        buttonEl.style.display =\n",
              "          google.colab.kernel.accessAllowed ? 'block' : 'none';\n",
              "\n",
              "        async function convertToInteractive(key) {\n",
              "          const element = document.querySelector('#df-6e1a7ef9-1d40-4621-baa1-ba7219626459');\n",
              "          const dataTable =\n",
              "            await google.colab.kernel.invokeFunction('convertToInteractive',\n",
              "                                                     [key], {});\n",
              "          if (!dataTable) return;\n",
              "\n",
              "          const docLinkHtml = 'Like what you see? Visit the ' +\n",
              "            '<a target=\"_blank\" href=https://colab.research.google.com/notebooks/data_table.ipynb>data table notebook</a>'\n",
              "            + ' to learn more about interactive tables.';\n",
              "          element.innerHTML = '';\n",
              "          dataTable['output_type'] = 'display_data';\n",
              "          await google.colab.output.renderOutput(dataTable, element);\n",
              "          const docLink = document.createElement('div');\n",
              "          docLink.innerHTML = docLinkHtml;\n",
              "          element.appendChild(docLink);\n",
              "        }\n",
              "      </script>\n",
              "    </div>\n",
              "  </div>\n",
              "  "
            ],
            "text/plain": [
              "                                        text  \\\n",
              "52797  abc business news and market analysis   \n",
              "98255  abc business news and market analysis   \n",
              "\n",
              "                              augmented_text  \n",
              "52797  abc business wnes and market aanlyiss  \n",
              "98255  abc ubsiness news and market analysis  "
            ]
          },
          "execution_count": 5,
          "metadata": {},
          "output_type": "execute_result"
        }
      ],
      "source": [
        "df_test[df_test.duplicated()]\n"
      ]
    },
    {
      "cell_type": "code",
      "execution_count": null,
      "metadata": {
        "id": "s5oWgBqmTp7p"
      },
      "outputs": [],
      "source": [
        "def clean_data(text):\n",
        "    text = text.lower()\n",
        "    text = re.sub(r\"[-=+*\\\"#@!$%^&()`<>/[\\]]\",\"\",text)\n",
        "    text = re.sub(r\"i'm\",\"i am\",text)\n",
        "    text = re.sub(r\"he's\",\"he is\",text)\n",
        "    text = re.sub(r\"she's\",\"she is\",text)\n",
        "    text = re.sub(r\"it's\",\"it is\",text)\n",
        "    text = re.sub(r\"they're\",\"they are\",text)\n",
        "    text = re.sub(r\"there're\",\"there are\",text)\n",
        "    text = re.sub(r\"there's\",\"there is\",text)\n",
        "    text = re.sub(r\"how're\",\"how are\",text)\n",
        "    text = re.sub(r\"what're\",\"what are\",text)\n",
        "    text = re.sub(r\"where're\",\"where \",text)\n",
        "    text = re.sub(r\"who're\",\"who are\",text)\n",
        "    text = re.sub(r\"that're\",\"that are\",text)\n",
        "    text = re.sub(r\"when're\",\"when are\",text)\n",
        "    text = re.sub(r\"how's\",\"how is\",text)\n",
        "    text = re.sub(r\"what's\",\"what is\",text)\n",
        "    text = re.sub(r\"where's\",\"where is\",text)\n",
        "    text = re.sub(r\"who's\",\"who is\",text)\n",
        "    text = re.sub(r\"that's\",\"that is\",text)\n",
        "    text = re.sub(r\"when's\",\"when is\",text)\n",
        "    text = re.sub(r\"won't\",\"would not\",text)\n",
        "    text = re.sub(r\"nt't\",\"can not\",text)\n",
        "    text = re.sub(r\"\\'bout'\",\"about\",text)\n",
        "    text = re.sub(r\"\\'till'\",\"untill\",text)\n",
        "    text = re.sub(r\"\\'ll\",\"will\",text)\n",
        "    text = re.sub(r\"\\'ve\",\"have\",text)\n",
        "    text = re.sub(r\"\\'re\",\"are\",text)\n",
        "    text = re.sub(r\"\\'d\",\"would\",text)\n",
        "    text = re.sub(r\"\\.\",\" \",text)\n",
        "    text = re.sub(r\"\\,\",\" \",text)\n",
        "    text = re.sub(r\"\\!\",\" \",text)\n",
        "    text = re.sub(r\"\\?\",\" \",text)\n",
        "    text = re.sub(r\"\\;\",\" \",text)\n",
        "    text = re.sub(r\"\\:\",\" \",text)\n",
        "    return text\n",
        "\n",
        "    \n",
        "df_train['text'] = df_train['text'].apply(clean_data)\n",
        "df_train['augmented_text'] = df_train['augmented_text'].apply(clean_data)\n",
        "df_val['text'] = df_val['text'].apply(clean_data)\n",
        "df_val['augmented_text'] = df_val['augmented_text'].apply(clean_data)\n",
        "df_test['text'] = df_test['text'].apply(clean_data)\n",
        "df_test['augmented_text'] = df_test['augmented_text'].apply(clean_data)\n",
        "data = pd.concat([df_train,df_val,df_test])\n"
      ]
    },
    {
      "cell_type": "code",
      "execution_count": null,
      "metadata": {
        "id": "9Rr916ahpnUm"
      },
      "outputs": [],
      "source": [
        "#data.csv is being pre-process to save time for training\n",
        "# data.to_csv('/content/drive/MyDrive/Colab_Notebooks/data.csv',index=False,)\n",
        "\n",
        "data = pd.read_csv('/content/drive/MyDrive/Colab_Notebooks/data.csv')"
      ]
    },
    {
      "cell_type": "code",
      "execution_count": null,
      "metadata": {
        "colab": {
          "base_uri": "https://localhost:8080/"
        },
        "id": "BV4K4JPt-bXI",
        "outputId": "c7098c84-af67-4e4d-ae1f-78ebb66fca07"
      },
      "outputs": [
        {
          "name": "stdout",
          "output_type": "stream",
          "text": [
            "text              0\n",
            "augmented_text    0\n",
            "dtype: int64\n",
            "0\n"
          ]
        }
      ],
      "source": [
        "print(data.isnull().sum())\n",
        "data = data.drop_duplicates(subset=['augmented_text'])\n",
        "print(data.duplicated().sum())"
      ]
    },
    {
      "cell_type": "code",
      "execution_count": null,
      "metadata": {
        "id": "s5Q_QNItw7kV"
      },
      "outputs": [],
      "source": [
        "df = data"
      ]
    },
    {
      "cell_type": "code",
      "execution_count": null,
      "metadata": {
        "colab": {
          "base_uri": "https://localhost:8080/",
          "height": 175
        },
        "id": "NPdf-5Hn7RET",
        "outputId": "4bdf2b3e-8e09-435e-fa68-5bed4de04ed5"
      },
      "outputs": [
        {
          "data": {
            "text/html": [
              "\n",
              "  <div id=\"df-c7641f8d-a1a9-42d4-a90f-cd6bc21cd7bf\">\n",
              "    <div class=\"colab-df-container\">\n",
              "      <div>\n",
              "<style scoped>\n",
              "    .dataframe tbody tr th:only-of-type {\n",
              "        vertical-align: middle;\n",
              "    }\n",
              "\n",
              "    .dataframe tbody tr th {\n",
              "        vertical-align: top;\n",
              "    }\n",
              "\n",
              "    .dataframe thead th {\n",
              "        text-align: right;\n",
              "    }\n",
              "</style>\n",
              "<table border=\"1\" class=\"dataframe\">\n",
              "  <thead>\n",
              "    <tr style=\"text-align: right;\">\n",
              "      <th></th>\n",
              "      <th>text</th>\n",
              "      <th>augmented_text</th>\n",
              "    </tr>\n",
              "  </thead>\n",
              "  <tbody>\n",
              "    <tr>\n",
              "      <th>count</th>\n",
              "      <td>1024690</td>\n",
              "      <td>1024690</td>\n",
              "    </tr>\n",
              "    <tr>\n",
              "      <th>unique</th>\n",
              "      <td>1017097</td>\n",
              "      <td>1024690</td>\n",
              "    </tr>\n",
              "    <tr>\n",
              "      <th>top</th>\n",
              "      <td>abc business news and market analysis</td>\n",
              "      <td>1 billion darling hsarfbour redeevelopment p3...</td>\n",
              "    </tr>\n",
              "    <tr>\n",
              "      <th>freq</th>\n",
              "      <td>516</td>\n",
              "      <td>1</td>\n",
              "    </tr>\n",
              "  </tbody>\n",
              "</table>\n",
              "</div>\n",
              "      <button class=\"colab-df-convert\" onclick=\"convertToInteractive('df-c7641f8d-a1a9-42d4-a90f-cd6bc21cd7bf')\"\n",
              "              title=\"Convert this dataframe to an interactive table.\"\n",
              "              style=\"display:none;\">\n",
              "        \n",
              "  <svg xmlns=\"http://www.w3.org/2000/svg\" height=\"24px\"viewBox=\"0 0 24 24\"\n",
              "       width=\"24px\">\n",
              "    <path d=\"M0 0h24v24H0V0z\" fill=\"none\"/>\n",
              "    <path d=\"M18.56 5.44l.94 2.06.94-2.06 2.06-.94-2.06-.94-.94-2.06-.94 2.06-2.06.94zm-11 1L8.5 8.5l.94-2.06 2.06-.94-2.06-.94L8.5 2.5l-.94 2.06-2.06.94zm10 10l.94 2.06.94-2.06 2.06-.94-2.06-.94-.94-2.06-.94 2.06-2.06.94z\"/><path d=\"M17.41 7.96l-1.37-1.37c-.4-.4-.92-.59-1.43-.59-.52 0-1.04.2-1.43.59L10.3 9.45l-7.72 7.72c-.78.78-.78 2.05 0 2.83L4 21.41c.39.39.9.59 1.41.59.51 0 1.02-.2 1.41-.59l7.78-7.78 2.81-2.81c.8-.78.8-2.07 0-2.86zM5.41 20L4 18.59l7.72-7.72 1.47 1.35L5.41 20z\"/>\n",
              "  </svg>\n",
              "      </button>\n",
              "      \n",
              "  <style>\n",
              "    .colab-df-container {\n",
              "      display:flex;\n",
              "      flex-wrap:wrap;\n",
              "      gap: 12px;\n",
              "    }\n",
              "\n",
              "    .colab-df-convert {\n",
              "      background-color: #E8F0FE;\n",
              "      border: none;\n",
              "      border-radius: 50%;\n",
              "      cursor: pointer;\n",
              "      display: none;\n",
              "      fill: #1967D2;\n",
              "      height: 32px;\n",
              "      padding: 0 0 0 0;\n",
              "      width: 32px;\n",
              "    }\n",
              "\n",
              "    .colab-df-convert:hover {\n",
              "      background-color: #E2EBFA;\n",
              "      box-shadow: 0px 1px 2px rgba(60, 64, 67, 0.3), 0px 1px 3px 1px rgba(60, 64, 67, 0.15);\n",
              "      fill: #174EA6;\n",
              "    }\n",
              "\n",
              "    [theme=dark] .colab-df-convert {\n",
              "      background-color: #3B4455;\n",
              "      fill: #D2E3FC;\n",
              "    }\n",
              "\n",
              "    [theme=dark] .colab-df-convert:hover {\n",
              "      background-color: #434B5C;\n",
              "      box-shadow: 0px 1px 3px 1px rgba(0, 0, 0, 0.15);\n",
              "      filter: drop-shadow(0px 1px 2px rgba(0, 0, 0, 0.3));\n",
              "      fill: #FFFFFF;\n",
              "    }\n",
              "  </style>\n",
              "\n",
              "      <script>\n",
              "        const buttonEl =\n",
              "          document.querySelector('#df-c7641f8d-a1a9-42d4-a90f-cd6bc21cd7bf button.colab-df-convert');\n",
              "        buttonEl.style.display =\n",
              "          google.colab.kernel.accessAllowed ? 'block' : 'none';\n",
              "\n",
              "        async function convertToInteractive(key) {\n",
              "          const element = document.querySelector('#df-c7641f8d-a1a9-42d4-a90f-cd6bc21cd7bf');\n",
              "          const dataTable =\n",
              "            await google.colab.kernel.invokeFunction('convertToInteractive',\n",
              "                                                     [key], {});\n",
              "          if (!dataTable) return;\n",
              "\n",
              "          const docLinkHtml = 'Like what you see? Visit the ' +\n",
              "            '<a target=\"_blank\" href=https://colab.research.google.com/notebooks/data_table.ipynb>data table notebook</a>'\n",
              "            + ' to learn more about interactive tables.';\n",
              "          element.innerHTML = '';\n",
              "          dataTable['output_type'] = 'display_data';\n",
              "          await google.colab.output.renderOutput(dataTable, element);\n",
              "          const docLink = document.createElement('div');\n",
              "          docLink.innerHTML = docLinkHtml;\n",
              "          element.appendChild(docLink);\n",
              "        }\n",
              "      </script>\n",
              "    </div>\n",
              "  </div>\n",
              "  "
            ],
            "text/plain": [
              "                                         text  \\\n",
              "count                                 1024690   \n",
              "unique                                1017097   \n",
              "top     abc business news and market analysis   \n",
              "freq                                      516   \n",
              "\n",
              "                                           augmented_text  \n",
              "count                                             1024690  \n",
              "unique                                            1024690  \n",
              "top      1 billion darling hsarfbour redeevelopment p3...  \n",
              "freq                                                    1  "
            ]
          },
          "execution_count": 11,
          "metadata": {},
          "output_type": "execute_result"
        }
      ],
      "source": [
        "df.describe()"
      ]
    },
    {
      "cell_type": "code",
      "execution_count": null,
      "metadata": {
        "id": "X4xURgshSrpT"
      },
      "outputs": [],
      "source": [
        "\n",
        "train_df = df['augmented_text']\n",
        "test_df = df['text']\n",
        "from sklearn.model_selection import train_test_split\n",
        "train_x, test_x, train_y, test_y = train_test_split(train_df, test_df, test_size=0.2, random_state=0)\n",
        "val_x, test_x,val_y, test_y = train_test_split(test_x, test_y, test_size = 0.5, random_state=42)\n"
      ]
    },
    {
      "cell_type": "code",
      "execution_count": null,
      "metadata": {
        "colab": {
          "base_uri": "https://localhost:8080/"
        },
        "id": "IZMTBLH1H-U7",
        "outputId": "7377b05d-e3b9-4177-d02a-138f7597b327"
      },
      "outputs": [
        {
          "data": {
            "text/plain": [
              "161481           counfii digbs off on parks indigenkhs name\n",
              "61863       backbemches hle out hope for child care cgsnges\n",
              "900739    two more councillors resign frn xenmari lova  ...\n",
              "55388           zustrzlian killed in azerbz8jan plane crash\n",
              "349300    japanese hwlaing lfeets claim an abslouet lie sea\n",
              "                                ...                        \n",
              "963542    trump grand military paqdes and not so grsnr q...\n",
              "118001                     cxge sud9ends operations in iraq\n",
              "435903                    orme money lost on benidog pokies\n",
              "305771                     hlc ey backs coal rkjalty scheme\n",
              "985926      memornaudm sgnied to improve interaction within\n",
              "Name: augmented_text, Length: 819752, dtype: object"
            ]
          },
          "execution_count": 13,
          "metadata": {},
          "output_type": "execute_result"
        }
      ],
      "source": [
        "train_x"
      ]
    },
    {
      "cell_type": "code",
      "execution_count": null,
      "metadata": {
        "colab": {
          "base_uri": "https://localhost:8080/"
        },
        "id": "inUltHgQ191H",
        "outputId": "4f83946e-6dbe-4495-86fe-99ab13ac32b0"
      },
      "outputs": [
        {
          "data": {
            "text/plain": [
              "161481           council signs off on parks indigenous name\n",
              "61863     backbenchers hold out hope for child care changes\n",
              "900739    two more councillors resign from denmark local...\n",
              "55388           australian killed in azerbaijan plane crash\n",
              "349300    japanese whaling fleets claim an absolute lie sea\n",
              "                                ...                        \n",
              "963542    trump grand military parades and not so grand ...\n",
              "118001                     care suspends operations in iraq\n",
              "435903                    more money lost on bendigo pokies\n",
              "305771                     hickey backs coal royalty scheme\n",
              "985926      memorandum signed to improve interaction within\n",
              "Name: text, Length: 819752, dtype: object"
            ]
          },
          "execution_count": 14,
          "metadata": {},
          "output_type": "execute_result"
        }
      ],
      "source": [
        "train_y"
      ]
    },
    {
      "cell_type": "code",
      "execution_count": null,
      "metadata": {
        "id": "gK5wiBIXZLis"
      },
      "outputs": [],
      "source": [
        "max_length = 74"
      ]
    },
    {
      "cell_type": "code",
      "execution_count": null,
      "metadata": {
        "id": "sTa8D0WfT1gf"
      },
      "outputs": [],
      "source": [
        "\n",
        "g_text_tokenizer = Tokenizer(char_level=True)\n",
        "g_text_tokenizer.fit_on_texts(train_x)\n",
        "g_text_word_index = g_text_tokenizer.word_index\n",
        "train_sequences = g_text_tokenizer.texts_to_sequences(train_x)\n",
        "train_padded = pad_sequences(train_sequences, maxlen = max_length, padding='post')\n",
        "\n",
        "\n",
        "text_tokenizer = Tokenizer(char_level=True)\n",
        "text_tokenizer.fit_on_texts(train_y)\n",
        "text_word_index = text_tokenizer.word_index\n",
        "test_sequences = text_tokenizer.texts_to_sequences(train_y)\n",
        "test_padded = pad_sequences(test_sequences,maxlen = max_length, padding='post')\n",
        "\n",
        "\n",
        "\n"
      ]
    },
    {
      "cell_type": "code",
      "execution_count": null,
      "metadata": {
        "colab": {
          "base_uri": "https://localhost:8080/"
        },
        "id": "EoS-zPByYYPU",
        "outputId": "7ec9b277-7f0e-4564-d3db-45dfe1d61dc9"
      },
      "outputs": [
        {
          "data": {
            "text/plain": [
              "{' ': 1,\n",
              " \"'\": 32,\n",
              " '0': 27,\n",
              " '1': 29,\n",
              " '2': 30,\n",
              " '3': 33,\n",
              " '4': 34,\n",
              " '5': 31,\n",
              " '6': 35,\n",
              " '7': 37,\n",
              " '8': 38,\n",
              " '9': 36,\n",
              " 'a': 3,\n",
              " 'b': 19,\n",
              " 'c': 11,\n",
              " 'd': 12,\n",
              " 'e': 2,\n",
              " 'f': 18,\n",
              " 'g': 17,\n",
              " 'h': 14,\n",
              " 'i': 7,\n",
              " 'j': 24,\n",
              " 'k': 23,\n",
              " 'l': 10,\n",
              " 'm': 15,\n",
              " 'n': 9,\n",
              " 'o': 6,\n",
              " 'p': 16,\n",
              " 'q': 26,\n",
              " 'r': 4,\n",
              " 's': 5,\n",
              " 't': 8,\n",
              " 'u': 13,\n",
              " 'v': 22,\n",
              " 'w': 20,\n",
              " 'x': 25,\n",
              " 'y': 21,\n",
              " 'z': 28}"
            ]
          },
          "execution_count": 17,
          "metadata": {},
          "output_type": "execute_result"
        }
      ],
      "source": [
        "text_tokenizer.word_index"
      ]
    },
    {
      "cell_type": "code",
      "execution_count": null,
      "metadata": {
        "id": "4PWLtCPyLNVJ"
      },
      "outputs": [],
      "source": [
        "val_train_sequences = g_text_tokenizer.texts_to_sequences(val_x)\n",
        "val_train_padded = pad_sequences(val_train_sequences, maxlen = max_length, padding='post')\n",
        "\n",
        "val_test_sequences = text_tokenizer.texts_to_sequences(val_y)\n",
        "val_test_padded = pad_sequences(val_test_sequences, maxlen = max_length, padding='post')"
      ]
    },
    {
      "cell_type": "code",
      "execution_count": null,
      "metadata": {
        "colab": {
          "base_uri": "https://localhost:8080/"
        },
        "id": "npA5T2pATdEK",
        "outputId": "e2284343-c35d-4322-a402-7d33997b8813"
      },
      "outputs": [
        {
          "name": "stdout",
          "output_type": "stream",
          "text": [
            "40 39\n"
          ]
        }
      ],
      "source": [
        "g_vocab_size = len(g_text_word_index)+1\n",
        "vocab_size = len(text_word_index)+1\n",
        "print(g_vocab_size, vocab_size)"
      ]
    },
    {
      "cell_type": "code",
      "execution_count": null,
      "metadata": {
        "colab": {
          "base_uri": "https://localhost:8080/",
          "height": 281
        },
        "id": "9EspCkMbCKx_",
        "outputId": "b6399872-2142-461f-964b-f610f609cca7"
      },
      "outputs": [
        {
          "data": {
            "image/png": "[encoded data removed]",
            "text/plain": [
              "<Figure size 432x288 with 1 Axes>"
            ]
          },
          "metadata": {
            "needs_background": "light"
          },
          "output_type": "display_data"
        }
      ],
      "source": [
        "voc = [\"Text Vocabulary\", \"Augmented Text Vocabulary\"]\n",
        "voc_count = [vocab_size, g_vocab_size]\n",
        "\n",
        "plt.bar(voc, voc_count, width = 0.4)\n",
        "plt.title(\"Vocabulary Graph\")\n",
        "plt.show()"
      ]
    },
    {
      "cell_type": "code",
      "execution_count": null,
      "metadata": {
        "id": "eVK8H4m5dqdD"
      },
      "outputs": [],
      "source": [
        "temp_test_padded = test_padded.reshape((test_padded.shape[0], test_padded.shape[1],1))\n"
      ]
    },
    {
      "cell_type": "code",
      "execution_count": null,
      "metadata": {
        "id": "msrdgdWvea79"
      },
      "outputs": [],
      "source": [
        "epoch = 40"
      ]
    },
    {
      "cell_type": "code",
      "execution_count": null,
      "metadata": {
        "colab": {
          "base_uri": "https://localhost:8080/"
        },
        "id": "oANQwWFFgTzh",
        "outputId": "4af6d31b-3be0-4736-e748-6ef560ec0ace"
      },
      "outputs": [
        {
          "name": "stdout",
          "output_type": "stream",
          "text": [
            "Model: \"sequential\"\n",
            "____________________________________________________________________________\n",
            " Layer (type)                Output Shape              Param #   Trainable  \n",
            "============================================================================\n",
            " embedding (Embedding)       (None, 74, 512)           20480     Y          \n",
            "                                                                            \n",
            " bidirectional (Bidirectiona  (None, 512)              1574912   Y          \n",
            " l)                                                                         \n",
            "                                                                            \n",
            " repeat_vector (RepeatVector  (None, 74, 512)          0         Y          \n",
            " )                                                                          \n",
            "                                                                            \n",
            " bidirectional_1 (Bidirectio  (None, 74, 512)          1574912   Y          \n",
            " nal)                                                                       \n",
            "                                                                            \n",
            " bidirectional_2 (Bidirectio  (None, 74, 256)          656384    Y          \n",
            " nal)                                                                       \n",
            "                                                                            \n",
            " bidirectional_3 (Bidirectio  (None, 74, 160)          215680    Y          \n",
            " nal)                                                                       \n",
            "                                                                            \n",
            " dense (Dense)               (None, 74, 39)            6279      Y          \n",
            "                                                                            \n",
            "============================================================================\n",
            "Total params: 4,048,647\n",
            "Trainable params: 4,048,647\n",
            "Non-trainable params: 0\n",
            "____________________________________________________________________________\n"
          ]
        }
      ],
      "source": [
        "# Reference from this paper, \"Towards better decoding and language model integration in sequence to sequence models\" https://arxiv.org/abs/1612.02695\n",
        "# Reference from this paper, \"Bidirectional recurrent neural networks\" https://ieeexplore.ieee.org/abstract/document/650093\n",
        "#combine the two findings\n",
        "model_4 = tf.keras.Sequential([\n",
        "    tf.keras.layers.Embedding(input_dim=g_vocab_size, output_dim=512, input_length=max_length, mask_zero=True),\n",
        "    tf.keras.layers.Bidirectional(tf.keras.layers.LSTM(256)),\n",
        "\n",
        "    tf.keras.layers.RepeatVector(max_length),\n",
        "    tf.keras.layers.Bidirectional(tf.keras.layers.LSTM(256, return_sequences=True)),\n",
        "    tf.keras.layers.Bidirectional(tf.keras.layers.LSTM(128,  return_sequences=True)),\n",
        "    tf.keras.layers.Bidirectional(tf.keras.layers.LSTM(80,  return_sequences=True)),\n",
        "    tf.keras.layers.Dense(vocab_size,activation='softmax')\n",
        "])\n",
        "learning_rate = 0.0018\n",
        "optimizer = tf.keras.optimizers.Adam(learning_rate)\n",
        "model_4.compile(loss=\"sparse_categorical_crossentropy\",\n",
        "              optimizer=optimizer,\n",
        "              metrics=['accuracy'])\n",
        "model_4.summary(expand_nested=True,\n",
        "    show_trainable=True)"
      ]
    },
    {
      "cell_type": "code",
      "execution_count": null,
      "metadata": {
        "colab": {
          "base_uri": "https://localhost:8080/",
          "height": 1000
        },
        "id": "rvTWGQjJgVRq",
        "outputId": "6cbdd315-8a19-4e46-b99f-727efcf63dac"
      },
      "outputs": [
        {
          "name": "stdout",
          "output_type": "stream",
          "text": [
            "Epoch 1/40\n",
            "4270/4270 [==============================] - 612s 139ms/step - loss: 1.7825 - accuracy: 0.4897 - val_loss: 1.5944 - val_accuracy: 0.5380\n",
            "Epoch 2/40\n",
            "4270/4270 [==============================] - 599s 140ms/step - loss: 1.2698 - accuracy: 0.6169 - val_loss: 0.9656 - val_accuracy: 0.6938\n",
            "Epoch 3/40\n",
            "4270/4270 [==============================] - 599s 140ms/step - loss: 0.8137 - accuracy: 0.7445 - val_loss: 0.7853 - val_accuracy: 0.7456\n",
            "Epoch 4/40\n",
            "4270/4270 [==============================] - 600s 140ms/step - loss: 0.6547 - accuracy: 0.7969 - val_loss: 0.5934 - val_accuracy: 0.8152\n",
            "Epoch 5/40\n",
            "4270/4270 [==============================] - 600s 141ms/step - loss: 0.5752 - accuracy: 0.8212 - val_loss: 0.5404 - val_accuracy: 0.8316\n",
            "Epoch 6/40\n",
            "4270/4270 [==============================] - 600s 141ms/step - loss: 0.5332 - accuracy: 0.8335 - val_loss: 0.4992 - val_accuracy: 0.8421\n",
            "Epoch 7/40\n",
            "4270/4270 [==============================] - 603s 141ms/step - loss: 0.5023 - accuracy: 0.8424 - val_loss: 0.4692 - val_accuracy: 0.8534\n",
            "Epoch 8/40\n",
            "4270/4270 [==============================] - 603s 141ms/step - loss: 0.4800 - accuracy: 0.8490 - val_loss: 0.6003 - val_accuracy: 0.8042\n",
            "Epoch 9/40\n",
            "4270/4270 [==============================] - 603s 141ms/step - loss: 0.4555 - accuracy: 0.8567 - val_loss: 0.4366 - val_accuracy: 0.8640\n",
            "Epoch 10/40\n",
            "4270/4270 [==============================] - 603s 141ms/step - loss: 0.4460 - accuracy: 0.8591 - val_loss: 0.4282 - val_accuracy: 0.8669\n",
            "Epoch 11/40\n",
            "4270/4270 [==============================] - 609s 143ms/step - loss: 0.4196 - accuracy: 0.8677 - val_loss: 0.4337 - val_accuracy: 0.8673\n",
            "Epoch 12/40\n",
            "4270/4270 [==============================] - 612s 143ms/step - loss: 0.4082 - accuracy: 0.8711 - val_loss: 0.3999 - val_accuracy: 0.8759\n",
            "Epoch 13/40\n",
            "4270/4270 [==============================] - 609s 143ms/step - loss: 0.3915 - accuracy: 0.8765 - val_loss: 0.4142 - val_accuracy: 0.8716\n",
            "Epoch 14/40\n",
            "4270/4270 [==============================] - 612s 143ms/step - loss: 0.3817 - accuracy: 0.8796 - val_loss: 0.3953 - val_accuracy: 0.8767\n",
            "Epoch 15/40\n",
            "4270/4270 [==============================] - 605s 142ms/step - loss: 0.3715 - accuracy: 0.8827 - val_loss: 0.4103 - val_accuracy: 0.8705\n",
            "Epoch 16/40\n",
            "4270/4270 [==============================] - 603s 141ms/step - loss: 0.3624 - accuracy: 0.8856 - val_loss: 0.3762 - val_accuracy: 0.8836\n",
            "Epoch 17/40\n",
            "4270/4270 [==============================] - 602s 141ms/step - loss: 0.3550 - accuracy: 0.8879 - val_loss: 0.3784 - val_accuracy: 0.8859\n",
            "Epoch 18/40\n",
            "4270/4270 [==============================] - 602s 141ms/step - loss: 0.3458 - accuracy: 0.8910 - val_loss: 0.3740 - val_accuracy: 0.8840\n",
            "Epoch 19/40\n",
            "4270/4270 [==============================] - 603s 141ms/step - loss: 0.3409 - accuracy: 0.8926 - val_loss: 0.3766 - val_accuracy: 0.8833\n",
            "Epoch 20/40\n",
            "4270/4270 [==============================] - 603s 141ms/step - loss: 0.3308 - accuracy: 0.8958 - val_loss: 0.3688 - val_accuracy: 0.8877\n",
            "Epoch 21/40\n",
            "4270/4270 [==============================] - 603s 141ms/step - loss: 0.3282 - accuracy: 0.8965 - val_loss: 0.3688 - val_accuracy: 0.8857\n",
            "Epoch 22/40\n",
            "4270/4270 [==============================] - 603s 141ms/step - loss: 0.3207 - accuracy: 0.8990 - val_loss: 0.3690 - val_accuracy: 0.8856\n",
            "Epoch 23/40\n",
            "4270/4270 [==============================] - 603s 141ms/step - loss: 0.3111 - accuracy: 0.9022 - val_loss: 0.3604 - val_accuracy: 0.8880\n",
            "Epoch 24/40\n",
            "4270/4270 [==============================] - 603s 141ms/step - loss: 0.3071 - accuracy: 0.9035 - val_loss: 0.3606 - val_accuracy: 0.8900\n",
            "Epoch 25/40\n",
            "4270/4270 [==============================] - 603s 141ms/step - loss: 0.3001 - accuracy: 0.9058 - val_loss: 0.3514 - val_accuracy: 0.8932\n",
            "Epoch 26/40\n",
            "4270/4270 [==============================] - 603s 141ms/step - loss: 0.2958 - accuracy: 0.9072 - val_loss: 0.3552 - val_accuracy: 0.8925\n",
            "Epoch 27/40\n",
            "4270/4270 [==============================] - 602s 141ms/step - loss: 0.2907 - accuracy: 0.9089 - val_loss: 0.3541 - val_accuracy: 0.8933\n",
            "Epoch 28/40\n",
            "4270/4270 [==============================] - 602s 141ms/step - loss: 0.2917 - accuracy: 0.9084 - val_loss: 0.3526 - val_accuracy: 0.8932\n",
            "Epoch 29/40\n",
            "4270/4270 [==============================] - ETA: 0s - loss: 0.2826 - accuracy: 0.9115Epoch 30/40\n",
            "4270/4270 [==============================] - 601s 141ms/step - loss: 0.2782 - accuracy: 0.9131 - val_loss: 0.3737 - val_accuracy: 0.8907\n",
            "Epoch 31/40\n",
            "4270/4270 [==============================] - 602s 141ms/step - loss: 0.2730 - accuracy: 0.9148 - val_loss: 0.3499 - val_accuracy: 0.8976\n",
            "Epoch 32/40\n",
            "4270/4270 [==============================] - 602s 141ms/step - loss: 0.2712 - accuracy: 0.9153 - val_loss: 0.3594 - val_accuracy: 0.8920\n",
            "Epoch 33/40\n",
            "4270/4270 [==============================] - 603s 141ms/step - loss: 0.2719 - accuracy: 0.9151 - val_loss: 0.3525 - val_accuracy: 0.8956\n",
            "Epoch 34/40\n",
            "4270/4270 [==============================] - 603s 141ms/step - loss: 0.2649 - accuracy: 0.9174 - val_loss: 0.3558 - val_accuracy: 0.8950\n",
            "Epoch 35/40\n",
            "4270/4270 [==============================] - 603s 141ms/step - loss: 0.2593 - accuracy: 0.9193 - val_loss: 0.3525 - val_accuracy: 0.8976\n",
            "Epoch 36/40\n",
            "4270/4270 [==============================] - 603s 141ms/step - loss: 0.2569 - accuracy: 0.9200 - val_loss: 0.3550 - val_accuracy: 0.8976\n",
            "Epoch 37/40\n",
            "4270/4270 [==============================] - 604s 141ms/step - loss: 0.2587 - accuracy: 0.9195 - val_loss: 0.3629 - val_accuracy: 0.8956\n",
            "Epoch 38/40\n",
            "4270/4270 [==============================] - 605s 142ms/step - loss: 0.2512 - accuracy: 0.9218 - val_loss: 0.3499 - val_accuracy: 0.8988\n",
            "Epoch 39/40\n",
            "4270/4270 [==============================] - 604s 141ms/step - loss: 0.2477 - accuracy: 0.9231 - val_loss: 0.3474 - val_accuracy: 0.8977\n",
            "Epoch 40/40\n",
            "4270/4270 [==============================] - 604s 141ms/step - loss: 0.2428 - accuracy: 0.9246 - val_loss: 0.3473 - val_accuracy: 0.8994\n"
          ]
        },
        {
          "data": {
            "image/png": "[encoded data removed]",
            "text/plain": [
              "<Figure size 432x288 with 1 Axes>"
            ]
          },
          "metadata": {
            "needs_background": "light"
          },
          "output_type": "display_data"
        }
      ],
      "source": [
        "his_4 = model_4.fit(train_padded, test_padded, batch_size=192, epochs=epoch, validation_data = (val_train_padded, val_test_padded))\n",
        "\n",
        "plt.plot(his_4.history['loss'])\n",
        "plt.plot(his_4.history['val_loss'])\n",
        "plt.legend(['train','validation'])\n",
        "plt.show()"
      ]
    },
    {
      "cell_type": "code",
      "execution_count": null,
      "metadata": {
        "id": "ADAyQCdl7mmw"
      },
      "outputs": [],
      "source": [
        "# model_4.save('/content/drive/MyDrive/Colab_Notebooks/accuracylength')"
      ]
    },
    {
      "cell_type": "code",
      "execution_count": null,
      "metadata": {
        "id": "KpGWAIiQUe0_"
      },
      "outputs": [],
      "source": [
        "test_sample = test_x.iloc[:10]\n",
        "test_sample = g_text_tokenizer.texts_to_sequences(test_sample)\n",
        "test_sample = pad_sequences(test_sample, maxlen=max_length, padding='post')\n"
      ]
    },
    {
      "cell_type": "code",
      "execution_count": null,
      "metadata": {
        "colab": {
          "base_uri": "https://localhost:8080/"
        },
        "id": "wUHeCyCM02he",
        "outputId": "35c11515-6ba0-4db7-c0ee-3b3bbe2f1915"
      },
      "outputs": [
        {
          "data": {
            "text/plain": [
              "775998    wa rolls out qr xkdes for contact teacong as b...\n",
              "681386          three seriously inkurd in ballarat qccidebt\n",
              "384277                 local ccylists finish outr de france\n",
              "951111       wadeye residents eskeing return to outstaitosn\n",
              "447964      mystrye of missing olrf harris painting remains\n",
              "921442       xomstic markets flat deslits ihtereet rate cut\n",
              "105140               businxsman pays 840000 for numhr plate\n",
              "41074     art exhibition 4este boundaries of mkderm femi...\n",
              "521659         police consider wpefd in fatzp wodonga cfasn\n",
              "550832               ypen bojetcs to pms holocaust allusion\n",
              "Name: augmented_text, dtype: object"
            ]
          },
          "execution_count": 27,
          "metadata": {},
          "output_type": "execute_result"
        }
      ],
      "source": [
        "test_x.iloc[:10]"
      ]
    },
    {
      "cell_type": "code",
      "execution_count": null,
      "metadata": {
        "colab": {
          "base_uri": "https://localhost:8080/"
        },
        "id": "o48mfKmhsDv0",
        "outputId": "f82fec1b-413b-4d4e-f980-40b18bf827aa"
      },
      "outputs": [
        {
          "data": {
            "text/plain": [
              "775998    wa rolls out qr codes for contact tracing as b...\n",
              "681386         three seriously injured in ballarat accident\n",
              "384277                 local cyclists finish tour de france\n",
              "951111       wadeye residents seeking return to outstations\n",
              "447964      mystery of missing rolf harris painting remains\n",
              "921442      domestic markets flat despite interest rate cut\n",
              "105140             businessman pays 840000 for number plate\n",
              "41074     art exhibition tests boundaries of modern femi...\n",
              "521659         police consider speed in fatal wodonga crash\n",
              "550832               pyne objects to pms holocaust allusion\n",
              "Name: text, dtype: object"
            ]
          },
          "execution_count": 28,
          "metadata": {},
          "output_type": "execute_result"
        }
      ],
      "source": [
        "test_y.iloc[:10]"
      ]
    },
    {
      "cell_type": "code",
      "execution_count": null,
      "metadata": {
        "id": "kvPsR8hHEQq9"
      },
      "outputs": [],
      "source": [
        "pre = model_4.predict(test_sample)\n",
        "def deTokenize(logits):\n",
        "    index_to_words = {id: word for word, id in text_tokenizer.word_index.items()}\n",
        "    index_to_words[0] = ''\n",
        "    pre_index = np.argmax(logits, 1)\n",
        "    return ''.join(index_to_words[prediction] for prediction in pre_index)\n",
        "predict = []\n",
        "for i in range(10):\n",
        "  predict.append(deTokenize(pre[i]))"
      ]
    },
    {
      "cell_type": "code",
      "execution_count": null,
      "metadata": {
        "colab": {
          "base_uri": "https://localhost:8080/"
        },
        "id": "LCXcto7u1iTa",
        "outputId": "a3634956-d05a-469c-900d-cf485817b24b"
      },
      "outputs": [
        {
          "data": {
            "text/html": [
              "\n",
              "  <div id=\"df-5ca5339f-5880-41da-855b-38ed5dcf19b4\">\n",
              "    <div class=\"colab-df-container\">\n",
              "      <div>\n",
              "<style scoped>\n",
              "    .dataframe tbody tr th:only-of-type {\n",
              "        vertical-align: middle;\n",
              "    }\n",
              "\n",
              "    .dataframe tbody tr th {\n",
              "        vertical-align: top;\n",
              "    }\n",
              "\n",
              "    .dataframe thead th {\n",
              "        text-align: right;\n",
              "    }\n",
              "</style>\n",
              "<table border=\"1\" class=\"dataframe\">\n",
              "  <thead>\n",
              "    <tr style=\"text-align: right;\">\n",
              "      <th></th>\n",
              "      <th>input</th>\n",
              "      <th>output</th>\n",
              "      <th>predict</th>\n",
              "    </tr>\n",
              "  </thead>\n",
              "  <tbody>\n",
              "    <tr>\n",
              "      <th>775998</th>\n",
              "      <td>wa rolls out qr xkdes for contact teacong as b...</td>\n",
              "      <td>wa rolls out qr codes for contact tracing as b...</td>\n",
              "      <td>wa rolls out aa dides for contact reaconn aa b...</td>\n",
              "    </tr>\n",
              "    <tr>\n",
              "      <th>681386</th>\n",
              "      <td>three seriously inkurd in ballarat qccidebt</td>\n",
              "      <td>three seriously injured in ballarat accident</td>\n",
              "      <td>three seriously injored in ballrratacciidntt</td>\n",
              "    </tr>\n",
              "    <tr>\n",
              "      <th>384277</th>\n",
              "      <td>local ccylists finish outr de france</td>\n",
              "      <td>local cyclists finish tour de france</td>\n",
              "      <td>local cyylists finish tour de france</td>\n",
              "    </tr>\n",
              "    <tr>\n",
              "      <th>951111</th>\n",
              "      <td>wadeye residents eskeing return to outstaitosn</td>\n",
              "      <td>wadeye residents seeking return to outstations</td>\n",
              "      <td>wadeey residents seeking return to outstations</td>\n",
              "    </tr>\n",
              "    <tr>\n",
              "      <th>447964</th>\n",
              "      <td>mystrye of missing olrf harris painting remains</td>\n",
              "      <td>mystery of missing rolf harris painting remains</td>\n",
              "      <td>mystere of missing lolf harris painting remains</td>\n",
              "    </tr>\n",
              "    <tr>\n",
              "      <th>921442</th>\n",
              "      <td>xomstic markets flat deslits ihtereet rate cut</td>\n",
              "      <td>domestic markets flat despite interest rate cut</td>\n",
              "      <td>comsttcc markets flat deslits intereet rate cut</td>\n",
              "    </tr>\n",
              "    <tr>\n",
              "      <th>105140</th>\n",
              "      <td>businxsman pays 840000 for numhr plate</td>\n",
              "      <td>businessman pays 840000 for number plate</td>\n",
              "      <td>businesman pays 880000 for mumnrr paate</td>\n",
              "    </tr>\n",
              "    <tr>\n",
              "      <th>41074</th>\n",
              "      <td>art exhibition 4este boundaries of mkderm femi...</td>\n",
              "      <td>art exhibition tests boundaries of modern femi...</td>\n",
              "      <td>art exminition seste boundaries of miderr  emi...</td>\n",
              "    </tr>\n",
              "    <tr>\n",
              "      <th>521659</th>\n",
              "      <td>police consider wpefd in fatzp wodonga cfasn</td>\n",
              "      <td>police consider speed in fatal wodonga crash</td>\n",
              "      <td>police consider speed in fatal wodonga crash</td>\n",
              "    </tr>\n",
              "    <tr>\n",
              "      <th>550832</th>\n",
              "      <td>ypen bojetcs to pms holocaust allusion</td>\n",
              "      <td>pyne objects to pms holocaust allusion</td>\n",
              "      <td>hope bijjecs too ps  holocass allussin</td>\n",
              "    </tr>\n",
              "  </tbody>\n",
              "</table>\n",
              "</div>\n",
              "      <button class=\"colab-df-convert\" onclick=\"convertToInteractive('df-5ca5339f-5880-41da-855b-38ed5dcf19b4')\"\n",
              "              title=\"Convert this dataframe to an interactive table.\"\n",
              "              style=\"display:none;\">\n",
              "        \n",
              "  <svg xmlns=\"http://www.w3.org/2000/svg\" height=\"24px\"viewBox=\"0 0 24 24\"\n",
              "       width=\"24px\">\n",
              "    <path d=\"M0 0h24v24H0V0z\" fill=\"none\"/>\n",
              "    <path d=\"M18.56 5.44l.94 2.06.94-2.06 2.06-.94-2.06-.94-.94-2.06-.94 2.06-2.06.94zm-11 1L8.5 8.5l.94-2.06 2.06-.94-2.06-.94L8.5 2.5l-.94 2.06-2.06.94zm10 10l.94 2.06.94-2.06 2.06-.94-2.06-.94-.94-2.06-.94 2.06-2.06.94z\"/><path d=\"M17.41 7.96l-1.37-1.37c-.4-.4-.92-.59-1.43-.59-.52 0-1.04.2-1.43.59L10.3 9.45l-7.72 7.72c-.78.78-.78 2.05 0 2.83L4 21.41c.39.39.9.59 1.41.59.51 0 1.02-.2 1.41-.59l7.78-7.78 2.81-2.81c.8-.78.8-2.07 0-2.86zM5.41 20L4 18.59l7.72-7.72 1.47 1.35L5.41 20z\"/>\n",
              "  </svg>\n",
              "      </button>\n",
              "      \n",
              "  <style>\n",
              "    .colab-df-container {\n",
              "      display:flex;\n",
              "      flex-wrap:wrap;\n",
              "      gap: 12px;\n",
              "    }\n",
              "\n",
              "    .colab-df-convert {\n",
              "      background-color: #E8F0FE;\n",
              "      border: none;\n",
              "      border-radius: 50%;\n",
              "      cursor: pointer;\n",
              "      display: none;\n",
              "      fill: #1967D2;\n",
              "      height: 32px;\n",
              "      padding: 0 0 0 0;\n",
              "      width: 32px;\n",
              "    }\n",
              "\n",
              "    .colab-df-convert:hover {\n",
              "      background-color: #E2EBFA;\n",
              "      box-shadow: 0px 1px 2px rgba(60, 64, 67, 0.3), 0px 1px 3px 1px rgba(60, 64, 67, 0.15);\n",
              "      fill: #174EA6;\n",
              "    }\n",
              "\n",
              "    [theme=dark] .colab-df-convert {\n",
              "      background-color: #3B4455;\n",
              "      fill: #D2E3FC;\n",
              "    }\n",
              "\n",
              "    [theme=dark] .colab-df-convert:hover {\n",
              "      background-color: #434B5C;\n",
              "      box-shadow: 0px 1px 3px 1px rgba(0, 0, 0, 0.15);\n",
              "      filter: drop-shadow(0px 1px 2px rgba(0, 0, 0, 0.3));\n",
              "      fill: #FFFFFF;\n",
              "    }\n",
              "  </style>\n",
              "\n",
              "      <script>\n",
              "        const buttonEl =\n",
              "          document.querySelector('#df-5ca5339f-5880-41da-855b-38ed5dcf19b4 button.colab-df-convert');\n",
              "        buttonEl.style.display =\n",
              "          google.colab.kernel.accessAllowed ? 'block' : 'none';\n",
              "\n",
              "        async function convertToInteractive(key) {\n",
              "          const element = document.querySelector('#df-5ca5339f-5880-41da-855b-38ed5dcf19b4');\n",
              "          const dataTable =\n",
              "            await google.colab.kernel.invokeFunction('convertToInteractive',\n",
              "                                                     [key], {});\n",
              "          if (!dataTable) return;\n",
              "\n",
              "          const docLinkHtml = 'Like what you see? Visit the ' +\n",
              "            '<a target=\"_blank\" href=https://colab.research.google.com/notebooks/data_table.ipynb>data table notebook</a>'\n",
              "            + ' to learn more about interactive tables.';\n",
              "          element.innerHTML = '';\n",
              "          dataTable['output_type'] = 'display_data';\n",
              "          await google.colab.output.renderOutput(dataTable, element);\n",
              "          const docLink = document.createElement('div');\n",
              "          docLink.innerHTML = docLinkHtml;\n",
              "          element.appendChild(docLink);\n",
              "        }\n",
              "      </script>\n",
              "    </div>\n",
              "  </div>\n",
              "  "
            ],
            "text/plain": [
              "                                                    input  \\\n",
              "775998  wa rolls out qr xkdes for contact teacong as b...   \n",
              "681386        three seriously inkurd in ballarat qccidebt   \n",
              "384277               local ccylists finish outr de france   \n",
              "951111     wadeye residents eskeing return to outstaitosn   \n",
              "447964    mystrye of missing olrf harris painting remains   \n",
              "921442     xomstic markets flat deslits ihtereet rate cut   \n",
              "105140             businxsman pays 840000 for numhr plate   \n",
              "41074   art exhibition 4este boundaries of mkderm femi...   \n",
              "521659       police consider wpefd in fatzp wodonga cfasn   \n",
              "550832             ypen bojetcs to pms holocaust allusion   \n",
              "\n",
              "                                                   output  \\\n",
              "775998  wa rolls out qr codes for contact tracing as b...   \n",
              "681386       three seriously injured in ballarat accident   \n",
              "384277               local cyclists finish tour de france   \n",
              "951111     wadeye residents seeking return to outstations   \n",
              "447964    mystery of missing rolf harris painting remains   \n",
              "921442    domestic markets flat despite interest rate cut   \n",
              "105140           businessman pays 840000 for number plate   \n",
              "41074   art exhibition tests boundaries of modern femi...   \n",
              "521659       police consider speed in fatal wodonga crash   \n",
              "550832             pyne objects to pms holocaust allusion   \n",
              "\n",
              "                                                  predict  \n",
              "775998  wa rolls out aa dides for contact reaconn aa b...  \n",
              "681386       three seriously injored in ballrratacciidntt  \n",
              "384277               local cyylists finish tour de france  \n",
              "951111     wadeey residents seeking return to outstations  \n",
              "447964    mystere of missing lolf harris painting remains  \n",
              "921442    comsttcc markets flat deslits intereet rate cut  \n",
              "105140            businesman pays 880000 for mumnrr paate  \n",
              "41074   art exminition seste boundaries of miderr  emi...  \n",
              "521659       police consider speed in fatal wodonga crash  \n",
              "550832             hope bijjecs too ps  holocass allussin  "
            ]
          },
          "execution_count": 30,
          "metadata": {},
          "output_type": "execute_result"
        }
      ],
      "source": [
        "eva = pd.DataFrame({'input': test_x.iloc[:10], 'output': test_y.iloc[:10], 'predict':predict})\n",
        "eva\n"
      ]
    },
    {
      "cell_type": "code",
      "execution_count": null,
      "metadata": {
        "colab": {
          "base_uri": "https://localhost:8080/"
        },
        "id": "T-6vwxhK56Uw",
        "outputId": "626e519a-f8ea-47bc-cff5-8704adbfdc09"
      },
      "outputs": [
        {
          "name": "stdout",
          "output_type": "stream",
          "text": [
            "Iutput:     art exhibition 4este boundaries of mkderm femin8sj\n",
            "Actual:     art exhibition tests boundaries of modern feminism\n",
            "Predicted:  art exminition seste boundaries of miderr  eminisn\n"
          ]
        }
      ],
      "source": [
        "print(\"Iutput:    \",test_x.iloc[7])\n",
        "print(\"Actual:    \",test_y.iloc[7])\n",
        "print(\"Predicted: \",deTokenize(pre[7]))"
      ]
    }
  ],
  "metadata": {
    "accelerator": "GPU",
    "colab": {
      "collapsed_sections": [],
      "name": "method7.ipynb",
      "provenance": []
    },
    "kernelspec": {
      "display_name": "Python 3",
      "name": "python3"
    },
    "language_info": {
      "name": "python"
    }
  },
  "nbformat": 4,
  "nbformat_minor": 0
}
