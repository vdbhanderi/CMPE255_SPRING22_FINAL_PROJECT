{
  "cells": [
    {
      "cell_type": "code",
      "execution_count": 1,
      "metadata": {
        "colab": {
          "base_uri": "https://localhost:8080/"
        },
        "id": "2NEWAoUNP8xH",
        "outputId": "77ce4bda-5606-4463-a3ee-33cdfe9a3822"
      },
      "outputs": [
        {
          "name": "stdout",
          "output_type": "stream",
          "text": [
            "Drive already mounted at /content/drive/; to attempt to forcibly remount, call drive.mount(\"/content/drive/\", force_remount=True).\n"
          ]
        }
      ],
      "source": [
        "import tensorflow as tf\n",
        "import numpy as np\n",
        "import pandas as pd\n",
        "from keras.preprocessing.sequence import pad_sequences\n",
        "from keras.preprocessing.text import Tokenizer\n",
        "import re\n",
        "import os\n",
        "tf.__version__\n",
        "from google.colab import drive\n",
        "drive.mount('/content/drive/')"
      ]
    },
    {
      "cell_type": "code",
      "execution_count": 2,
      "metadata": {
        "id": "CLrsbOIpTU1m"
      },
      "outputs": [],
      "source": [
        "text_data = pd.read_csv(\"/content/drive/MyDrive/Colab_Notebooks/train.csv\")"
      ]
    },
    {
      "cell_type": "code",
      "execution_count": 3,
      "metadata": {
        "id": "s5oWgBqmTp7p"
      },
      "outputs": [],
      "source": [
        "def clean_data(text):\n",
        "    text = text.lower()\n",
        "    text = re.sub(r\"[-=+*\\\"#@!$%^&()`<>\\[\\]]\",\"\",text)\n",
        "    text = re.sub(r\"i'm\",\"i am\",text)\n",
        "    text = re.sub(r\"he's\",\"he is\",text)\n",
        "    text = re.sub(r\"she's\",\"she is\",text)\n",
        "    text = re.sub(r\"it's\",\"it is\",text)\n",
        "    text = re.sub(r\"they're\",\"they are\",text)\n",
        "    text = re.sub(r\"there're\",\"there are\",text)\n",
        "    text = re.sub(r\"there's\",\"there is\",text)\n",
        "    text = re.sub(r\"how're\",\"how are\",text)\n",
        "    text = re.sub(r\"what're\",\"what are\",text)\n",
        "    text = re.sub(r\"where're\",\"where \",text)\n",
        "    text = re.sub(r\"who're\",\"who are\",text)\n",
        "    text = re.sub(r\"that're\",\"that are\",text)\n",
        "    text = re.sub(r\"when're\",\"when are\",text)\n",
        "    text = re.sub(r\"how's\",\"how is\",text)\n",
        "    text = re.sub(r\"what's\",\"what is\",text)\n",
        "    text = re.sub(r\"where's\",\"where is\",text)\n",
        "    text = re.sub(r\"who's\",\"who is\",text)\n",
        "    text = re.sub(r\"that's\",\"that is\",text)\n",
        "    text = re.sub(r\"when's\",\"when is\",text)\n",
        "    text = re.sub(r\"won't\",\"would not\",text)\n",
        "    text = re.sub(r\"nt't\",\"can not\",text)\n",
        "    text = re.sub(r\"\\'bout'\",\"about\",text)\n",
        "    text = re.sub(r\"\\'till'\",\"untill\",text)\n",
        "    text = re.sub(r\"\\'ll\",\"will\",text)\n",
        "    text = re.sub(r\"\\'ve\",\"have\",text)\n",
        "    text = re.sub(r\"\\'re\",\"are\",text)\n",
        "    text = re.sub(r\"\\'d\",\"would\",text)\n",
        "    text = re.sub(r\"\\.\",\" \",text)\n",
        "    text = re.sub(r\"\\,\",\" \",text)\n",
        "    text = re.sub(r\"\\!\",\" \",text)\n",
        "    text = re.sub(r\"\\?\",\" \",text)\n",
        "    text = re.sub(r\"\\;\",\" \",text)\n",
        "    text = re.sub(r\"\\:\",\" \",text)\n",
        "    return text\n",
        "\n",
        "    \n",
        "text_data['text'] = text_data['text'].apply(clean_data)\n",
        "text_data['augmented_text'] = text_data['augmented_text'].apply(clean_data)\n",
        "\n",
        "\n"
      ]
    },
    {
      "cell_type": "code",
      "execution_count": 5,
      "metadata": {
        "colab": {
          "base_uri": "https://localhost:8080/",
          "height": 423
        },
        "id": "IZMTBLH1H-U7",
        "outputId": "fb966070-1b30-41fb-d7e3-4ee7f56fd971"
      },
      "outputs": [
        {
          "data": {
            "text/html": [
              "\n",
              "  <div id=\"df-cb61f8e1-dd12-4409-b3e0-c1b2d3e75b19\">\n",
              "    <div class=\"colab-df-container\">\n",
              "      <div>\n",
              "<style scoped>\n",
              "    .dataframe tbody tr th:only-of-type {\n",
              "        vertical-align: middle;\n",
              "    }\n",
              "\n",
              "    .dataframe tbody tr th {\n",
              "        vertical-align: top;\n",
              "    }\n",
              "\n",
              "    .dataframe thead th {\n",
              "        text-align: right;\n",
              "    }\n",
              "</style>\n",
              "<table border=\"1\" class=\"dataframe\">\n",
              "  <thead>\n",
              "    <tr style=\"text-align: right;\">\n",
              "      <th></th>\n",
              "      <th>text</th>\n",
              "      <th>augmented_text</th>\n",
              "    </tr>\n",
              "  </thead>\n",
              "  <tbody>\n",
              "    <tr>\n",
              "      <th>0</th>\n",
              "      <td>1 billion darling harbour redevelopment plans ...</td>\n",
              "      <td>1 billion darling hsarfbour redeevelopment p3...</td>\n",
              "    </tr>\n",
              "    <tr>\n",
              "      <th>1</th>\n",
              "      <td>1 billion desalination claim frivolous walsh</td>\n",
              "      <td>1 ibllion desalination lciam rfivloous walsh</td>\n",
              "    </tr>\n",
              "    <tr>\n",
              "      <th>2</th>\n",
              "      <td>1 billion wiped from nsw budget in accounting ...</td>\n",
              "      <td>1 billino wiped from nsw budget in accountngi...</td>\n",
              "    </tr>\n",
              "    <tr>\n",
              "      <th>3</th>\n",
              "      <td>1 million reward in hunt for bowraville killer</td>\n",
              "      <td>1 million reward in htun for boawrville killre</td>\n",
              "    </tr>\n",
              "    <tr>\n",
              "      <th>4</th>\n",
              "      <td>1 million wall to shield coal train noise</td>\n",
              "      <td>1 million wqli to shjele coal raib noise</td>\n",
              "    </tr>\n",
              "    <tr>\n",
              "      <th>...</th>\n",
              "      <td>...</td>\n",
              "      <td>...</td>\n",
              "    </tr>\n",
              "    <tr>\n",
              "      <th>768636</th>\n",
              "      <td>zygier arrested after leaking mossad work to a...</td>\n",
              "      <td>zygier arrectrd after leak9nh mossad eoek to a...</td>\n",
              "    </tr>\n",
              "    <tr>\n",
              "      <th>768637</th>\n",
              "      <td>zygier sabotaged mission to retrieve soldiers</td>\n",
              "      <td>zgyire sabotaged misisno to retrieve soldiers</td>\n",
              "    </tr>\n",
              "    <tr>\n",
              "      <th>768638</th>\n",
              "      <td>zylvester streaks field in alice cup</td>\n",
              "      <td>zylvester streaks field in ialce cup</td>\n",
              "    </tr>\n",
              "    <tr>\n",
              "      <th>768639</th>\n",
              "      <td>zynga adoption pushes bitcoin back over 1000</td>\n",
              "      <td>z6ngz adoption pushes fitcokn naxk over 1000</td>\n",
              "    </tr>\n",
              "    <tr>\n",
              "      <th>768640</th>\n",
              "      <td>zyngier privatisation of schools</td>\n",
              "      <td>yzngeir privatisation of cshools</td>\n",
              "    </tr>\n",
              "  </tbody>\n",
              "</table>\n",
              "<p>768641 rows × 2 columns</p>\n",
              "</div>\n",
              "      <button class=\"colab-df-convert\" onclick=\"convertToInteractive('df-cb61f8e1-dd12-4409-b3e0-c1b2d3e75b19')\"\n",
              "              title=\"Convert this dataframe to an interactive table.\"\n",
              "              style=\"display:none;\">\n",
              "        \n",
              "  <svg xmlns=\"http://www.w3.org/2000/svg\" height=\"24px\"viewBox=\"0 0 24 24\"\n",
              "       width=\"24px\">\n",
              "    <path d=\"M0 0h24v24H0V0z\" fill=\"none\"/>\n",
              "    <path d=\"M18.56 5.44l.94 2.06.94-2.06 2.06-.94-2.06-.94-.94-2.06-.94 2.06-2.06.94zm-11 1L8.5 8.5l.94-2.06 2.06-.94-2.06-.94L8.5 2.5l-.94 2.06-2.06.94zm10 10l.94 2.06.94-2.06 2.06-.94-2.06-.94-.94-2.06-.94 2.06-2.06.94z\"/><path d=\"M17.41 7.96l-1.37-1.37c-.4-.4-.92-.59-1.43-.59-.52 0-1.04.2-1.43.59L10.3 9.45l-7.72 7.72c-.78.78-.78 2.05 0 2.83L4 21.41c.39.39.9.59 1.41.59.51 0 1.02-.2 1.41-.59l7.78-7.78 2.81-2.81c.8-.78.8-2.07 0-2.86zM5.41 20L4 18.59l7.72-7.72 1.47 1.35L5.41 20z\"/>\n",
              "  </svg>\n",
              "      </button>\n",
              "      \n",
              "  <style>\n",
              "    .colab-df-container {\n",
              "      display:flex;\n",
              "      flex-wrap:wrap;\n",
              "      gap: 12px;\n",
              "    }\n",
              "\n",
              "    .colab-df-convert {\n",
              "      background-color: #E8F0FE;\n",
              "      border: none;\n",
              "      border-radius: 50%;\n",
              "      cursor: pointer;\n",
              "      display: none;\n",
              "      fill: #1967D2;\n",
              "      height: 32px;\n",
              "      padding: 0 0 0 0;\n",
              "      width: 32px;\n",
              "    }\n",
              "\n",
              "    .colab-df-convert:hover {\n",
              "      background-color: #E2EBFA;\n",
              "      box-shadow: 0px 1px 2px rgba(60, 64, 67, 0.3), 0px 1px 3px 1px rgba(60, 64, 67, 0.15);\n",
              "      fill: #174EA6;\n",
              "    }\n",
              "\n",
              "    [theme=dark] .colab-df-convert {\n",
              "      background-color: #3B4455;\n",
              "      fill: #D2E3FC;\n",
              "    }\n",
              "\n",
              "    [theme=dark] .colab-df-convert:hover {\n",
              "      background-color: #434B5C;\n",
              "      box-shadow: 0px 1px 3px 1px rgba(0, 0, 0, 0.15);\n",
              "      filter: drop-shadow(0px 1px 2px rgba(0, 0, 0, 0.3));\n",
              "      fill: #FFFFFF;\n",
              "    }\n",
              "  </style>\n",
              "\n",
              "      <script>\n",
              "        const buttonEl =\n",
              "          document.querySelector('#df-cb61f8e1-dd12-4409-b3e0-c1b2d3e75b19 button.colab-df-convert');\n",
              "        buttonEl.style.display =\n",
              "          google.colab.kernel.accessAllowed ? 'block' : 'none';\n",
              "\n",
              "        async function convertToInteractive(key) {\n",
              "          const element = document.querySelector('#df-cb61f8e1-dd12-4409-b3e0-c1b2d3e75b19');\n",
              "          const dataTable =\n",
              "            await google.colab.kernel.invokeFunction('convertToInteractive',\n",
              "                                                     [key], {});\n",
              "          if (!dataTable) return;\n",
              "\n",
              "          const docLinkHtml = 'Like what you see? Visit the ' +\n",
              "            '<a target=\"_blank\" href=https://colab.research.google.com/notebooks/data_table.ipynb>data table notebook</a>'\n",
              "            + ' to learn more about interactive tables.';\n",
              "          element.innerHTML = '';\n",
              "          dataTable['output_type'] = 'display_data';\n",
              "          await google.colab.output.renderOutput(dataTable, element);\n",
              "          const docLink = document.createElement('div');\n",
              "          docLink.innerHTML = docLinkHtml;\n",
              "          element.appendChild(docLink);\n",
              "        }\n",
              "      </script>\n",
              "    </div>\n",
              "  </div>\n",
              "  "
            ],
            "text/plain": [
              "                                                     text  \\\n",
              "0       1 billion darling harbour redevelopment plans ...   \n",
              "1            1 billion desalination claim frivolous walsh   \n",
              "2       1 billion wiped from nsw budget in accounting ...   \n",
              "3          1 million reward in hunt for bowraville killer   \n",
              "4               1 million wall to shield coal train noise   \n",
              "...                                                   ...   \n",
              "768636  zygier arrested after leaking mossad work to a...   \n",
              "768637      zygier sabotaged mission to retrieve soldiers   \n",
              "768638               zylvester streaks field in alice cup   \n",
              "768639       zynga adoption pushes bitcoin back over 1000   \n",
              "768640                   zyngier privatisation of schools   \n",
              "\n",
              "                                           augmented_text  \n",
              "0        1 billion darling hsarfbour redeevelopment p3...  \n",
              "1            1 ibllion desalination lciam rfivloous walsh  \n",
              "2        1 billino wiped from nsw budget in accountngi...  \n",
              "3          1 million reward in htun for boawrville killre  \n",
              "4                1 million wqli to shjele coal raib noise  \n",
              "...                                                   ...  \n",
              "768636  zygier arrectrd after leak9nh mossad eoek to a...  \n",
              "768637      zgyire sabotaged misisno to retrieve soldiers  \n",
              "768638               zylvester streaks field in ialce cup  \n",
              "768639       z6ngz adoption pushes fitcokn naxk over 1000  \n",
              "768640                   yzngeir privatisation of cshools  \n",
              "\n",
              "[768641 rows x 2 columns]"
            ]
          },
          "execution_count": 5,
          "metadata": {},
          "output_type": "execute_result"
        }
      ],
      "source": [
        "text_data"
      ]
    },
    {
      "cell_type": "code",
      "execution_count": 6,
      "metadata": {
        "id": "RKId0VY12U3m"
      },
      "outputs": [],
      "source": [
        "testing = text_data[72001:72006]\n",
        "text_data = text_data.iloc[0:72000,]\n"
      ]
    },
    {
      "cell_type": "code",
      "execution_count": 7,
      "metadata": {
        "id": "sTa8D0WfT1gf"
      },
      "outputs": [],
      "source": [
        "\n",
        "g_text_tokenizer = Tokenizer()\n",
        "g_text_tokenizer.fit_on_texts(text_data['augmented_text'])\n",
        "g_text_word_index = g_text_tokenizer.word_index\n",
        "train_sequences = g_text_tokenizer.texts_to_sequences(text_data['augmented_text'])\n",
        "train_padded = pad_sequences(train_sequences, padding='post')\n",
        "\n",
        "max_length_g = train_padded.shape[1]\n",
        "\n",
        "text_tokenizer = Tokenizer()\n",
        "text_tokenizer.fit_on_texts(text_data['text'])\n",
        "text_word_index = text_tokenizer.word_index\n",
        "test_sequences = text_tokenizer.texts_to_sequences(text_data['text'])\n",
        "test_padded = pad_sequences(test_sequences, padding='post')\n",
        "max_length = test_padded.shape[1]\n",
        "\n",
        "\n"
      ]
    },
    {
      "cell_type": "code",
      "execution_count": 8,
      "metadata": {
        "colab": {
          "base_uri": "https://localhost:8080/"
        },
        "id": "jdRfdUWa3B99",
        "outputId": "5936f6eb-3fa0-4a96-a9bf-570a6476b4f7"
      },
      "outputs": [
        {
          "name": "stdout",
          "output_type": "stream",
          "text": [
            "14 14\n"
          ]
        }
      ],
      "source": [
        "print(max_length_g,max_length)\n"
      ]
    },
    {
      "cell_type": "code",
      "execution_count": 9,
      "metadata": {
        "colab": {
          "base_uri": "https://localhost:8080/"
        },
        "id": "Xq11JfWAGDmd",
        "outputId": "5be1cd12-31c9-4c94-ae59-1f01e9d1caea"
      },
      "outputs": [
        {
          "data": {
            "text/plain": [
              "(72000, 14)"
            ]
          },
          "execution_count": 9,
          "metadata": {},
          "output_type": "execute_result"
        }
      ],
      "source": [
        "# temp_padded = pad_sequences(train_padded,max_length )\n",
        "# temp_padded = temp_padded.reshape((-1,test_padded.shape[-2],1))\n",
        "# temp_padded.shape\n",
        "train_padded.shape"
      ]
    },
    {
      "cell_type": "code",
      "execution_count": 10,
      "metadata": {
        "colab": {
          "base_uri": "https://localhost:8080/"
        },
        "id": "npA5T2pATdEK",
        "outputId": "e27b8abd-01b1-4a19-bb85-59fa76595664"
      },
      "outputs": [
        {
          "name": "stdout",
          "output_type": "stream",
          "text": [
            "154250 31997\n"
          ]
        }
      ],
      "source": [
        "g_vocab_size = len(g_text_word_index)+1\n",
        "vocab_size = len(text_word_index)+1\n",
        "print(g_vocab_size, vocab_size)"
      ]
    },
    {
      "cell_type": "code",
      "execution_count": 12,
      "metadata": {
        "id": "EoIOVmTlT7c5"
      },
      "outputs": [],
      "source": [
        "model = tf.keras.Sequential([\n",
        "    tf.keras.layers.Embedding(input_dim=g_vocab_size, output_dim=1028, input_length=max_length_g, mask_zero=True),\n",
        "    tf.keras.layers.LSTM(1028),\n",
        "    tf.keras.layers.RepeatVector(max_length),\n",
        "    tf.keras.layers.LSTM(1028,return_sequences=True),\n",
        "    tf.keras.layers.LSTM(1028,return_sequences=True),\n",
        "    tf.keras.layers.Dropout(0.5),\n",
        "    tf.keras.layers.Dense(vocab_size,activation='softmax')\n",
        "])\n",
        "learning_rate = 0.001\n",
        "optimizer = tf.keras.optimizers.RMSprop(learning_rate)\n",
        "optimizer = tf.keras.mixed_precision.LossScaleOptimizer(optimizer)\n",
        "model.compile(loss=\"sparse_categorical_crossentropy\",\n",
        "              optimizer=optimizer,\n",
        "              metrics=['accuracy'])"
      ]
    },
    {
      "cell_type": "code",
      "execution_count": 13,
      "metadata": {
        "colab": {
          "base_uri": "https://localhost:8080/"
        },
        "id": "BIDyD7DqT-_c",
        "outputId": "a4b01b16-c7fb-4415-d6d9-4de4b21d6f43"
      },
      "outputs": [
        {
          "name": "stdout",
          "output_type": "stream",
          "text": [
            "Model: \"sequential\"\n",
            "____________________________________________________________________________\n",
            " Layer (type)                Output Shape              Param #   Trainable  \n",
            "============================================================================\n",
            " embedding (Embedding)       (None, 14, 1028)          15856900  Y          \n",
            "                                                       0                    \n",
            "                                                                            \n",
            " lstm (LSTM)                 (None, 1028)              8458384   Y          \n",
            "                                                                            \n",
            " repeat_vector (RepeatVector  (None, 14, 1028)         0         Y          \n",
            " )                                                                          \n",
            "                                                                            \n",
            " lstm_1 (LSTM)               (None, 14, 1028)          8458384   Y          \n",
            "                                                                            \n",
            " lstm_2 (LSTM)               (None, 14, 1028)          8458384   Y          \n",
            "                                                                            \n",
            " dropout (Dropout)           (None, 14, 1028)          0         Y          \n",
            "                                                                            \n",
            " dense (Dense)               (None, 14, 31997)         32924913  Y          \n",
            "                                                                            \n",
            "============================================================================\n",
            "Total params: 216,869,065\n",
            "Trainable params: 216,869,065\n",
            "Non-trainable params: 0\n",
            "____________________________________________________________________________\n"
          ]
        }
      ],
      "source": [
        "model.summary(expand_nested=True,\n",
        "    show_trainable=True)"
      ]
    },
    {
      "cell_type": "code",
      "execution_count": 14,
      "metadata": {
        "id": "eVK8H4m5dqdD"
      },
      "outputs": [],
      "source": [
        "temp_test_padded = test_padded.reshape((test_padded.shape[0], test_padded.shape[1],1))\n",
        "temp_train_padded = train_padded.reshape((train_padded.shape[0], train_padded.shape[1],1))\n"
      ]
    },
    {
      "cell_type": "code",
      "execution_count": 15,
      "metadata": {
        "colab": {
          "base_uri": "https://localhost:8080/"
        },
        "id": "Lz1009MuUGX-",
        "outputId": "608cd230-b225-4365-ad46-89cf37a04cd7"
      },
      "outputs": [
        {
          "name": "stdout",
          "output_type": "stream",
          "text": [
            "Epoch 1/20\n"
          ]
        },
        {
          "name": "stderr",
          "output_type": "stream",
          "text": [
            "/usr/local/lib/python3.7/dist-packages/tensorflow/python/framework/indexed_slices.py:439: UserWarning: Converting sparse IndexedSlices to a dense Tensor with 158569000 elements. This may consume a large amount of memory.\n",
            "  num_elements)\n"
          ]
        },
        {
          "name": "stdout",
          "output_type": "stream",
          "text": [
            "450/450 [==============================] - 114s 237ms/step - loss: 4.2438 - accuracy: 0.5077 - val_loss: 4.3993 - val_accuracy: 0.5238\n",
            "Epoch 2/20\n",
            "450/450 [==============================] - 104s 232ms/step - loss: 3.8221 - accuracy: 0.5283 - val_loss: 4.1964 - val_accuracy: 0.5282\n",
            "Epoch 3/20\n",
            "450/450 [==============================] - 104s 232ms/step - loss: 3.5016 - accuracy: 0.5596 - val_loss: 3.9509 - val_accuracy: 0.5579\n",
            "Epoch 4/20\n",
            "450/450 [==============================] - 104s 232ms/step - loss: 3.1882 - accuracy: 0.5930 - val_loss: 3.7973 - val_accuracy: 0.5735\n",
            "Epoch 5/20\n",
            "450/450 [==============================] - 104s 232ms/step - loss: 2.9062 - accuracy: 0.6181 - val_loss: 3.7109 - val_accuracy: 0.5886\n",
            "Epoch 6/20\n",
            "450/450 [==============================] - 104s 232ms/step - loss: 2.6488 - accuracy: 0.6421 - val_loss: 3.6436 - val_accuracy: 0.6050\n",
            "Epoch 7/20\n",
            "450/450 [==============================] - 104s 232ms/step - loss: 2.4249 - accuracy: 0.6655 - val_loss: 3.4494 - val_accuracy: 0.6171\n",
            "Epoch 8/20\n",
            "450/450 [==============================] - 104s 232ms/step - loss: 2.2254 - accuracy: 0.6886 - val_loss: 3.3631 - val_accuracy: 0.6359\n",
            "Epoch 9/20\n",
            "450/450 [==============================] - 104s 232ms/step - loss: 2.0456 - accuracy: 0.7109 - val_loss: 3.2837 - val_accuracy: 0.6523\n",
            "Epoch 10/20\n",
            "450/450 [==============================] - 104s 232ms/step - loss: 1.8905 - accuracy: 0.7319 - val_loss: 3.2407 - val_accuracy: 0.6633\n",
            "Epoch 11/20\n",
            "450/450 [==============================] - 104s 232ms/step - loss: 1.7530 - accuracy: 0.7516 - val_loss: 3.2149 - val_accuracy: 0.6749\n",
            "Epoch 12/20\n",
            "450/450 [==============================] - 104s 232ms/step - loss: 1.6359 - accuracy: 0.7685 - val_loss: 3.2214 - val_accuracy: 0.6810\n",
            "Epoch 13/20\n",
            "450/450 [==============================] - 104s 232ms/step - loss: 1.5381 - accuracy: 0.7837 - val_loss: 3.2386 - val_accuracy: 0.6900\n",
            "Epoch 14/20\n",
            "450/450 [==============================] - 104s 232ms/step - loss: 1.4466 - accuracy: 0.7968 - val_loss: 3.3054 - val_accuracy: 0.6953\n",
            "Epoch 15/20\n",
            "450/450 [==============================] - 104s 232ms/step - loss: 1.3688 - accuracy: 0.8094 - val_loss: 3.1844 - val_accuracy: 0.7037\n",
            "Epoch 16/20\n",
            "450/450 [==============================] - 104s 232ms/step - loss: 1.3062 - accuracy: 0.8198 - val_loss: 3.2123 - val_accuracy: 0.7064\n",
            "Epoch 17/20\n",
            "450/450 [==============================] - 104s 232ms/step - loss: 1.2569 - accuracy: 0.8290 - val_loss: 3.2689 - val_accuracy: 0.7133\n",
            "Epoch 18/20\n",
            "450/450 [==============================] - 104s 232ms/step - loss: 1.2084 - accuracy: 0.8366 - val_loss: 3.2701 - val_accuracy: 0.7139\n",
            "Epoch 19/20\n",
            "450/450 [==============================] - 104s 232ms/step - loss: 1.1670 - accuracy: 0.8441 - val_loss: 3.2810 - val_accuracy: 0.7187\n",
            "Epoch 20/20\n",
            "450/450 [==============================] - 104s 232ms/step - loss: 1.1217 - accuracy: 0.8512 - val_loss: 3.3195 - val_accuracy: 0.7212\n"
          ]
        },
        {
          "data": {
            "text/plain": [
              "<keras.callbacks.History at 0x7fe4bfb53850>"
            ]
          },
          "execution_count": 15,
          "metadata": {},
          "output_type": "execute_result"
        }
      ],
      "source": [
        "epoch = 20\n",
        "model.fit(train_padded, test_padded, batch_size=128, epochs=epoch, validation_split=0.2)"
      ]
    },
    {
      "cell_type": "code",
      "execution_count": 24,
      "metadata": {
        "colab": {
          "base_uri": "https://localhost:8080/"
        },
        "id": "ADAyQCdl7mmw",
        "outputId": "a1ac695c-163b-4c7e-d24b-365919f674e5"
      },
      "outputs": [
        {
          "name": "stderr",
          "output_type": "stream",
          "text": [
            "WARNING:absl:Found untraced functions such as lstm_cell_layer_call_fn, lstm_cell_layer_call_and_return_conditional_losses, lstm_cell_1_layer_call_fn, lstm_cell_1_layer_call_and_return_conditional_losses, lstm_cell_2_layer_call_fn while saving (showing 5 of 6). These functions will not be directly callable after loading.\n"
          ]
        },
        {
          "name": "stdout",
          "output_type": "stream",
          "text": [
            "INFO:tensorflow:Assets written to: /content/drive/MyDrive/Colab_Notebooks/20_epoch_accuracy_085_Emb_bidirectional_lstm_rnn/assets\n"
          ]
        },
        {
          "name": "stderr",
          "output_type": "stream",
          "text": [
            "INFO:tensorflow:Assets written to: /content/drive/MyDrive/Colab_Notebooks/20_epoch_accuracy_085_Emb_bidirectional_lstm_rnn/assets\n",
            "WARNING:absl:<keras.layers.recurrent.LSTMCell object at 0x7fe4c2cc7510> has the same name 'LSTMCell' as a built-in Keras object. Consider renaming <class 'keras.layers.recurrent.LSTMCell'> to avoid naming conflicts when loading with `tf.keras.models.load_model`. If renaming is not possible, pass the object in the `custom_objects` parameter of the load function.\n",
            "WARNING:absl:<keras.layers.recurrent.LSTMCell object at 0x7fe4c2bf9510> has the same name 'LSTMCell' as a built-in Keras object. Consider renaming <class 'keras.layers.recurrent.LSTMCell'> to avoid naming conflicts when loading with `tf.keras.models.load_model`. If renaming is not possible, pass the object in the `custom_objects` parameter of the load function.\n",
            "WARNING:absl:<keras.layers.recurrent.LSTMCell object at 0x7fe4c2c11350> has the same name 'LSTMCell' as a built-in Keras object. Consider renaming <class 'keras.layers.recurrent.LSTMCell'> to avoid naming conflicts when loading with `tf.keras.models.load_model`. If renaming is not possible, pass the object in the `custom_objects` parameter of the load function.\n"
          ]
        }
      ],
      "source": [
        "model.save('/content/drive/MyDrive/Colab_Notebooks/20_epoch_accuracy_085_Emb_bidirectional_lstm_rnn')"
      ]
    },
    {
      "cell_type": "code",
      "execution_count": 17,
      "metadata": {
        "id": "KpGWAIiQUe0_"
      },
      "outputs": [],
      "source": [
        "test_sample = text_data['augmented_text'][:2]\n",
        "test_sample = g_text_tokenizer.texts_to_sequences(test_sample)\n",
        "test_sample = pad_sequences(test_sample, maxlen=max_length_g, padding='post')\n"
      ]
    },
    {
      "cell_type": "code",
      "execution_count": 18,
      "metadata": {
        "colab": {
          "base_uri": "https://localhost:8080/"
        },
        "id": "kvPsR8hHEQq9",
        "outputId": "e061c190-574f-450c-848f-b3ed9fa792e5"
      },
      "outputs": [
        {
          "data": {
            "text/plain": [
              "(2, 14, 31997)"
            ]
          },
          "execution_count": 18,
          "metadata": {},
          "output_type": "execute_result"
        }
      ],
      "source": [
        "pre = model.predict(test_sample)\n",
        "pre.shape"
      ]
    },
    {
      "cell_type": "code",
      "execution_count": null,
      "metadata": {},
      "outputs": [],
      "source": [
        "def deTokenize(logits):\n",
        "    index_to_words = {id: word for word, id in text_tokenizer.word_index.items()}\n",
        "    index_to_words[0] = ''\n",
        "    pre_index = np.argmax(logits, 1)\n",
        "    return ' '.join(index_to_words[prediction] for prediction in pre_index)"
      ]
    },
    {
      "cell_type": "code",
      "execution_count": 19,
      "metadata": {
        "colab": {
          "base_uri": "https://localhost:8080/",
          "height": 36
        },
        "id": "mNZSDFzCr4Dj",
        "outputId": "1bb20c1e-60e6-4eee-de82-a4683c8d9653"
      },
      "outputs": [
        {
          "data": {
            "application/vnd.google.colaboratory.intrinsic+json": {
              "type": "string"
            },
            "text/plain": [
              "' 1 billion darling hsarfbour redeevelopment p3lanbs unveiled'"
            ]
          },
          "execution_count": 19,
          "metadata": {},
          "output_type": "execute_result"
        }
      ],
      "source": [
        "text_data['augmented_text'][0]\n"
      ]
    },
    {
      "cell_type": "code",
      "execution_count": 21,
      "metadata": {
        "colab": {
          "base_uri": "https://localhost:8080/",
          "height": 36
        },
        "id": "Za9Vd_dEED-H",
        "outputId": "587dfa32-f7a4-41ee-ddea-5b6c3feae5a7"
      },
      "outputs": [
        {
          "data": {
            "application/vnd.google.colaboratory.intrinsic+json": {
              "type": "string"
            },
            "text/plain": [
              "'1 billion darling harbour payment plans unveiled       '"
            ]
          },
          "execution_count": 21,
          "metadata": {},
          "output_type": "execute_result"
        }
      ],
      "source": [
        "deTokenize(pre[0])"
      ]
    }
  ],
  "metadata": {
    "accelerator": "GPU",
    "colab": {
      "collapsed_sections": [],
      "name": "project.ipynb",
      "provenance": []
    },
    "kernelspec": {
      "display_name": "Python 3",
      "name": "python3"
    },
    "language_info": {
      "name": "python"
    }
  },
  "nbformat": 4,
  "nbformat_minor": 0
}
