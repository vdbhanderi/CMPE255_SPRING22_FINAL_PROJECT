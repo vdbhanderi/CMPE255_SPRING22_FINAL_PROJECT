{
  "cells": [
    {
      "cell_type": "code",
      "execution_count": 1,
      "metadata": {
        "colab": {
          "base_uri": "https://localhost:8080/"
        },
        "id": "2NEWAoUNP8xH",
        "outputId": "e5b68476-7479-4d2f-c5f5-619102ba008c"
      },
      "outputs": [
        {
          "name": "stdout",
          "output_type": "stream",
          "text": [
            "Mounted at /content/drive/\n"
          ]
        }
      ],
      "source": [
        "import tensorflow as tf\n",
        "import numpy as np\n",
        "import pandas as pd\n",
        "from keras.preprocessing.sequence import pad_sequences\n",
        "from keras.preprocessing.text import Tokenizer\n",
        "import re\n",
        "import os\n",
        "import matplotlib.pyplot as plt\n",
        "\n",
        "tf.__version__\n",
        "from google.colab import drive\n",
        "drive.mount('/content/drive/')"
      ]
    },
    {
      "cell_type": "code",
      "execution_count": 3,
      "metadata": {
        "id": "s5oWgBqmTp7p"
      },
      "outputs": [],
      "source": [
        "# def clean_data(text):\n",
        "#     text = text.lower()\n",
        "#     text = re.sub(r\"[-=+*\\\"#@!$%^&()`<>/[\\]]\",\"\",text)\n",
        "#     text = re.sub(r\"i'm\",\"i am\",text)\n",
        "#     text = re.sub(r\"he's\",\"he is\",text)\n",
        "#     text = re.sub(r\"she's\",\"she is\",text)\n",
        "#     text = re.sub(r\"it's\",\"it is\",text)\n",
        "#     text = re.sub(r\"they're\",\"they are\",text)\n",
        "#     text = re.sub(r\"there're\",\"there are\",text)\n",
        "#     text = re.sub(r\"there's\",\"there is\",text)\n",
        "#     text = re.sub(r\"how're\",\"how are\",text)\n",
        "#     text = re.sub(r\"what're\",\"what are\",text)\n",
        "#     text = re.sub(r\"where're\",\"where \",text)\n",
        "#     text = re.sub(r\"who're\",\"who are\",text)\n",
        "#     text = re.sub(r\"that're\",\"that are\",text)\n",
        "#     text = re.sub(r\"when're\",\"when are\",text)\n",
        "#     text = re.sub(r\"how's\",\"how is\",text)\n",
        "#     text = re.sub(r\"what's\",\"what is\",text)\n",
        "#     text = re.sub(r\"where's\",\"where is\",text)\n",
        "#     text = re.sub(r\"who's\",\"who is\",text)\n",
        "#     text = re.sub(r\"that's\",\"that is\",text)\n",
        "#     text = re.sub(r\"when's\",\"when is\",text)\n",
        "#     text = re.sub(r\"won't\",\"would not\",text)\n",
        "#     text = re.sub(r\"nt't\",\"can not\",text)\n",
        "#     text = re.sub(r\"\\'bout'\",\"about\",text)\n",
        "#     text = re.sub(r\"\\'till'\",\"untill\",text)\n",
        "#     text = re.sub(r\"\\'ll\",\"will\",text)\n",
        "#     text = re.sub(r\"\\'ve\",\"have\",text)\n",
        "#     text = re.sub(r\"\\'re\",\"are\",text)\n",
        "#     text = re.sub(r\"\\'d\",\"would\",text)\n",
        "#     text = re.sub(r\"\\.\",\" \",text)\n",
        "#     text = re.sub(r\"\\,\",\" \",text)\n",
        "#     text = re.sub(r\"\\!\",\" \",text)\n",
        "#     text = re.sub(r\"\\?\",\" \",text)\n",
        "#     text = re.sub(r\"\\;\",\" \",text)\n",
        "#     text = re.sub(r\"\\:\",\" \",text)\n",
        "#     return text\n",
        "\n",
        "    \n",
        "# df_train['text'] = df_train['text'].apply(clean_data)\n",
        "# df_train['augmented_text'] = df_train['augmented_text'].apply(clean_data)\n",
        "# df_val['text'] = df_val['text'].apply(clean_data)\n",
        "# df_val['augmented_text'] = df_val['augmented_text'].apply(clean_data)\n",
        "# df_test['text'] = df_test['text'].apply(clean_data)\n",
        "# df_test['augmented_text'] = df_test['augmented_text'].apply(clean_data)\n",
        "# data = pd.concat([df_train,df_val,df_test])\n"
      ]
    },
    {
      "cell_type": "code",
      "execution_count": null,
      "metadata": {
        "id": "cBBa1A3aw0e2"
      },
      "outputs": [],
      "source": [
        "# data.to_csv('/content/drive/MyDrive/Colab_Notebooks/data.csv',index=False,)"
      ]
    },
    {
      "cell_type": "code",
      "execution_count": 5,
      "metadata": {
        "id": "9Rr916ahpnUm"
      },
      "outputs": [],
      "source": [
        "#data.csv is being pre-process to save time for training\n",
        "data = pd.read_csv('/content/drive/MyDrive/255/data.csv')"
      ]
    },
    {
      "cell_type": "code",
      "execution_count": null,
      "metadata": {
        "id": "BV4K4JPt-bXI"
      },
      "outputs": [],
      "source": [
        "print(data.isnull().sum())\n",
        "data = data.drop_duplicates(subset=['augmented_text'])\n",
        "# data = (data[data[\"augmented_text\"] != \"name\"])\n",
        "print(data.duplicated().sum())"
      ]
    },
    {
      "cell_type": "code",
      "execution_count": 7,
      "metadata": {
        "id": "s5Q_QNItw7kV"
      },
      "outputs": [],
      "source": [
        "df = data"
      ]
    },
    {
      "cell_type": "code",
      "execution_count": null,
      "metadata": {
        "id": "NPdf-5Hn7RET"
      },
      "outputs": [],
      "source": [
        "df.describe()"
      ]
    },
    {
      "cell_type": "code",
      "execution_count": 8,
      "metadata": {
        "id": "X4xURgshSrpT"
      },
      "outputs": [],
      "source": [
        "\n",
        "train_df = df['augmented_text']\n",
        "test_df = df['text']\n",
        "from sklearn.model_selection import train_test_split\n",
        "train_x, test_x, train_y, test_y = train_test_split(train_df, test_df, test_size=0.2, random_state=0)\n",
        "val_x, test_x,val_y, test_y = train_test_split(test_x, test_y, test_size = 0.5, random_state=42)\n"
      ]
    },
    {
      "cell_type": "code",
      "execution_count": 10,
      "metadata": {
        "colab": {
          "base_uri": "https://localhost:8080/"
        },
        "id": "IZMTBLH1H-U7",
        "outputId": "98c0de89-e2b6-49ac-c45e-f0dff59c52e8"
      },
      "outputs": [
        {
          "data": {
            "text/plain": [
              "500251                nidai finally aodtps twenty20 cricket\n",
              "599132        same sex awopti8n paedes victorian parliament\n",
              "513573             hobaes housing affordability remaone low\n",
              "84275                      qccusfd klllef collapses in dock\n",
              "570535                 pumpkin growers ophe for better year\n",
              "                                ...                        \n",
              "882371    australian sas spldiees kkled the wrong afggwn...\n",
              "152315         eashingron whitaker to jkjn forces on sfrden\n",
              "117952    clinton narrowly defea6d sand2rx in kentucky l...\n",
              "435829    road hazard  tasmanian highwwus amohb the nati...\n",
              "305711    jit repdase phone caloz syiwing comms between ...\n",
              "Name: augmented_text, Length: 737895, dtype: object"
            ]
          },
          "execution_count": 10,
          "metadata": {},
          "output_type": "execute_result"
        }
      ],
      "source": [
        "train_x"
      ]
    },
    {
      "cell_type": "code",
      "execution_count": 11,
      "metadata": {
        "colab": {
          "base_uri": "https://localhost:8080/"
        },
        "id": "inUltHgQ191H",
        "outputId": "e4a5b351-796f-4a90-f7be-5049bdf7f675"
      },
      "outputs": [
        {
          "data": {
            "text/plain": [
              "500251                india finally adopts twenty20 cricket\n",
              "599132        same sex adoption passes victorian parliament\n",
              "513573            hobarts housing affordability remains low\n",
              "84275                      accused killer collapses in dock\n",
              "570535                 pumpkin growers hope for better year\n",
              "                                ...                        \n",
              "882371    australian sas soldiers killed the wrong afgha...\n",
              "152315         washington whitaker to join forces on screen\n",
              "117952    clinton narrowly defeats sanders in kentucky p...\n",
              "435829    road hazard  tasmanian highways among the nati...\n",
              "305711    jit release phone calls showing comms between ...\n",
              "Name: text, Length: 737895, dtype: object"
            ]
          },
          "execution_count": 11,
          "metadata": {},
          "output_type": "execute_result"
        }
      ],
      "source": [
        "train_y"
      ]
    },
    {
      "cell_type": "code",
      "execution_count": 12,
      "metadata": {
        "id": "gK5wiBIXZLis"
      },
      "outputs": [],
      "source": [
        "max_length = 74"
      ]
    },
    {
      "cell_type": "code",
      "execution_count": 13,
      "metadata": {
        "id": "sTa8D0WfT1gf"
      },
      "outputs": [],
      "source": [
        "\n",
        "g_text_tokenizer = Tokenizer(char_level=True)\n",
        "g_text_tokenizer.fit_on_texts(train_x)\n",
        "g_text_word_index = g_text_tokenizer.word_index\n",
        "train_sequences = g_text_tokenizer.texts_to_sequences(train_x)\n",
        "train_padded = pad_sequences(train_sequences, maxlen = max_length, padding='post')\n",
        "\n",
        "\n",
        "text_tokenizer = Tokenizer(char_level=True)\n",
        "text_tokenizer.fit_on_texts(train_y)\n",
        "text_word_index = text_tokenizer.word_index\n",
        "test_sequences = text_tokenizer.texts_to_sequences(train_y)\n",
        "test_padded = pad_sequences(test_sequences,maxlen = max_length, padding='post')\n",
        "\n",
        "\n",
        "\n"
      ]
    },
    {
      "cell_type": "code",
      "execution_count": 14,
      "metadata": {
        "colab": {
          "base_uri": "https://localhost:8080/"
        },
        "id": "EoS-zPByYYPU",
        "outputId": "2681811a-504c-4c31-8c50-7502873d400b"
      },
      "outputs": [
        {
          "data": {
            "text/plain": [
              "{' ': 1,\n",
              " \"'\": 32,\n",
              " '0': 27,\n",
              " '1': 29,\n",
              " '2': 30,\n",
              " '3': 33,\n",
              " '4': 34,\n",
              " '5': 31,\n",
              " '6': 35,\n",
              " '7': 37,\n",
              " '8': 38,\n",
              " '9': 36,\n",
              " 'a': 3,\n",
              " 'b': 19,\n",
              " 'c': 11,\n",
              " 'd': 12,\n",
              " 'e': 2,\n",
              " 'f': 18,\n",
              " 'g': 17,\n",
              " 'h': 14,\n",
              " 'i': 7,\n",
              " 'j': 24,\n",
              " 'k': 23,\n",
              " 'l': 10,\n",
              " 'm': 15,\n",
              " 'n': 9,\n",
              " 'o': 6,\n",
              " 'p': 16,\n",
              " 'q': 26,\n",
              " 'r': 4,\n",
              " 's': 5,\n",
              " 't': 8,\n",
              " 'u': 13,\n",
              " 'v': 22,\n",
              " 'w': 20,\n",
              " 'x': 25,\n",
              " 'y': 21,\n",
              " 'z': 28}"
            ]
          },
          "execution_count": 14,
          "metadata": {},
          "output_type": "execute_result"
        }
      ],
      "source": [
        "text_tokenizer.word_index"
      ]
    },
    {
      "cell_type": "code",
      "execution_count": 15,
      "metadata": {
        "id": "4PWLtCPyLNVJ"
      },
      "outputs": [],
      "source": [
        "val_train_sequences = g_text_tokenizer.texts_to_sequences(val_x)\n",
        "val_train_padded = pad_sequences(val_train_sequences, maxlen = max_length, padding='post')\n",
        "\n",
        "val_test_sequences = text_tokenizer.texts_to_sequences(val_y)\n",
        "val_test_padded = pad_sequences(val_test_sequences, maxlen = max_length, padding='post')"
      ]
    },
    {
      "cell_type": "code",
      "execution_count": 16,
      "metadata": {
        "colab": {
          "base_uri": "https://localhost:8080/"
        },
        "id": "npA5T2pATdEK",
        "outputId": "43c50195-c68a-44c6-e080-af14413a9ab0"
      },
      "outputs": [
        {
          "name": "stdout",
          "output_type": "stream",
          "text": [
            "41 39\n"
          ]
        }
      ],
      "source": [
        "g_vocab_size = len(g_text_word_index)+1\n",
        "vocab_size = len(text_word_index)+1\n",
        "print(g_vocab_size, vocab_size)"
      ]
    },
    {
      "cell_type": "code",
      "execution_count": 17,
      "metadata": {
        "colab": {
          "base_uri": "https://localhost:8080/",
          "height": 281
        },
        "id": "9EspCkMbCKx_",
        "outputId": "e2285b95-9a1a-4a54-b0a7-47f50ac27667"
      },
      "outputs": [
        {
          "data": {
            "image/png": "[encoded data removed]",
            "text/plain": [
              "<Figure size 432x288 with 1 Axes>"
            ]
          },
          "metadata": {
            "needs_background": "light"
          },
          "output_type": "display_data"
        }
      ],
      "source": [
        "voc = [\"Text Vocabulary\", \"Augmented Text Vocabulary\"]\n",
        "voc_count = [vocab_size, g_vocab_size]\n",
        "\n",
        "plt.bar(voc, voc_count, width = 0.4)\n",
        "plt.title(\"Vocabulary Graph\")\n",
        "plt.show()"
      ]
    },
    {
      "cell_type": "code",
      "execution_count": 18,
      "metadata": {
        "id": "eVK8H4m5dqdD"
      },
      "outputs": [],
      "source": [
        "temp_test_padded = test_padded.reshape((test_padded.shape[0], test_padded.shape[1],1))\n"
      ]
    },
    {
      "cell_type": "code",
      "execution_count": 19,
      "metadata": {
        "id": "msrdgdWvea79"
      },
      "outputs": [],
      "source": [
        "epoch = 40"
      ]
    },
    {
      "cell_type": "code",
      "execution_count": 22,
      "metadata": {
        "colab": {
          "base_uri": "https://localhost:8080/"
        },
        "id": "oANQwWFFgTzh",
        "outputId": "8225c159-9f9f-41db-aa72-1e586bedfa82"
      },
      "outputs": [
        {
          "name": "stdout",
          "output_type": "stream",
          "text": [
            "Model: \"sequential_1\"\n",
            "____________________________________________________________________________\n",
            " Layer (type)                Output Shape              Param #   Trainable  \n",
            "============================================================================\n",
            " embedding_2 (Embedding)     (None, 74, 64)            2624      Y          \n",
            "                                                                            \n",
            " lstm_5 (LSTM)               (None, 64)                33024     Y          \n",
            "                                                                            \n",
            " batch_normalization_1 (Batc  (None, 64)               256       Y          \n",
            " hNormalization)                                                            \n",
            "                                                                            \n",
            " repeat_vector (RepeatVector  (None, 74, 64)           0         Y          \n",
            " )                                                                          \n",
            "                                                                            \n",
            " lstm_6 (LSTM)               (None, 74, 64)            33024     Y          \n",
            "                                                                            \n",
            " lstm_7 (LSTM)               (None, 74, 64)            33024     Y          \n",
            "                                                                            \n",
            " dropout_3 (Dropout)         (None, 74, 64)            0         Y          \n",
            "                                                                            \n",
            " dense_1 (Dense)             (None, 74, 39)            2535      Y          \n",
            "                                                                            \n",
            "============================================================================\n",
            "Total params: 104,487\n",
            "Trainable params: 104,359\n",
            "Non-trainable params: 128\n",
            "____________________________________________________________________________\n"
          ]
        }
      ],
      "source": [
        "# Reference from this paper, \"Towards better decoding and language model integration in sequence to sequence models\" https://arxiv.org/abs/1612.02695 and this video https://www.youtube.com/watch?v=QuvRWevJMZ4\n",
        "\n",
        "model_2 = tf.keras.Sequential([\n",
        "    tf.keras.layers.Embedding(input_dim=g_vocab_size, output_dim=64, input_length=max_length, mask_zero=True),\n",
        "    tf.keras.layers.LSTM(64),\n",
        "    tf.keras.layers.BatchNormalization(),\n",
        "    tf.keras.layers.RepeatVector(max_length),\n",
        "    tf.keras.layers.LSTM(64,return_sequences=True),\n",
        "    tf.keras.layers.LSTM(64,return_sequences=True),\n",
        "    # tf.keras.layers.LSTM(128,return_sequences=True),\n",
        "    tf.keras.layers.Dropout(0.3),\n",
        "    tf.keras.layers.Dense(vocab_size,activation='softmax')\n",
        "])\n",
        "learning_rate = 0.001\n",
        "# learning_rate = 0.0001\n",
        "optimizer = tf.keras.optimizers.Adam(learning_rate)\n",
        "\n",
        "# optimizer = tf.keras.optimizers.RMSprop(learning_rate)\n",
        "# optimizer = tf.keras.mixed_precision.LossScaleOptimizer(optimizer)\n",
        "model_2.compile(loss=\"sparse_categorical_crossentropy\",\n",
        "              optimizer=optimizer,\n",
        "              metrics=['accuracy'])\n",
        "model_2.summary(expand_nested=True,\n",
        "    show_trainable=True)"
      ]
    },
    {
      "cell_type": "code",
      "execution_count": 23,
      "metadata": {
        "colab": {
          "base_uri": "https://localhost:8080/",
          "height": 1000
        },
        "id": "rvTWGQjJgVRq",
        "outputId": "8bb64d6b-c17a-4798-ef94-fc640e2c1064"
      },
      "outputs": [
        {
          "name": "stdout",
          "output_type": "stream",
          "text": [
            "Epoch 1/40\n",
            "3844/3844 [==============================] - 115s 27ms/step - loss: 1.7929 - accuracy: 0.4798 - val_loss: 1.7262 - val_accuracy: 0.4808\n",
            "Epoch 2/40\n",
            "3844/3844 [==============================] - 99s 26ms/step - loss: 1.6112 - accuracy: 0.4997 - val_loss: 1.5452 - val_accuracy: 0.5144\n",
            "Epoch 3/40\n",
            "3844/3844 [==============================] - 100s 26ms/step - loss: 1.4729 - accuracy: 0.5326 - val_loss: 1.4022 - val_accuracy: 0.5523\n",
            "Epoch 4/40\n",
            "3844/3844 [==============================] - 100s 26ms/step - loss: 1.3858 - accuracy: 0.5626 - val_loss: 1.3455 - val_accuracy: 0.5767\n",
            "Epoch 5/40\n",
            "3844/3844 [==============================] - 101s 26ms/step - loss: 1.3350 - accuracy: 0.5824 - val_loss: 1.2937 - val_accuracy: 0.5976\n",
            "Epoch 6/40\n",
            "3844/3844 [==============================] - 100s 26ms/step - loss: 1.2993 - accuracy: 0.5990 - val_loss: 1.2884 - val_accuracy: 0.6013\n",
            "Epoch 7/40\n",
            "3844/3844 [==============================] - 103s 27ms/step - loss: 1.2730 - accuracy: 0.6111 - val_loss: 1.2532 - val_accuracy: 0.6146\n",
            "Epoch 8/40\n",
            "3844/3844 [==============================] - 101s 26ms/step - loss: 1.2550 - accuracy: 0.6190 - val_loss: 1.2638 - val_accuracy: 0.6144\n",
            "Epoch 9/40\n",
            "3844/3844 [==============================] - 100s 26ms/step - loss: 1.2407 - accuracy: 0.6252 - val_loss: 1.2285 - val_accuracy: 0.6296\n",
            "Epoch 10/40\n",
            "3844/3844 [==============================] - 100s 26ms/step - loss: 1.2298 - accuracy: 0.6297 - val_loss: 1.2786 - val_accuracy: 0.6134\n",
            "Epoch 11/40\n",
            "3844/3844 [==============================] - 100s 26ms/step - loss: 1.2215 - accuracy: 0.6331 - val_loss: 1.1973 - val_accuracy: 0.6356\n",
            "Epoch 12/40\n",
            "3844/3844 [==============================] - 100s 26ms/step - loss: 1.2111 - accuracy: 0.6372 - val_loss: 1.2140 - val_accuracy: 0.6324\n",
            "Epoch 13/40\n",
            "3844/3844 [==============================] - 100s 26ms/step - loss: 1.2037 - accuracy: 0.6402 - val_loss: 1.1644 - val_accuracy: 0.6485\n",
            "Epoch 14/40\n",
            "3844/3844 [==============================] - 100s 26ms/step - loss: 1.1960 - accuracy: 0.6432 - val_loss: 1.1958 - val_accuracy: 0.6412\n",
            "Epoch 15/40\n",
            "3844/3844 [==============================] - 99s 26ms/step - loss: 1.1905 - accuracy: 0.6454 - val_loss: 1.1890 - val_accuracy: 0.6420\n",
            "Epoch 16/40\n",
            "3844/3844 [==============================] - 99s 26ms/step - loss: 1.1848 - accuracy: 0.6476 - val_loss: 1.1564 - val_accuracy: 0.6539\n",
            "Epoch 17/40\n",
            "3844/3844 [==============================] - 99s 26ms/step - loss: 1.1779 - accuracy: 0.6502 - val_loss: 1.1629 - val_accuracy: 0.6519\n",
            "Epoch 18/40\n",
            "3844/3844 [==============================] - 99s 26ms/step - loss: 1.1742 - accuracy: 0.6517 - val_loss: 1.1533 - val_accuracy: 0.6547\n",
            "Epoch 19/40\n",
            "3844/3844 [==============================] - 99s 26ms/step - loss: 1.1700 - accuracy: 0.6533 - val_loss: 1.1565 - val_accuracy: 0.6539\n",
            "Epoch 20/40\n",
            "3844/3844 [==============================] - 100s 26ms/step - loss: 1.1635 - accuracy: 0.6556 - val_loss: 1.1416 - val_accuracy: 0.6587\n",
            "Epoch 21/40\n",
            "3844/3844 [==============================] - 99s 26ms/step - loss: 1.1594 - accuracy: 0.6571 - val_loss: 1.1417 - val_accuracy: 0.6608\n",
            "Epoch 22/40\n",
            "3844/3844 [==============================] - 99s 26ms/step - loss: 1.1571 - accuracy: 0.6582 - val_loss: 1.1172 - val_accuracy: 0.6668\n",
            "Epoch 23/40\n",
            "3844/3844 [==============================] - 100s 26ms/step - loss: 1.1525 - accuracy: 0.6599 - val_loss: 1.1977 - val_accuracy: 0.6420\n",
            "Epoch 24/40\n",
            "3844/3844 [==============================] - 100s 26ms/step - loss: 1.1502 - accuracy: 0.6608 - val_loss: 1.2893 - val_accuracy: 0.6095\n",
            "Epoch 25/40\n",
            "3844/3844 [==============================] - 100s 26ms/step - loss: 1.1470 - accuracy: 0.6619 - val_loss: 1.1433 - val_accuracy: 0.6583\n",
            "Epoch 26/40\n",
            "3844/3844 [==============================] - 99s 26ms/step - loss: 1.1431 - accuracy: 0.6633 - val_loss: 1.2464 - val_accuracy: 0.6239\n",
            "Epoch 27/40\n",
            "3844/3844 [==============================] - 99s 26ms/step - loss: 1.1419 - accuracy: 0.6639 - val_loss: 1.1313 - val_accuracy: 0.6633\n",
            "Epoch 28/40\n",
            "3844/3844 [==============================] - 99s 26ms/step - loss: 1.1366 - accuracy: 0.6656 - val_loss: 1.1094 - val_accuracy: 0.6698\n",
            "Epoch 29/40\n",
            "3844/3844 [==============================] - 100s 26ms/step - loss: 1.1360 - accuracy: 0.6659 - val_loss: 1.1272 - val_accuracy: 0.6642\n",
            "Epoch 30/40\n",
            "3844/3844 [==============================] - 99s 26ms/step - loss: 1.1317 - accuracy: 0.6674 - val_loss: 1.1098 - val_accuracy: 0.6709\n",
            "Epoch 31/40\n",
            "3844/3844 [==============================] - 99s 26ms/step - loss: 1.1289 - accuracy: 0.6686 - val_loss: 1.1078 - val_accuracy: 0.6702\n",
            "Epoch 32/40\n",
            "3844/3844 [==============================] - 100s 26ms/step - loss: 1.1278 - accuracy: 0.6690 - val_loss: 1.1172 - val_accuracy: 0.6682\n",
            "Epoch 33/40\n",
            "3844/3844 [==============================] - 100s 26ms/step - loss: 1.1248 - accuracy: 0.6700 - val_loss: 1.0825 - val_accuracy: 0.6791\n",
            "Epoch 34/40\n",
            "3844/3844 [==============================] - 100s 26ms/step - loss: 1.1255 - accuracy: 0.6699 - val_loss: 1.1182 - val_accuracy: 0.6676\n",
            "Epoch 35/40\n",
            "3844/3844 [==============================] - 99s 26ms/step - loss: 1.1207 - accuracy: 0.6715 - val_loss: 1.1113 - val_accuracy: 0.6697\n",
            "Epoch 36/40\n",
            "3844/3844 [==============================] - 100s 26ms/step - loss: 1.1172 - accuracy: 0.6728 - val_loss: 1.1078 - val_accuracy: 0.6712\n",
            "Epoch 37/40\n",
            "3844/3844 [==============================] - 99s 26ms/step - loss: 1.1163 - accuracy: 0.6732 - val_loss: 1.0625 - val_accuracy: 0.6871\n",
            "Epoch 38/40\n",
            "3844/3844 [==============================] - 99s 26ms/step - loss: 1.1126 - accuracy: 0.6745 - val_loss: 1.1038 - val_accuracy: 0.6724\n",
            "Epoch 39/40\n",
            "3844/3844 [==============================] - 100s 26ms/step - loss: 1.1112 - accuracy: 0.6750 - val_loss: 1.0771 - val_accuracy: 0.6820\n",
            "Epoch 40/40\n",
            "3844/3844 [==============================] - 100s 26ms/step - loss: 1.1109 - accuracy: 0.6751 - val_loss: 1.0785 - val_accuracy: 0.6811\n"
          ]
        },
        {
          "data": {
            "image/png": "[encoded data removed]",
            "text/plain": [
              "<Figure size 432x288 with 1 Axes>"
            ]
          },
          "metadata": {
            "needs_background": "light"
          },
          "output_type": "display_data"
        }
      ],
      "source": [
        "his_2 = model_2.fit(train_padded, test_padded, batch_size=192, epochs=epoch, validation_data = (val_train_padded, val_test_padded))\n",
        "\n",
        "plt.plot(his_2.history['loss'])\n",
        "plt.plot(his_2.history['val_loss'])\n",
        "plt.legend(['train','validation'])\n",
        "plt.show()"
      ]
    },
    {
      "cell_type": "code",
      "execution_count": 24,
      "metadata": {
        "id": "KpGWAIiQUe0_"
      },
      "outputs": [],
      "source": [
        "test_sample = test_x.iloc[:10]\n",
        "test_sample = g_text_tokenizer.texts_to_sequences(test_sample)\n",
        "test_sample = pad_sequences(test_sample, maxlen=max_length, padding='post')\n"
      ]
    },
    {
      "cell_type": "code",
      "execution_count": 25,
      "metadata": {
        "colab": {
          "base_uri": "https://localhost:8080/"
        },
        "id": "wUHeCyCM02he",
        "outputId": "191c4f8c-3bce-4fc6-b919-8f5e5c20fd91"
      },
      "outputs": [
        {
          "data": {
            "text/plain": [
              "886591             odnwer elvaing job decision up to enlosn\n",
              "77806               myanmar and mo4a/ity in timwc of criska\n",
              "775903              burma reports ifrts human ibdr flu aces\n",
              "755900    eurovision e0e0 big night in ausfraliq votes w...\n",
              "122077               prime minister qlahs png bospotal plan\n",
              "708417                    anbkruptcy revelation at the ticc\n",
              "798506     mlfe time for say on  oolo0laba dput master plan\n",
              "810503               horsey opens tjee shif  eas in denmark\n",
              "590110       conuicl to offer public more asleyrads dtaeils\n",
              "577353       weomns abseblal team rppeares for title charge\n",
              "Name: augmented_text, dtype: object"
            ]
          },
          "execution_count": 25,
          "metadata": {},
          "output_type": "execute_result"
        }
      ],
      "source": [
        "test_x.iloc[:10]"
      ]
    },
    {
      "cell_type": "code",
      "execution_count": 26,
      "metadata": {
        "colab": {
          "base_uri": "https://localhost:8080/"
        },
        "id": "o48mfKmhsDv0",
        "outputId": "466a19b5-71ad-44a2-d127-04fcf91effae"
      },
      "outputs": [
        {
          "data": {
            "text/plain": [
              "886591             downer leaving job decision up to nelson\n",
              "77806               myanmar and morality in times of crisis\n",
              "775903              burma reports first human bird flu case\n",
              "755900    eurovision 2020 big night in australia votes w...\n",
              "122077               prime minister slams png hospital plan\n",
              "708417                    bankruptcy revelation at the tcci\n",
              "798506     more time for say on mooloolaba spit master plan\n",
              "810503              horsey opens three shot lead in denmark\n",
              "590110       council to offer public more saleyards details\n",
              "577353       womens baseball team prepares for title charge\n",
              "Name: text, dtype: object"
            ]
          },
          "execution_count": 26,
          "metadata": {},
          "output_type": "execute_result"
        }
      ],
      "source": [
        "test_y.iloc[:10]"
      ]
    },
    {
      "cell_type": "code",
      "execution_count": 29,
      "metadata": {
        "id": "kvPsR8hHEQq9"
      },
      "outputs": [],
      "source": [
        "pre = model_2.predict(test_sample)\n",
        "def deTokenize(logits):\n",
        "    index_to_words = {id: word for word, id in text_tokenizer.word_index.items()}\n",
        "    index_to_words[0] = ''\n",
        "    pre_index = np.argmax(logits, 1)\n",
        "    return ''.join(index_to_words[prediction] for prediction in pre_index)\n",
        "predict = []\n",
        "for i in range(10):\n",
        "  predict.append(deTokenize(pre[i]))"
      ]
    },
    {
      "cell_type": "code",
      "execution_count": 30,
      "metadata": {
        "colab": {
          "base_uri": "https://localhost:8080/",
          "height": 363
        },
        "id": "LCXcto7u1iTa",
        "outputId": "0654631d-5387-40cb-f5d3-7f50580bc8fc"
      },
      "outputs": [
        {
          "data": {
            "text/html": [
              "\n",
              "  <div id=\"df-40074071-c16c-4d48-a73c-bbc79a9a9f78\">\n",
              "    <div class=\"colab-df-container\">\n",
              "      <div>\n",
              "<style scoped>\n",
              "    .dataframe tbody tr th:only-of-type {\n",
              "        vertical-align: middle;\n",
              "    }\n",
              "\n",
              "    .dataframe tbody tr th {\n",
              "        vertical-align: top;\n",
              "    }\n",
              "\n",
              "    .dataframe thead th {\n",
              "        text-align: right;\n",
              "    }\n",
              "</style>\n",
              "<table border=\"1\" class=\"dataframe\">\n",
              "  <thead>\n",
              "    <tr style=\"text-align: right;\">\n",
              "      <th></th>\n",
              "      <th>input</th>\n",
              "      <th>output</th>\n",
              "      <th>predict</th>\n",
              "    </tr>\n",
              "  </thead>\n",
              "  <tbody>\n",
              "    <tr>\n",
              "      <th>886591</th>\n",
              "      <td>odnwer elvaing job decision up to enlosn</td>\n",
              "      <td>downer leaving job decision up to nelson</td>\n",
              "      <td>voveer eelaing oor decciion uo pp  oiiin</td>\n",
              "    </tr>\n",
              "    <tr>\n",
              "      <th>77806</th>\n",
              "      <td>myanmar and mo4a/ity in timwc of criska</td>\n",
              "      <td>myanmar and morality in times of crisis</td>\n",
              "      <td>mamaaay and coplaain in hhaal of cccccl</td>\n",
              "    </tr>\n",
              "    <tr>\n",
              "      <th>775903</th>\n",
              "      <td>burma reports ifrts human ibdr flu aces</td>\n",
              "      <td>burma reports first human bird flu case</td>\n",
              "      <td>burml reports frrtt thinn bife fir  aas</td>\n",
              "    </tr>\n",
              "    <tr>\n",
              "      <th>755900</th>\n",
              "      <td>eurovision e0e0 big night in ausfraliq votes w...</td>\n",
              "      <td>eurovision 2020 big night in australia votes w...</td>\n",
              "      <td>ruciiiiion peep oie gight in susseaaal  iiie  ...</td>\n",
              "    </tr>\n",
              "    <tr>\n",
              "      <th>122077</th>\n",
              "      <td>prime minister qlahs png bospotal plan</td>\n",
              "      <td>prime minister slams png hospital plan</td>\n",
              "      <td>prove minister aaaas  nn  ropppal plal</td>\n",
              "    </tr>\n",
              "    <tr>\n",
              "      <th>708417</th>\n",
              "      <td>anbkruptcy revelation at the ticc</td>\n",
              "      <td>bankruptcy revelation at the tcci</td>\n",
              "      <td>annbrpptts reeeaation at tte ccic</td>\n",
              "    </tr>\n",
              "    <tr>\n",
              "      <th>798506</th>\n",
              "      <td>mlfe time for say on  oolo0laba dput master plan</td>\n",
              "      <td>more time for say on mooloolaba spit master plan</td>\n",
              "      <td>mome come for sta in o ooollllly  aas  aataa  aal</td>\n",
              "    </tr>\n",
              "    <tr>\n",
              "      <th>810503</th>\n",
              "      <td>horsey opens tjee shif  eas in denmark</td>\n",
              "      <td>horsey opens three shot lead in denmark</td>\n",
              "      <td>hootes poins tees thie a  a  i nnneral</td>\n",
              "    </tr>\n",
              "    <tr>\n",
              "      <th>590110</th>\n",
              "      <td>conuicl to offer public more asleyrads dtaeils</td>\n",
              "      <td>council to offer public more saleyards details</td>\n",
              "      <td>council to fffer puuiin core aeaeaaaas saaalle</td>\n",
              "    </tr>\n",
              "    <tr>\n",
              "      <th>577353</th>\n",
              "      <td>weomns abseblal team rppeares for title charge</td>\n",
              "      <td>womens baseball team prepares for title charge</td>\n",
              "      <td>wowlin aaaaalld ream srepeere tor  hort  aaaae</td>\n",
              "    </tr>\n",
              "  </tbody>\n",
              "</table>\n",
              "</div>\n",
              "      <button class=\"colab-df-convert\" onclick=\"convertToInteractive('df-40074071-c16c-4d48-a73c-bbc79a9a9f78')\"\n",
              "              title=\"Convert this dataframe to an interactive table.\"\n",
              "              style=\"display:none;\">\n",
              "        \n",
              "  <svg xmlns=\"http://www.w3.org/2000/svg\" height=\"24px\"viewBox=\"0 0 24 24\"\n",
              "       width=\"24px\">\n",
              "    <path d=\"M0 0h24v24H0V0z\" fill=\"none\"/>\n",
              "    <path d=\"M18.56 5.44l.94 2.06.94-2.06 2.06-.94-2.06-.94-.94-2.06-.94 2.06-2.06.94zm-11 1L8.5 8.5l.94-2.06 2.06-.94-2.06-.94L8.5 2.5l-.94 2.06-2.06.94zm10 10l.94 2.06.94-2.06 2.06-.94-2.06-.94-.94-2.06-.94 2.06-2.06.94z\"/><path d=\"M17.41 7.96l-1.37-1.37c-.4-.4-.92-.59-1.43-.59-.52 0-1.04.2-1.43.59L10.3 9.45l-7.72 7.72c-.78.78-.78 2.05 0 2.83L4 21.41c.39.39.9.59 1.41.59.51 0 1.02-.2 1.41-.59l7.78-7.78 2.81-2.81c.8-.78.8-2.07 0-2.86zM5.41 20L4 18.59l7.72-7.72 1.47 1.35L5.41 20z\"/>\n",
              "  </svg>\n",
              "      </button>\n",
              "      \n",
              "  <style>\n",
              "    .colab-df-container {\n",
              "      display:flex;\n",
              "      flex-wrap:wrap;\n",
              "      gap: 12px;\n",
              "    }\n",
              "\n",
              "    .colab-df-convert {\n",
              "      background-color: #E8F0FE;\n",
              "      border: none;\n",
              "      border-radius: 50%;\n",
              "      cursor: pointer;\n",
              "      display: none;\n",
              "      fill: #1967D2;\n",
              "      height: 32px;\n",
              "      padding: 0 0 0 0;\n",
              "      width: 32px;\n",
              "    }\n",
              "\n",
              "    .colab-df-convert:hover {\n",
              "      background-color: #E2EBFA;\n",
              "      box-shadow: 0px 1px 2px rgba(60, 64, 67, 0.3), 0px 1px 3px 1px rgba(60, 64, 67, 0.15);\n",
              "      fill: #174EA6;\n",
              "    }\n",
              "\n",
              "    [theme=dark] .colab-df-convert {\n",
              "      background-color: #3B4455;\n",
              "      fill: #D2E3FC;\n",
              "    }\n",
              "\n",
              "    [theme=dark] .colab-df-convert:hover {\n",
              "      background-color: #434B5C;\n",
              "      box-shadow: 0px 1px 3px 1px rgba(0, 0, 0, 0.15);\n",
              "      filter: drop-shadow(0px 1px 2px rgba(0, 0, 0, 0.3));\n",
              "      fill: #FFFFFF;\n",
              "    }\n",
              "  </style>\n",
              "\n",
              "      <script>\n",
              "        const buttonEl =\n",
              "          document.querySelector('#df-40074071-c16c-4d48-a73c-bbc79a9a9f78 button.colab-df-convert');\n",
              "        buttonEl.style.display =\n",
              "          google.colab.kernel.accessAllowed ? 'block' : 'none';\n",
              "\n",
              "        async function convertToInteractive(key) {\n",
              "          const element = document.querySelector('#df-40074071-c16c-4d48-a73c-bbc79a9a9f78');\n",
              "          const dataTable =\n",
              "            await google.colab.kernel.invokeFunction('convertToInteractive',\n",
              "                                                     [key], {});\n",
              "          if (!dataTable) return;\n",
              "\n",
              "          const docLinkHtml = 'Like what you see? Visit the ' +\n",
              "            '<a target=\"_blank\" href=https://colab.research.google.com/notebooks/data_table.ipynb>data table notebook</a>'\n",
              "            + ' to learn more about interactive tables.';\n",
              "          element.innerHTML = '';\n",
              "          dataTable['output_type'] = 'display_data';\n",
              "          await google.colab.output.renderOutput(dataTable, element);\n",
              "          const docLink = document.createElement('div');\n",
              "          docLink.innerHTML = docLinkHtml;\n",
              "          element.appendChild(docLink);\n",
              "        }\n",
              "      </script>\n",
              "    </div>\n",
              "  </div>\n",
              "  "
            ],
            "text/plain": [
              "                                                    input  \\\n",
              "886591           odnwer elvaing job decision up to enlosn   \n",
              "77806             myanmar and mo4a/ity in timwc of criska   \n",
              "775903            burma reports ifrts human ibdr flu aces   \n",
              "755900  eurovision e0e0 big night in ausfraliq votes w...   \n",
              "122077             prime minister qlahs png bospotal plan   \n",
              "708417                  anbkruptcy revelation at the ticc   \n",
              "798506   mlfe time for say on  oolo0laba dput master plan   \n",
              "810503             horsey opens tjee shif  eas in denmark   \n",
              "590110     conuicl to offer public more asleyrads dtaeils   \n",
              "577353     weomns abseblal team rppeares for title charge   \n",
              "\n",
              "                                                   output  \\\n",
              "886591           downer leaving job decision up to nelson   \n",
              "77806             myanmar and morality in times of crisis   \n",
              "775903            burma reports first human bird flu case   \n",
              "755900  eurovision 2020 big night in australia votes w...   \n",
              "122077             prime minister slams png hospital plan   \n",
              "708417                  bankruptcy revelation at the tcci   \n",
              "798506   more time for say on mooloolaba spit master plan   \n",
              "810503            horsey opens three shot lead in denmark   \n",
              "590110     council to offer public more saleyards details   \n",
              "577353     womens baseball team prepares for title charge   \n",
              "\n",
              "                                                  predict  \n",
              "886591           voveer eelaing oor decciion uo pp  oiiin  \n",
              "77806             mamaaay and coplaain in hhaal of cccccl  \n",
              "775903            burml reports frrtt thinn bife fir  aas  \n",
              "755900  ruciiiiion peep oie gight in susseaaal  iiie  ...  \n",
              "122077             prove minister aaaas  nn  ropppal plal  \n",
              "708417                  annbrpptts reeeaation at tte ccic  \n",
              "798506  mome come for sta in o ooollllly  aas  aataa  aal  \n",
              "810503             hootes poins tees thie a  a  i nnneral  \n",
              "590110     council to fffer puuiin core aeaeaaaas saaalle  \n",
              "577353     wowlin aaaaalld ream srepeere tor  hort  aaaae  "
            ]
          },
          "execution_count": 30,
          "metadata": {},
          "output_type": "execute_result"
        }
      ],
      "source": [
        "eva = pd.DataFrame({'input': test_x.iloc[:10], 'output': test_y.iloc[:10], 'predict':predict})\n",
        "eva\n"
      ]
    },
    {
      "cell_type": "code",
      "execution_count": 31,
      "metadata": {
        "colab": {
          "base_uri": "https://localhost:8080/"
        },
        "id": "T-6vwxhK56Uw",
        "outputId": "35007320-1855-41ce-c480-cb9bc7aed6cd"
      },
      "outputs": [
        {
          "name": "stdout",
          "output_type": "stream",
          "text": [
            "Iutput:     horsey opens tjee shif  eas in denmark\n",
            "Actual:     horsey opens three shot lead in denmark\n",
            "Predicted:  hootes poins tees thie a  a  i nnneral\n"
          ]
        }
      ],
      "source": [
        "print(\"Iutput:    \",test_x.iloc[7])\n",
        "print(\"Actual:    \",test_y.iloc[7])\n",
        "print(\"Predicted: \",deTokenize(pre[7]))"
      ]
    }
  ],
  "metadata": {
    "accelerator": "GPU",
    "colab": {
      "collapsed_sections": [],
      "name": "method7.ipynb",
      "provenance": []
    },
    "kernelspec": {
      "display_name": "Python 3",
      "name": "python3"
    },
    "language_info": {
      "name": "python"
    }
  },
  "nbformat": 4,
  "nbformat_minor": 0
}
