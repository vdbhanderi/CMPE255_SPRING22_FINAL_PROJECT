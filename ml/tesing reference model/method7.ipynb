{
  "cells": [
    {
      "cell_type": "code",
      "execution_count": null,
      "metadata": {
        "colab": {
          "base_uri": "https://localhost:8080/"
        },
        "id": "2NEWAoUNP8xH",
        "outputId": "851a61b6-b425-4f8d-89b9-e38784129ff7"
      },
      "outputs": [
        {
          "name": "stdout",
          "output_type": "stream",
          "text": [
            "Drive already mounted at /content/drive/; to attempt to forcibly remount, call drive.mount(\"/content/drive/\", force_remount=True).\n"
          ]
        }
      ],
      "source": [
        "import tensorflow as tf\n",
        "import numpy as np\n",
        "import pandas as pd\n",
        "from keras.preprocessing.sequence import pad_sequences\n",
        "from keras.preprocessing.text import Tokenizer\n",
        "import re\n",
        "import os\n",
        "import matplotlib.pyplot as plt\n",
        "\n",
        "tf.__version__\n",
        "from google.colab import drive\n",
        "drive.mount('/content/drive/')"
      ]
    },
    {
      "cell_type": "code",
      "execution_count": null,
      "metadata": {
        "id": "CLrsbOIpTU1m"
      },
      "outputs": [],
      "source": [
        "df_train = pd.read_csv(\"/content/drive/MyDrive/Colab_Notebooks/train.csv\")\n",
        "df_val = pd.read_csv(\"/content/drive/MyDrive/Colab_Notebooks/val.csv\")\n",
        "df_test = pd.read_csv(\"/content/drive/MyDrive/Colab_Notebooks/test.csv\")\n"
      ]
    },
    {
      "cell_type": "code",
      "execution_count": null,
      "metadata": {
        "colab": {
          "base_uri": "https://localhost:8080/",
          "height": 424
        },
        "id": "WwEH5j4a-m_g",
        "outputId": "9882b079-f3d2-4cca-b65a-5201f040e7c7"
      },
      "outputs": [
        {
          "data": {
            "text/html": [
              "\n",
              "  <div id=\"df-11e92236-2d7c-44d0-a2bd-5a8c18d35690\">\n",
              "    <div class=\"colab-df-container\">\n",
              "      <div>\n",
              "<style scoped>\n",
              "    .dataframe tbody tr th:only-of-type {\n",
              "        vertical-align: middle;\n",
              "    }\n",
              "\n",
              "    .dataframe tbody tr th {\n",
              "        vertical-align: top;\n",
              "    }\n",
              "\n",
              "    .dataframe thead th {\n",
              "        text-align: right;\n",
              "    }\n",
              "</style>\n",
              "<table border=\"1\" class=\"dataframe\">\n",
              "  <thead>\n",
              "    <tr style=\"text-align: right;\">\n",
              "      <th></th>\n",
              "      <th>text</th>\n",
              "      <th>augmented_text</th>\n",
              "    </tr>\n",
              "  </thead>\n",
              "  <tbody>\n",
              "    <tr>\n",
              "      <th>6906</th>\n",
              "      <td>a league live streaming updates</td>\n",
              "      <td>a elgaue ivle streaming updates</td>\n",
              "    </tr>\n",
              "    <tr>\n",
              "      <th>9455</th>\n",
              "      <td>abc business news and market analysis</td>\n",
              "      <td>abc buisnses news and maretk analysis</td>\n",
              "    </tr>\n",
              "    <tr>\n",
              "      <th>9476</th>\n",
              "      <td>abc business news and market analysis</td>\n",
              "      <td>abc business ensw and market anyalsis</td>\n",
              "    </tr>\n",
              "    <tr>\n",
              "      <th>9487</th>\n",
              "      <td>abc business news and market analysis</td>\n",
              "      <td>abc ubisness news and market analysis</td>\n",
              "    </tr>\n",
              "    <tr>\n",
              "      <th>9498</th>\n",
              "      <td>abc business news and market analysis</td>\n",
              "      <td>abc busienss wnes and market analysis</td>\n",
              "    </tr>\n",
              "    <tr>\n",
              "      <th>...</th>\n",
              "      <td>...</td>\n",
              "      <td>...</td>\n",
              "    </tr>\n",
              "    <tr>\n",
              "      <th>742784</th>\n",
              "      <td>wednesday finance with alan kohler</td>\n",
              "      <td>wednesday finnaec with lana kohler</td>\n",
              "    </tr>\n",
              "    <tr>\n",
              "      <th>742790</th>\n",
              "      <td>wednesday finance with alan kohler</td>\n",
              "      <td>wednesday finance with lana kohler</td>\n",
              "    </tr>\n",
              "    <tr>\n",
              "      <th>742816</th>\n",
              "      <td>wednesday finance with alan kohler</td>\n",
              "      <td>wednesday finance with lana kohler</td>\n",
              "    </tr>\n",
              "    <tr>\n",
              "      <th>742873</th>\n",
              "      <td>wednesday markets with fiona clark</td>\n",
              "      <td>wednesday markets iwht fiona lcakr</td>\n",
              "    </tr>\n",
              "    <tr>\n",
              "      <th>758107</th>\n",
              "      <td>woman to front court over stabbing</td>\n",
              "      <td>woman to front ocutr over stabbing</td>\n",
              "    </tr>\n",
              "  </tbody>\n",
              "</table>\n",
              "<p>71 rows × 2 columns</p>\n",
              "</div>\n",
              "      <button class=\"colab-df-convert\" onclick=\"convertToInteractive('df-11e92236-2d7c-44d0-a2bd-5a8c18d35690')\"\n",
              "              title=\"Convert this dataframe to an interactive table.\"\n",
              "              style=\"display:none;\">\n",
              "        \n",
              "  <svg xmlns=\"http://www.w3.org/2000/svg\" height=\"24px\"viewBox=\"0 0 24 24\"\n",
              "       width=\"24px\">\n",
              "    <path d=\"M0 0h24v24H0V0z\" fill=\"none\"/>\n",
              "    <path d=\"M18.56 5.44l.94 2.06.94-2.06 2.06-.94-2.06-.94-.94-2.06-.94 2.06-2.06.94zm-11 1L8.5 8.5l.94-2.06 2.06-.94-2.06-.94L8.5 2.5l-.94 2.06-2.06.94zm10 10l.94 2.06.94-2.06 2.06-.94-2.06-.94-.94-2.06-.94 2.06-2.06.94z\"/><path d=\"M17.41 7.96l-1.37-1.37c-.4-.4-.92-.59-1.43-.59-.52 0-1.04.2-1.43.59L10.3 9.45l-7.72 7.72c-.78.78-.78 2.05 0 2.83L4 21.41c.39.39.9.59 1.41.59.51 0 1.02-.2 1.41-.59l7.78-7.78 2.81-2.81c.8-.78.8-2.07 0-2.86zM5.41 20L4 18.59l7.72-7.72 1.47 1.35L5.41 20z\"/>\n",
              "  </svg>\n",
              "      </button>\n",
              "      \n",
              "  <style>\n",
              "    .colab-df-container {\n",
              "      display:flex;\n",
              "      flex-wrap:wrap;\n",
              "      gap: 12px;\n",
              "    }\n",
              "\n",
              "    .colab-df-convert {\n",
              "      background-color: #E8F0FE;\n",
              "      border: none;\n",
              "      border-radius: 50%;\n",
              "      cursor: pointer;\n",
              "      display: none;\n",
              "      fill: #1967D2;\n",
              "      height: 32px;\n",
              "      padding: 0 0 0 0;\n",
              "      width: 32px;\n",
              "    }\n",
              "\n",
              "    .colab-df-convert:hover {\n",
              "      background-color: #E2EBFA;\n",
              "      box-shadow: 0px 1px 2px rgba(60, 64, 67, 0.3), 0px 1px 3px 1px rgba(60, 64, 67, 0.15);\n",
              "      fill: #174EA6;\n",
              "    }\n",
              "\n",
              "    [theme=dark] .colab-df-convert {\n",
              "      background-color: #3B4455;\n",
              "      fill: #D2E3FC;\n",
              "    }\n",
              "\n",
              "    [theme=dark] .colab-df-convert:hover {\n",
              "      background-color: #434B5C;\n",
              "      box-shadow: 0px 1px 3px 1px rgba(0, 0, 0, 0.15);\n",
              "      filter: drop-shadow(0px 1px 2px rgba(0, 0, 0, 0.3));\n",
              "      fill: #FFFFFF;\n",
              "    }\n",
              "  </style>\n",
              "\n",
              "      <script>\n",
              "        const buttonEl =\n",
              "          document.querySelector('#df-11e92236-2d7c-44d0-a2bd-5a8c18d35690 button.colab-df-convert');\n",
              "        buttonEl.style.display =\n",
              "          google.colab.kernel.accessAllowed ? 'block' : 'none';\n",
              "\n",
              "        async function convertToInteractive(key) {\n",
              "          const element = document.querySelector('#df-11e92236-2d7c-44d0-a2bd-5a8c18d35690');\n",
              "          const dataTable =\n",
              "            await google.colab.kernel.invokeFunction('convertToInteractive',\n",
              "                                                     [key], {});\n",
              "          if (!dataTable) return;\n",
              "\n",
              "          const docLinkHtml = 'Like what you see? Visit the ' +\n",
              "            '<a target=\"_blank\" href=https://colab.research.google.com/notebooks/data_table.ipynb>data table notebook</a>'\n",
              "            + ' to learn more about interactive tables.';\n",
              "          element.innerHTML = '';\n",
              "          dataTable['output_type'] = 'display_data';\n",
              "          await google.colab.output.renderOutput(dataTable, element);\n",
              "          const docLink = document.createElement('div');\n",
              "          docLink.innerHTML = docLinkHtml;\n",
              "          element.appendChild(docLink);\n",
              "        }\n",
              "      </script>\n",
              "    </div>\n",
              "  </div>\n",
              "  "
            ],
            "text/plain": [
              "                                         text  \\\n",
              "6906          a league live streaming updates   \n",
              "9455    abc business news and market analysis   \n",
              "9476    abc business news and market analysis   \n",
              "9487    abc business news and market analysis   \n",
              "9498    abc business news and market analysis   \n",
              "...                                       ...   \n",
              "742784     wednesday finance with alan kohler   \n",
              "742790     wednesday finance with alan kohler   \n",
              "742816     wednesday finance with alan kohler   \n",
              "742873     wednesday markets with fiona clark   \n",
              "758107     woman to front court over stabbing   \n",
              "\n",
              "                               augmented_text  \n",
              "6906          a elgaue ivle streaming updates  \n",
              "9455    abc buisnses news and maretk analysis  \n",
              "9476    abc business ensw and market anyalsis  \n",
              "9487    abc ubisness news and market analysis  \n",
              "9498    abc busienss wnes and market analysis  \n",
              "...                                       ...  \n",
              "742784     wednesday finnaec with lana kohler  \n",
              "742790     wednesday finance with lana kohler  \n",
              "742816     wednesday finance with lana kohler  \n",
              "742873     wednesday markets iwht fiona lcakr  \n",
              "758107     woman to front ocutr over stabbing  \n",
              "\n",
              "[71 rows x 2 columns]"
            ]
          },
          "execution_count": 3,
          "metadata": {},
          "output_type": "execute_result"
        }
      ],
      "source": [
        "df_train[df_train.duplicated()]\n"
      ]
    },
    {
      "cell_type": "code",
      "execution_count": null,
      "metadata": {
        "colab": {
          "base_uri": "https://localhost:8080/",
          "height": 112
        },
        "id": "fOtnbULR-sI_",
        "outputId": "b00091f0-f387-4221-8eec-24e6407dec81"
      },
      "outputs": [
        {
          "data": {
            "text/html": [
              "\n",
              "  <div id=\"df-86a4fe44-3b83-4d6c-b7db-32cba0160baf\">\n",
              "    <div class=\"colab-df-container\">\n",
              "      <div>\n",
              "<style scoped>\n",
              "    .dataframe tbody tr th:only-of-type {\n",
              "        vertical-align: middle;\n",
              "    }\n",
              "\n",
              "    .dataframe tbody tr th {\n",
              "        vertical-align: top;\n",
              "    }\n",
              "\n",
              "    .dataframe thead th {\n",
              "        text-align: right;\n",
              "    }\n",
              "</style>\n",
              "<table border=\"1\" class=\"dataframe\">\n",
              "  <thead>\n",
              "    <tr style=\"text-align: right;\">\n",
              "      <th></th>\n",
              "      <th>text</th>\n",
              "      <th>augmented_text</th>\n",
              "    </tr>\n",
              "  </thead>\n",
              "  <tbody>\n",
              "    <tr>\n",
              "      <th>42958</th>\n",
              "      <td>abc business news and market analysis</td>\n",
              "      <td>abc ubsiness news and market analysis</td>\n",
              "    </tr>\n",
              "    <tr>\n",
              "      <th>150906</th>\n",
              "      <td>abc business news and market analysis</td>\n",
              "      <td>abc usbiness news and mraekt analysis</td>\n",
              "    </tr>\n",
              "  </tbody>\n",
              "</table>\n",
              "</div>\n",
              "      <button class=\"colab-df-convert\" onclick=\"convertToInteractive('df-86a4fe44-3b83-4d6c-b7db-32cba0160baf')\"\n",
              "              title=\"Convert this dataframe to an interactive table.\"\n",
              "              style=\"display:none;\">\n",
              "        \n",
              "  <svg xmlns=\"http://www.w3.org/2000/svg\" height=\"24px\"viewBox=\"0 0 24 24\"\n",
              "       width=\"24px\">\n",
              "    <path d=\"M0 0h24v24H0V0z\" fill=\"none\"/>\n",
              "    <path d=\"M18.56 5.44l.94 2.06.94-2.06 2.06-.94-2.06-.94-.94-2.06-.94 2.06-2.06.94zm-11 1L8.5 8.5l.94-2.06 2.06-.94-2.06-.94L8.5 2.5l-.94 2.06-2.06.94zm10 10l.94 2.06.94-2.06 2.06-.94-2.06-.94-.94-2.06-.94 2.06-2.06.94z\"/><path d=\"M17.41 7.96l-1.37-1.37c-.4-.4-.92-.59-1.43-.59-.52 0-1.04.2-1.43.59L10.3 9.45l-7.72 7.72c-.78.78-.78 2.05 0 2.83L4 21.41c.39.39.9.59 1.41.59.51 0 1.02-.2 1.41-.59l7.78-7.78 2.81-2.81c.8-.78.8-2.07 0-2.86zM5.41 20L4 18.59l7.72-7.72 1.47 1.35L5.41 20z\"/>\n",
              "  </svg>\n",
              "      </button>\n",
              "      \n",
              "  <style>\n",
              "    .colab-df-container {\n",
              "      display:flex;\n",
              "      flex-wrap:wrap;\n",
              "      gap: 12px;\n",
              "    }\n",
              "\n",
              "    .colab-df-convert {\n",
              "      background-color: #E8F0FE;\n",
              "      border: none;\n",
              "      border-radius: 50%;\n",
              "      cursor: pointer;\n",
              "      display: none;\n",
              "      fill: #1967D2;\n",
              "      height: 32px;\n",
              "      padding: 0 0 0 0;\n",
              "      width: 32px;\n",
              "    }\n",
              "\n",
              "    .colab-df-convert:hover {\n",
              "      background-color: #E2EBFA;\n",
              "      box-shadow: 0px 1px 2px rgba(60, 64, 67, 0.3), 0px 1px 3px 1px rgba(60, 64, 67, 0.15);\n",
              "      fill: #174EA6;\n",
              "    }\n",
              "\n",
              "    [theme=dark] .colab-df-convert {\n",
              "      background-color: #3B4455;\n",
              "      fill: #D2E3FC;\n",
              "    }\n",
              "\n",
              "    [theme=dark] .colab-df-convert:hover {\n",
              "      background-color: #434B5C;\n",
              "      box-shadow: 0px 1px 3px 1px rgba(0, 0, 0, 0.15);\n",
              "      filter: drop-shadow(0px 1px 2px rgba(0, 0, 0, 0.3));\n",
              "      fill: #FFFFFF;\n",
              "    }\n",
              "  </style>\n",
              "\n",
              "      <script>\n",
              "        const buttonEl =\n",
              "          document.querySelector('#df-86a4fe44-3b83-4d6c-b7db-32cba0160baf button.colab-df-convert');\n",
              "        buttonEl.style.display =\n",
              "          google.colab.kernel.accessAllowed ? 'block' : 'none';\n",
              "\n",
              "        async function convertToInteractive(key) {\n",
              "          const element = document.querySelector('#df-86a4fe44-3b83-4d6c-b7db-32cba0160baf');\n",
              "          const dataTable =\n",
              "            await google.colab.kernel.invokeFunction('convertToInteractive',\n",
              "                                                     [key], {});\n",
              "          if (!dataTable) return;\n",
              "\n",
              "          const docLinkHtml = 'Like what you see? Visit the ' +\n",
              "            '<a target=\"_blank\" href=https://colab.research.google.com/notebooks/data_table.ipynb>data table notebook</a>'\n",
              "            + ' to learn more about interactive tables.';\n",
              "          element.innerHTML = '';\n",
              "          dataTable['output_type'] = 'display_data';\n",
              "          await google.colab.output.renderOutput(dataTable, element);\n",
              "          const docLink = document.createElement('div');\n",
              "          docLink.innerHTML = docLinkHtml;\n",
              "          element.appendChild(docLink);\n",
              "        }\n",
              "      </script>\n",
              "    </div>\n",
              "  </div>\n",
              "  "
            ],
            "text/plain": [
              "                                         text  \\\n",
              "42958   abc business news and market analysis   \n",
              "150906  abc business news and market analysis   \n",
              "\n",
              "                               augmented_text  \n",
              "42958   abc ubsiness news and market analysis  \n",
              "150906  abc usbiness news and mraekt analysis  "
            ]
          },
          "execution_count": 4,
          "metadata": {},
          "output_type": "execute_result"
        }
      ],
      "source": [
        "df_val[df_val.duplicated()]\n"
      ]
    },
    {
      "cell_type": "code",
      "execution_count": null,
      "metadata": {
        "colab": {
          "base_uri": "https://localhost:8080/",
          "height": 112
        },
        "id": "KG_gPvnu-tGt",
        "outputId": "540f41a7-b7f7-428a-f066-35fed692d1a7"
      },
      "outputs": [
        {
          "data": {
            "text/html": [
              "\n",
              "  <div id=\"df-061fa0be-d630-4677-aec2-d0ad166ee25c\">\n",
              "    <div class=\"colab-df-container\">\n",
              "      <div>\n",
              "<style scoped>\n",
              "    .dataframe tbody tr th:only-of-type {\n",
              "        vertical-align: middle;\n",
              "    }\n",
              "\n",
              "    .dataframe tbody tr th {\n",
              "        vertical-align: top;\n",
              "    }\n",
              "\n",
              "    .dataframe thead th {\n",
              "        text-align: right;\n",
              "    }\n",
              "</style>\n",
              "<table border=\"1\" class=\"dataframe\">\n",
              "  <thead>\n",
              "    <tr style=\"text-align: right;\">\n",
              "      <th></th>\n",
              "      <th>text</th>\n",
              "      <th>augmented_text</th>\n",
              "    </tr>\n",
              "  </thead>\n",
              "  <tbody>\n",
              "    <tr>\n",
              "      <th>52797</th>\n",
              "      <td>abc business news and market analysis</td>\n",
              "      <td>abc business wnes and market aanlyiss</td>\n",
              "    </tr>\n",
              "    <tr>\n",
              "      <th>98255</th>\n",
              "      <td>abc business news and market analysis</td>\n",
              "      <td>abc ubsiness news and market analysis</td>\n",
              "    </tr>\n",
              "  </tbody>\n",
              "</table>\n",
              "</div>\n",
              "      <button class=\"colab-df-convert\" onclick=\"convertToInteractive('df-061fa0be-d630-4677-aec2-d0ad166ee25c')\"\n",
              "              title=\"Convert this dataframe to an interactive table.\"\n",
              "              style=\"display:none;\">\n",
              "        \n",
              "  <svg xmlns=\"http://www.w3.org/2000/svg\" height=\"24px\"viewBox=\"0 0 24 24\"\n",
              "       width=\"24px\">\n",
              "    <path d=\"M0 0h24v24H0V0z\" fill=\"none\"/>\n",
              "    <path d=\"M18.56 5.44l.94 2.06.94-2.06 2.06-.94-2.06-.94-.94-2.06-.94 2.06-2.06.94zm-11 1L8.5 8.5l.94-2.06 2.06-.94-2.06-.94L8.5 2.5l-.94 2.06-2.06.94zm10 10l.94 2.06.94-2.06 2.06-.94-2.06-.94-.94-2.06-.94 2.06-2.06.94z\"/><path d=\"M17.41 7.96l-1.37-1.37c-.4-.4-.92-.59-1.43-.59-.52 0-1.04.2-1.43.59L10.3 9.45l-7.72 7.72c-.78.78-.78 2.05 0 2.83L4 21.41c.39.39.9.59 1.41.59.51 0 1.02-.2 1.41-.59l7.78-7.78 2.81-2.81c.8-.78.8-2.07 0-2.86zM5.41 20L4 18.59l7.72-7.72 1.47 1.35L5.41 20z\"/>\n",
              "  </svg>\n",
              "      </button>\n",
              "      \n",
              "  <style>\n",
              "    .colab-df-container {\n",
              "      display:flex;\n",
              "      flex-wrap:wrap;\n",
              "      gap: 12px;\n",
              "    }\n",
              "\n",
              "    .colab-df-convert {\n",
              "      background-color: #E8F0FE;\n",
              "      border: none;\n",
              "      border-radius: 50%;\n",
              "      cursor: pointer;\n",
              "      display: none;\n",
              "      fill: #1967D2;\n",
              "      height: 32px;\n",
              "      padding: 0 0 0 0;\n",
              "      width: 32px;\n",
              "    }\n",
              "\n",
              "    .colab-df-convert:hover {\n",
              "      background-color: #E2EBFA;\n",
              "      box-shadow: 0px 1px 2px rgba(60, 64, 67, 0.3), 0px 1px 3px 1px rgba(60, 64, 67, 0.15);\n",
              "      fill: #174EA6;\n",
              "    }\n",
              "\n",
              "    [theme=dark] .colab-df-convert {\n",
              "      background-color: #3B4455;\n",
              "      fill: #D2E3FC;\n",
              "    }\n",
              "\n",
              "    [theme=dark] .colab-df-convert:hover {\n",
              "      background-color: #434B5C;\n",
              "      box-shadow: 0px 1px 3px 1px rgba(0, 0, 0, 0.15);\n",
              "      filter: drop-shadow(0px 1px 2px rgba(0, 0, 0, 0.3));\n",
              "      fill: #FFFFFF;\n",
              "    }\n",
              "  </style>\n",
              "\n",
              "      <script>\n",
              "        const buttonEl =\n",
              "          document.querySelector('#df-061fa0be-d630-4677-aec2-d0ad166ee25c button.colab-df-convert');\n",
              "        buttonEl.style.display =\n",
              "          google.colab.kernel.accessAllowed ? 'block' : 'none';\n",
              "\n",
              "        async function convertToInteractive(key) {\n",
              "          const element = document.querySelector('#df-061fa0be-d630-4677-aec2-d0ad166ee25c');\n",
              "          const dataTable =\n",
              "            await google.colab.kernel.invokeFunction('convertToInteractive',\n",
              "                                                     [key], {});\n",
              "          if (!dataTable) return;\n",
              "\n",
              "          const docLinkHtml = 'Like what you see? Visit the ' +\n",
              "            '<a target=\"_blank\" href=https://colab.research.google.com/notebooks/data_table.ipynb>data table notebook</a>'\n",
              "            + ' to learn more about interactive tables.';\n",
              "          element.innerHTML = '';\n",
              "          dataTable['output_type'] = 'display_data';\n",
              "          await google.colab.output.renderOutput(dataTable, element);\n",
              "          const docLink = document.createElement('div');\n",
              "          docLink.innerHTML = docLinkHtml;\n",
              "          element.appendChild(docLink);\n",
              "        }\n",
              "      </script>\n",
              "    </div>\n",
              "  </div>\n",
              "  "
            ],
            "text/plain": [
              "                                        text  \\\n",
              "52797  abc business news and market analysis   \n",
              "98255  abc business news and market analysis   \n",
              "\n",
              "                              augmented_text  \n",
              "52797  abc business wnes and market aanlyiss  \n",
              "98255  abc ubsiness news and market analysis  "
            ]
          },
          "execution_count": 5,
          "metadata": {},
          "output_type": "execute_result"
        }
      ],
      "source": [
        "df_test[df_test.duplicated()]\n"
      ]
    },
    {
      "cell_type": "code",
      "execution_count": null,
      "metadata": {
        "id": "s5oWgBqmTp7p"
      },
      "outputs": [],
      "source": [
        "# def clean_data(text):\n",
        "#     text = text.lower()\n",
        "#     text = re.sub(r\"[-=+*\\\"#@!$%^&()`<>/[\\]]\",\"\",text)\n",
        "#     text = re.sub(r\"i'm\",\"i am\",text)\n",
        "#     text = re.sub(r\"he's\",\"he is\",text)\n",
        "#     text = re.sub(r\"she's\",\"she is\",text)\n",
        "#     text = re.sub(r\"it's\",\"it is\",text)\n",
        "#     text = re.sub(r\"they're\",\"they are\",text)\n",
        "#     text = re.sub(r\"there're\",\"there are\",text)\n",
        "#     text = re.sub(r\"there's\",\"there is\",text)\n",
        "#     text = re.sub(r\"how're\",\"how are\",text)\n",
        "#     text = re.sub(r\"what're\",\"what are\",text)\n",
        "#     text = re.sub(r\"where're\",\"where \",text)\n",
        "#     text = re.sub(r\"who're\",\"who are\",text)\n",
        "#     text = re.sub(r\"that're\",\"that are\",text)\n",
        "#     text = re.sub(r\"when're\",\"when are\",text)\n",
        "#     text = re.sub(r\"how's\",\"how is\",text)\n",
        "#     text = re.sub(r\"what's\",\"what is\",text)\n",
        "#     text = re.sub(r\"where's\",\"where is\",text)\n",
        "#     text = re.sub(r\"who's\",\"who is\",text)\n",
        "#     text = re.sub(r\"that's\",\"that is\",text)\n",
        "#     text = re.sub(r\"when's\",\"when is\",text)\n",
        "#     text = re.sub(r\"won't\",\"would not\",text)\n",
        "#     text = re.sub(r\"nt't\",\"can not\",text)\n",
        "#     text = re.sub(r\"\\'bout'\",\"about\",text)\n",
        "#     text = re.sub(r\"\\'till'\",\"untill\",text)\n",
        "#     text = re.sub(r\"\\'ll\",\"will\",text)\n",
        "#     text = re.sub(r\"\\'ve\",\"have\",text)\n",
        "#     text = re.sub(r\"\\'re\",\"are\",text)\n",
        "#     text = re.sub(r\"\\'d\",\"would\",text)\n",
        "#     text = re.sub(r\"\\.\",\" \",text)\n",
        "#     text = re.sub(r\"\\,\",\" \",text)\n",
        "#     text = re.sub(r\"\\!\",\" \",text)\n",
        "#     text = re.sub(r\"\\?\",\" \",text)\n",
        "#     text = re.sub(r\"\\;\",\" \",text)\n",
        "#     text = re.sub(r\"\\:\",\" \",text)\n",
        "#     return text\n",
        "\n",
        "    \n",
        "# df_train['text'] = df_train['text'].apply(clean_data)\n",
        "# df_train['augmented_text'] = df_train['augmented_text'].apply(clean_data)\n",
        "# df_val['text'] = df_val['text'].apply(clean_data)\n",
        "# df_val['augmented_text'] = df_val['augmented_text'].apply(clean_data)\n",
        "# df_test['text'] = df_test['text'].apply(clean_data)\n",
        "# df_test['augmented_text'] = df_test['augmented_text'].apply(clean_data)\n",
        "# data = pd.concat([df_train,df_val,df_test])\n"
      ]
    },
    {
      "cell_type": "code",
      "execution_count": null,
      "metadata": {
        "id": "cBBa1A3aw0e2"
      },
      "outputs": [],
      "source": [
        "# data.to_csv('/content/drive/MyDrive/Colab_Notebooks/data.csv',index=False,)"
      ]
    },
    {
      "cell_type": "code",
      "execution_count": null,
      "metadata": {
        "id": "9Rr916ahpnUm"
      },
      "outputs": [],
      "source": [
        "#data.csv is being pre-process to save time for training\n",
        "data = pd.read_csv('/content/drive/MyDrive/Colab_Notebooks/data.csv')"
      ]
    },
    {
      "cell_type": "code",
      "execution_count": null,
      "metadata": {
        "colab": {
          "base_uri": "https://localhost:8080/"
        },
        "id": "BV4K4JPt-bXI",
        "outputId": "1e62d677-01fa-4f7f-eb9c-244c07bb6fe9"
      },
      "outputs": [
        {
          "name": "stdout",
          "output_type": "stream",
          "text": [
            "text              0\n",
            "augmented_text    0\n",
            "dtype: int64\n",
            "0\n"
          ]
        }
      ],
      "source": [
        "print(data.isnull().sum())\n",
        "data = data.drop_duplicates(subset=['augmented_text'])\n",
        "# data = (data[data[\"augmented_text\"] != \"name\"])\n",
        "print(data.duplicated().sum())"
      ]
    },
    {
      "cell_type": "code",
      "execution_count": null,
      "metadata": {
        "id": "s5Q_QNItw7kV"
      },
      "outputs": [],
      "source": [
        "df = data"
      ]
    },
    {
      "cell_type": "code",
      "execution_count": null,
      "metadata": {
        "colab": {
          "base_uri": "https://localhost:8080/",
          "height": 175
        },
        "id": "NPdf-5Hn7RET",
        "outputId": "d76ebd52-37ea-449c-e77f-5a4948e6d2ba"
      },
      "outputs": [
        {
          "data": {
            "text/html": [
              "\n",
              "  <div id=\"df-46c9506e-71ad-43dd-96a9-78bc2e0317e4\">\n",
              "    <div class=\"colab-df-container\">\n",
              "      <div>\n",
              "<style scoped>\n",
              "    .dataframe tbody tr th:only-of-type {\n",
              "        vertical-align: middle;\n",
              "    }\n",
              "\n",
              "    .dataframe tbody tr th {\n",
              "        vertical-align: top;\n",
              "    }\n",
              "\n",
              "    .dataframe thead th {\n",
              "        text-align: right;\n",
              "    }\n",
              "</style>\n",
              "<table border=\"1\" class=\"dataframe\">\n",
              "  <thead>\n",
              "    <tr style=\"text-align: right;\">\n",
              "      <th></th>\n",
              "      <th>text</th>\n",
              "      <th>augmented_text</th>\n",
              "    </tr>\n",
              "  </thead>\n",
              "  <tbody>\n",
              "    <tr>\n",
              "      <th>count</th>\n",
              "      <td>1024690</td>\n",
              "      <td>1024690</td>\n",
              "    </tr>\n",
              "    <tr>\n",
              "      <th>unique</th>\n",
              "      <td>1017097</td>\n",
              "      <td>1024690</td>\n",
              "    </tr>\n",
              "    <tr>\n",
              "      <th>top</th>\n",
              "      <td>abc business news and market analysis</td>\n",
              "      <td>1 billion darling hsarfbour redeevelopment p3...</td>\n",
              "    </tr>\n",
              "    <tr>\n",
              "      <th>freq</th>\n",
              "      <td>516</td>\n",
              "      <td>1</td>\n",
              "    </tr>\n",
              "  </tbody>\n",
              "</table>\n",
              "</div>\n",
              "      <button class=\"colab-df-convert\" onclick=\"convertToInteractive('df-46c9506e-71ad-43dd-96a9-78bc2e0317e4')\"\n",
              "              title=\"Convert this dataframe to an interactive table.\"\n",
              "              style=\"display:none;\">\n",
              "        \n",
              "  <svg xmlns=\"http://www.w3.org/2000/svg\" height=\"24px\"viewBox=\"0 0 24 24\"\n",
              "       width=\"24px\">\n",
              "    <path d=\"M0 0h24v24H0V0z\" fill=\"none\"/>\n",
              "    <path d=\"M18.56 5.44l.94 2.06.94-2.06 2.06-.94-2.06-.94-.94-2.06-.94 2.06-2.06.94zm-11 1L8.5 8.5l.94-2.06 2.06-.94-2.06-.94L8.5 2.5l-.94 2.06-2.06.94zm10 10l.94 2.06.94-2.06 2.06-.94-2.06-.94-.94-2.06-.94 2.06-2.06.94z\"/><path d=\"M17.41 7.96l-1.37-1.37c-.4-.4-.92-.59-1.43-.59-.52 0-1.04.2-1.43.59L10.3 9.45l-7.72 7.72c-.78.78-.78 2.05 0 2.83L4 21.41c.39.39.9.59 1.41.59.51 0 1.02-.2 1.41-.59l7.78-7.78 2.81-2.81c.8-.78.8-2.07 0-2.86zM5.41 20L4 18.59l7.72-7.72 1.47 1.35L5.41 20z\"/>\n",
              "  </svg>\n",
              "      </button>\n",
              "      \n",
              "  <style>\n",
              "    .colab-df-container {\n",
              "      display:flex;\n",
              "      flex-wrap:wrap;\n",
              "      gap: 12px;\n",
              "    }\n",
              "\n",
              "    .colab-df-convert {\n",
              "      background-color: #E8F0FE;\n",
              "      border: none;\n",
              "      border-radius: 50%;\n",
              "      cursor: pointer;\n",
              "      display: none;\n",
              "      fill: #1967D2;\n",
              "      height: 32px;\n",
              "      padding: 0 0 0 0;\n",
              "      width: 32px;\n",
              "    }\n",
              "\n",
              "    .colab-df-convert:hover {\n",
              "      background-color: #E2EBFA;\n",
              "      box-shadow: 0px 1px 2px rgba(60, 64, 67, 0.3), 0px 1px 3px 1px rgba(60, 64, 67, 0.15);\n",
              "      fill: #174EA6;\n",
              "    }\n",
              "\n",
              "    [theme=dark] .colab-df-convert {\n",
              "      background-color: #3B4455;\n",
              "      fill: #D2E3FC;\n",
              "    }\n",
              "\n",
              "    [theme=dark] .colab-df-convert:hover {\n",
              "      background-color: #434B5C;\n",
              "      box-shadow: 0px 1px 3px 1px rgba(0, 0, 0, 0.15);\n",
              "      filter: drop-shadow(0px 1px 2px rgba(0, 0, 0, 0.3));\n",
              "      fill: #FFFFFF;\n",
              "    }\n",
              "  </style>\n",
              "\n",
              "      <script>\n",
              "        const buttonEl =\n",
              "          document.querySelector('#df-46c9506e-71ad-43dd-96a9-78bc2e0317e4 button.colab-df-convert');\n",
              "        buttonEl.style.display =\n",
              "          google.colab.kernel.accessAllowed ? 'block' : 'none';\n",
              "\n",
              "        async function convertToInteractive(key) {\n",
              "          const element = document.querySelector('#df-46c9506e-71ad-43dd-96a9-78bc2e0317e4');\n",
              "          const dataTable =\n",
              "            await google.colab.kernel.invokeFunction('convertToInteractive',\n",
              "                                                     [key], {});\n",
              "          if (!dataTable) return;\n",
              "\n",
              "          const docLinkHtml = 'Like what you see? Visit the ' +\n",
              "            '<a target=\"_blank\" href=https://colab.research.google.com/notebooks/data_table.ipynb>data table notebook</a>'\n",
              "            + ' to learn more about interactive tables.';\n",
              "          element.innerHTML = '';\n",
              "          dataTable['output_type'] = 'display_data';\n",
              "          await google.colab.output.renderOutput(dataTable, element);\n",
              "          const docLink = document.createElement('div');\n",
              "          docLink.innerHTML = docLinkHtml;\n",
              "          element.appendChild(docLink);\n",
              "        }\n",
              "      </script>\n",
              "    </div>\n",
              "  </div>\n",
              "  "
            ],
            "text/plain": [
              "                                         text  \\\n",
              "count                                 1024690   \n",
              "unique                                1017097   \n",
              "top     abc business news and market analysis   \n",
              "freq                                      516   \n",
              "\n",
              "                                           augmented_text  \n",
              "count                                             1024690  \n",
              "unique                                            1024690  \n",
              "top      1 billion darling hsarfbour redeevelopment p3...  \n",
              "freq                                                    1  "
            ]
          },
          "execution_count": 11,
          "metadata": {},
          "output_type": "execute_result"
        }
      ],
      "source": [
        "df.describe()"
      ]
    },
    {
      "cell_type": "code",
      "execution_count": null,
      "metadata": {
        "id": "X4xURgshSrpT"
      },
      "outputs": [],
      "source": [
        "\n",
        "train_df = df['augmented_text']\n",
        "test_df = df['text']\n",
        "from sklearn.model_selection import train_test_split\n",
        "train_x, test_x, train_y, test_y = train_test_split(train_df, test_df, test_size=0.2, random_state=0)\n",
        "val_x, test_x,val_y, test_y = train_test_split(test_x, test_y, test_size = 0.5, random_state=42)\n"
      ]
    },
    {
      "cell_type": "code",
      "execution_count": null,
      "metadata": {
        "colab": {
          "base_uri": "https://localhost:8080/"
        },
        "id": "IZMTBLH1H-U7",
        "outputId": "e745d3df-7b32-4aaa-dc44-4c37fb587009"
      },
      "outputs": [
        {
          "data": {
            "text/plain": [
              "161481           counfii digbs off on parks indigenkhs name\n",
              "61863       backbemches hle out hope for child care cgsnges\n",
              "900739    two more councillors resign frn xenmari lova  ...\n",
              "55388           zustrzlian killed in azerbz8jan plane crash\n",
              "349300    japanese hwlaing lfeets claim an abslouet lie sea\n",
              "                                ...                        \n",
              "963542    trump grand military paqdes and not so grsnr q...\n",
              "118001                     cxge sud9ends operations in iraq\n",
              "435903                    orme money lost on benidog pokies\n",
              "305771                     hlc ey backs coal rkjalty scheme\n",
              "985926      memornaudm sgnied to improve interaction within\n",
              "Name: augmented_text, Length: 819752, dtype: object"
            ]
          },
          "execution_count": 13,
          "metadata": {},
          "output_type": "execute_result"
        }
      ],
      "source": [
        "train_x"
      ]
    },
    {
      "cell_type": "code",
      "execution_count": null,
      "metadata": {
        "colab": {
          "base_uri": "https://localhost:8080/"
        },
        "id": "inUltHgQ191H",
        "outputId": "5af7da3f-81df-4af7-d83f-4f67d8981054"
      },
      "outputs": [
        {
          "data": {
            "text/plain": [
              "161481           council signs off on parks indigenous name\n",
              "61863     backbenchers hold out hope for child care changes\n",
              "900739    two more councillors resign from denmark local...\n",
              "55388           australian killed in azerbaijan plane crash\n",
              "349300    japanese whaling fleets claim an absolute lie sea\n",
              "                                ...                        \n",
              "963542    trump grand military parades and not so grand ...\n",
              "118001                     care suspends operations in iraq\n",
              "435903                    more money lost on bendigo pokies\n",
              "305771                     hickey backs coal royalty scheme\n",
              "985926      memorandum signed to improve interaction within\n",
              "Name: text, Length: 819752, dtype: object"
            ]
          },
          "execution_count": 14,
          "metadata": {},
          "output_type": "execute_result"
        }
      ],
      "source": [
        "train_y"
      ]
    },
    {
      "cell_type": "code",
      "execution_count": null,
      "metadata": {
        "id": "gK5wiBIXZLis"
      },
      "outputs": [],
      "source": [
        "max_length = 74"
      ]
    },
    {
      "cell_type": "code",
      "execution_count": null,
      "metadata": {
        "id": "sTa8D0WfT1gf"
      },
      "outputs": [],
      "source": [
        "\n",
        "g_text_tokenizer = Tokenizer(char_level=True)\n",
        "g_text_tokenizer.fit_on_texts(train_x)\n",
        "g_text_word_index = g_text_tokenizer.word_index\n",
        "train_sequences = g_text_tokenizer.texts_to_sequences(train_x)\n",
        "train_padded = pad_sequences(train_sequences, maxlen = max_length, padding='post')\n",
        "\n",
        "\n",
        "text_tokenizer = Tokenizer(char_level=True)\n",
        "text_tokenizer.fit_on_texts(train_y)\n",
        "text_word_index = text_tokenizer.word_index\n",
        "test_sequences = text_tokenizer.texts_to_sequences(train_y)\n",
        "test_padded = pad_sequences(test_sequences,maxlen = max_length, padding='post')\n",
        "\n",
        "\n",
        "\n"
      ]
    },
    {
      "cell_type": "code",
      "execution_count": null,
      "metadata": {
        "colab": {
          "base_uri": "https://localhost:8080/"
        },
        "id": "EoS-zPByYYPU",
        "outputId": "2de2bfea-258b-4a83-af49-edf8cff33bfb"
      },
      "outputs": [
        {
          "data": {
            "text/plain": [
              "{' ': 1,\n",
              " \"'\": 32,\n",
              " '0': 27,\n",
              " '1': 29,\n",
              " '2': 30,\n",
              " '3': 33,\n",
              " '4': 34,\n",
              " '5': 31,\n",
              " '6': 35,\n",
              " '7': 37,\n",
              " '8': 38,\n",
              " '9': 36,\n",
              " 'a': 3,\n",
              " 'b': 19,\n",
              " 'c': 11,\n",
              " 'd': 12,\n",
              " 'e': 2,\n",
              " 'f': 18,\n",
              " 'g': 17,\n",
              " 'h': 14,\n",
              " 'i': 7,\n",
              " 'j': 24,\n",
              " 'k': 23,\n",
              " 'l': 10,\n",
              " 'm': 15,\n",
              " 'n': 9,\n",
              " 'o': 6,\n",
              " 'p': 16,\n",
              " 'q': 26,\n",
              " 'r': 4,\n",
              " 's': 5,\n",
              " 't': 8,\n",
              " 'u': 13,\n",
              " 'v': 22,\n",
              " 'w': 20,\n",
              " 'x': 25,\n",
              " 'y': 21,\n",
              " 'z': 28}"
            ]
          },
          "execution_count": 17,
          "metadata": {},
          "output_type": "execute_result"
        }
      ],
      "source": [
        "text_tokenizer.word_index"
      ]
    },
    {
      "cell_type": "code",
      "execution_count": null,
      "metadata": {
        "id": "4PWLtCPyLNVJ"
      },
      "outputs": [],
      "source": [
        "val_train_sequences = g_text_tokenizer.texts_to_sequences(val_x)\n",
        "val_train_padded = pad_sequences(val_train_sequences, maxlen = max_length, padding='post')\n",
        "\n",
        "val_test_sequences = text_tokenizer.texts_to_sequences(val_y)\n",
        "val_test_padded = pad_sequences(val_test_sequences, maxlen = max_length, padding='post')"
      ]
    },
    {
      "cell_type": "code",
      "execution_count": null,
      "metadata": {
        "colab": {
          "base_uri": "https://localhost:8080/"
        },
        "id": "npA5T2pATdEK",
        "outputId": "044bfa00-28ea-4639-a9bd-9d285d6f2f00"
      },
      "outputs": [
        {
          "name": "stdout",
          "output_type": "stream",
          "text": [
            "40 39\n"
          ]
        }
      ],
      "source": [
        "g_vocab_size = len(g_text_word_index)+1\n",
        "vocab_size = len(text_word_index)+1\n",
        "print(g_vocab_size, vocab_size)"
      ]
    },
    {
      "cell_type": "code",
      "execution_count": null,
      "metadata": {
        "colab": {
          "base_uri": "https://localhost:8080/",
          "height": 281
        },
        "id": "9EspCkMbCKx_",
        "outputId": "f0fd685b-dcae-433c-f7c4-b2184db77e73"
      },
      "outputs": [
        {
          "data": {
            "image/png": "[encoded data removed]",
            "text/plain": [
              "<Figure size 432x288 with 1 Axes>"
            ]
          },
          "metadata": {},
          "output_type": "display_data"
        }
      ],
      "source": [
        "voc = [\"Text Vocabulary\", \"Augmented Text Vocabulary\"]\n",
        "voc_count = [vocab_size, g_vocab_size]\n",
        "\n",
        "plt.bar(voc, voc_count, width = 0.4)\n",
        "plt.title(\"Vocabulary Graph\")\n",
        "plt.show()"
      ]
    },
    {
      "cell_type": "code",
      "execution_count": null,
      "metadata": {
        "id": "eVK8H4m5dqdD"
      },
      "outputs": [],
      "source": [
        "temp_test_padded = test_padded.reshape((test_padded.shape[0], test_padded.shape[1],1))\n"
      ]
    },
    {
      "cell_type": "code",
      "execution_count": null,
      "metadata": {
        "id": "msrdgdWvea79"
      },
      "outputs": [],
      "source": [
        "epoch = 20"
      ]
    },
    {
      "cell_type": "code",
      "execution_count": null,
      "metadata": {
        "colab": {
          "base_uri": "https://localhost:8080/"
        },
        "id": "oANQwWFFgTzh",
        "outputId": "f5881a01-f587-4d14-969d-9ae9e5e66be0"
      },
      "outputs": [
        {
          "name": "stdout",
          "output_type": "stream",
          "text": [
            "Model: \"sequential\"\n",
            "____________________________________________________________________________\n",
            " Layer (type)                Output Shape              Param #   Trainable  \n",
            "============================================================================\n",
            " embedding (Embedding)       (None, 74, 512)           20480     Y          \n",
            "                                                                            \n",
            " bidirectional (Bidirectiona  (None, 512)              1574912   Y          \n",
            " l)                                                                         \n",
            "                                                                            \n",
            " repeat_vector (RepeatVector  (None, 74, 512)          0         Y          \n",
            " )                                                                          \n",
            "                                                                            \n",
            " bidirectional_1 (Bidirectio  (None, 74, 512)          1574912   Y          \n",
            " nal)                                                                       \n",
            "                                                                            \n",
            " bidirectional_2 (Bidirectio  (None, 74, 256)          656384    Y          \n",
            " nal)                                                                       \n",
            "                                                                            \n",
            " bidirectional_3 (Bidirectio  (None, 74, 256)          394240    Y          \n",
            " nal)                                                                       \n",
            "                                                                            \n",
            " bidirectional_4 (Bidirectio  (None, 74, 160)          215680    Y          \n",
            " nal)                                                                       \n",
            "                                                                            \n",
            " dense (Dense)               (None, 74, 39)            6279      Y          \n",
            "                                                                            \n",
            "============================================================================\n",
            "Total params: 4,442,887\n",
            "Trainable params: 4,442,887\n",
            "Non-trainable params: 0\n",
            "____________________________________________________________________________\n"
          ]
        }
      ],
      "source": [
        "#combine the first two methods\n",
        "from keras.regularizers import l2\n",
        "model_4 = tf.keras.Sequential([\n",
        "    tf.keras.layers.Embedding(input_dim=g_vocab_size, output_dim=512, input_length=max_length, mask_zero=True),\n",
        "    tf.keras.layers.Bidirectional(tf.keras.layers.LSTM(256)),\n",
        "\n",
        "    tf.keras.layers.RepeatVector(max_length),\n",
        "    tf.keras.layers.Bidirectional(tf.keras.layers.LSTM(256, return_sequences=True)),\n",
        "    tf.keras.layers.Bidirectional(tf.keras.layers.LSTM(128,  return_sequences=True)),\n",
        "    tf.keras.layers.Bidirectional(tf.keras.layers.LSTM(128,  return_sequences=True)),\n",
        "    tf.keras.layers.Bidirectional(tf.keras.layers.LSTM(80,  return_sequences=True)),\n",
        "\n",
        "    # tf.keras.layers.Dropout(0.3),\n",
        "    # tf.keras.layers.BatchNormalization(),\n",
        "    tf.keras.layers.Dense(vocab_size,activation='softmax')\n",
        "])\n",
        "learning_rate = 0.0005\n",
        "optimizer = tf.keras.optimizers.Adam(learning_rate)\n",
        "# learning_rate = 0.0001\n",
        "# optimizer = tf.keras.optimizers.RMSprop(learning_rate)\n",
        "# optimizer = tf.keras.mixed_precision.LossScaleOptimizer(optimizer)\n",
        "model_4.compile(loss=\"sparse_categorical_crossentropy\",\n",
        "              optimizer=optimizer,\n",
        "              metrics=['accuracy'])\n",
        "model_4.summary(expand_nested=True,\n",
        "    show_trainable=True)"
      ]
    },
    {
      "cell_type": "code",
      "execution_count": 24,
      "metadata": {
        "colab": {
          "base_uri": "https://localhost:8080/",
          "height": 960
        },
        "id": "rvTWGQjJgVRq",
        "outputId": "5643cf65-0869-41cb-a8d1-7da4336bb614"
      },
      "outputs": [
        {
          "output_type": "stream",
          "name": "stdout",
          "text": [
            "Epoch 1/20\n",
            "2733/2733 [==============================] - 604s 214ms/step - loss: 1.7549 - accuracy: 0.4919 - val_loss: 1.5287 - val_accuracy: 0.5462\n",
            "Epoch 2/20\n",
            "2733/2733 [==============================] - 581s 213ms/step - loss: 1.2112 - accuracy: 0.6326 - val_loss: 0.9957 - val_accuracy: 0.6936\n",
            "Epoch 3/20\n",
            "2733/2733 [==============================] - 581s 213ms/step - loss: 0.8784 - accuracy: 0.7345 - val_loss: 0.7884 - val_accuracy: 0.7661\n",
            "Epoch 4/20\n",
            "2733/2733 [==============================] - 580s 212ms/step - loss: 0.7367 - accuracy: 0.7811 - val_loss: 0.6964 - val_accuracy: 0.7917\n",
            "Epoch 5/20\n",
            "2733/2733 [==============================] - 581s 213ms/step - loss: 0.6566 - accuracy: 0.8053 - val_loss: 0.6173 - val_accuracy: 0.8176\n",
            "Epoch 6/20\n",
            "2733/2733 [==============================] - 581s 213ms/step - loss: 0.5990 - accuracy: 0.8209 - val_loss: 0.5820 - val_accuracy: 0.8280\n",
            "Epoch 7/20\n",
            "2733/2733 [==============================] - 581s 213ms/step - loss: 0.5622 - accuracy: 0.8312 - val_loss: 0.5386 - val_accuracy: 0.8398\n",
            "Epoch 8/20\n",
            "2733/2733 [==============================] - 582s 213ms/step - loss: 0.5267 - accuracy: 0.8403 - val_loss: 0.5055 - val_accuracy: 0.8488\n",
            "Epoch 9/20\n",
            "2733/2733 [==============================] - 581s 213ms/step - loss: 0.5020 - accuracy: 0.8467 - val_loss: 0.5262 - val_accuracy: 0.8398\n",
            "Epoch 10/20\n",
            "2733/2733 [==============================] - 581s 213ms/step - loss: 0.4795 - accuracy: 0.8526 - val_loss: 0.4642 - val_accuracy: 0.8586\n",
            "Epoch 11/20\n",
            "2733/2733 [==============================] - 581s 212ms/step - loss: 0.4707 - accuracy: 0.8545 - val_loss: 0.5745 - val_accuracy: 0.8136\n",
            "Epoch 12/20\n",
            "2733/2733 [==============================] - 582s 213ms/step - loss: 0.4464 - accuracy: 0.8612 - val_loss: 0.4469 - val_accuracy: 0.8634\n",
            "Epoch 13/20\n",
            "2733/2733 [==============================] - 582s 213ms/step - loss: 0.4307 - accuracy: 0.8653 - val_loss: 0.4372 - val_accuracy: 0.8637\n",
            "Epoch 14/20\n",
            "2733/2733 [==============================] - 581s 213ms/step - loss: 0.4187 - accuracy: 0.8684 - val_loss: 0.4310 - val_accuracy: 0.8660\n",
            "Epoch 15/20\n",
            "2733/2733 [==============================] - 581s 213ms/step - loss: 0.4065 - accuracy: 0.8716 - val_loss: 0.4109 - val_accuracy: 0.8702\n",
            "Epoch 16/20\n",
            "2733/2733 [==============================] - 582s 213ms/step - loss: 0.3956 - accuracy: 0.8746 - val_loss: 0.4013 - val_accuracy: 0.8743\n",
            "Epoch 17/20\n",
            "2733/2733 [==============================] - 582s 213ms/step - loss: 0.3855 - accuracy: 0.8772 - val_loss: 0.4048 - val_accuracy: 0.8724\n",
            "Epoch 18/20\n",
            "2733/2733 [==============================] - 581s 213ms/step - loss: 0.3747 - accuracy: 0.8803 - val_loss: 0.3928 - val_accuracy: 0.8758\n",
            "Epoch 19/20\n",
            "2733/2733 [==============================] - 581s 213ms/step - loss: 0.3655 - accuracy: 0.8828 - val_loss: 0.3909 - val_accuracy: 0.8784\n",
            "Epoch 20/20\n",
            "2733/2733 [==============================] - 581s 213ms/step - loss: 0.3550 - accuracy: 0.8861 - val_loss: 0.3909 - val_accuracy: 0.8732\n"
          ]
        },
        {
          "output_type": "display_data",
          "data": {
            "text/plain": [
              "<Figure size 432x288 with 1 Axes>"
            ],
            "image/png": "[encoded data removed]"
          },
          "metadata": {
            "needs_background": "light"
          }
        }
      ],
      "source": [
        "his_4 = model_4.fit(train_padded, test_padded, batch_size=300, epochs=epoch, validation_data = (val_train_padded, val_test_padded))\n",
        "\n",
        "plt.plot(his_4.history['loss'])\n",
        "plt.plot(his_4.history['val_loss'])\n",
        "plt.legend(['train','validation'])\n",
        "plt.show()"
      ]
    },
    {
      "cell_type": "code",
      "execution_count": 25,
      "metadata": {
        "id": "ADAyQCdl7mmw"
      },
      "outputs": [],
      "source": [
        "# model.save('/content/drive/MyDrive/Colab_Notebooks/accuracy_84_3lstm_rnn_8inputlength')"
      ]
    },
    {
      "cell_type": "code",
      "execution_count": 26,
      "metadata": {
        "id": "KpGWAIiQUe0_"
      },
      "outputs": [],
      "source": [
        "test_sample = test_x.iloc[:10]\n",
        "test_sample = g_text_tokenizer.texts_to_sequences(test_sample)\n",
        "test_sample = pad_sequences(test_sample, maxlen=max_length, padding='post')\n"
      ]
    },
    {
      "cell_type": "code",
      "execution_count": 27,
      "metadata": {
        "id": "wUHeCyCM02he",
        "colab": {
          "base_uri": "https://localhost:8080/"
        },
        "outputId": "65c52940-8414-4029-c97f-89bb2ac64370"
      },
      "outputs": [
        {
          "output_type": "execute_result",
          "data": {
            "text/plain": [
              "775998    wa rolls out qr xkdes for contact teacong as b...\n",
              "681386          three seriously inkurd in ballarat qccidebt\n",
              "384277                 local ccylists finish outr de france\n",
              "951111       wadeye residents eskeing return to outstaitosn\n",
              "447964      mystrye of missing olrf harris painting remains\n",
              "921442       xomstic markets flat deslits ihtereet rate cut\n",
              "105140               businxsman pays 840000 for numhr plate\n",
              "41074     art exhibition 4este boundaries of mkderm femi...\n",
              "521659         police consider wpefd in fatzp wodonga cfasn\n",
              "550832               ypen bojetcs to pms holocaust allusion\n",
              "Name: augmented_text, dtype: object"
            ]
          },
          "metadata": {},
          "execution_count": 27
        }
      ],
      "source": [
        "test_x.iloc[:10]"
      ]
    },
    {
      "cell_type": "code",
      "execution_count": 28,
      "metadata": {
        "id": "o48mfKmhsDv0",
        "colab": {
          "base_uri": "https://localhost:8080/"
        },
        "outputId": "dda4caaf-00dc-4c0f-c7bf-77343ec62906"
      },
      "outputs": [
        {
          "output_type": "execute_result",
          "data": {
            "text/plain": [
              "775998    wa rolls out qr codes for contact tracing as b...\n",
              "681386         three seriously injured in ballarat accident\n",
              "384277                 local cyclists finish tour de france\n",
              "951111       wadeye residents seeking return to outstations\n",
              "447964      mystery of missing rolf harris painting remains\n",
              "921442      domestic markets flat despite interest rate cut\n",
              "105140             businessman pays 840000 for number plate\n",
              "41074     art exhibition tests boundaries of modern femi...\n",
              "521659         police consider speed in fatal wodonga crash\n",
              "550832               pyne objects to pms holocaust allusion\n",
              "Name: text, dtype: object"
            ]
          },
          "metadata": {},
          "execution_count": 28
        }
      ],
      "source": [
        "test_y.iloc[:10]"
      ]
    },
    {
      "cell_type": "code",
      "execution_count": 29,
      "metadata": {
        "id": "kvPsR8hHEQq9"
      },
      "outputs": [],
      "source": [
        "pre = model_4.predict(test_sample)\n",
        "def deTokenize(logits):\n",
        "    index_to_words = {id: word for word, id in text_tokenizer.word_index.items()}\n",
        "    index_to_words[0] = ''\n",
        "    pre_index = np.argmax(logits, 1)\n",
        "    return ''.join(index_to_words[prediction] for prediction in pre_index)\n",
        "predict = []\n",
        "for i in range(10):\n",
        "  predict.append(deTokenize(pre[i]))"
      ]
    },
    {
      "cell_type": "code",
      "execution_count": 30,
      "metadata": {
        "id": "LCXcto7u1iTa",
        "colab": {
          "base_uri": "https://localhost:8080/",
          "height": 363
        },
        "outputId": "4d8a6aba-83d6-4520-c6ee-857d0f8a6891"
      },
      "outputs": [
        {
          "output_type": "execute_result",
          "data": {
            "text/plain": [
              "                                                    input  \\\n",
              "775998  wa rolls out qr xkdes for contact teacong as b...   \n",
              "681386        three seriously inkurd in ballarat qccidebt   \n",
              "384277               local ccylists finish outr de france   \n",
              "951111     wadeye residents eskeing return to outstaitosn   \n",
              "447964    mystrye of missing olrf harris painting remains   \n",
              "921442     xomstic markets flat deslits ihtereet rate cut   \n",
              "105140             businxsman pays 840000 for numhr plate   \n",
              "41074   art exhibition 4este boundaries of mkderm femi...   \n",
              "521659       police consider wpefd in fatzp wodonga cfasn   \n",
              "550832             ypen bojetcs to pms holocaust allusion   \n",
              "\n",
              "                                                   output  \\\n",
              "775998  wa rolls out qr codes for contact tracing as b...   \n",
              "681386       three seriously injured in ballarat accident   \n",
              "384277               local cyclists finish tour de france   \n",
              "951111     wadeye residents seeking return to outstations   \n",
              "447964    mystery of missing rolf harris painting remains   \n",
              "921442    domestic markets flat despite interest rate cut   \n",
              "105140           businessman pays 840000 for number plate   \n",
              "41074   art exhibition tests boundaries of modern femi...   \n",
              "521659       police consider speed in fatal wodonga crash   \n",
              "550832             pyne objects to pms holocaust allusion   \n",
              "\n",
              "                                                  predict  \n",
              "775998  wa tolls out  ar  ieds for cootactt eaccnn aa ...  \n",
              "681386        three seriously inkure in ballarat accident  \n",
              "384277               local cyclists finish tour de france  \n",
              "951111     wadeyy residents seeking return to outstttioos  \n",
              "447964    mystree of missing lorf harris painting remains  \n",
              "921442    comsstcc markees faay deelits  itereet  ateectt  \n",
              "105140             businesman pays 400000 foor nuur  late  \n",
              "41074   art exhibition teste boundaries of modder  emi...  \n",
              "521659       police consider speer in fatta wooongg ccaas  \n",
              "550832             pyne bojjcts to pms holoccust allusion  "
            ],
            "text/html": [
              "\n",
              "  <div id=\"df-95054432-6590-4b60-ad4f-b8a50e47c11e\">\n",
              "    <div class=\"colab-df-container\">\n",
              "      <div>\n",
              "<style scoped>\n",
              "    .dataframe tbody tr th:only-of-type {\n",
              "        vertical-align: middle;\n",
              "    }\n",
              "\n",
              "    .dataframe tbody tr th {\n",
              "        vertical-align: top;\n",
              "    }\n",
              "\n",
              "    .dataframe thead th {\n",
              "        text-align: right;\n",
              "    }\n",
              "</style>\n",
              "<table border=\"1\" class=\"dataframe\">\n",
              "  <thead>\n",
              "    <tr style=\"text-align: right;\">\n",
              "      <th></th>\n",
              "      <th>input</th>\n",
              "      <th>output</th>\n",
              "      <th>predict</th>\n",
              "    </tr>\n",
              "  </thead>\n",
              "  <tbody>\n",
              "    <tr>\n",
              "      <th>775998</th>\n",
              "      <td>wa rolls out qr xkdes for contact teacong as b...</td>\n",
              "      <td>wa rolls out qr codes for contact tracing as b...</td>\n",
              "      <td>wa tolls out  ar  ieds for cootactt eaccnn aa ...</td>\n",
              "    </tr>\n",
              "    <tr>\n",
              "      <th>681386</th>\n",
              "      <td>three seriously inkurd in ballarat qccidebt</td>\n",
              "      <td>three seriously injured in ballarat accident</td>\n",
              "      <td>three seriously inkure in ballarat accident</td>\n",
              "    </tr>\n",
              "    <tr>\n",
              "      <th>384277</th>\n",
              "      <td>local ccylists finish outr de france</td>\n",
              "      <td>local cyclists finish tour de france</td>\n",
              "      <td>local cyclists finish tour de france</td>\n",
              "    </tr>\n",
              "    <tr>\n",
              "      <th>951111</th>\n",
              "      <td>wadeye residents eskeing return to outstaitosn</td>\n",
              "      <td>wadeye residents seeking return to outstations</td>\n",
              "      <td>wadeyy residents seeking return to outstttioos</td>\n",
              "    </tr>\n",
              "    <tr>\n",
              "      <th>447964</th>\n",
              "      <td>mystrye of missing olrf harris painting remains</td>\n",
              "      <td>mystery of missing rolf harris painting remains</td>\n",
              "      <td>mystree of missing lorf harris painting remains</td>\n",
              "    </tr>\n",
              "    <tr>\n",
              "      <th>921442</th>\n",
              "      <td>xomstic markets flat deslits ihtereet rate cut</td>\n",
              "      <td>domestic markets flat despite interest rate cut</td>\n",
              "      <td>comsstcc markees faay deelits  itereet  ateectt</td>\n",
              "    </tr>\n",
              "    <tr>\n",
              "      <th>105140</th>\n",
              "      <td>businxsman pays 840000 for numhr plate</td>\n",
              "      <td>businessman pays 840000 for number plate</td>\n",
              "      <td>businesman pays 400000 foor nuur  late</td>\n",
              "    </tr>\n",
              "    <tr>\n",
              "      <th>41074</th>\n",
              "      <td>art exhibition 4este boundaries of mkderm femi...</td>\n",
              "      <td>art exhibition tests boundaries of modern femi...</td>\n",
              "      <td>art exhibition teste boundaries of modder  emi...</td>\n",
              "    </tr>\n",
              "    <tr>\n",
              "      <th>521659</th>\n",
              "      <td>police consider wpefd in fatzp wodonga cfasn</td>\n",
              "      <td>police consider speed in fatal wodonga crash</td>\n",
              "      <td>police consider speer in fatta wooongg ccaas</td>\n",
              "    </tr>\n",
              "    <tr>\n",
              "      <th>550832</th>\n",
              "      <td>ypen bojetcs to pms holocaust allusion</td>\n",
              "      <td>pyne objects to pms holocaust allusion</td>\n",
              "      <td>pyne bojjcts to pms holoccust allusion</td>\n",
              "    </tr>\n",
              "  </tbody>\n",
              "</table>\n",
              "</div>\n",
              "      <button class=\"colab-df-convert\" onclick=\"convertToInteractive('df-95054432-6590-4b60-ad4f-b8a50e47c11e')\"\n",
              "              title=\"Convert this dataframe to an interactive table.\"\n",
              "              style=\"display:none;\">\n",
              "        \n",
              "  <svg xmlns=\"http://www.w3.org/2000/svg\" height=\"24px\"viewBox=\"0 0 24 24\"\n",
              "       width=\"24px\">\n",
              "    <path d=\"M0 0h24v24H0V0z\" fill=\"none\"/>\n",
              "    <path d=\"M18.56 5.44l.94 2.06.94-2.06 2.06-.94-2.06-.94-.94-2.06-.94 2.06-2.06.94zm-11 1L8.5 8.5l.94-2.06 2.06-.94-2.06-.94L8.5 2.5l-.94 2.06-2.06.94zm10 10l.94 2.06.94-2.06 2.06-.94-2.06-.94-.94-2.06-.94 2.06-2.06.94z\"/><path d=\"M17.41 7.96l-1.37-1.37c-.4-.4-.92-.59-1.43-.59-.52 0-1.04.2-1.43.59L10.3 9.45l-7.72 7.72c-.78.78-.78 2.05 0 2.83L4 21.41c.39.39.9.59 1.41.59.51 0 1.02-.2 1.41-.59l7.78-7.78 2.81-2.81c.8-.78.8-2.07 0-2.86zM5.41 20L4 18.59l7.72-7.72 1.47 1.35L5.41 20z\"/>\n",
              "  </svg>\n",
              "      </button>\n",
              "      \n",
              "  <style>\n",
              "    .colab-df-container {\n",
              "      display:flex;\n",
              "      flex-wrap:wrap;\n",
              "      gap: 12px;\n",
              "    }\n",
              "\n",
              "    .colab-df-convert {\n",
              "      background-color: #E8F0FE;\n",
              "      border: none;\n",
              "      border-radius: 50%;\n",
              "      cursor: pointer;\n",
              "      display: none;\n",
              "      fill: #1967D2;\n",
              "      height: 32px;\n",
              "      padding: 0 0 0 0;\n",
              "      width: 32px;\n",
              "    }\n",
              "\n",
              "    .colab-df-convert:hover {\n",
              "      background-color: #E2EBFA;\n",
              "      box-shadow: 0px 1px 2px rgba(60, 64, 67, 0.3), 0px 1px 3px 1px rgba(60, 64, 67, 0.15);\n",
              "      fill: #174EA6;\n",
              "    }\n",
              "\n",
              "    [theme=dark] .colab-df-convert {\n",
              "      background-color: #3B4455;\n",
              "      fill: #D2E3FC;\n",
              "    }\n",
              "\n",
              "    [theme=dark] .colab-df-convert:hover {\n",
              "      background-color: #434B5C;\n",
              "      box-shadow: 0px 1px 3px 1px rgba(0, 0, 0, 0.15);\n",
              "      filter: drop-shadow(0px 1px 2px rgba(0, 0, 0, 0.3));\n",
              "      fill: #FFFFFF;\n",
              "    }\n",
              "  </style>\n",
              "\n",
              "      <script>\n",
              "        const buttonEl =\n",
              "          document.querySelector('#df-95054432-6590-4b60-ad4f-b8a50e47c11e button.colab-df-convert');\n",
              "        buttonEl.style.display =\n",
              "          google.colab.kernel.accessAllowed ? 'block' : 'none';\n",
              "\n",
              "        async function convertToInteractive(key) {\n",
              "          const element = document.querySelector('#df-95054432-6590-4b60-ad4f-b8a50e47c11e');\n",
              "          const dataTable =\n",
              "            await google.colab.kernel.invokeFunction('convertToInteractive',\n",
              "                                                     [key], {});\n",
              "          if (!dataTable) return;\n",
              "\n",
              "          const docLinkHtml = 'Like what you see? Visit the ' +\n",
              "            '<a target=\"_blank\" href=https://colab.research.google.com/notebooks/data_table.ipynb>data table notebook</a>'\n",
              "            + ' to learn more about interactive tables.';\n",
              "          element.innerHTML = '';\n",
              "          dataTable['output_type'] = 'display_data';\n",
              "          await google.colab.output.renderOutput(dataTable, element);\n",
              "          const docLink = document.createElement('div');\n",
              "          docLink.innerHTML = docLinkHtml;\n",
              "          element.appendChild(docLink);\n",
              "        }\n",
              "      </script>\n",
              "    </div>\n",
              "  </div>\n",
              "  "
            ]
          },
          "metadata": {},
          "execution_count": 30
        }
      ],
      "source": [
        "eva = pd.DataFrame({'input': test_x.iloc[:10], 'output': test_y.iloc[:10], 'predict':predict})\n",
        "eva\n"
      ]
    },
    {
      "cell_type": "code",
      "execution_count": 31,
      "metadata": {
        "id": "T-6vwxhK56Uw",
        "colab": {
          "base_uri": "https://localhost:8080/"
        },
        "outputId": "43b074d5-f571-44d6-f70c-f747129ab2c8"
      },
      "outputs": [
        {
          "output_type": "stream",
          "name": "stdout",
          "text": [
            "Iutput:     art exhibition 4este boundaries of mkderm femin8sj\n",
            "Actual:     art exhibition tests boundaries of modern feminism\n",
            "Predicted:  art exhibition teste boundaries of modder  eminiss\n"
          ]
        }
      ],
      "source": [
        "print(\"Iutput:    \",test_x.iloc[7])\n",
        "print(\"Actual:    \",test_y.iloc[7])\n",
        "print(\"Predicted: \",deTokenize(pre[7]))"
      ]
    }
  ],
  "metadata": {
    "accelerator": "GPU",
    "colab": {
      "collapsed_sections": [],
      "name": "method7.ipynb",
      "provenance": []
    },
    "kernelspec": {
      "display_name": "Python 3",
      "name": "python3"
    },
    "language_info": {
      "name": "python"
    }
  },
  "nbformat": 4,
  "nbformat_minor": 0
}