{
  "cells": [
    {
      "cell_type": "code",
      "execution_count": null,
      "metadata": {
        "colab": {
          "base_uri": "https://localhost:8080/"
        },
        "id": "2NEWAoUNP8xH",
        "outputId": "13181e40-c350-4d12-9681-00fbab95fdee"
      },
      "outputs": [
        {
          "name": "stdout",
          "output_type": "stream",
          "text": [
            "Drive already mounted at /content/drive/; to attempt to forcibly remount, call drive.mount(\"/content/drive/\", force_remount=True).\n"
          ]
        }
      ],
      "source": [
        "import tensorflow as tf\n",
        "import numpy as np\n",
        "import pandas as pd\n",
        "from keras.preprocessing.sequence import pad_sequences\n",
        "from keras.preprocessing.text import Tokenizer\n",
        "import re\n",
        "import os\n",
        "import matplotlib.pyplot as plt\n",
        "\n",
        "tf.__version__\n",
        "from google.colab import drive\n",
        "drive.mount('/content/drive/')"
      ]
    },
    {
      "cell_type": "code",
      "execution_count": null,
      "metadata": {
        "id": "CLrsbOIpTU1m"
      },
      "outputs": [],
      "source": [
        "df_train = pd.read_csv(\"/content/drive/MyDrive/Colab_Notebooks/train.csv\")\n",
        "df_val = pd.read_csv(\"/content/drive/MyDrive/Colab_Notebooks/val.csv\")\n",
        "df_test = pd.read_csv(\"/content/drive/MyDrive/Colab_Notebooks/test.csv\")\n"
      ]
    },
    {
      "cell_type": "code",
      "execution_count": null,
      "metadata": {
        "colab": {
          "base_uri": "https://localhost:8080/",
          "height": 424
        },
        "id": "WwEH5j4a-m_g",
        "outputId": "01e1a9c8-c540-4ddb-af71-dc881f73788c"
      },
      "outputs": [
        {
          "data": {
            "text/html": [
              "\n",
              "  <div id=\"df-d6cc14d9-3c48-41b7-89fe-af875b879b24\">\n",
              "    <div class=\"colab-df-container\">\n",
              "      <div>\n",
              "<style scoped>\n",
              "    .dataframe tbody tr th:only-of-type {\n",
              "        vertical-align: middle;\n",
              "    }\n",
              "\n",
              "    .dataframe tbody tr th {\n",
              "        vertical-align: top;\n",
              "    }\n",
              "\n",
              "    .dataframe thead th {\n",
              "        text-align: right;\n",
              "    }\n",
              "</style>\n",
              "<table border=\"1\" class=\"dataframe\">\n",
              "  <thead>\n",
              "    <tr style=\"text-align: right;\">\n",
              "      <th></th>\n",
              "      <th>text</th>\n",
              "      <th>augmented_text</th>\n",
              "    </tr>\n",
              "  </thead>\n",
              "  <tbody>\n",
              "    <tr>\n",
              "      <th>6906</th>\n",
              "      <td>a league live streaming updates</td>\n",
              "      <td>a elgaue ivle streaming updates</td>\n",
              "    </tr>\n",
              "    <tr>\n",
              "      <th>9455</th>\n",
              "      <td>abc business news and market analysis</td>\n",
              "      <td>abc buisnses news and maretk analysis</td>\n",
              "    </tr>\n",
              "    <tr>\n",
              "      <th>9476</th>\n",
              "      <td>abc business news and market analysis</td>\n",
              "      <td>abc business ensw and market anyalsis</td>\n",
              "    </tr>\n",
              "    <tr>\n",
              "      <th>9487</th>\n",
              "      <td>abc business news and market analysis</td>\n",
              "      <td>abc ubisness news and market analysis</td>\n",
              "    </tr>\n",
              "    <tr>\n",
              "      <th>9498</th>\n",
              "      <td>abc business news and market analysis</td>\n",
              "      <td>abc busienss wnes and market analysis</td>\n",
              "    </tr>\n",
              "    <tr>\n",
              "      <th>...</th>\n",
              "      <td>...</td>\n",
              "      <td>...</td>\n",
              "    </tr>\n",
              "    <tr>\n",
              "      <th>742784</th>\n",
              "      <td>wednesday finance with alan kohler</td>\n",
              "      <td>wednesday finnaec with lana kohler</td>\n",
              "    </tr>\n",
              "    <tr>\n",
              "      <th>742790</th>\n",
              "      <td>wednesday finance with alan kohler</td>\n",
              "      <td>wednesday finance with lana kohler</td>\n",
              "    </tr>\n",
              "    <tr>\n",
              "      <th>742816</th>\n",
              "      <td>wednesday finance with alan kohler</td>\n",
              "      <td>wednesday finance with lana kohler</td>\n",
              "    </tr>\n",
              "    <tr>\n",
              "      <th>742873</th>\n",
              "      <td>wednesday markets with fiona clark</td>\n",
              "      <td>wednesday markets iwht fiona lcakr</td>\n",
              "    </tr>\n",
              "    <tr>\n",
              "      <th>758107</th>\n",
              "      <td>woman to front court over stabbing</td>\n",
              "      <td>woman to front ocutr over stabbing</td>\n",
              "    </tr>\n",
              "  </tbody>\n",
              "</table>\n",
              "<p>71 rows × 2 columns</p>\n",
              "</div>\n",
              "      <button class=\"colab-df-convert\" onclick=\"convertToInteractive('df-d6cc14d9-3c48-41b7-89fe-af875b879b24')\"\n",
              "              title=\"Convert this dataframe to an interactive table.\"\n",
              "              style=\"display:none;\">\n",
              "        \n",
              "  <svg xmlns=\"http://www.w3.org/2000/svg\" height=\"24px\"viewBox=\"0 0 24 24\"\n",
              "       width=\"24px\">\n",
              "    <path d=\"M0 0h24v24H0V0z\" fill=\"none\"/>\n",
              "    <path d=\"M18.56 5.44l.94 2.06.94-2.06 2.06-.94-2.06-.94-.94-2.06-.94 2.06-2.06.94zm-11 1L8.5 8.5l.94-2.06 2.06-.94-2.06-.94L8.5 2.5l-.94 2.06-2.06.94zm10 10l.94 2.06.94-2.06 2.06-.94-2.06-.94-.94-2.06-.94 2.06-2.06.94z\"/><path d=\"M17.41 7.96l-1.37-1.37c-.4-.4-.92-.59-1.43-.59-.52 0-1.04.2-1.43.59L10.3 9.45l-7.72 7.72c-.78.78-.78 2.05 0 2.83L4 21.41c.39.39.9.59 1.41.59.51 0 1.02-.2 1.41-.59l7.78-7.78 2.81-2.81c.8-.78.8-2.07 0-2.86zM5.41 20L4 18.59l7.72-7.72 1.47 1.35L5.41 20z\"/>\n",
              "  </svg>\n",
              "      </button>\n",
              "      \n",
              "  <style>\n",
              "    .colab-df-container {\n",
              "      display:flex;\n",
              "      flex-wrap:wrap;\n",
              "      gap: 12px;\n",
              "    }\n",
              "\n",
              "    .colab-df-convert {\n",
              "      background-color: #E8F0FE;\n",
              "      border: none;\n",
              "      border-radius: 50%;\n",
              "      cursor: pointer;\n",
              "      display: none;\n",
              "      fill: #1967D2;\n",
              "      height: 32px;\n",
              "      padding: 0 0 0 0;\n",
              "      width: 32px;\n",
              "    }\n",
              "\n",
              "    .colab-df-convert:hover {\n",
              "      background-color: #E2EBFA;\n",
              "      box-shadow: 0px 1px 2px rgba(60, 64, 67, 0.3), 0px 1px 3px 1px rgba(60, 64, 67, 0.15);\n",
              "      fill: #174EA6;\n",
              "    }\n",
              "\n",
              "    [theme=dark] .colab-df-convert {\n",
              "      background-color: #3B4455;\n",
              "      fill: #D2E3FC;\n",
              "    }\n",
              "\n",
              "    [theme=dark] .colab-df-convert:hover {\n",
              "      background-color: #434B5C;\n",
              "      box-shadow: 0px 1px 3px 1px rgba(0, 0, 0, 0.15);\n",
              "      filter: drop-shadow(0px 1px 2px rgba(0, 0, 0, 0.3));\n",
              "      fill: #FFFFFF;\n",
              "    }\n",
              "  </style>\n",
              "\n",
              "      <script>\n",
              "        const buttonEl =\n",
              "          document.querySelector('#df-d6cc14d9-3c48-41b7-89fe-af875b879b24 button.colab-df-convert');\n",
              "        buttonEl.style.display =\n",
              "          google.colab.kernel.accessAllowed ? 'block' : 'none';\n",
              "\n",
              "        async function convertToInteractive(key) {\n",
              "          const element = document.querySelector('#df-d6cc14d9-3c48-41b7-89fe-af875b879b24');\n",
              "          const dataTable =\n",
              "            await google.colab.kernel.invokeFunction('convertToInteractive',\n",
              "                                                     [key], {});\n",
              "          if (!dataTable) return;\n",
              "\n",
              "          const docLinkHtml = 'Like what you see? Visit the ' +\n",
              "            '<a target=\"_blank\" href=https://colab.research.google.com/notebooks/data_table.ipynb>data table notebook</a>'\n",
              "            + ' to learn more about interactive tables.';\n",
              "          element.innerHTML = '';\n",
              "          dataTable['output_type'] = 'display_data';\n",
              "          await google.colab.output.renderOutput(dataTable, element);\n",
              "          const docLink = document.createElement('div');\n",
              "          docLink.innerHTML = docLinkHtml;\n",
              "          element.appendChild(docLink);\n",
              "        }\n",
              "      </script>\n",
              "    </div>\n",
              "  </div>\n",
              "  "
            ],
            "text/plain": [
              "                                         text  \\\n",
              "6906          a league live streaming updates   \n",
              "9455    abc business news and market analysis   \n",
              "9476    abc business news and market analysis   \n",
              "9487    abc business news and market analysis   \n",
              "9498    abc business news and market analysis   \n",
              "...                                       ...   \n",
              "742784     wednesday finance with alan kohler   \n",
              "742790     wednesday finance with alan kohler   \n",
              "742816     wednesday finance with alan kohler   \n",
              "742873     wednesday markets with fiona clark   \n",
              "758107     woman to front court over stabbing   \n",
              "\n",
              "                               augmented_text  \n",
              "6906          a elgaue ivle streaming updates  \n",
              "9455    abc buisnses news and maretk analysis  \n",
              "9476    abc business ensw and market anyalsis  \n",
              "9487    abc ubisness news and market analysis  \n",
              "9498    abc busienss wnes and market analysis  \n",
              "...                                       ...  \n",
              "742784     wednesday finnaec with lana kohler  \n",
              "742790     wednesday finance with lana kohler  \n",
              "742816     wednesday finance with lana kohler  \n",
              "742873     wednesday markets iwht fiona lcakr  \n",
              "758107     woman to front ocutr over stabbing  \n",
              "\n",
              "[71 rows x 2 columns]"
            ]
          },
          "execution_count": 3,
          "metadata": {},
          "output_type": "execute_result"
        }
      ],
      "source": [
        "df_train[df_train.duplicated()]\n"
      ]
    },
    {
      "cell_type": "code",
      "execution_count": null,
      "metadata": {
        "colab": {
          "base_uri": "https://localhost:8080/",
          "height": 112
        },
        "id": "fOtnbULR-sI_",
        "outputId": "f8c300ae-4c65-4fc2-c94a-90078d399fd6"
      },
      "outputs": [
        {
          "data": {
            "text/html": [
              "\n",
              "  <div id=\"df-b0bc91f4-1620-4986-afb3-ebff33485f3a\">\n",
              "    <div class=\"colab-df-container\">\n",
              "      <div>\n",
              "<style scoped>\n",
              "    .dataframe tbody tr th:only-of-type {\n",
              "        vertical-align: middle;\n",
              "    }\n",
              "\n",
              "    .dataframe tbody tr th {\n",
              "        vertical-align: top;\n",
              "    }\n",
              "\n",
              "    .dataframe thead th {\n",
              "        text-align: right;\n",
              "    }\n",
              "</style>\n",
              "<table border=\"1\" class=\"dataframe\">\n",
              "  <thead>\n",
              "    <tr style=\"text-align: right;\">\n",
              "      <th></th>\n",
              "      <th>text</th>\n",
              "      <th>augmented_text</th>\n",
              "    </tr>\n",
              "  </thead>\n",
              "  <tbody>\n",
              "    <tr>\n",
              "      <th>42958</th>\n",
              "      <td>abc business news and market analysis</td>\n",
              "      <td>abc ubsiness news and market analysis</td>\n",
              "    </tr>\n",
              "    <tr>\n",
              "      <th>150906</th>\n",
              "      <td>abc business news and market analysis</td>\n",
              "      <td>abc usbiness news and mraekt analysis</td>\n",
              "    </tr>\n",
              "  </tbody>\n",
              "</table>\n",
              "</div>\n",
              "      <button class=\"colab-df-convert\" onclick=\"convertToInteractive('df-b0bc91f4-1620-4986-afb3-ebff33485f3a')\"\n",
              "              title=\"Convert this dataframe to an interactive table.\"\n",
              "              style=\"display:none;\">\n",
              "        \n",
              "  <svg xmlns=\"http://www.w3.org/2000/svg\" height=\"24px\"viewBox=\"0 0 24 24\"\n",
              "       width=\"24px\">\n",
              "    <path d=\"M0 0h24v24H0V0z\" fill=\"none\"/>\n",
              "    <path d=\"M18.56 5.44l.94 2.06.94-2.06 2.06-.94-2.06-.94-.94-2.06-.94 2.06-2.06.94zm-11 1L8.5 8.5l.94-2.06 2.06-.94-2.06-.94L8.5 2.5l-.94 2.06-2.06.94zm10 10l.94 2.06.94-2.06 2.06-.94-2.06-.94-.94-2.06-.94 2.06-2.06.94z\"/><path d=\"M17.41 7.96l-1.37-1.37c-.4-.4-.92-.59-1.43-.59-.52 0-1.04.2-1.43.59L10.3 9.45l-7.72 7.72c-.78.78-.78 2.05 0 2.83L4 21.41c.39.39.9.59 1.41.59.51 0 1.02-.2 1.41-.59l7.78-7.78 2.81-2.81c.8-.78.8-2.07 0-2.86zM5.41 20L4 18.59l7.72-7.72 1.47 1.35L5.41 20z\"/>\n",
              "  </svg>\n",
              "      </button>\n",
              "      \n",
              "  <style>\n",
              "    .colab-df-container {\n",
              "      display:flex;\n",
              "      flex-wrap:wrap;\n",
              "      gap: 12px;\n",
              "    }\n",
              "\n",
              "    .colab-df-convert {\n",
              "      background-color: #E8F0FE;\n",
              "      border: none;\n",
              "      border-radius: 50%;\n",
              "      cursor: pointer;\n",
              "      display: none;\n",
              "      fill: #1967D2;\n",
              "      height: 32px;\n",
              "      padding: 0 0 0 0;\n",
              "      width: 32px;\n",
              "    }\n",
              "\n",
              "    .colab-df-convert:hover {\n",
              "      background-color: #E2EBFA;\n",
              "      box-shadow: 0px 1px 2px rgba(60, 64, 67, 0.3), 0px 1px 3px 1px rgba(60, 64, 67, 0.15);\n",
              "      fill: #174EA6;\n",
              "    }\n",
              "\n",
              "    [theme=dark] .colab-df-convert {\n",
              "      background-color: #3B4455;\n",
              "      fill: #D2E3FC;\n",
              "    }\n",
              "\n",
              "    [theme=dark] .colab-df-convert:hover {\n",
              "      background-color: #434B5C;\n",
              "      box-shadow: 0px 1px 3px 1px rgba(0, 0, 0, 0.15);\n",
              "      filter: drop-shadow(0px 1px 2px rgba(0, 0, 0, 0.3));\n",
              "      fill: #FFFFFF;\n",
              "    }\n",
              "  </style>\n",
              "\n",
              "      <script>\n",
              "        const buttonEl =\n",
              "          document.querySelector('#df-b0bc91f4-1620-4986-afb3-ebff33485f3a button.colab-df-convert');\n",
              "        buttonEl.style.display =\n",
              "          google.colab.kernel.accessAllowed ? 'block' : 'none';\n",
              "\n",
              "        async function convertToInteractive(key) {\n",
              "          const element = document.querySelector('#df-b0bc91f4-1620-4986-afb3-ebff33485f3a');\n",
              "          const dataTable =\n",
              "            await google.colab.kernel.invokeFunction('convertToInteractive',\n",
              "                                                     [key], {});\n",
              "          if (!dataTable) return;\n",
              "\n",
              "          const docLinkHtml = 'Like what you see? Visit the ' +\n",
              "            '<a target=\"_blank\" href=https://colab.research.google.com/notebooks/data_table.ipynb>data table notebook</a>'\n",
              "            + ' to learn more about interactive tables.';\n",
              "          element.innerHTML = '';\n",
              "          dataTable['output_type'] = 'display_data';\n",
              "          await google.colab.output.renderOutput(dataTable, element);\n",
              "          const docLink = document.createElement('div');\n",
              "          docLink.innerHTML = docLinkHtml;\n",
              "          element.appendChild(docLink);\n",
              "        }\n",
              "      </script>\n",
              "    </div>\n",
              "  </div>\n",
              "  "
            ],
            "text/plain": [
              "                                         text  \\\n",
              "42958   abc business news and market analysis   \n",
              "150906  abc business news and market analysis   \n",
              "\n",
              "                               augmented_text  \n",
              "42958   abc ubsiness news and market analysis  \n",
              "150906  abc usbiness news and mraekt analysis  "
            ]
          },
          "execution_count": 4,
          "metadata": {},
          "output_type": "execute_result"
        }
      ],
      "source": [
        "df_val[df_val.duplicated()]\n"
      ]
    },
    {
      "cell_type": "code",
      "execution_count": null,
      "metadata": {
        "colab": {
          "base_uri": "https://localhost:8080/",
          "height": 112
        },
        "id": "KG_gPvnu-tGt",
        "outputId": "e7697360-08be-4c1f-9a6e-a20a3fce1fd1"
      },
      "outputs": [
        {
          "data": {
            "text/html": [
              "\n",
              "  <div id=\"df-945ead10-6ec1-4311-a7d2-ee02e3616e65\">\n",
              "    <div class=\"colab-df-container\">\n",
              "      <div>\n",
              "<style scoped>\n",
              "    .dataframe tbody tr th:only-of-type {\n",
              "        vertical-align: middle;\n",
              "    }\n",
              "\n",
              "    .dataframe tbody tr th {\n",
              "        vertical-align: top;\n",
              "    }\n",
              "\n",
              "    .dataframe thead th {\n",
              "        text-align: right;\n",
              "    }\n",
              "</style>\n",
              "<table border=\"1\" class=\"dataframe\">\n",
              "  <thead>\n",
              "    <tr style=\"text-align: right;\">\n",
              "      <th></th>\n",
              "      <th>text</th>\n",
              "      <th>augmented_text</th>\n",
              "    </tr>\n",
              "  </thead>\n",
              "  <tbody>\n",
              "    <tr>\n",
              "      <th>52797</th>\n",
              "      <td>abc business news and market analysis</td>\n",
              "      <td>abc business wnes and market aanlyiss</td>\n",
              "    </tr>\n",
              "    <tr>\n",
              "      <th>98255</th>\n",
              "      <td>abc business news and market analysis</td>\n",
              "      <td>abc ubsiness news and market analysis</td>\n",
              "    </tr>\n",
              "  </tbody>\n",
              "</table>\n",
              "</div>\n",
              "      <button class=\"colab-df-convert\" onclick=\"convertToInteractive('df-945ead10-6ec1-4311-a7d2-ee02e3616e65')\"\n",
              "              title=\"Convert this dataframe to an interactive table.\"\n",
              "              style=\"display:none;\">\n",
              "        \n",
              "  <svg xmlns=\"http://www.w3.org/2000/svg\" height=\"24px\"viewBox=\"0 0 24 24\"\n",
              "       width=\"24px\">\n",
              "    <path d=\"M0 0h24v24H0V0z\" fill=\"none\"/>\n",
              "    <path d=\"M18.56 5.44l.94 2.06.94-2.06 2.06-.94-2.06-.94-.94-2.06-.94 2.06-2.06.94zm-11 1L8.5 8.5l.94-2.06 2.06-.94-2.06-.94L8.5 2.5l-.94 2.06-2.06.94zm10 10l.94 2.06.94-2.06 2.06-.94-2.06-.94-.94-2.06-.94 2.06-2.06.94z\"/><path d=\"M17.41 7.96l-1.37-1.37c-.4-.4-.92-.59-1.43-.59-.52 0-1.04.2-1.43.59L10.3 9.45l-7.72 7.72c-.78.78-.78 2.05 0 2.83L4 21.41c.39.39.9.59 1.41.59.51 0 1.02-.2 1.41-.59l7.78-7.78 2.81-2.81c.8-.78.8-2.07 0-2.86zM5.41 20L4 18.59l7.72-7.72 1.47 1.35L5.41 20z\"/>\n",
              "  </svg>\n",
              "      </button>\n",
              "      \n",
              "  <style>\n",
              "    .colab-df-container {\n",
              "      display:flex;\n",
              "      flex-wrap:wrap;\n",
              "      gap: 12px;\n",
              "    }\n",
              "\n",
              "    .colab-df-convert {\n",
              "      background-color: #E8F0FE;\n",
              "      border: none;\n",
              "      border-radius: 50%;\n",
              "      cursor: pointer;\n",
              "      display: none;\n",
              "      fill: #1967D2;\n",
              "      height: 32px;\n",
              "      padding: 0 0 0 0;\n",
              "      width: 32px;\n",
              "    }\n",
              "\n",
              "    .colab-df-convert:hover {\n",
              "      background-color: #E2EBFA;\n",
              "      box-shadow: 0px 1px 2px rgba(60, 64, 67, 0.3), 0px 1px 3px 1px rgba(60, 64, 67, 0.15);\n",
              "      fill: #174EA6;\n",
              "    }\n",
              "\n",
              "    [theme=dark] .colab-df-convert {\n",
              "      background-color: #3B4455;\n",
              "      fill: #D2E3FC;\n",
              "    }\n",
              "\n",
              "    [theme=dark] .colab-df-convert:hover {\n",
              "      background-color: #434B5C;\n",
              "      box-shadow: 0px 1px 3px 1px rgba(0, 0, 0, 0.15);\n",
              "      filter: drop-shadow(0px 1px 2px rgba(0, 0, 0, 0.3));\n",
              "      fill: #FFFFFF;\n",
              "    }\n",
              "  </style>\n",
              "\n",
              "      <script>\n",
              "        const buttonEl =\n",
              "          document.querySelector('#df-945ead10-6ec1-4311-a7d2-ee02e3616e65 button.colab-df-convert');\n",
              "        buttonEl.style.display =\n",
              "          google.colab.kernel.accessAllowed ? 'block' : 'none';\n",
              "\n",
              "        async function convertToInteractive(key) {\n",
              "          const element = document.querySelector('#df-945ead10-6ec1-4311-a7d2-ee02e3616e65');\n",
              "          const dataTable =\n",
              "            await google.colab.kernel.invokeFunction('convertToInteractive',\n",
              "                                                     [key], {});\n",
              "          if (!dataTable) return;\n",
              "\n",
              "          const docLinkHtml = 'Like what you see? Visit the ' +\n",
              "            '<a target=\"_blank\" href=https://colab.research.google.com/notebooks/data_table.ipynb>data table notebook</a>'\n",
              "            + ' to learn more about interactive tables.';\n",
              "          element.innerHTML = '';\n",
              "          dataTable['output_type'] = 'display_data';\n",
              "          await google.colab.output.renderOutput(dataTable, element);\n",
              "          const docLink = document.createElement('div');\n",
              "          docLink.innerHTML = docLinkHtml;\n",
              "          element.appendChild(docLink);\n",
              "        }\n",
              "      </script>\n",
              "    </div>\n",
              "  </div>\n",
              "  "
            ],
            "text/plain": [
              "                                        text  \\\n",
              "52797  abc business news and market analysis   \n",
              "98255  abc business news and market analysis   \n",
              "\n",
              "                              augmented_text  \n",
              "52797  abc business wnes and market aanlyiss  \n",
              "98255  abc ubsiness news and market analysis  "
            ]
          },
          "execution_count": 5,
          "metadata": {},
          "output_type": "execute_result"
        }
      ],
      "source": [
        "df_test[df_test.duplicated()]\n"
      ]
    },
    {
      "cell_type": "code",
      "execution_count": null,
      "metadata": {
        "id": "s5oWgBqmTp7p"
      },
      "outputs": [],
      "source": [
        "# def clean_data(text):\n",
        "#     text = text.lower()\n",
        "#     text = re.sub(r\"[-=+*\\\"#@!$%^&()`<>/[\\]]\",\"\",text)\n",
        "#     text = re.sub(r\"i'm\",\"i am\",text)\n",
        "#     text = re.sub(r\"he's\",\"he is\",text)\n",
        "#     text = re.sub(r\"she's\",\"she is\",text)\n",
        "#     text = re.sub(r\"it's\",\"it is\",text)\n",
        "#     text = re.sub(r\"they're\",\"they are\",text)\n",
        "#     text = re.sub(r\"there're\",\"there are\",text)\n",
        "#     text = re.sub(r\"there's\",\"there is\",text)\n",
        "#     text = re.sub(r\"how're\",\"how are\",text)\n",
        "#     text = re.sub(r\"what're\",\"what are\",text)\n",
        "#     text = re.sub(r\"where're\",\"where \",text)\n",
        "#     text = re.sub(r\"who're\",\"who are\",text)\n",
        "#     text = re.sub(r\"that're\",\"that are\",text)\n",
        "#     text = re.sub(r\"when're\",\"when are\",text)\n",
        "#     text = re.sub(r\"how's\",\"how is\",text)\n",
        "#     text = re.sub(r\"what's\",\"what is\",text)\n",
        "#     text = re.sub(r\"where's\",\"where is\",text)\n",
        "#     text = re.sub(r\"who's\",\"who is\",text)\n",
        "#     text = re.sub(r\"that's\",\"that is\",text)\n",
        "#     text = re.sub(r\"when's\",\"when is\",text)\n",
        "#     text = re.sub(r\"won't\",\"would not\",text)\n",
        "#     text = re.sub(r\"nt't\",\"can not\",text)\n",
        "#     text = re.sub(r\"\\'bout'\",\"about\",text)\n",
        "#     text = re.sub(r\"\\'till'\",\"untill\",text)\n",
        "#     text = re.sub(r\"\\'ll\",\"will\",text)\n",
        "#     text = re.sub(r\"\\'ve\",\"have\",text)\n",
        "#     text = re.sub(r\"\\'re\",\"are\",text)\n",
        "#     text = re.sub(r\"\\'d\",\"would\",text)\n",
        "#     text = re.sub(r\"\\.\",\" \",text)\n",
        "#     text = re.sub(r\"\\,\",\" \",text)\n",
        "#     text = re.sub(r\"\\!\",\" \",text)\n",
        "#     text = re.sub(r\"\\?\",\" \",text)\n",
        "#     text = re.sub(r\"\\;\",\" \",text)\n",
        "#     text = re.sub(r\"\\:\",\" \",text)\n",
        "#     return text\n",
        "\n",
        "    \n",
        "# df_train['text'] = df_train['text'].apply(clean_data)\n",
        "# df_train['augmented_text'] = df_train['augmented_text'].apply(clean_data)\n",
        "# df_val['text'] = df_val['text'].apply(clean_data)\n",
        "# df_val['augmented_text'] = df_val['augmented_text'].apply(clean_data)\n",
        "# df_test['text'] = df_test['text'].apply(clean_data)\n",
        "# df_test['augmented_text'] = df_test['augmented_text'].apply(clean_data)\n",
        "# data = pd.concat([df_train,df_val,df_test])\n"
      ]
    },
    {
      "cell_type": "code",
      "execution_count": null,
      "metadata": {
        "id": "cBBa1A3aw0e2"
      },
      "outputs": [],
      "source": [
        "# data.to_csv('/content/drive/MyDrive/Colab_Notebooks/data.csv',index=False,)"
      ]
    },
    {
      "cell_type": "code",
      "execution_count": null,
      "metadata": {
        "id": "9Rr916ahpnUm"
      },
      "outputs": [],
      "source": [
        "#data.csv is being pre-process to save time for training\n",
        "data = pd.read_csv('/content/drive/MyDrive/Colab_Notebooks/data.csv')"
      ]
    },
    {
      "cell_type": "code",
      "execution_count": null,
      "metadata": {
        "colab": {
          "base_uri": "https://localhost:8080/"
        },
        "id": "BV4K4JPt-bXI",
        "outputId": "af9d48e7-054c-4563-92d1-e7a32100dcfd"
      },
      "outputs": [
        {
          "name": "stdout",
          "output_type": "stream",
          "text": [
            "text              0\n",
            "augmented_text    0\n",
            "dtype: int64\n",
            "0\n"
          ]
        }
      ],
      "source": [
        "print(data.isnull().sum())\n",
        "data = data.drop_duplicates(subset=['augmented_text'])\n",
        "# data = (data[data[\"augmented_text\"] != \"name\"])\n",
        "print(data.duplicated().sum())"
      ]
    },
    {
      "cell_type": "code",
      "execution_count": null,
      "metadata": {
        "id": "L26X3MG5eqOo"
      },
      "outputs": [],
      "source": [
        "df = data"
      ]
    },
    {
      "cell_type": "code",
      "execution_count": null,
      "metadata": {
        "colab": {
          "base_uri": "https://localhost:8080/",
          "height": 175
        },
        "id": "NPdf-5Hn7RET",
        "outputId": "485bb0b1-bd3f-429e-cbb4-de9d25da1d62"
      },
      "outputs": [
        {
          "data": {
            "text/html": [
              "\n",
              "  <div id=\"df-a46f33b6-fc28-4bb5-b2dd-47ae7e545471\">\n",
              "    <div class=\"colab-df-container\">\n",
              "      <div>\n",
              "<style scoped>\n",
              "    .dataframe tbody tr th:only-of-type {\n",
              "        vertical-align: middle;\n",
              "    }\n",
              "\n",
              "    .dataframe tbody tr th {\n",
              "        vertical-align: top;\n",
              "    }\n",
              "\n",
              "    .dataframe thead th {\n",
              "        text-align: right;\n",
              "    }\n",
              "</style>\n",
              "<table border=\"1\" class=\"dataframe\">\n",
              "  <thead>\n",
              "    <tr style=\"text-align: right;\">\n",
              "      <th></th>\n",
              "      <th>text</th>\n",
              "      <th>augmented_text</th>\n",
              "    </tr>\n",
              "  </thead>\n",
              "  <tbody>\n",
              "    <tr>\n",
              "      <th>count</th>\n",
              "      <td>1024690</td>\n",
              "      <td>1024690</td>\n",
              "    </tr>\n",
              "    <tr>\n",
              "      <th>unique</th>\n",
              "      <td>1017097</td>\n",
              "      <td>1024690</td>\n",
              "    </tr>\n",
              "    <tr>\n",
              "      <th>top</th>\n",
              "      <td>abc business news and market analysis</td>\n",
              "      <td>1 billion darling hsarfbour redeevelopment p3...</td>\n",
              "    </tr>\n",
              "    <tr>\n",
              "      <th>freq</th>\n",
              "      <td>516</td>\n",
              "      <td>1</td>\n",
              "    </tr>\n",
              "  </tbody>\n",
              "</table>\n",
              "</div>\n",
              "      <button class=\"colab-df-convert\" onclick=\"convertToInteractive('df-a46f33b6-fc28-4bb5-b2dd-47ae7e545471')\"\n",
              "              title=\"Convert this dataframe to an interactive table.\"\n",
              "              style=\"display:none;\">\n",
              "        \n",
              "  <svg xmlns=\"http://www.w3.org/2000/svg\" height=\"24px\"viewBox=\"0 0 24 24\"\n",
              "       width=\"24px\">\n",
              "    <path d=\"M0 0h24v24H0V0z\" fill=\"none\"/>\n",
              "    <path d=\"M18.56 5.44l.94 2.06.94-2.06 2.06-.94-2.06-.94-.94-2.06-.94 2.06-2.06.94zm-11 1L8.5 8.5l.94-2.06 2.06-.94-2.06-.94L8.5 2.5l-.94 2.06-2.06.94zm10 10l.94 2.06.94-2.06 2.06-.94-2.06-.94-.94-2.06-.94 2.06-2.06.94z\"/><path d=\"M17.41 7.96l-1.37-1.37c-.4-.4-.92-.59-1.43-.59-.52 0-1.04.2-1.43.59L10.3 9.45l-7.72 7.72c-.78.78-.78 2.05 0 2.83L4 21.41c.39.39.9.59 1.41.59.51 0 1.02-.2 1.41-.59l7.78-7.78 2.81-2.81c.8-.78.8-2.07 0-2.86zM5.41 20L4 18.59l7.72-7.72 1.47 1.35L5.41 20z\"/>\n",
              "  </svg>\n",
              "      </button>\n",
              "      \n",
              "  <style>\n",
              "    .colab-df-container {\n",
              "      display:flex;\n",
              "      flex-wrap:wrap;\n",
              "      gap: 12px;\n",
              "    }\n",
              "\n",
              "    .colab-df-convert {\n",
              "      background-color: #E8F0FE;\n",
              "      border: none;\n",
              "      border-radius: 50%;\n",
              "      cursor: pointer;\n",
              "      display: none;\n",
              "      fill: #1967D2;\n",
              "      height: 32px;\n",
              "      padding: 0 0 0 0;\n",
              "      width: 32px;\n",
              "    }\n",
              "\n",
              "    .colab-df-convert:hover {\n",
              "      background-color: #E2EBFA;\n",
              "      box-shadow: 0px 1px 2px rgba(60, 64, 67, 0.3), 0px 1px 3px 1px rgba(60, 64, 67, 0.15);\n",
              "      fill: #174EA6;\n",
              "    }\n",
              "\n",
              "    [theme=dark] .colab-df-convert {\n",
              "      background-color: #3B4455;\n",
              "      fill: #D2E3FC;\n",
              "    }\n",
              "\n",
              "    [theme=dark] .colab-df-convert:hover {\n",
              "      background-color: #434B5C;\n",
              "      box-shadow: 0px 1px 3px 1px rgba(0, 0, 0, 0.15);\n",
              "      filter: drop-shadow(0px 1px 2px rgba(0, 0, 0, 0.3));\n",
              "      fill: #FFFFFF;\n",
              "    }\n",
              "  </style>\n",
              "\n",
              "      <script>\n",
              "        const buttonEl =\n",
              "          document.querySelector('#df-a46f33b6-fc28-4bb5-b2dd-47ae7e545471 button.colab-df-convert');\n",
              "        buttonEl.style.display =\n",
              "          google.colab.kernel.accessAllowed ? 'block' : 'none';\n",
              "\n",
              "        async function convertToInteractive(key) {\n",
              "          const element = document.querySelector('#df-a46f33b6-fc28-4bb5-b2dd-47ae7e545471');\n",
              "          const dataTable =\n",
              "            await google.colab.kernel.invokeFunction('convertToInteractive',\n",
              "                                                     [key], {});\n",
              "          if (!dataTable) return;\n",
              "\n",
              "          const docLinkHtml = 'Like what you see? Visit the ' +\n",
              "            '<a target=\"_blank\" href=https://colab.research.google.com/notebooks/data_table.ipynb>data table notebook</a>'\n",
              "            + ' to learn more about interactive tables.';\n",
              "          element.innerHTML = '';\n",
              "          dataTable['output_type'] = 'display_data';\n",
              "          await google.colab.output.renderOutput(dataTable, element);\n",
              "          const docLink = document.createElement('div');\n",
              "          docLink.innerHTML = docLinkHtml;\n",
              "          element.appendChild(docLink);\n",
              "        }\n",
              "      </script>\n",
              "    </div>\n",
              "  </div>\n",
              "  "
            ],
            "text/plain": [
              "                                         text  \\\n",
              "count                                 1024690   \n",
              "unique                                1017097   \n",
              "top     abc business news and market analysis   \n",
              "freq                                      516   \n",
              "\n",
              "                                           augmented_text  \n",
              "count                                             1024690  \n",
              "unique                                            1024690  \n",
              "top      1 billion darling hsarfbour redeevelopment p3...  \n",
              "freq                                                    1  "
            ]
          },
          "execution_count": 11,
          "metadata": {},
          "output_type": "execute_result"
        }
      ],
      "source": [
        "df.describe()"
      ]
    },
    {
      "cell_type": "code",
      "execution_count": null,
      "metadata": {
        "id": "X4xURgshSrpT"
      },
      "outputs": [],
      "source": [
        "# df = df[:82000]\n",
        "train_df = df['augmented_text']\n",
        "test_df = df['text']\n",
        "from sklearn.model_selection import train_test_split\n",
        "train_x, test_x, train_y, test_y = train_test_split(train_df, test_df, test_size=0.27, random_state=0)\n",
        "val_x, test_x,val_y, test_y = train_test_split(test_x, test_y, test_size = 0.5, random_state=24)\n"
      ]
    },
    {
      "cell_type": "code",
      "execution_count": null,
      "metadata": {
        "colab": {
          "base_uri": "https://localhost:8080/"
        },
        "id": "IZMTBLH1H-U7",
        "outputId": "9ab597cf-8400-477d-d546-6dc96c37a25e"
      },
      "outputs": [
        {
          "data": {
            "text/plain": [
              "401592                man jailed pfer hqkls creek sex atask\n",
              "131453    hcian prepares large cslae rollout of isnopahr...\n",
              "780888    nhnter lilt comes 10th at hot air bapoon world...\n",
              "200594          rdess tsandrads questioned in sa parliament\n",
              "201857           drivreless cars test edtectoin software on\n",
              "                                ...                        \n",
              "963542    trump grand military paqdes and not so grsnr q...\n",
              "118001                     cxge sud9ends operations in iraq\n",
              "435903                    orme money lost on benidog pokies\n",
              "305771                     hlc ey backs coal rkjalty scheme\n",
              "985926      memornaudm sgnied to improve interaction within\n",
              "Name: augmented_text, Length: 748023, dtype: object"
            ]
          },
          "execution_count": 13,
          "metadata": {},
          "output_type": "execute_result"
        }
      ],
      "source": [
        "train_x"
      ]
    },
    {
      "cell_type": "code",
      "execution_count": null,
      "metadata": {
        "colab": {
          "base_uri": "https://localhost:8080/"
        },
        "id": "inUltHgQ191H",
        "outputId": "d43a234a-789a-4c6b-96c1-303e8538baac"
      },
      "outputs": [
        {
          "data": {
            "text/plain": [
              "401592               man jailed over halls creek sex attack\n",
              "131453    china prepares large scale rollout of sinophar...\n",
              "780888    hunter pilot comes 10th at hot air balloon wor...\n",
              "200594          dress standards questioned in sa parliament\n",
              "201857           driverless cars test detection software on\n",
              "                                ...                        \n",
              "963542    trump grand military parades and not so grand ...\n",
              "118001                     care suspends operations in iraq\n",
              "435903                    more money lost on bendigo pokies\n",
              "305771                     hickey backs coal royalty scheme\n",
              "985926      memorandum signed to improve interaction within\n",
              "Name: text, Length: 748023, dtype: object"
            ]
          },
          "execution_count": 14,
          "metadata": {},
          "output_type": "execute_result"
        }
      ],
      "source": [
        "train_y"
      ]
    },
    {
      "cell_type": "code",
      "execution_count": null,
      "metadata": {
        "id": "gK5wiBIXZLis"
      },
      "outputs": [],
      "source": [
        "max_length = 74"
      ]
    },
    {
      "cell_type": "code",
      "execution_count": null,
      "metadata": {
        "id": "sTa8D0WfT1gf"
      },
      "outputs": [],
      "source": [
        "\n",
        "g_text_tokenizer = Tokenizer(char_level=True)\n",
        "g_text_tokenizer.fit_on_texts(train_x)\n",
        "g_text_word_index = g_text_tokenizer.word_index\n",
        "train_sequences = g_text_tokenizer.texts_to_sequences(train_x)\n",
        "train_padded = pad_sequences(train_sequences, maxlen = max_length, padding='post')\n",
        "\n",
        "\n",
        "text_tokenizer = Tokenizer(char_level=True)\n",
        "text_tokenizer.fit_on_texts(train_y)\n",
        "text_word_index = text_tokenizer.word_index\n",
        "test_sequences = text_tokenizer.texts_to_sequences(train_y)\n",
        "test_padded = pad_sequences(test_sequences,maxlen = max_length, padding='post')\n",
        "\n",
        "\n",
        "\n"
      ]
    },
    {
      "cell_type": "code",
      "execution_count": null,
      "metadata": {
        "id": "EoS-zPByYYPU"
      },
      "outputs": [],
      "source": [
        ""
      ]
    },
    {
      "cell_type": "code",
      "execution_count": null,
      "metadata": {
        "id": "4PWLtCPyLNVJ"
      },
      "outputs": [],
      "source": [
        "val_train_sequences = g_text_tokenizer.texts_to_sequences(val_x)\n",
        "val_train_padded = pad_sequences(val_train_sequences, maxlen = max_length, padding='post')\n",
        "\n",
        "val_test_sequences = text_tokenizer.texts_to_sequences(val_y)\n",
        "val_test_padded = pad_sequences(val_test_sequences, maxlen = max_length, padding='post')"
      ]
    },
    {
      "cell_type": "code",
      "execution_count": null,
      "metadata": {
        "colab": {
          "base_uri": "https://localhost:8080/"
        },
        "id": "npA5T2pATdEK",
        "outputId": "0d0c4b22-9c7c-4b0c-f50e-55cb01bd2c6f"
      },
      "outputs": [
        {
          "name": "stdout",
          "output_type": "stream",
          "text": [
            "40 39\n"
          ]
        }
      ],
      "source": [
        "g_vocab_size = len(g_text_word_index)+1\n",
        "vocab_size = len(text_word_index)+1\n",
        "print(g_vocab_size, vocab_size)"
      ]
    },
    {
      "cell_type": "code",
      "execution_count": null,
      "metadata": {
        "colab": {
          "base_uri": "https://localhost:8080/",
          "height": 281
        },
        "id": "9EspCkMbCKx_",
        "outputId": "1d055764-6f62-4db4-e18c-79706d4a40a4"
      },
      "outputs": [
        {
          "data": {
            "image/png": "[encoded data removed]",
            "text/plain": [
              "<Figure size 432x288 with 1 Axes>"
            ]
          },
          "metadata": {},
          "output_type": "display_data"
        }
      ],
      "source": [
        "voc = [\"Text Vocabulary\", \"Augmented Text Vocabulary\"]\n",
        "voc_count = [vocab_size, g_vocab_size]\n",
        "\n",
        "plt.bar(voc, voc_count, width = 0.4)\n",
        "plt.title(\"Vocabulary Graph\")\n",
        "plt.show()"
      ]
    },
    {
      "cell_type": "code",
      "execution_count": null,
      "metadata": {
        "id": "eVK8H4m5dqdD"
      },
      "outputs": [],
      "source": [
        "temp_test_padded = test_padded.reshape((test_padded.shape[0], test_padded.shape[1],1))\n"
      ]
    },
    {
      "cell_type": "code",
      "execution_count": null,
      "metadata": {
        "id": "msrdgdWvea79"
      },
      "outputs": [],
      "source": [
        "epoch = 60"
      ]
    },
    {
      "cell_type": "code",
      "execution_count": null,
      "metadata": {
        "colab": {
          "base_uri": "https://localhost:8080/"
        },
        "id": "oANQwWFFgTzh",
        "outputId": "59672055-7a7d-48ae-b334-b1920cfefc1b"
      },
      "outputs": [
        {
          "name": "stdout",
          "output_type": "stream",
          "text": [
            "Model: \"sequential\"\n",
            "____________________________________________________________________________\n",
            " Layer (type)                Output Shape              Param #   Trainable  \n",
            "============================================================================\n",
            " embedding (Embedding)       (None, 74, 296)           11840     Y          \n",
            "                                                                            \n",
            " bidirectional (Bidirectiona  (None, 296)              526880    Y          \n",
            " l)                                                                         \n",
            "                                                                            \n",
            " repeat_vector (RepeatVector  (None, 74, 296)          0         Y          \n",
            " )                                                                          \n",
            "                                                                            \n",
            " bidirectional_1 (Bidirectio  (None, 74, 296)          526880    Y          \n",
            " nal)                                                                       \n",
            "                                                                            \n",
            " bidirectional_2 (Bidirectio  (None, 74, 148)          219632    Y          \n",
            " nal)                                                                       \n",
            "                                                                            \n",
            " dense (Dense)               (None, 74, 39)            5811      Y          \n",
            "                                                                            \n",
            "============================================================================\n",
            "Total params: 1,291,043\n",
            "Trainable params: 1,291,043\n",
            "Non-trainable params: 0\n",
            "____________________________________________________________________________\n"
          ]
        }
      ],
      "source": [
        "#combine the first two methods\n",
        "from keras.regularizers import l2\n",
        "model_4 = tf.keras.Sequential([\n",
        "    tf.keras.layers.Embedding(input_dim=g_vocab_size, output_dim=296, input_length=max_length, mask_zero=True),\n",
        "    tf.keras.layers.Bidirectional(tf.keras.layers.LSTM(148)),\n",
        "    tf.keras.layers.RepeatVector(max_length),\n",
        "    tf.keras.layers.Bidirectional(tf.keras.layers.LSTM(148, return_sequences=True)),\n",
        "    # tf.keras.layers.Bidirectional(tf.keras.layers.LSTM(148, return_sequences=True)),\n",
        "    tf.keras.layers.Bidirectional(tf.keras.layers.LSTM(74,  return_sequences=True)),\n",
        "    tf.keras.layers.Dense(vocab_size,activation='softmax')\n",
        "])\n",
        "# learning_rate = 0.003\n",
        "# optimizer = tf.keras.optimizers.Adam(learning_rate)\n",
        "learning_rate = 0.0005\n",
        "optimizer = tf.keras.optimizers.RMSprop(learning_rate)\n",
        "optimizer = tf.keras.mixed_precision.LossScaleOptimizer(optimizer)\n",
        "model_4.compile(loss=\"sparse_categorical_crossentropy\",\n",
        "              optimizer=optimizer,\n",
        "              metrics=['accuracy'])\n",
        "model_4.summary(expand_nested=True,\n",
        "    show_trainable=True)"
      ]
    },
    {
      "cell_type": "code",
      "execution_count": 23,
      "metadata": {
        "colab": {
          "base_uri": "https://localhost:8080/",
          "height": 1000
        },
        "id": "rvTWGQjJgVRq",
        "outputId": "73e40b70-e74f-4bcb-aeda-744bbd988e15"
      },
      "outputs": [
        {
          "output_type": "stream",
          "name": "stdout",
          "text": [
            "Epoch 1/60\n",
            "2922/2922 [==============================] - 241s 78ms/step - loss: 1.6645 - accuracy: 0.4994 - val_loss: 1.4147 - val_accuracy: 0.5347\n",
            "Epoch 2/60\n",
            "2922/2922 [==============================] - 225s 77ms/step - loss: 1.2615 - accuracy: 0.5767 - val_loss: 1.1305 - val_accuracy: 0.6152\n",
            "Epoch 3/60\n",
            "2922/2922 [==============================] - 225s 77ms/step - loss: 1.0657 - accuracy: 0.6379 - val_loss: 1.0285 - val_accuracy: 0.6452\n",
            "Epoch 4/60\n",
            "2922/2922 [==============================] - 225s 77ms/step - loss: 0.9525 - accuracy: 0.6770 - val_loss: 0.9241 - val_accuracy: 0.6853\n",
            "Epoch 5/60\n",
            "2922/2922 [==============================] - 225s 77ms/step - loss: 0.8746 - accuracy: 0.7066 - val_loss: 0.9167 - val_accuracy: 0.6776\n",
            "Epoch 6/60\n",
            "2922/2922 [==============================] - 225s 77ms/step - loss: 0.8177 - accuracy: 0.7296 - val_loss: 0.8069 - val_accuracy: 0.7297\n",
            "Epoch 7/60\n",
            "2922/2922 [==============================] - 223s 76ms/step - loss: 0.7736 - accuracy: 0.7477 - val_loss: 0.7376 - val_accuracy: 0.7705\n",
            "Epoch 8/60\n",
            "2922/2922 [==============================] - 223s 76ms/step - loss: 0.7386 - accuracy: 0.7622 - val_loss: 0.7439 - val_accuracy: 0.7631\n",
            "Epoch 9/60\n",
            "2922/2922 [==============================] - 222s 76ms/step - loss: 0.7101 - accuracy: 0.7740 - val_loss: 0.7974 - val_accuracy: 0.7294\n",
            "Epoch 10/60\n",
            "2922/2922 [==============================] - 222s 76ms/step - loss: 0.6857 - accuracy: 0.7836 - val_loss: 0.6498 - val_accuracy: 0.7994\n",
            "Epoch 11/60\n",
            "2922/2922 [==============================] - 221s 76ms/step - loss: 0.6656 - accuracy: 0.7913 - val_loss: 0.6256 - val_accuracy: 0.8100\n",
            "Epoch 12/60\n",
            "2922/2922 [==============================] - 221s 76ms/step - loss: 0.6473 - accuracy: 0.7979 - val_loss: 0.6410 - val_accuracy: 0.8001\n",
            "Epoch 13/60\n",
            "2922/2922 [==============================] - 221s 76ms/step - loss: 0.6308 - accuracy: 0.8033 - val_loss: 0.6251 - val_accuracy: 0.8101\n",
            "Epoch 14/60\n",
            "2922/2922 [==============================] - 221s 76ms/step - loss: 0.6167 - accuracy: 0.8079 - val_loss: 0.6077 - val_accuracy: 0.8156\n",
            "Epoch 15/60\n",
            "2922/2922 [==============================] - 224s 77ms/step - loss: 0.6040 - accuracy: 0.8121 - val_loss: 0.5745 - val_accuracy: 0.8227\n",
            "Epoch 16/60\n",
            "2922/2922 [==============================] - 225s 77ms/step - loss: 0.5914 - accuracy: 0.8159 - val_loss: 0.5685 - val_accuracy: 0.8276\n",
            "Epoch 17/60\n",
            "2922/2922 [==============================] - 225s 77ms/step - loss: 0.5812 - accuracy: 0.8190 - val_loss: 0.5761 - val_accuracy: 0.8231\n",
            "Epoch 18/60\n",
            "2922/2922 [==============================] - 225s 77ms/step - loss: 0.5716 - accuracy: 0.8221 - val_loss: 0.5477 - val_accuracy: 0.8334\n",
            "Epoch 19/60\n",
            "2922/2922 [==============================] - 225s 77ms/step - loss: 0.5628 - accuracy: 0.8249 - val_loss: 0.5545 - val_accuracy: 0.8296\n",
            "Epoch 20/60\n",
            "2922/2922 [==============================] - 225s 77ms/step - loss: 0.5549 - accuracy: 0.8273 - val_loss: 0.6320 - val_accuracy: 0.7942\n",
            "Epoch 21/60\n",
            "2922/2922 [==============================] - 225s 77ms/step - loss: 0.5480 - accuracy: 0.8293 - val_loss: 0.5281 - val_accuracy: 0.8374\n",
            "Epoch 22/60\n",
            "2922/2922 [==============================] - 225s 77ms/step - loss: 0.5411 - accuracy: 0.8316 - val_loss: 0.5239 - val_accuracy: 0.8400\n",
            "Epoch 23/60\n",
            "2922/2922 [==============================] - 225s 77ms/step - loss: 0.5355 - accuracy: 0.8331 - val_loss: 0.5409 - val_accuracy: 0.8321\n",
            "Epoch 24/60\n",
            "2922/2922 [==============================] - 222s 76ms/step - loss: 0.5300 - accuracy: 0.8347 - val_loss: 0.5170 - val_accuracy: 0.8402\n",
            "Epoch 25/60\n",
            "2922/2922 [==============================] - 224s 77ms/step - loss: 0.5242 - accuracy: 0.8364 - val_loss: 0.5153 - val_accuracy: 0.8389\n",
            "Epoch 26/60\n",
            "2922/2922 [==============================] - 225s 77ms/step - loss: 0.5190 - accuracy: 0.8380 - val_loss: 0.5047 - val_accuracy: 0.8457\n",
            "Epoch 27/60\n",
            "2922/2922 [==============================] - 223s 76ms/step - loss: 0.5139 - accuracy: 0.8396 - val_loss: 0.5087 - val_accuracy: 0.8457\n",
            "Epoch 28/60\n",
            "2922/2922 [==============================] - 222s 76ms/step - loss: 0.5094 - accuracy: 0.8409 - val_loss: 0.5076 - val_accuracy: 0.8415\n",
            "Epoch 29/60\n",
            "2922/2922 [==============================] - 223s 76ms/step - loss: 0.5051 - accuracy: 0.8421 - val_loss: 0.5920 - val_accuracy: 0.8038\n",
            "Epoch 30/60\n",
            "2922/2922 [==============================] - 222s 76ms/step - loss: 0.5016 - accuracy: 0.8431 - val_loss: 0.5081 - val_accuracy: 0.8431\n",
            "Epoch 31/60\n",
            "2922/2922 [==============================] - 223s 76ms/step - loss: 0.4970 - accuracy: 0.8445 - val_loss: 0.4917 - val_accuracy: 0.8476\n",
            "Epoch 32/60\n",
            "2922/2922 [==============================] - 223s 76ms/step - loss: 0.4936 - accuracy: 0.8456 - val_loss: 0.5071 - val_accuracy: 0.8416\n",
            "Epoch 33/60\n",
            "2922/2922 [==============================] - 223s 76ms/step - loss: 0.4906 - accuracy: 0.8463 - val_loss: 0.4837 - val_accuracy: 0.8498\n",
            "Epoch 34/60\n",
            "2922/2922 [==============================] - 223s 76ms/step - loss: 0.4868 - accuracy: 0.8475 - val_loss: 0.4880 - val_accuracy: 0.8509\n",
            "Epoch 35/60\n",
            "2922/2922 [==============================] - 223s 76ms/step - loss: 0.4838 - accuracy: 0.8483 - val_loss: 0.4830 - val_accuracy: 0.8492\n",
            "Epoch 36/60\n",
            "2922/2922 [==============================] - 223s 76ms/step - loss: 0.4807 - accuracy: 0.8492 - val_loss: 0.4758 - val_accuracy: 0.8528\n",
            "Epoch 37/60\n",
            "2922/2922 [==============================] - 222s 76ms/step - loss: 0.4776 - accuracy: 0.8501 - val_loss: 0.4748 - val_accuracy: 0.8516\n",
            "Epoch 38/60\n",
            "2922/2922 [==============================] - 223s 76ms/step - loss: 0.4745 - accuracy: 0.8511 - val_loss: 0.4748 - val_accuracy: 0.8528\n",
            "Epoch 39/60\n",
            "2922/2922 [==============================] - 225s 77ms/step - loss: 0.4728 - accuracy: 0.8517 - val_loss: 0.5527 - val_accuracy: 0.8240\n",
            "Epoch 40/60\n",
            "2922/2922 [==============================] - 225s 77ms/step - loss: 0.4695 - accuracy: 0.8526 - val_loss: 0.4802 - val_accuracy: 0.8548\n",
            "Epoch 41/60\n",
            "2922/2922 [==============================] - 225s 77ms/step - loss: 0.4673 - accuracy: 0.8533 - val_loss: 0.4751 - val_accuracy: 0.8560\n",
            "Epoch 42/60\n",
            "2922/2922 [==============================] - 224s 77ms/step - loss: 0.4646 - accuracy: 0.8541 - val_loss: 0.4746 - val_accuracy: 0.8511\n",
            "Epoch 43/60\n",
            "2922/2922 [==============================] - 224s 77ms/step - loss: 0.4624 - accuracy: 0.8547 - val_loss: 0.4681 - val_accuracy: 0.8542\n",
            "Epoch 44/60\n",
            "2922/2922 [==============================] - 225s 77ms/step - loss: 0.4599 - accuracy: 0.8554 - val_loss: 0.4715 - val_accuracy: 0.8528\n",
            "Epoch 45/60\n",
            "2922/2922 [==============================] - 224s 77ms/step - loss: 0.4579 - accuracy: 0.8561 - val_loss: 0.5113 - val_accuracy: 0.8412\n",
            "Epoch 46/60\n",
            "2922/2922 [==============================] - 224s 77ms/step - loss: 0.4556 - accuracy: 0.8568 - val_loss: 0.4704 - val_accuracy: 0.8526\n",
            "Epoch 47/60\n",
            "2922/2922 [==============================] - 224s 77ms/step - loss: 0.4534 - accuracy: 0.8574 - val_loss: 0.4881 - val_accuracy: 0.8465\n",
            "Epoch 48/60\n",
            "2922/2922 [==============================] - 225s 77ms/step - loss: 0.4512 - accuracy: 0.8581 - val_loss: 0.4603 - val_accuracy: 0.8568\n",
            "Epoch 49/60\n",
            "2922/2922 [==============================] - 225s 77ms/step - loss: 0.4499 - accuracy: 0.8584 - val_loss: 0.4600 - val_accuracy: 0.8559\n",
            "Epoch 50/60\n",
            "2922/2922 [==============================] - 226s 77ms/step - loss: 0.4474 - accuracy: 0.8593 - val_loss: 0.4602 - val_accuracy: 0.8563\n",
            "Epoch 51/60\n",
            "2922/2922 [==============================] - 225s 77ms/step - loss: 0.4458 - accuracy: 0.8598 - val_loss: 0.4695 - val_accuracy: 0.8586\n",
            "Epoch 52/60\n",
            "2922/2922 [==============================] - 224s 77ms/step - loss: 0.4437 - accuracy: 0.8604 - val_loss: 0.4679 - val_accuracy: 0.8512\n",
            "Epoch 53/60\n",
            "2922/2922 [==============================] - 224s 77ms/step - loss: 0.4421 - accuracy: 0.8608 - val_loss: 0.4553 - val_accuracy: 0.8593\n",
            "Epoch 54/60\n",
            "2922/2922 [==============================] - 225s 77ms/step - loss: 0.4399 - accuracy: 0.8617 - val_loss: 0.4647 - val_accuracy: 0.8601\n",
            "Epoch 55/60\n",
            "2922/2922 [==============================] - 226s 77ms/step - loss: 0.4383 - accuracy: 0.8621 - val_loss: 0.5620 - val_accuracy: 0.8185\n",
            "Epoch 56/60\n",
            "2922/2922 [==============================] - 226s 77ms/step - loss: 0.4363 - accuracy: 0.8627 - val_loss: 0.4519 - val_accuracy: 0.8582\n",
            "Epoch 57/60\n",
            "2922/2922 [==============================] - 224s 77ms/step - loss: 0.4348 - accuracy: 0.8632 - val_loss: 0.4562 - val_accuracy: 0.8580\n",
            "Epoch 58/60\n",
            "2922/2922 [==============================] - 225s 77ms/step - loss: 0.4330 - accuracy: 0.8638 - val_loss: 0.4587 - val_accuracy: 0.8537\n",
            "Epoch 59/60\n",
            "2922/2922 [==============================] - 225s 77ms/step - loss: 0.4318 - accuracy: 0.8642 - val_loss: 0.5563 - val_accuracy: 0.8140\n",
            "Epoch 60/60\n",
            "2922/2922 [==============================] - 226s 77ms/step - loss: 0.4303 - accuracy: 0.8647 - val_loss: 0.4513 - val_accuracy: 0.8623\n"
          ]
        },
        {
          "output_type": "display_data",
          "data": {
            "text/plain": [
              "<Figure size 432x288 with 1 Axes>"
            ],
            "image/png": "[encoded data removed]"
          },
          "metadata": {
            "needs_background": "light"
          }
        }
      ],
      "source": [
        "his_4 = model_4.fit(train_padded, test_padded, batch_size=256, epochs=epoch, validation_data = (val_train_padded, val_test_padded))\n",
        "\n",
        "plt.plot(his_4.history['loss'])\n",
        "plt.plot(his_4.history['val_loss'])\n",
        "plt.legend(['train','validation'])\n",
        "plt.show()"
      ]
    },
    {
      "cell_type": "code",
      "execution_count": 24,
      "metadata": {
        "id": "Lz1009MuUGX-"
      },
      "outputs": [],
      "source": [
        "# epoch = 10\n",
        "# his = model.fit(train_padded, test_padded, batch_size=512, epochs=epoch, validation_data = (val_train_padded, val_test_padded))"
      ]
    },
    {
      "cell_type": "code",
      "execution_count": 25,
      "metadata": {
        "id": "ADAyQCdl7mmw"
      },
      "outputs": [],
      "source": [
        "# model.save('/content/drive/MyDrive/Colab_Notebooks/accuracy_84_3lstm_rnn_8inputlength')"
      ]
    },
    {
      "cell_type": "code",
      "execution_count": 26,
      "metadata": {
        "id": "KpGWAIiQUe0_"
      },
      "outputs": [],
      "source": [
        "test_sample = test_x.iloc[:10]\n",
        "test_sample = g_text_tokenizer.texts_to_sequences(test_sample)\n",
        "test_sample = pad_sequences(test_sample, maxlen=max_length, padding='post')\n"
      ]
    },
    {
      "cell_type": "code",
      "execution_count": 27,
      "metadata": {
        "id": "wUHeCyCM02he",
        "colab": {
          "base_uri": "https://localhost:8080/"
        },
        "outputId": "1409668c-da9a-48fa-8efa-341c865f1829"
      },
      "outputs": [
        {
          "output_type": "execute_result",
          "data": {
            "text/plain": [
              "967424                    casino expansion faesc oppositoni\n",
              "706404       un respogfs to the prime ministers hhmqn lghts\n",
              "230638    fxrmdrs voice water eor5ies amid vickery mine ...\n",
              "218368          ethiopian pm satns of ps4 elwctuon violence\n",
              "877144                  hueigll advances to butetfrly semis\n",
              "931880           roger fexn sfo e our memories qags victims\n",
              "58166     zustrallans stuck on board coronqvifus crjose ...\n",
              "892226     us ivnestiagting hwehter zarqawi manog iraq dead\n",
              "793036     5ouhher times p5edidted for qld tojeism industry\n",
              "64421     albloonist ' s atlantic ' bato ' flight ends i...\n",
              "Name: augmented_text, dtype: object"
            ]
          },
          "metadata": {},
          "execution_count": 27
        }
      ],
      "source": [
        "test_x.iloc[:10]"
      ]
    },
    {
      "cell_type": "code",
      "execution_count": 28,
      "metadata": {
        "id": "o48mfKmhsDv0",
        "colab": {
          "base_uri": "https://localhost:8080/"
        },
        "outputId": "04d5abab-3250-40c2-d5eb-2d535f8aa794"
      },
      "outputs": [
        {
          "output_type": "execute_result",
          "data": {
            "text/plain": [
              "967424                    casino expansion faces opposition\n",
              "706404      un responds to the prime ministers human rights\n",
              "230638    farmers voice water worries amid vickery mine ...\n",
              "218368         ethiopian pm warns of post election violence\n",
              "877144                  huegill advances to butterfly semis\n",
              "931880           roger dean stole our memories says victims\n",
              "58166     australians stuck on board coronavirus cruise ...\n",
              "892226     us investigating whether zarqawi among iraq dead\n",
              "793036     tougher times predicted for qld tourism industry\n",
              "64421     balloonist's atlantic 'boat' flight ends in fa...\n",
              "Name: text, dtype: object"
            ]
          },
          "metadata": {},
          "execution_count": 28
        }
      ],
      "source": [
        "test_y.iloc[:10]"
      ]
    },
    {
      "cell_type": "code",
      "execution_count": 29,
      "metadata": {
        "id": "kvPsR8hHEQq9"
      },
      "outputs": [],
      "source": [
        "pre = model_4.predict(test_sample)\n",
        "def deTokenize(logits):\n",
        "    index_to_words = {id: word for word, id in text_tokenizer.word_index.items()}\n",
        "    index_to_words[0] = ''\n",
        "    pre_index = np.argmax(logits, 1)\n",
        "    return ''.join(index_to_words[prediction] for prediction in pre_index)\n",
        "predict = []\n",
        "for i in range(10):\n",
        "  predict.append(deTokenize(pre[i]))"
      ]
    },
    {
      "cell_type": "code",
      "execution_count": 30,
      "metadata": {
        "id": "LCXcto7u1iTa",
        "colab": {
          "base_uri": "https://localhost:8080/",
          "height": 363
        },
        "outputId": "cbbb3c48-2d06-4e68-8857-223f48786f02"
      },
      "outputs": [
        {
          "output_type": "execute_result",
          "data": {
            "text/plain": [
              "                                                    input  \\\n",
              "967424                  casino expansion faesc oppositoni   \n",
              "706404     un respogfs to the prime ministers hhmqn lghts   \n",
              "230638  fxrmdrs voice water eor5ies amid vickery mine ...   \n",
              "218368        ethiopian pm satns of ps4 elwctuon violence   \n",
              "877144                hueigll advances to butetfrly semis   \n",
              "931880         roger fexn sfo e our memories qags victims   \n",
              "58166   zustrallans stuck on board coronqvifus crjose ...   \n",
              "892226   us ivnestiagting hwehter zarqawi manog iraq dead   \n",
              "793036   5ouhher times p5edidted for qld tojeism industry   \n",
              "64421   albloonist ' s atlantic ' bato ' flight ends i...   \n",
              "\n",
              "                                                   output  \\\n",
              "967424                  casino expansion faces opposition   \n",
              "706404    un responds to the prime ministers human rights   \n",
              "230638  farmers voice water worries amid vickery mine ...   \n",
              "218368       ethiopian pm warns of post election violence   \n",
              "877144                huegill advances to butterfly semis   \n",
              "931880         roger dean stole our memories says victims   \n",
              "58166   australians stuck on board coronavirus cruise ...   \n",
              "892226   us investigating whether zarqawi among iraq dead   \n",
              "793036   tougher times predicted for qld tourism industry   \n",
              "64421   balloonist's atlantic 'boat' flight ends in fa...   \n",
              "\n",
              "                                                  predict  \n",
              "967424                  casion expansion faces opposition  \n",
              "706404     un resporgs to the prime ministers hhmaa light  \n",
              "230638  farmers voice water retores amid vickery mine ...  \n",
              "218368       ethiopian pm sasts of ppe  eecctoon iillence  \n",
              "877144                huiglll advanc s to butterrly ssmis  \n",
              "931880        roger fean ssoll our mmmoorie  aas vicctiss  \n",
              "58166   australians stuck on board coronavirus crosse ...  \n",
              "892226   us investigating heether aarwaia manon iraq dead  \n",
              "793036   touther times predidted for qld toomiss industry  \n",
              "64421   aaloooonis's alaanncss bath fflight eeds in af...  "
            ],
            "text/html": [
              "\n",
              "  <div id=\"df-6f1441b9-5ca9-4e13-b1bf-e4a47d5df156\">\n",
              "    <div class=\"colab-df-container\">\n",
              "      <div>\n",
              "<style scoped>\n",
              "    .dataframe tbody tr th:only-of-type {\n",
              "        vertical-align: middle;\n",
              "    }\n",
              "\n",
              "    .dataframe tbody tr th {\n",
              "        vertical-align: top;\n",
              "    }\n",
              "\n",
              "    .dataframe thead th {\n",
              "        text-align: right;\n",
              "    }\n",
              "</style>\n",
              "<table border=\"1\" class=\"dataframe\">\n",
              "  <thead>\n",
              "    <tr style=\"text-align: right;\">\n",
              "      <th></th>\n",
              "      <th>input</th>\n",
              "      <th>output</th>\n",
              "      <th>predict</th>\n",
              "    </tr>\n",
              "  </thead>\n",
              "  <tbody>\n",
              "    <tr>\n",
              "      <th>967424</th>\n",
              "      <td>casino expansion faesc oppositoni</td>\n",
              "      <td>casino expansion faces opposition</td>\n",
              "      <td>casion expansion faces opposition</td>\n",
              "    </tr>\n",
              "    <tr>\n",
              "      <th>706404</th>\n",
              "      <td>un respogfs to the prime ministers hhmqn lghts</td>\n",
              "      <td>un responds to the prime ministers human rights</td>\n",
              "      <td>un resporgs to the prime ministers hhmaa light</td>\n",
              "    </tr>\n",
              "    <tr>\n",
              "      <th>230638</th>\n",
              "      <td>fxrmdrs voice water eor5ies amid vickery mine ...</td>\n",
              "      <td>farmers voice water worries amid vickery mine ...</td>\n",
              "      <td>farmers voice water retores amid vickery mine ...</td>\n",
              "    </tr>\n",
              "    <tr>\n",
              "      <th>218368</th>\n",
              "      <td>ethiopian pm satns of ps4 elwctuon violence</td>\n",
              "      <td>ethiopian pm warns of post election violence</td>\n",
              "      <td>ethiopian pm sasts of ppe  eecctoon iillence</td>\n",
              "    </tr>\n",
              "    <tr>\n",
              "      <th>877144</th>\n",
              "      <td>hueigll advances to butetfrly semis</td>\n",
              "      <td>huegill advances to butterfly semis</td>\n",
              "      <td>huiglll advanc s to butterrly ssmis</td>\n",
              "    </tr>\n",
              "    <tr>\n",
              "      <th>931880</th>\n",
              "      <td>roger fexn sfo e our memories qags victims</td>\n",
              "      <td>roger dean stole our memories says victims</td>\n",
              "      <td>roger fean ssoll our mmmoorie  aas vicctiss</td>\n",
              "    </tr>\n",
              "    <tr>\n",
              "      <th>58166</th>\n",
              "      <td>zustrallans stuck on board coronqvifus crjose ...</td>\n",
              "      <td>australians stuck on board coronavirus cruise ...</td>\n",
              "      <td>australians stuck on board coronavirus crosse ...</td>\n",
              "    </tr>\n",
              "    <tr>\n",
              "      <th>892226</th>\n",
              "      <td>us ivnestiagting hwehter zarqawi manog iraq dead</td>\n",
              "      <td>us investigating whether zarqawi among iraq dead</td>\n",
              "      <td>us investigating heether aarwaia manon iraq dead</td>\n",
              "    </tr>\n",
              "    <tr>\n",
              "      <th>793036</th>\n",
              "      <td>5ouhher times p5edidted for qld tojeism industry</td>\n",
              "      <td>tougher times predicted for qld tourism industry</td>\n",
              "      <td>touther times predidted for qld toomiss industry</td>\n",
              "    </tr>\n",
              "    <tr>\n",
              "      <th>64421</th>\n",
              "      <td>albloonist ' s atlantic ' bato ' flight ends i...</td>\n",
              "      <td>balloonist's atlantic 'boat' flight ends in fa...</td>\n",
              "      <td>aaloooonis's alaanncss bath fflight eeds in af...</td>\n",
              "    </tr>\n",
              "  </tbody>\n",
              "</table>\n",
              "</div>\n",
              "      <button class=\"colab-df-convert\" onclick=\"convertToInteractive('df-6f1441b9-5ca9-4e13-b1bf-e4a47d5df156')\"\n",
              "              title=\"Convert this dataframe to an interactive table.\"\n",
              "              style=\"display:none;\">\n",
              "        \n",
              "  <svg xmlns=\"http://www.w3.org/2000/svg\" height=\"24px\"viewBox=\"0 0 24 24\"\n",
              "       width=\"24px\">\n",
              "    <path d=\"M0 0h24v24H0V0z\" fill=\"none\"/>\n",
              "    <path d=\"M18.56 5.44l.94 2.06.94-2.06 2.06-.94-2.06-.94-.94-2.06-.94 2.06-2.06.94zm-11 1L8.5 8.5l.94-2.06 2.06-.94-2.06-.94L8.5 2.5l-.94 2.06-2.06.94zm10 10l.94 2.06.94-2.06 2.06-.94-2.06-.94-.94-2.06-.94 2.06-2.06.94z\"/><path d=\"M17.41 7.96l-1.37-1.37c-.4-.4-.92-.59-1.43-.59-.52 0-1.04.2-1.43.59L10.3 9.45l-7.72 7.72c-.78.78-.78 2.05 0 2.83L4 21.41c.39.39.9.59 1.41.59.51 0 1.02-.2 1.41-.59l7.78-7.78 2.81-2.81c.8-.78.8-2.07 0-2.86zM5.41 20L4 18.59l7.72-7.72 1.47 1.35L5.41 20z\"/>\n",
              "  </svg>\n",
              "      </button>\n",
              "      \n",
              "  <style>\n",
              "    .colab-df-container {\n",
              "      display:flex;\n",
              "      flex-wrap:wrap;\n",
              "      gap: 12px;\n",
              "    }\n",
              "\n",
              "    .colab-df-convert {\n",
              "      background-color: #E8F0FE;\n",
              "      border: none;\n",
              "      border-radius: 50%;\n",
              "      cursor: pointer;\n",
              "      display: none;\n",
              "      fill: #1967D2;\n",
              "      height: 32px;\n",
              "      padding: 0 0 0 0;\n",
              "      width: 32px;\n",
              "    }\n",
              "\n",
              "    .colab-df-convert:hover {\n",
              "      background-color: #E2EBFA;\n",
              "      box-shadow: 0px 1px 2px rgba(60, 64, 67, 0.3), 0px 1px 3px 1px rgba(60, 64, 67, 0.15);\n",
              "      fill: #174EA6;\n",
              "    }\n",
              "\n",
              "    [theme=dark] .colab-df-convert {\n",
              "      background-color: #3B4455;\n",
              "      fill: #D2E3FC;\n",
              "    }\n",
              "\n",
              "    [theme=dark] .colab-df-convert:hover {\n",
              "      background-color: #434B5C;\n",
              "      box-shadow: 0px 1px 3px 1px rgba(0, 0, 0, 0.15);\n",
              "      filter: drop-shadow(0px 1px 2px rgba(0, 0, 0, 0.3));\n",
              "      fill: #FFFFFF;\n",
              "    }\n",
              "  </style>\n",
              "\n",
              "      <script>\n",
              "        const buttonEl =\n",
              "          document.querySelector('#df-6f1441b9-5ca9-4e13-b1bf-e4a47d5df156 button.colab-df-convert');\n",
              "        buttonEl.style.display =\n",
              "          google.colab.kernel.accessAllowed ? 'block' : 'none';\n",
              "\n",
              "        async function convertToInteractive(key) {\n",
              "          const element = document.querySelector('#df-6f1441b9-5ca9-4e13-b1bf-e4a47d5df156');\n",
              "          const dataTable =\n",
              "            await google.colab.kernel.invokeFunction('convertToInteractive',\n",
              "                                                     [key], {});\n",
              "          if (!dataTable) return;\n",
              "\n",
              "          const docLinkHtml = 'Like what you see? Visit the ' +\n",
              "            '<a target=\"_blank\" href=https://colab.research.google.com/notebooks/data_table.ipynb>data table notebook</a>'\n",
              "            + ' to learn more about interactive tables.';\n",
              "          element.innerHTML = '';\n",
              "          dataTable['output_type'] = 'display_data';\n",
              "          await google.colab.output.renderOutput(dataTable, element);\n",
              "          const docLink = document.createElement('div');\n",
              "          docLink.innerHTML = docLinkHtml;\n",
              "          element.appendChild(docLink);\n",
              "        }\n",
              "      </script>\n",
              "    </div>\n",
              "  </div>\n",
              "  "
            ]
          },
          "metadata": {},
          "execution_count": 30
        }
      ],
      "source": [
        "eva = pd.DataFrame({'input': test_x.iloc[:10], 'output': test_y.iloc[:10], 'predict':predict})\n",
        "eva\n"
      ]
    },
    {
      "cell_type": "code",
      "execution_count": 31,
      "metadata": {
        "id": "T-6vwxhK56Uw",
        "colab": {
          "base_uri": "https://localhost:8080/"
        },
        "outputId": "7856b4a7-60b4-4dd7-a36d-762f9eebdba1"
      },
      "outputs": [
        {
          "output_type": "stream",
          "name": "stdout",
          "text": [
            "Iutput:     casino expansion faesc oppositoni\n",
            "Actual:     casino expansion faces opposition\n",
            "Predicted:  casion expansion faces opposition\n"
          ]
        }
      ],
      "source": [
        "print(\"Iutput:    \",test_x.iloc[0])\n",
        "print(\"Actual:    \",test_y.iloc[0])\n",
        "print(\"Predicted: \",deTokenize(pre[0]))"
      ]
    }
  ],
  "metadata": {
    "accelerator": "GPU",
    "colab": {
      "collapsed_sections": [],
      "name": "method8",
      "provenance": []
    },
    "kernelspec": {
      "display_name": "Python 3",
      "name": "python3"
    },
    "language_info": {
      "name": "python"
    }
  },
  "nbformat": 4,
  "nbformat_minor": 0
}