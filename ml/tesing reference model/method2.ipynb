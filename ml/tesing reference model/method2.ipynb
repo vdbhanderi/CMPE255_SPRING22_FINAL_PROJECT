{
  "cells": [
    {
      "cell_type": "code",
      "execution_count": null,
      "metadata": {
        "colab": {
          "base_uri": "https://localhost:8080/"
        },
        "id": "2NEWAoUNP8xH",
        "outputId": "8c1d01ed-46b4-42d7-ce47-70e90c242d01"
      },
      "outputs": [
        {
          "output_type": "stream",
          "name": "stdout",
          "text": [
            "Mounted at /content/drive/\n"
          ]
        }
      ],
      "source": [
        "import tensorflow as tf\n",
        "import numpy as np\n",
        "import pandas as pd\n",
        "from keras.preprocessing.sequence import pad_sequences\n",
        "from keras.preprocessing.text import Tokenizer\n",
        "import re\n",
        "import os\n",
        "import matplotlib.pyplot as plt\n",
        "\n",
        "tf.__version__\n",
        "from google.colab import drive\n",
        "drive.mount('/content/drive/')"
      ]
    },
    {
      "cell_type": "code",
      "execution_count": null,
      "metadata": {
        "id": "CLrsbOIpTU1m"
      },
      "outputs": [],
      "source": [
        "df_train = pd.read_csv(\"/content/drive/MyDrive/Colab_Notebooks/train.csv\")\n",
        "df_val = pd.read_csv(\"/content/drive/MyDrive/Colab_Notebooks/val.csv\")\n",
        "df_test = pd.read_csv(\"/content/drive/MyDrive/Colab_Notebooks/test.csv\")\n"
      ]
    },
    {
      "cell_type": "code",
      "source": [
        "df_train[df_train.duplicated()]\n"
      ],
      "metadata": {
        "colab": {
          "base_uri": "https://localhost:8080/",
          "height": 424
        },
        "id": "WwEH5j4a-m_g",
        "outputId": "18b28196-94b2-4550-8108-c3b2946f5145"
      },
      "execution_count": null,
      "outputs": [
        {
          "output_type": "execute_result",
          "data": {
            "text/plain": [
              "                                         text  \\\n",
              "6906          a league live streaming updates   \n",
              "9455    abc business news and market analysis   \n",
              "9476    abc business news and market analysis   \n",
              "9487    abc business news and market analysis   \n",
              "9498    abc business news and market analysis   \n",
              "...                                       ...   \n",
              "742784     wednesday finance with alan kohler   \n",
              "742790     wednesday finance with alan kohler   \n",
              "742816     wednesday finance with alan kohler   \n",
              "742873     wednesday markets with fiona clark   \n",
              "758107     woman to front court over stabbing   \n",
              "\n",
              "                               augmented_text  \n",
              "6906          a elgaue ivle streaming updates  \n",
              "9455    abc buisnses news and maretk analysis  \n",
              "9476    abc business ensw and market anyalsis  \n",
              "9487    abc ubisness news and market analysis  \n",
              "9498    abc busienss wnes and market analysis  \n",
              "...                                       ...  \n",
              "742784     wednesday finnaec with lana kohler  \n",
              "742790     wednesday finance with lana kohler  \n",
              "742816     wednesday finance with lana kohler  \n",
              "742873     wednesday markets iwht fiona lcakr  \n",
              "758107     woman to front ocutr over stabbing  \n",
              "\n",
              "[71 rows x 2 columns]"
            ],
            "text/html": [
              "\n",
              "  <div id=\"df-ffdbc8c7-fd50-4e1d-95aa-231895b211ce\">\n",
              "    <div class=\"colab-df-container\">\n",
              "      <div>\n",
              "<style scoped>\n",
              "    .dataframe tbody tr th:only-of-type {\n",
              "        vertical-align: middle;\n",
              "    }\n",
              "\n",
              "    .dataframe tbody tr th {\n",
              "        vertical-align: top;\n",
              "    }\n",
              "\n",
              "    .dataframe thead th {\n",
              "        text-align: right;\n",
              "    }\n",
              "</style>\n",
              "<table border=\"1\" class=\"dataframe\">\n",
              "  <thead>\n",
              "    <tr style=\"text-align: right;\">\n",
              "      <th></th>\n",
              "      <th>text</th>\n",
              "      <th>augmented_text</th>\n",
              "    </tr>\n",
              "  </thead>\n",
              "  <tbody>\n",
              "    <tr>\n",
              "      <th>6906</th>\n",
              "      <td>a league live streaming updates</td>\n",
              "      <td>a elgaue ivle streaming updates</td>\n",
              "    </tr>\n",
              "    <tr>\n",
              "      <th>9455</th>\n",
              "      <td>abc business news and market analysis</td>\n",
              "      <td>abc buisnses news and maretk analysis</td>\n",
              "    </tr>\n",
              "    <tr>\n",
              "      <th>9476</th>\n",
              "      <td>abc business news and market analysis</td>\n",
              "      <td>abc business ensw and market anyalsis</td>\n",
              "    </tr>\n",
              "    <tr>\n",
              "      <th>9487</th>\n",
              "      <td>abc business news and market analysis</td>\n",
              "      <td>abc ubisness news and market analysis</td>\n",
              "    </tr>\n",
              "    <tr>\n",
              "      <th>9498</th>\n",
              "      <td>abc business news and market analysis</td>\n",
              "      <td>abc busienss wnes and market analysis</td>\n",
              "    </tr>\n",
              "    <tr>\n",
              "      <th>...</th>\n",
              "      <td>...</td>\n",
              "      <td>...</td>\n",
              "    </tr>\n",
              "    <tr>\n",
              "      <th>742784</th>\n",
              "      <td>wednesday finance with alan kohler</td>\n",
              "      <td>wednesday finnaec with lana kohler</td>\n",
              "    </tr>\n",
              "    <tr>\n",
              "      <th>742790</th>\n",
              "      <td>wednesday finance with alan kohler</td>\n",
              "      <td>wednesday finance with lana kohler</td>\n",
              "    </tr>\n",
              "    <tr>\n",
              "      <th>742816</th>\n",
              "      <td>wednesday finance with alan kohler</td>\n",
              "      <td>wednesday finance with lana kohler</td>\n",
              "    </tr>\n",
              "    <tr>\n",
              "      <th>742873</th>\n",
              "      <td>wednesday markets with fiona clark</td>\n",
              "      <td>wednesday markets iwht fiona lcakr</td>\n",
              "    </tr>\n",
              "    <tr>\n",
              "      <th>758107</th>\n",
              "      <td>woman to front court over stabbing</td>\n",
              "      <td>woman to front ocutr over stabbing</td>\n",
              "    </tr>\n",
              "  </tbody>\n",
              "</table>\n",
              "<p>71 rows × 2 columns</p>\n",
              "</div>\n",
              "      <button class=\"colab-df-convert\" onclick=\"convertToInteractive('df-ffdbc8c7-fd50-4e1d-95aa-231895b211ce')\"\n",
              "              title=\"Convert this dataframe to an interactive table.\"\n",
              "              style=\"display:none;\">\n",
              "        \n",
              "  <svg xmlns=\"http://www.w3.org/2000/svg\" height=\"24px\"viewBox=\"0 0 24 24\"\n",
              "       width=\"24px\">\n",
              "    <path d=\"M0 0h24v24H0V0z\" fill=\"none\"/>\n",
              "    <path d=\"M18.56 5.44l.94 2.06.94-2.06 2.06-.94-2.06-.94-.94-2.06-.94 2.06-2.06.94zm-11 1L8.5 8.5l.94-2.06 2.06-.94-2.06-.94L8.5 2.5l-.94 2.06-2.06.94zm10 10l.94 2.06.94-2.06 2.06-.94-2.06-.94-.94-2.06-.94 2.06-2.06.94z\"/><path d=\"M17.41 7.96l-1.37-1.37c-.4-.4-.92-.59-1.43-.59-.52 0-1.04.2-1.43.59L10.3 9.45l-7.72 7.72c-.78.78-.78 2.05 0 2.83L4 21.41c.39.39.9.59 1.41.59.51 0 1.02-.2 1.41-.59l7.78-7.78 2.81-2.81c.8-.78.8-2.07 0-2.86zM5.41 20L4 18.59l7.72-7.72 1.47 1.35L5.41 20z\"/>\n",
              "  </svg>\n",
              "      </button>\n",
              "      \n",
              "  <style>\n",
              "    .colab-df-container {\n",
              "      display:flex;\n",
              "      flex-wrap:wrap;\n",
              "      gap: 12px;\n",
              "    }\n",
              "\n",
              "    .colab-df-convert {\n",
              "      background-color: #E8F0FE;\n",
              "      border: none;\n",
              "      border-radius: 50%;\n",
              "      cursor: pointer;\n",
              "      display: none;\n",
              "      fill: #1967D2;\n",
              "      height: 32px;\n",
              "      padding: 0 0 0 0;\n",
              "      width: 32px;\n",
              "    }\n",
              "\n",
              "    .colab-df-convert:hover {\n",
              "      background-color: #E2EBFA;\n",
              "      box-shadow: 0px 1px 2px rgba(60, 64, 67, 0.3), 0px 1px 3px 1px rgba(60, 64, 67, 0.15);\n",
              "      fill: #174EA6;\n",
              "    }\n",
              "\n",
              "    [theme=dark] .colab-df-convert {\n",
              "      background-color: #3B4455;\n",
              "      fill: #D2E3FC;\n",
              "    }\n",
              "\n",
              "    [theme=dark] .colab-df-convert:hover {\n",
              "      background-color: #434B5C;\n",
              "      box-shadow: 0px 1px 3px 1px rgba(0, 0, 0, 0.15);\n",
              "      filter: drop-shadow(0px 1px 2px rgba(0, 0, 0, 0.3));\n",
              "      fill: #FFFFFF;\n",
              "    }\n",
              "  </style>\n",
              "\n",
              "      <script>\n",
              "        const buttonEl =\n",
              "          document.querySelector('#df-ffdbc8c7-fd50-4e1d-95aa-231895b211ce button.colab-df-convert');\n",
              "        buttonEl.style.display =\n",
              "          google.colab.kernel.accessAllowed ? 'block' : 'none';\n",
              "\n",
              "        async function convertToInteractive(key) {\n",
              "          const element = document.querySelector('#df-ffdbc8c7-fd50-4e1d-95aa-231895b211ce');\n",
              "          const dataTable =\n",
              "            await google.colab.kernel.invokeFunction('convertToInteractive',\n",
              "                                                     [key], {});\n",
              "          if (!dataTable) return;\n",
              "\n",
              "          const docLinkHtml = 'Like what you see? Visit the ' +\n",
              "            '<a target=\"_blank\" href=https://colab.research.google.com/notebooks/data_table.ipynb>data table notebook</a>'\n",
              "            + ' to learn more about interactive tables.';\n",
              "          element.innerHTML = '';\n",
              "          dataTable['output_type'] = 'display_data';\n",
              "          await google.colab.output.renderOutput(dataTable, element);\n",
              "          const docLink = document.createElement('div');\n",
              "          docLink.innerHTML = docLinkHtml;\n",
              "          element.appendChild(docLink);\n",
              "        }\n",
              "      </script>\n",
              "    </div>\n",
              "  </div>\n",
              "  "
            ]
          },
          "metadata": {},
          "execution_count": 3
        }
      ]
    },
    {
      "cell_type": "code",
      "source": [
        "df_val[df_val.duplicated()]\n"
      ],
      "metadata": {
        "colab": {
          "base_uri": "https://localhost:8080/",
          "height": 112
        },
        "id": "fOtnbULR-sI_",
        "outputId": "d2c439bb-2ee0-4725-a72b-28fac13a4c05"
      },
      "execution_count": null,
      "outputs": [
        {
          "output_type": "execute_result",
          "data": {
            "text/plain": [
              "                                         text  \\\n",
              "42958   abc business news and market analysis   \n",
              "150906  abc business news and market analysis   \n",
              "\n",
              "                               augmented_text  \n",
              "42958   abc ubsiness news and market analysis  \n",
              "150906  abc usbiness news and mraekt analysis  "
            ],
            "text/html": [
              "\n",
              "  <div id=\"df-1a4bb4ec-f492-4344-8c6f-30ffe8eac351\">\n",
              "    <div class=\"colab-df-container\">\n",
              "      <div>\n",
              "<style scoped>\n",
              "    .dataframe tbody tr th:only-of-type {\n",
              "        vertical-align: middle;\n",
              "    }\n",
              "\n",
              "    .dataframe tbody tr th {\n",
              "        vertical-align: top;\n",
              "    }\n",
              "\n",
              "    .dataframe thead th {\n",
              "        text-align: right;\n",
              "    }\n",
              "</style>\n",
              "<table border=\"1\" class=\"dataframe\">\n",
              "  <thead>\n",
              "    <tr style=\"text-align: right;\">\n",
              "      <th></th>\n",
              "      <th>text</th>\n",
              "      <th>augmented_text</th>\n",
              "    </tr>\n",
              "  </thead>\n",
              "  <tbody>\n",
              "    <tr>\n",
              "      <th>42958</th>\n",
              "      <td>abc business news and market analysis</td>\n",
              "      <td>abc ubsiness news and market analysis</td>\n",
              "    </tr>\n",
              "    <tr>\n",
              "      <th>150906</th>\n",
              "      <td>abc business news and market analysis</td>\n",
              "      <td>abc usbiness news and mraekt analysis</td>\n",
              "    </tr>\n",
              "  </tbody>\n",
              "</table>\n",
              "</div>\n",
              "      <button class=\"colab-df-convert\" onclick=\"convertToInteractive('df-1a4bb4ec-f492-4344-8c6f-30ffe8eac351')\"\n",
              "              title=\"Convert this dataframe to an interactive table.\"\n",
              "              style=\"display:none;\">\n",
              "        \n",
              "  <svg xmlns=\"http://www.w3.org/2000/svg\" height=\"24px\"viewBox=\"0 0 24 24\"\n",
              "       width=\"24px\">\n",
              "    <path d=\"M0 0h24v24H0V0z\" fill=\"none\"/>\n",
              "    <path d=\"M18.56 5.44l.94 2.06.94-2.06 2.06-.94-2.06-.94-.94-2.06-.94 2.06-2.06.94zm-11 1L8.5 8.5l.94-2.06 2.06-.94-2.06-.94L8.5 2.5l-.94 2.06-2.06.94zm10 10l.94 2.06.94-2.06 2.06-.94-2.06-.94-.94-2.06-.94 2.06-2.06.94z\"/><path d=\"M17.41 7.96l-1.37-1.37c-.4-.4-.92-.59-1.43-.59-.52 0-1.04.2-1.43.59L10.3 9.45l-7.72 7.72c-.78.78-.78 2.05 0 2.83L4 21.41c.39.39.9.59 1.41.59.51 0 1.02-.2 1.41-.59l7.78-7.78 2.81-2.81c.8-.78.8-2.07 0-2.86zM5.41 20L4 18.59l7.72-7.72 1.47 1.35L5.41 20z\"/>\n",
              "  </svg>\n",
              "      </button>\n",
              "      \n",
              "  <style>\n",
              "    .colab-df-container {\n",
              "      display:flex;\n",
              "      flex-wrap:wrap;\n",
              "      gap: 12px;\n",
              "    }\n",
              "\n",
              "    .colab-df-convert {\n",
              "      background-color: #E8F0FE;\n",
              "      border: none;\n",
              "      border-radius: 50%;\n",
              "      cursor: pointer;\n",
              "      display: none;\n",
              "      fill: #1967D2;\n",
              "      height: 32px;\n",
              "      padding: 0 0 0 0;\n",
              "      width: 32px;\n",
              "    }\n",
              "\n",
              "    .colab-df-convert:hover {\n",
              "      background-color: #E2EBFA;\n",
              "      box-shadow: 0px 1px 2px rgba(60, 64, 67, 0.3), 0px 1px 3px 1px rgba(60, 64, 67, 0.15);\n",
              "      fill: #174EA6;\n",
              "    }\n",
              "\n",
              "    [theme=dark] .colab-df-convert {\n",
              "      background-color: #3B4455;\n",
              "      fill: #D2E3FC;\n",
              "    }\n",
              "\n",
              "    [theme=dark] .colab-df-convert:hover {\n",
              "      background-color: #434B5C;\n",
              "      box-shadow: 0px 1px 3px 1px rgba(0, 0, 0, 0.15);\n",
              "      filter: drop-shadow(0px 1px 2px rgba(0, 0, 0, 0.3));\n",
              "      fill: #FFFFFF;\n",
              "    }\n",
              "  </style>\n",
              "\n",
              "      <script>\n",
              "        const buttonEl =\n",
              "          document.querySelector('#df-1a4bb4ec-f492-4344-8c6f-30ffe8eac351 button.colab-df-convert');\n",
              "        buttonEl.style.display =\n",
              "          google.colab.kernel.accessAllowed ? 'block' : 'none';\n",
              "\n",
              "        async function convertToInteractive(key) {\n",
              "          const element = document.querySelector('#df-1a4bb4ec-f492-4344-8c6f-30ffe8eac351');\n",
              "          const dataTable =\n",
              "            await google.colab.kernel.invokeFunction('convertToInteractive',\n",
              "                                                     [key], {});\n",
              "          if (!dataTable) return;\n",
              "\n",
              "          const docLinkHtml = 'Like what you see? Visit the ' +\n",
              "            '<a target=\"_blank\" href=https://colab.research.google.com/notebooks/data_table.ipynb>data table notebook</a>'\n",
              "            + ' to learn more about interactive tables.';\n",
              "          element.innerHTML = '';\n",
              "          dataTable['output_type'] = 'display_data';\n",
              "          await google.colab.output.renderOutput(dataTable, element);\n",
              "          const docLink = document.createElement('div');\n",
              "          docLink.innerHTML = docLinkHtml;\n",
              "          element.appendChild(docLink);\n",
              "        }\n",
              "      </script>\n",
              "    </div>\n",
              "  </div>\n",
              "  "
            ]
          },
          "metadata": {},
          "execution_count": 4
        }
      ]
    },
    {
      "cell_type": "code",
      "source": [
        "df_test[df_test.duplicated()]\n"
      ],
      "metadata": {
        "colab": {
          "base_uri": "https://localhost:8080/",
          "height": 112
        },
        "id": "KG_gPvnu-tGt",
        "outputId": "8ac76606-59b0-4a47-c1d3-7f9120413467"
      },
      "execution_count": null,
      "outputs": [
        {
          "output_type": "execute_result",
          "data": {
            "text/plain": [
              "                                        text  \\\n",
              "52797  abc business news and market analysis   \n",
              "98255  abc business news and market analysis   \n",
              "\n",
              "                              augmented_text  \n",
              "52797  abc business wnes and market aanlyiss  \n",
              "98255  abc ubsiness news and market analysis  "
            ],
            "text/html": [
              "\n",
              "  <div id=\"df-504b3e50-d756-462d-9a1d-963b7d6e1d45\">\n",
              "    <div class=\"colab-df-container\">\n",
              "      <div>\n",
              "<style scoped>\n",
              "    .dataframe tbody tr th:only-of-type {\n",
              "        vertical-align: middle;\n",
              "    }\n",
              "\n",
              "    .dataframe tbody tr th {\n",
              "        vertical-align: top;\n",
              "    }\n",
              "\n",
              "    .dataframe thead th {\n",
              "        text-align: right;\n",
              "    }\n",
              "</style>\n",
              "<table border=\"1\" class=\"dataframe\">\n",
              "  <thead>\n",
              "    <tr style=\"text-align: right;\">\n",
              "      <th></th>\n",
              "      <th>text</th>\n",
              "      <th>augmented_text</th>\n",
              "    </tr>\n",
              "  </thead>\n",
              "  <tbody>\n",
              "    <tr>\n",
              "      <th>52797</th>\n",
              "      <td>abc business news and market analysis</td>\n",
              "      <td>abc business wnes and market aanlyiss</td>\n",
              "    </tr>\n",
              "    <tr>\n",
              "      <th>98255</th>\n",
              "      <td>abc business news and market analysis</td>\n",
              "      <td>abc ubsiness news and market analysis</td>\n",
              "    </tr>\n",
              "  </tbody>\n",
              "</table>\n",
              "</div>\n",
              "      <button class=\"colab-df-convert\" onclick=\"convertToInteractive('df-504b3e50-d756-462d-9a1d-963b7d6e1d45')\"\n",
              "              title=\"Convert this dataframe to an interactive table.\"\n",
              "              style=\"display:none;\">\n",
              "        \n",
              "  <svg xmlns=\"http://www.w3.org/2000/svg\" height=\"24px\"viewBox=\"0 0 24 24\"\n",
              "       width=\"24px\">\n",
              "    <path d=\"M0 0h24v24H0V0z\" fill=\"none\"/>\n",
              "    <path d=\"M18.56 5.44l.94 2.06.94-2.06 2.06-.94-2.06-.94-.94-2.06-.94 2.06-2.06.94zm-11 1L8.5 8.5l.94-2.06 2.06-.94-2.06-.94L8.5 2.5l-.94 2.06-2.06.94zm10 10l.94 2.06.94-2.06 2.06-.94-2.06-.94-.94-2.06-.94 2.06-2.06.94z\"/><path d=\"M17.41 7.96l-1.37-1.37c-.4-.4-.92-.59-1.43-.59-.52 0-1.04.2-1.43.59L10.3 9.45l-7.72 7.72c-.78.78-.78 2.05 0 2.83L4 21.41c.39.39.9.59 1.41.59.51 0 1.02-.2 1.41-.59l7.78-7.78 2.81-2.81c.8-.78.8-2.07 0-2.86zM5.41 20L4 18.59l7.72-7.72 1.47 1.35L5.41 20z\"/>\n",
              "  </svg>\n",
              "      </button>\n",
              "      \n",
              "  <style>\n",
              "    .colab-df-container {\n",
              "      display:flex;\n",
              "      flex-wrap:wrap;\n",
              "      gap: 12px;\n",
              "    }\n",
              "\n",
              "    .colab-df-convert {\n",
              "      background-color: #E8F0FE;\n",
              "      border: none;\n",
              "      border-radius: 50%;\n",
              "      cursor: pointer;\n",
              "      display: none;\n",
              "      fill: #1967D2;\n",
              "      height: 32px;\n",
              "      padding: 0 0 0 0;\n",
              "      width: 32px;\n",
              "    }\n",
              "\n",
              "    .colab-df-convert:hover {\n",
              "      background-color: #E2EBFA;\n",
              "      box-shadow: 0px 1px 2px rgba(60, 64, 67, 0.3), 0px 1px 3px 1px rgba(60, 64, 67, 0.15);\n",
              "      fill: #174EA6;\n",
              "    }\n",
              "\n",
              "    [theme=dark] .colab-df-convert {\n",
              "      background-color: #3B4455;\n",
              "      fill: #D2E3FC;\n",
              "    }\n",
              "\n",
              "    [theme=dark] .colab-df-convert:hover {\n",
              "      background-color: #434B5C;\n",
              "      box-shadow: 0px 1px 3px 1px rgba(0, 0, 0, 0.15);\n",
              "      filter: drop-shadow(0px 1px 2px rgba(0, 0, 0, 0.3));\n",
              "      fill: #FFFFFF;\n",
              "    }\n",
              "  </style>\n",
              "\n",
              "      <script>\n",
              "        const buttonEl =\n",
              "          document.querySelector('#df-504b3e50-d756-462d-9a1d-963b7d6e1d45 button.colab-df-convert');\n",
              "        buttonEl.style.display =\n",
              "          google.colab.kernel.accessAllowed ? 'block' : 'none';\n",
              "\n",
              "        async function convertToInteractive(key) {\n",
              "          const element = document.querySelector('#df-504b3e50-d756-462d-9a1d-963b7d6e1d45');\n",
              "          const dataTable =\n",
              "            await google.colab.kernel.invokeFunction('convertToInteractive',\n",
              "                                                     [key], {});\n",
              "          if (!dataTable) return;\n",
              "\n",
              "          const docLinkHtml = 'Like what you see? Visit the ' +\n",
              "            '<a target=\"_blank\" href=https://colab.research.google.com/notebooks/data_table.ipynb>data table notebook</a>'\n",
              "            + ' to learn more about interactive tables.';\n",
              "          element.innerHTML = '';\n",
              "          dataTable['output_type'] = 'display_data';\n",
              "          await google.colab.output.renderOutput(dataTable, element);\n",
              "          const docLink = document.createElement('div');\n",
              "          docLink.innerHTML = docLinkHtml;\n",
              "          element.appendChild(docLink);\n",
              "        }\n",
              "      </script>\n",
              "    </div>\n",
              "  </div>\n",
              "  "
            ]
          },
          "metadata": {},
          "execution_count": 5
        }
      ]
    },
    {
      "cell_type": "code",
      "execution_count": null,
      "metadata": {
        "id": "s5oWgBqmTp7p"
      },
      "outputs": [],
      "source": [
        "# def clean_data(text):\n",
        "#     text = text.lower()\n",
        "#     text = re.sub(r\"[-=+*\\\"#@!$%^&()`<>/[\\]]\",\"\",text)\n",
        "#     text = re.sub(r\"i'm\",\"i am\",text)\n",
        "#     text = re.sub(r\"he's\",\"he is\",text)\n",
        "#     text = re.sub(r\"she's\",\"she is\",text)\n",
        "#     text = re.sub(r\"it's\",\"it is\",text)\n",
        "#     text = re.sub(r\"they're\",\"they are\",text)\n",
        "#     text = re.sub(r\"there're\",\"there are\",text)\n",
        "#     text = re.sub(r\"there's\",\"there is\",text)\n",
        "#     text = re.sub(r\"how're\",\"how are\",text)\n",
        "#     text = re.sub(r\"what're\",\"what are\",text)\n",
        "#     text = re.sub(r\"where're\",\"where \",text)\n",
        "#     text = re.sub(r\"who're\",\"who are\",text)\n",
        "#     text = re.sub(r\"that're\",\"that are\",text)\n",
        "#     text = re.sub(r\"when're\",\"when are\",text)\n",
        "#     text = re.sub(r\"how's\",\"how is\",text)\n",
        "#     text = re.sub(r\"what's\",\"what is\",text)\n",
        "#     text = re.sub(r\"where's\",\"where is\",text)\n",
        "#     text = re.sub(r\"who's\",\"who is\",text)\n",
        "#     text = re.sub(r\"that's\",\"that is\",text)\n",
        "#     text = re.sub(r\"when's\",\"when is\",text)\n",
        "#     text = re.sub(r\"won't\",\"would not\",text)\n",
        "#     text = re.sub(r\"nt't\",\"can not\",text)\n",
        "#     text = re.sub(r\"\\'bout'\",\"about\",text)\n",
        "#     text = re.sub(r\"\\'till'\",\"untill\",text)\n",
        "#     text = re.sub(r\"\\'ll\",\"will\",text)\n",
        "#     text = re.sub(r\"\\'ve\",\"have\",text)\n",
        "#     text = re.sub(r\"\\'re\",\"are\",text)\n",
        "#     text = re.sub(r\"\\'d\",\"would\",text)\n",
        "#     text = re.sub(r\"\\.\",\" \",text)\n",
        "#     text = re.sub(r\"\\,\",\" \",text)\n",
        "#     text = re.sub(r\"\\!\",\" \",text)\n",
        "#     text = re.sub(r\"\\?\",\" \",text)\n",
        "#     text = re.sub(r\"\\;\",\" \",text)\n",
        "#     text = re.sub(r\"\\:\",\" \",text)\n",
        "#     return text\n",
        "\n",
        "    \n",
        "# df_train['text'] = df_train['text'].apply(clean_data)\n",
        "# df_train['augmented_text'] = df_train['augmented_text'].apply(clean_data)\n",
        "# df_val['text'] = df_val['text'].apply(clean_data)\n",
        "# df_val['augmented_text'] = df_val['augmented_text'].apply(clean_data)\n",
        "# df_test['text'] = df_test['text'].apply(clean_data)\n",
        "# df_test['augmented_text'] = df_test['augmented_text'].apply(clean_data)\n",
        "# data = pd.concat([df_train,df_val,df_test])\n"
      ]
    },
    {
      "cell_type": "code",
      "execution_count": null,
      "metadata": {
        "id": "cBBa1A3aw0e2"
      },
      "outputs": [],
      "source": [
        "# data.to_csv('/content/drive/MyDrive/Colab_Notebooks/data.csv',index=False,)"
      ]
    },
    {
      "cell_type": "code",
      "execution_count": null,
      "metadata": {
        "id": "9Rr916ahpnUm"
      },
      "outputs": [],
      "source": [
        "#data.csv is being pre-process to save time for training\n",
        "data = pd.read_csv('/content/drive/MyDrive/Colab_Notebooks/data.csv')"
      ]
    },
    {
      "cell_type": "code",
      "source": [
        "print(data.isnull().sum())\n",
        "data = data.drop_duplicates(subset=['augmented_text'])\n",
        "# data = (data[data[\"augmented_text\"] != \"name\"])\n",
        "print(data.duplicated().sum())"
      ],
      "metadata": {
        "colab": {
          "base_uri": "https://localhost:8080/"
        },
        "id": "BV4K4JPt-bXI",
        "outputId": "d7f95e83-dd2b-4d85-c6f3-af626f3ec6eb"
      },
      "execution_count": null,
      "outputs": [
        {
          "output_type": "stream",
          "name": "stdout",
          "text": [
            "text              0\n",
            "augmented_text    0\n",
            "dtype: int64\n",
            "0\n"
          ]
        }
      ]
    },
    {
      "cell_type": "code",
      "execution_count": null,
      "metadata": {
        "id": "p8yRxvmbUQNu"
      },
      "outputs": [],
      "source": [
        "max_length = 8"
      ]
    },
    {
      "cell_type": "code",
      "execution_count": null,
      "metadata": {
        "id": "oFwaj7r9rIZP"
      },
      "outputs": [],
      "source": [
        "df = data[data['text'].apply(lambda x: len(x.split(\" \"))< max_length +1)]"
      ]
    },
    {
      "cell_type": "code",
      "source": [
        "df.describe()"
      ],
      "metadata": {
        "colab": {
          "base_uri": "https://localhost:8080/",
          "height": 175
        },
        "id": "NPdf-5Hn7RET",
        "outputId": "43c04913-a531-41e6-8ee2-607afd093044"
      },
      "execution_count": null,
      "outputs": [
        {
          "output_type": "execute_result",
          "data": {
            "text/plain": [
              "                                         text  \\\n",
              "count                                  848707   \n",
              "unique                                 841401   \n",
              "top     abc business news and market analysis   \n",
              "freq                                      516   \n",
              "\n",
              "                                           augmented_text  \n",
              "count                                              848707  \n",
              "unique                                             848707  \n",
              "top      1 billion darling hsarfbour redeevelopment p3...  \n",
              "freq                                                    1  "
            ],
            "text/html": [
              "\n",
              "  <div id=\"df-521d7b15-0e4d-4eba-a64f-380b21c3ef1c\">\n",
              "    <div class=\"colab-df-container\">\n",
              "      <div>\n",
              "<style scoped>\n",
              "    .dataframe tbody tr th:only-of-type {\n",
              "        vertical-align: middle;\n",
              "    }\n",
              "\n",
              "    .dataframe tbody tr th {\n",
              "        vertical-align: top;\n",
              "    }\n",
              "\n",
              "    .dataframe thead th {\n",
              "        text-align: right;\n",
              "    }\n",
              "</style>\n",
              "<table border=\"1\" class=\"dataframe\">\n",
              "  <thead>\n",
              "    <tr style=\"text-align: right;\">\n",
              "      <th></th>\n",
              "      <th>text</th>\n",
              "      <th>augmented_text</th>\n",
              "    </tr>\n",
              "  </thead>\n",
              "  <tbody>\n",
              "    <tr>\n",
              "      <th>count</th>\n",
              "      <td>848707</td>\n",
              "      <td>848707</td>\n",
              "    </tr>\n",
              "    <tr>\n",
              "      <th>unique</th>\n",
              "      <td>841401</td>\n",
              "      <td>848707</td>\n",
              "    </tr>\n",
              "    <tr>\n",
              "      <th>top</th>\n",
              "      <td>abc business news and market analysis</td>\n",
              "      <td>1 billion darling hsarfbour redeevelopment p3...</td>\n",
              "    </tr>\n",
              "    <tr>\n",
              "      <th>freq</th>\n",
              "      <td>516</td>\n",
              "      <td>1</td>\n",
              "    </tr>\n",
              "  </tbody>\n",
              "</table>\n",
              "</div>\n",
              "      <button class=\"colab-df-convert\" onclick=\"convertToInteractive('df-521d7b15-0e4d-4eba-a64f-380b21c3ef1c')\"\n",
              "              title=\"Convert this dataframe to an interactive table.\"\n",
              "              style=\"display:none;\">\n",
              "        \n",
              "  <svg xmlns=\"http://www.w3.org/2000/svg\" height=\"24px\"viewBox=\"0 0 24 24\"\n",
              "       width=\"24px\">\n",
              "    <path d=\"M0 0h24v24H0V0z\" fill=\"none\"/>\n",
              "    <path d=\"M18.56 5.44l.94 2.06.94-2.06 2.06-.94-2.06-.94-.94-2.06-.94 2.06-2.06.94zm-11 1L8.5 8.5l.94-2.06 2.06-.94-2.06-.94L8.5 2.5l-.94 2.06-2.06.94zm10 10l.94 2.06.94-2.06 2.06-.94-2.06-.94-.94-2.06-.94 2.06-2.06.94z\"/><path d=\"M17.41 7.96l-1.37-1.37c-.4-.4-.92-.59-1.43-.59-.52 0-1.04.2-1.43.59L10.3 9.45l-7.72 7.72c-.78.78-.78 2.05 0 2.83L4 21.41c.39.39.9.59 1.41.59.51 0 1.02-.2 1.41-.59l7.78-7.78 2.81-2.81c.8-.78.8-2.07 0-2.86zM5.41 20L4 18.59l7.72-7.72 1.47 1.35L5.41 20z\"/>\n",
              "  </svg>\n",
              "      </button>\n",
              "      \n",
              "  <style>\n",
              "    .colab-df-container {\n",
              "      display:flex;\n",
              "      flex-wrap:wrap;\n",
              "      gap: 12px;\n",
              "    }\n",
              "\n",
              "    .colab-df-convert {\n",
              "      background-color: #E8F0FE;\n",
              "      border: none;\n",
              "      border-radius: 50%;\n",
              "      cursor: pointer;\n",
              "      display: none;\n",
              "      fill: #1967D2;\n",
              "      height: 32px;\n",
              "      padding: 0 0 0 0;\n",
              "      width: 32px;\n",
              "    }\n",
              "\n",
              "    .colab-df-convert:hover {\n",
              "      background-color: #E2EBFA;\n",
              "      box-shadow: 0px 1px 2px rgba(60, 64, 67, 0.3), 0px 1px 3px 1px rgba(60, 64, 67, 0.15);\n",
              "      fill: #174EA6;\n",
              "    }\n",
              "\n",
              "    [theme=dark] .colab-df-convert {\n",
              "      background-color: #3B4455;\n",
              "      fill: #D2E3FC;\n",
              "    }\n",
              "\n",
              "    [theme=dark] .colab-df-convert:hover {\n",
              "      background-color: #434B5C;\n",
              "      box-shadow: 0px 1px 3px 1px rgba(0, 0, 0, 0.15);\n",
              "      filter: drop-shadow(0px 1px 2px rgba(0, 0, 0, 0.3));\n",
              "      fill: #FFFFFF;\n",
              "    }\n",
              "  </style>\n",
              "\n",
              "      <script>\n",
              "        const buttonEl =\n",
              "          document.querySelector('#df-521d7b15-0e4d-4eba-a64f-380b21c3ef1c button.colab-df-convert');\n",
              "        buttonEl.style.display =\n",
              "          google.colab.kernel.accessAllowed ? 'block' : 'none';\n",
              "\n",
              "        async function convertToInteractive(key) {\n",
              "          const element = document.querySelector('#df-521d7b15-0e4d-4eba-a64f-380b21c3ef1c');\n",
              "          const dataTable =\n",
              "            await google.colab.kernel.invokeFunction('convertToInteractive',\n",
              "                                                     [key], {});\n",
              "          if (!dataTable) return;\n",
              "\n",
              "          const docLinkHtml = 'Like what you see? Visit the ' +\n",
              "            '<a target=\"_blank\" href=https://colab.research.google.com/notebooks/data_table.ipynb>data table notebook</a>'\n",
              "            + ' to learn more about interactive tables.';\n",
              "          element.innerHTML = '';\n",
              "          dataTable['output_type'] = 'display_data';\n",
              "          await google.colab.output.renderOutput(dataTable, element);\n",
              "          const docLink = document.createElement('div');\n",
              "          docLink.innerHTML = docLinkHtml;\n",
              "          element.appendChild(docLink);\n",
              "        }\n",
              "      </script>\n",
              "    </div>\n",
              "  </div>\n",
              "  "
            ]
          },
          "metadata": {},
          "execution_count": 12
        }
      ]
    },
    {
      "cell_type": "code",
      "execution_count": null,
      "metadata": {
        "id": "X4xURgshSrpT"
      },
      "outputs": [],
      "source": [
        "# df = df[:82000]\n",
        "train_df = df['augmented_text']\n",
        "test_df = df['text']\n",
        "from sklearn.model_selection import train_test_split\n",
        "train_x, test_x, train_y, test_y = train_test_split(train_df, test_df, test_size=0.27, random_state=42)\n",
        "val_x, test_x,val_y, test_y = train_test_split(test_x, test_y, test_size = 0.5, random_state=24)\n"
      ]
    },
    {
      "cell_type": "code",
      "execution_count": null,
      "metadata": {
        "colab": {
          "base_uri": "https://localhost:8080/"
        },
        "id": "IZMTBLH1H-U7",
        "outputId": "ef1553b3-6a9d-4618-c5b9-2ff265dc7b2b"
      },
      "outputs": [
        {
          "output_type": "execute_result",
          "data": {
            "text/plain": [
              "63521               bali blast survivors gac infection dosk\n",
              "608666                     seocdn aussie in strife at gaesm\n",
              "92482     brisbane photographer hcagred whit 79 sex ofef...\n",
              "298666               hard orwk by enwcastel police apsy off\n",
              "202405       drone used to redorv intensive fz3m lroductjon\n",
              "                                ...                        \n",
              "310255         hogan ateks tax docmunet fight to high cortu\n",
              "440072    mount laexadner hsier to vote on oposl management\n",
              "159128           conucli cracks down on yacht cubl drnikign\n",
              "810630       condamine indeendnt accuses lnp of drt6 tfickw\n",
              "147551             compo order cotur urlnig unlawful arrest\n",
              "Name: augmented_text, Length: 619556, dtype: object"
            ]
          },
          "metadata": {},
          "execution_count": 14
        }
      ],
      "source": [
        "train_x"
      ]
    },
    {
      "cell_type": "code",
      "execution_count": null,
      "metadata": {
        "colab": {
          "base_uri": "https://localhost:8080/"
        },
        "id": "inUltHgQ191H",
        "outputId": "2b398c86-a936-41fb-bb7c-7eaf2790b93d"
      },
      "outputs": [
        {
          "output_type": "execute_result",
          "data": {
            "text/plain": [
              "63521              bali blast survivors face infection risk\n",
              "608666                     second aussie in strife at games\n",
              "92482     brisbane photographer charged with 79 sex offe...\n",
              "298666               hard work by newcastle police pays off\n",
              "202405       drone used to record intensive farm production\n",
              "                                ...                        \n",
              "310255         hogan takes tax document fight to high court\n",
              "440072    mount alexander shire to vote on pools management\n",
              "159128           council cracks down on yacht club drinking\n",
              "810630    condamine independent accuses lnp of dirty tricks\n",
              "147551             compo order court ruling unlawful arrest\n",
              "Name: text, Length: 619556, dtype: object"
            ]
          },
          "metadata": {},
          "execution_count": 15
        }
      ],
      "source": [
        "train_y"
      ]
    },
    {
      "cell_type": "code",
      "execution_count": null,
      "metadata": {
        "id": "sTa8D0WfT1gf"
      },
      "outputs": [],
      "source": [
        "\n",
        "g_text_tokenizer = Tokenizer()\n",
        "g_text_tokenizer.fit_on_texts(train_x)\n",
        "g_text_word_index = g_text_tokenizer.word_index\n",
        "train_sequences = g_text_tokenizer.texts_to_sequences(train_x)\n",
        "train_padded = pad_sequences(train_sequences, maxlen = max_length, padding='post')\n",
        "\n",
        "\n",
        "text_tokenizer = Tokenizer()\n",
        "text_tokenizer.fit_on_texts(train_y)\n",
        "text_word_index = text_tokenizer.word_index\n",
        "test_sequences = text_tokenizer.texts_to_sequences(train_y)\n",
        "test_padded = pad_sequences(test_sequences,maxlen = max_length, padding='post')\n",
        "\n",
        "\n",
        "\n"
      ]
    },
    {
      "cell_type": "code",
      "execution_count": null,
      "metadata": {
        "id": "4PWLtCPyLNVJ"
      },
      "outputs": [],
      "source": [
        "val_train_sequences = g_text_tokenizer.texts_to_sequences(val_x)\n",
        "val_train_padded = pad_sequences(val_train_sequences, maxlen = max_length, padding='post')\n",
        "\n",
        "val_test_sequences = text_tokenizer.texts_to_sequences(val_y)\n",
        "val_test_padded = pad_sequences(val_test_sequences, maxlen = max_length, padding='post')"
      ]
    },
    {
      "cell_type": "code",
      "execution_count": null,
      "metadata": {
        "colab": {
          "base_uri": "https://localhost:8080/"
        },
        "id": "npA5T2pATdEK",
        "outputId": "302eb7c2-a67d-483a-f9dc-5fe385c76501"
      },
      "outputs": [
        {
          "output_type": "stream",
          "name": "stdout",
          "text": [
            "854284 79749\n"
          ]
        }
      ],
      "source": [
        "g_vocab_size = len(g_text_word_index)+1\n",
        "vocab_size = len(text_word_index)+1\n",
        "print(g_vocab_size, vocab_size)"
      ]
    },
    {
      "cell_type": "code",
      "source": [
        "voc = [\"Text Vocabulary\", \"Augmented Text Vocabulary\"]\n",
        "voc_count = [vocab_size, g_vocab_size]\n",
        "\n",
        "plt.bar(voc, voc_count, width = 0.4)\n",
        "plt.title(\"Vocabulary Graph\")\n",
        "plt.show()"
      ],
      "metadata": {
        "colab": {
          "base_uri": "https://localhost:8080/",
          "height": 281
        },
        "id": "9EspCkMbCKx_",
        "outputId": "b41d69df-60e9-4ffb-86d2-3bd4bd2c7ec6"
      },
      "execution_count": null,
      "outputs": [
        {
          "output_type": "display_data",
          "data": {
            "text/plain": [
              "<Figure size 432x288 with 1 Axes>"
            ],
            "image/png": "[encoded data removed]"
          },
          "metadata": {
            "needs_background": "light"
          }
        }
      ]
    },
    {
      "cell_type": "code",
      "execution_count": null,
      "metadata": {
        "id": "eVK8H4m5dqdD"
      },
      "outputs": [],
      "source": [
        "temp_test_padded = test_padded.reshape((test_padded.shape[0], test_padded.shape[1],1))\n"
      ]
    },
    {
      "cell_type": "code",
      "execution_count": null,
      "metadata": {
        "id": "msrdgdWvea79"
      },
      "outputs": [],
      "source": [
        "epoch = 20"
      ]
    },
    {
      "cell_type": "code",
      "execution_count": null,
      "metadata": {
        "id": "SZQ9fpBZdf5j",
        "colab": {
          "base_uri": "https://localhost:8080/"
        },
        "outputId": "ae8f1386-fade-4d9f-9d40-c64d45ec1dd3"
      },
      "outputs": [
        {
          "output_type": "stream",
          "name": "stdout",
          "text": [
            "Model: \"sequential\"\n",
            "____________________________________________________________________________\n",
            " Layer (type)                Output Shape              Param #   Trainable  \n",
            "============================================================================\n",
            " embedding (Embedding)       (None, 8, 64)             54674176  Y          \n",
            "                                                                            \n",
            " lstm (LSTM)                 (None, 64)                33024     Y          \n",
            "                                                                            \n",
            " batch_normalization (BatchN  (None, 64)               256       Y          \n",
            " ormalization)                                                              \n",
            "                                                                            \n",
            " repeat_vector (RepeatVector  (None, 8, 64)            0         Y          \n",
            " )                                                                          \n",
            "                                                                            \n",
            " lstm_1 (LSTM)               (None, 8, 64)             33024     Y          \n",
            "                                                                            \n",
            " lstm_2 (LSTM)               (None, 8, 64)             33024     Y          \n",
            "                                                                            \n",
            " dropout (Dropout)           (None, 8, 64)             0         Y          \n",
            "                                                                            \n",
            " dense (Dense)               (None, 8, 79749)          5183685   Y          \n",
            "                                                                            \n",
            "============================================================================\n",
            "Total params: 59,957,189\n",
            "Trainable params: 59,957,061\n",
            "Non-trainable params: 128\n",
            "____________________________________________________________________________\n"
          ]
        }
      ],
      "source": [
        "# Reference from this paper, \"Towards better decoding and language model integration in sequence to sequence models\" https://arxiv.org/abs/1612.02695 and this video https://www.youtube.com/watch?v=QuvRWevJMZ4\n",
        "\n",
        "model_2 = tf.keras.Sequential([\n",
        "    tf.keras.layers.Embedding(input_dim=g_vocab_size, output_dim=64, input_length=max_length, mask_zero=True),\n",
        "    tf.keras.layers.LSTM(64),\n",
        "    tf.keras.layers.BatchNormalization(),\n",
        "    tf.keras.layers.RepeatVector(max_length),\n",
        "    tf.keras.layers.LSTM(64,return_sequences=True),\n",
        "    tf.keras.layers.LSTM(64,return_sequences=True),\n",
        "    # tf.keras.layers.LSTM(128,return_sequences=True),\n",
        "    tf.keras.layers.Dropout(0.3),\n",
        "    tf.keras.layers.Dense(vocab_size,activation='softmax')\n",
        "])\n",
        "learning_rate = 0.001\n",
        "# learning_rate = 0.0001\n",
        "optimizer = tf.keras.optimizers.Adam(learning_rate)\n",
        "\n",
        "# optimizer = tf.keras.optimizers.RMSprop(learning_rate)\n",
        "# optimizer = tf.keras.mixed_precision.LossScaleOptimizer(optimizer)\n",
        "model_2.compile(loss=\"sparse_categorical_crossentropy\",\n",
        "              optimizer=optimizer,\n",
        "              metrics=['accuracy'])\n",
        "model_2.summary(expand_nested=True,\n",
        "    show_trainable=True)"
      ]
    },
    {
      "cell_type": "code",
      "execution_count": null,
      "metadata": {
        "id": "yRMWtjUzhr4u",
        "colab": {
          "base_uri": "https://localhost:8080/",
          "height": 959
        },
        "outputId": "295fafd6-363a-49c6-ced3-75f7bb1ae016"
      },
      "outputs": [
        {
          "output_type": "stream",
          "name": "stdout",
          "text": [
            "Epoch 1/20\n",
            "1211/1211 [==============================] - 386s 309ms/step - loss: 7.2011 - accuracy: 0.1957 - val_loss: 7.0315 - val_accuracy: 0.2142\n",
            "Epoch 2/20\n",
            "1211/1211 [==============================] - 376s 310ms/step - loss: 6.5009 - accuracy: 0.2170 - val_loss: 7.1123 - val_accuracy: 0.2231\n",
            "Epoch 3/20\n",
            "1211/1211 [==============================] - 376s 310ms/step - loss: 5.9565 - accuracy: 0.2532 - val_loss: 6.8358 - val_accuracy: 0.2558\n",
            "Epoch 4/20\n",
            "1211/1211 [==============================] - 375s 310ms/step - loss: 5.3395 - accuracy: 0.2987 - val_loss: 6.7264 - val_accuracy: 0.2876\n",
            "Epoch 5/20\n",
            "1211/1211 [==============================] - 376s 310ms/step - loss: 4.6786 - accuracy: 0.3456 - val_loss: 6.6351 - val_accuracy: 0.3143\n",
            "Epoch 6/20\n",
            "1211/1211 [==============================] - 377s 311ms/step - loss: 4.0560 - accuracy: 0.3993 - val_loss: 6.9341 - val_accuracy: 0.3538\n",
            "Epoch 7/20\n",
            "1211/1211 [==============================] - 376s 311ms/step - loss: 3.4989 - accuracy: 0.4589 - val_loss: 7.2909 - val_accuracy: 0.3927\n",
            "Epoch 8/20\n",
            "1211/1211 [==============================] - 377s 311ms/step - loss: 3.0239 - accuracy: 0.5168 - val_loss: 7.4475 - val_accuracy: 0.4304\n",
            "Epoch 9/20\n",
            "1211/1211 [==============================] - 377s 311ms/step - loss: 2.6130 - accuracy: 0.5732 - val_loss: 7.9228 - val_accuracy: 0.4563\n",
            "Epoch 10/20\n",
            "1211/1211 [==============================] - 377s 311ms/step - loss: 2.2706 - accuracy: 0.6235 - val_loss: 8.2890 - val_accuracy: 0.4706\n",
            "Epoch 11/20\n",
            "1211/1211 [==============================] - 377s 311ms/step - loss: 1.9902 - accuracy: 0.6665 - val_loss: 8.2279 - val_accuracy: 0.4644\n",
            "Epoch 12/20\n",
            "1211/1211 [==============================] - 377s 311ms/step - loss: 1.7612 - accuracy: 0.7023 - val_loss: 9.3158 - val_accuracy: 0.4563\n",
            "Epoch 13/20\n",
            "1211/1211 [==============================] - 377s 311ms/step - loss: 1.5667 - accuracy: 0.7332 - val_loss: 8.8044 - val_accuracy: 0.5045\n",
            "Epoch 14/20\n",
            "1211/1211 [==============================] - 377s 311ms/step - loss: 1.4069 - accuracy: 0.7586 - val_loss: 9.2298 - val_accuracy: 0.5321\n",
            "Epoch 15/20\n",
            "1211/1211 [==============================] - 377s 311ms/step - loss: 1.2727 - accuracy: 0.7801 - val_loss: 9.4582 - val_accuracy: 0.5304\n",
            "Epoch 16/20\n",
            "1211/1211 [==============================] - 376s 311ms/step - loss: 1.1590 - accuracy: 0.7983 - val_loss: 9.5856 - val_accuracy: 0.5378\n",
            "Epoch 17/20\n",
            "1211/1211 [==============================] - 377s 311ms/step - loss: 1.0639 - accuracy: 0.8134 - val_loss: 9.8574 - val_accuracy: 0.5460\n",
            "Epoch 18/20\n",
            "1211/1211 [==============================] - 377s 311ms/step - loss: 0.9797 - accuracy: 0.8271 - val_loss: 10.0133 - val_accuracy: 0.5488\n",
            "Epoch 19/20\n",
            "1211/1211 [==============================] - 376s 311ms/step - loss: 0.9074 - accuracy: 0.8389 - val_loss: 9.8389 - val_accuracy: 0.5328\n",
            "Epoch 20/20\n",
            "1211/1211 [==============================] - 376s 311ms/step - loss: 0.8478 - accuracy: 0.8482 - val_loss: 10.3792 - val_accuracy: 0.5489\n"
          ]
        },
        {
          "output_type": "display_data",
          "data": {
            "text/plain": [
              "<Figure size 432x288 with 1 Axes>"
            ],
            "image/png": "[encoded data removed]"
          },
          "metadata": {
            "needs_background": "light"
          }
        }
      ],
      "source": [
        "his_2 = model_2.fit(train_padded, test_padded, batch_size=512, epochs=epoch, validation_data = (val_train_padded, val_test_padded))\n",
        "\n",
        "plt.plot(his_2.history['loss'])\n",
        "plt.plot(his_2.history['val_loss'])\n",
        "plt.legend(['train','validation'])\n",
        "plt.show()"
      ]
    },
    {
      "cell_type": "code",
      "source": [
        "train_accuracy = his_2.history['accuracy']\n",
        "val_accuracy = his_2.history['val_accuracy']\n",
        "print(\"The training accuracy is \", train_accuracy[-1])\n",
        "print(\"The val accuracy is \", val_accuracy[-1])"
      ],
      "metadata": {
        "colab": {
          "base_uri": "https://localhost:8080/"
        },
        "id": "_cdUZ1BnlXO1",
        "outputId": "f762afaa-e994-4bb0-d3ea-95765d00cc32"
      },
      "execution_count": null,
      "outputs": [
        {
          "output_type": "stream",
          "name": "stdout",
          "text": [
            "The training accuracy is  0.8481711149215698\n",
            "The val accuracy is  0.5489199161529541\n"
          ]
        }
      ]
    },
    {
      "cell_type": "code",
      "execution_count": null,
      "metadata": {
        "id": "ADAyQCdl7mmw"
      },
      "outputs": [],
      "source": [
        "# model.save('/content/drive/MyDrive/Colab_Notebooks/accuracy_84_3lstm_rnn_8inputlength')"
      ]
    },
    {
      "cell_type": "code",
      "execution_count": null,
      "metadata": {
        "id": "KpGWAIiQUe0_"
      },
      "outputs": [],
      "source": [
        "test_sample = test_x.iloc[:10]\n",
        "test_sample = g_text_tokenizer.texts_to_sequences(test_sample)\n",
        "test_sample = pad_sequences(test_sample, maxlen=max_length, padding='post')\n"
      ]
    },
    {
      "cell_type": "code",
      "execution_count": null,
      "metadata": {
        "id": "wUHeCyCM02he"
      },
      "outputs": [],
      "source": [
        "test_x.iloc[:10]"
      ]
    },
    {
      "cell_type": "code",
      "execution_count": null,
      "metadata": {
        "id": "o48mfKmhsDv0"
      },
      "outputs": [],
      "source": [
        "test_y.iloc[:10]"
      ]
    },
    {
      "cell_type": "code",
      "execution_count": null,
      "metadata": {
        "id": "kvPsR8hHEQq9"
      },
      "outputs": [],
      "source": [
        "pre = model_2.predict(test_sample)\n",
        "def deTokenize(logits):\n",
        "    index_to_words = {id: word for word, id in text_tokenizer.word_index.items()}\n",
        "    index_to_words[0] = ''\n",
        "    pre_index = np.argmax(logits, 1)\n",
        "    return ' '.join(index_to_words[prediction] for prediction in pre_index)\n",
        "predict = []\n",
        "for i in range(10):\n",
        "  predict.append(deTokenize(pre[i]))"
      ]
    },
    {
      "cell_type": "code",
      "execution_count": null,
      "metadata": {
        "id": "LCXcto7u1iTa",
        "colab": {
          "base_uri": "https://localhost:8080/",
          "height": 363
        },
        "outputId": "f9ca88b1-ed72-40a4-86f1-9fd0827e33ca"
      },
      "outputs": [
        {
          "output_type": "execute_result",
          "data": {
            "text/plain": [
              "                                                    input  \\\n",
              "240337             fialn decision about pambula mtaerniyt   \n",
              "648707        surpe saturday ybleections chart of the day   \n",
              "82067              bloody brawl results in srroous injugh   \n",
              "622925                    sixers upbeat depstie poor form   \n",
              "104905       businesses fofer uspport to rallying farmers   \n",
              "206660                   eales wouldnt irks hjons signing   \n",
              "612675      esrivce will suffre cbeause of job cuts union   \n",
              "37137                aaphce to edvleop balnaves oil field   \n",
              "714474                    us rnvog visits kabul for taoms   \n",
              "860700  biketawa plus concept nfexs fautios consideration   \n",
              "\n",
              "                                                   output  \\\n",
              "240337             final decision about pambula maternity   \n",
              "648707        super saturday byelections chart of the day   \n",
              "82067              bloody brawl results in serious injury   \n",
              "622925                    sixers upbeat despite poor form   \n",
              "104905       businesses offer support to rallying farmers   \n",
              "206660                   eales wouldnt risk johns signing   \n",
              "612675      service will suffer because of job cuts union   \n",
              "37137                apache to develop balnaves oil field   \n",
              "714474                    us envoy visits kabul for talks   \n",
              "860700  biketawa plus concept needs cautious considera...   \n",
              "\n",
              "                                               predict  \n",
              "240337       final decision about tarkine maternity     \n",
              "648707               super saturday focus of the day    \n",
              "82067                      bloody brawl results in      \n",
              "622925              sixers upbeat despite poor form     \n",
              "104905  businesses offer support to italians farmers    \n",
              "206660        winton decides conflict johns signing     \n",
              "612675          service will suffer of job cuts union   \n",
              "37137                 to develop lonsdale oil field     \n",
              "714474                    us visits kabul for talks     \n",
              "860700                      looming distribution        "
            ],
            "text/html": [
              "\n",
              "  <div id=\"df-6e88cbd0-e6ee-4070-b602-a4a89768d18c\">\n",
              "    <div class=\"colab-df-container\">\n",
              "      <div>\n",
              "<style scoped>\n",
              "    .dataframe tbody tr th:only-of-type {\n",
              "        vertical-align: middle;\n",
              "    }\n",
              "\n",
              "    .dataframe tbody tr th {\n",
              "        vertical-align: top;\n",
              "    }\n",
              "\n",
              "    .dataframe thead th {\n",
              "        text-align: right;\n",
              "    }\n",
              "</style>\n",
              "<table border=\"1\" class=\"dataframe\">\n",
              "  <thead>\n",
              "    <tr style=\"text-align: right;\">\n",
              "      <th></th>\n",
              "      <th>input</th>\n",
              "      <th>output</th>\n",
              "      <th>predict</th>\n",
              "    </tr>\n",
              "  </thead>\n",
              "  <tbody>\n",
              "    <tr>\n",
              "      <th>240337</th>\n",
              "      <td>fialn decision about pambula mtaerniyt</td>\n",
              "      <td>final decision about pambula maternity</td>\n",
              "      <td>final decision about tarkine maternity</td>\n",
              "    </tr>\n",
              "    <tr>\n",
              "      <th>648707</th>\n",
              "      <td>surpe saturday ybleections chart of the day</td>\n",
              "      <td>super saturday byelections chart of the day</td>\n",
              "      <td>super saturday focus of the day</td>\n",
              "    </tr>\n",
              "    <tr>\n",
              "      <th>82067</th>\n",
              "      <td>bloody brawl results in srroous injugh</td>\n",
              "      <td>bloody brawl results in serious injury</td>\n",
              "      <td>bloody brawl results in</td>\n",
              "    </tr>\n",
              "    <tr>\n",
              "      <th>622925</th>\n",
              "      <td>sixers upbeat depstie poor form</td>\n",
              "      <td>sixers upbeat despite poor form</td>\n",
              "      <td>sixers upbeat despite poor form</td>\n",
              "    </tr>\n",
              "    <tr>\n",
              "      <th>104905</th>\n",
              "      <td>businesses fofer uspport to rallying farmers</td>\n",
              "      <td>businesses offer support to rallying farmers</td>\n",
              "      <td>businesses offer support to italians farmers</td>\n",
              "    </tr>\n",
              "    <tr>\n",
              "      <th>206660</th>\n",
              "      <td>eales wouldnt irks hjons signing</td>\n",
              "      <td>eales wouldnt risk johns signing</td>\n",
              "      <td>winton decides conflict johns signing</td>\n",
              "    </tr>\n",
              "    <tr>\n",
              "      <th>612675</th>\n",
              "      <td>esrivce will suffre cbeause of job cuts union</td>\n",
              "      <td>service will suffer because of job cuts union</td>\n",
              "      <td>service will suffer of job cuts union</td>\n",
              "    </tr>\n",
              "    <tr>\n",
              "      <th>37137</th>\n",
              "      <td>aaphce to edvleop balnaves oil field</td>\n",
              "      <td>apache to develop balnaves oil field</td>\n",
              "      <td>to develop lonsdale oil field</td>\n",
              "    </tr>\n",
              "    <tr>\n",
              "      <th>714474</th>\n",
              "      <td>us rnvog visits kabul for taoms</td>\n",
              "      <td>us envoy visits kabul for talks</td>\n",
              "      <td>us visits kabul for talks</td>\n",
              "    </tr>\n",
              "    <tr>\n",
              "      <th>860700</th>\n",
              "      <td>biketawa plus concept nfexs fautios consideration</td>\n",
              "      <td>biketawa plus concept needs cautious considera...</td>\n",
              "      <td>looming distribution</td>\n",
              "    </tr>\n",
              "  </tbody>\n",
              "</table>\n",
              "</div>\n",
              "      <button class=\"colab-df-convert\" onclick=\"convertToInteractive('df-6e88cbd0-e6ee-4070-b602-a4a89768d18c')\"\n",
              "              title=\"Convert this dataframe to an interactive table.\"\n",
              "              style=\"display:none;\">\n",
              "        \n",
              "  <svg xmlns=\"http://www.w3.org/2000/svg\" height=\"24px\"viewBox=\"0 0 24 24\"\n",
              "       width=\"24px\">\n",
              "    <path d=\"M0 0h24v24H0V0z\" fill=\"none\"/>\n",
              "    <path d=\"M18.56 5.44l.94 2.06.94-2.06 2.06-.94-2.06-.94-.94-2.06-.94 2.06-2.06.94zm-11 1L8.5 8.5l.94-2.06 2.06-.94-2.06-.94L8.5 2.5l-.94 2.06-2.06.94zm10 10l.94 2.06.94-2.06 2.06-.94-2.06-.94-.94-2.06-.94 2.06-2.06.94z\"/><path d=\"M17.41 7.96l-1.37-1.37c-.4-.4-.92-.59-1.43-.59-.52 0-1.04.2-1.43.59L10.3 9.45l-7.72 7.72c-.78.78-.78 2.05 0 2.83L4 21.41c.39.39.9.59 1.41.59.51 0 1.02-.2 1.41-.59l7.78-7.78 2.81-2.81c.8-.78.8-2.07 0-2.86zM5.41 20L4 18.59l7.72-7.72 1.47 1.35L5.41 20z\"/>\n",
              "  </svg>\n",
              "      </button>\n",
              "      \n",
              "  <style>\n",
              "    .colab-df-container {\n",
              "      display:flex;\n",
              "      flex-wrap:wrap;\n",
              "      gap: 12px;\n",
              "    }\n",
              "\n",
              "    .colab-df-convert {\n",
              "      background-color: #E8F0FE;\n",
              "      border: none;\n",
              "      border-radius: 50%;\n",
              "      cursor: pointer;\n",
              "      display: none;\n",
              "      fill: #1967D2;\n",
              "      height: 32px;\n",
              "      padding: 0 0 0 0;\n",
              "      width: 32px;\n",
              "    }\n",
              "\n",
              "    .colab-df-convert:hover {\n",
              "      background-color: #E2EBFA;\n",
              "      box-shadow: 0px 1px 2px rgba(60, 64, 67, 0.3), 0px 1px 3px 1px rgba(60, 64, 67, 0.15);\n",
              "      fill: #174EA6;\n",
              "    }\n",
              "\n",
              "    [theme=dark] .colab-df-convert {\n",
              "      background-color: #3B4455;\n",
              "      fill: #D2E3FC;\n",
              "    }\n",
              "\n",
              "    [theme=dark] .colab-df-convert:hover {\n",
              "      background-color: #434B5C;\n",
              "      box-shadow: 0px 1px 3px 1px rgba(0, 0, 0, 0.15);\n",
              "      filter: drop-shadow(0px 1px 2px rgba(0, 0, 0, 0.3));\n",
              "      fill: #FFFFFF;\n",
              "    }\n",
              "  </style>\n",
              "\n",
              "      <script>\n",
              "        const buttonEl =\n",
              "          document.querySelector('#df-6e88cbd0-e6ee-4070-b602-a4a89768d18c button.colab-df-convert');\n",
              "        buttonEl.style.display =\n",
              "          google.colab.kernel.accessAllowed ? 'block' : 'none';\n",
              "\n",
              "        async function convertToInteractive(key) {\n",
              "          const element = document.querySelector('#df-6e88cbd0-e6ee-4070-b602-a4a89768d18c');\n",
              "          const dataTable =\n",
              "            await google.colab.kernel.invokeFunction('convertToInteractive',\n",
              "                                                     [key], {});\n",
              "          if (!dataTable) return;\n",
              "\n",
              "          const docLinkHtml = 'Like what you see? Visit the ' +\n",
              "            '<a target=\"_blank\" href=https://colab.research.google.com/notebooks/data_table.ipynb>data table notebook</a>'\n",
              "            + ' to learn more about interactive tables.';\n",
              "          element.innerHTML = '';\n",
              "          dataTable['output_type'] = 'display_data';\n",
              "          await google.colab.output.renderOutput(dataTable, element);\n",
              "          const docLink = document.createElement('div');\n",
              "          docLink.innerHTML = docLinkHtml;\n",
              "          element.appendChild(docLink);\n",
              "        }\n",
              "      </script>\n",
              "    </div>\n",
              "  </div>\n",
              "  "
            ]
          },
          "metadata": {},
          "execution_count": 28
        }
      ],
      "source": [
        "eva = pd.DataFrame({'input': test_x.iloc[:10], 'output': test_y.iloc[:10], 'predict':predict})\n",
        "eva\n"
      ]
    },
    {
      "cell_type": "code",
      "execution_count": null,
      "metadata": {
        "id": "T-6vwxhK56Uw",
        "colab": {
          "base_uri": "https://localhost:8080/"
        },
        "outputId": "68956124-2037-4869-c14d-ca6f96b0b8c8"
      },
      "outputs": [
        {
          "output_type": "stream",
          "name": "stdout",
          "text": [
            "Iutput:     fialn decision about pambula mtaerniyt\n",
            "Actual:     final decision about pambula maternity\n",
            "Predicted:  final decision about tarkine maternity   \n"
          ]
        }
      ],
      "source": [
        "print(\"Iutput:    \",test_x.iloc[0])\n",
        "print(\"Actual:    \",test_y.iloc[0])\n",
        "print(\"Predicted: \",deTokenize(pre[0]))"
      ]
    }
  ],
  "metadata": {
    "accelerator": "GPU",
    "colab": {
      "collapsed_sections": [],
      "name": "method2.ipynb",
      "provenance": []
    },
    "kernelspec": {
      "display_name": "Python 3",
      "name": "python3"
    },
    "language_info": {
      "name": "python"
    }
  },
  "nbformat": 4,
  "nbformat_minor": 0
}