{
  "cells": [
    {
      "cell_type": "code",
      "execution_count": 1,
      "metadata": {
        "colab": {
          "base_uri": "https://localhost:8080/"
        },
        "id": "2NEWAoUNP8xH",
        "outputId": "87af4f5a-537e-417a-e890-23a8f41920f1"
      },
      "outputs": [
        {
          "name": "stdout",
          "output_type": "stream",
          "text": [
            "Drive already mounted at /content/drive/; to attempt to forcibly remount, call drive.mount(\"/content/drive/\", force_remount=True).\n"
          ]
        }
      ],
      "source": [
        "import tensorflow as tf\n",
        "import numpy as np\n",
        "import pandas as pd\n",
        "from keras.preprocessing.sequence import pad_sequences\n",
        "from keras.preprocessing.text import Tokenizer\n",
        "import re\n",
        "import os\n",
        "tf.__version__\n",
        "from google.colab import drive\n",
        "drive.mount('/content/drive/')"
      ]
    },
    {
      "cell_type": "code",
      "execution_count": null,
      "metadata": {},
      "outputs": [],
      "source": []
    },
    {
      "cell_type": "code",
      "execution_count": 3,
      "metadata": {
        "id": "s5oWgBqmTp7p"
      },
      "outputs": [],
      "source": [
        "# path_train = \"your train.csv file path\"\n",
        "# path_val = \"your val.csv file path\"\n",
        "\n",
        "# df_train = pd.read_csv(path_train)\n",
        "# df_val = pd.read_csv(path_val)\n",
        "# def clean_data(text):\n",
        "#     text = text.lower()\n",
        "#     text = re.sub(r\"[-=+*\\\"#@!$%^&()`<>\\[\\]]\",\"\",text)\n",
        "#     text = re.sub(r\"i'm\",\"i am\",text)\n",
        "#     text = re.sub(r\"he's\",\"he is\",text)\n",
        "#     text = re.sub(r\"she's\",\"she is\",text)\n",
        "#     text = re.sub(r\"it's\",\"it is\",text)\n",
        "#     text = re.sub(r\"they're\",\"they are\",text)\n",
        "#     text = re.sub(r\"there're\",\"there are\",text)\n",
        "#     text = re.sub(r\"there's\",\"there is\",text)\n",
        "#     text = re.sub(r\"how're\",\"how are\",text)\n",
        "#     text = re.sub(r\"what're\",\"what are\",text)\n",
        "#     text = re.sub(r\"where're\",\"where \",text)\n",
        "#     text = re.sub(r\"who're\",\"who are\",text)\n",
        "#     text = re.sub(r\"that're\",\"that are\",text)\n",
        "#     text = re.sub(r\"when're\",\"when are\",text)\n",
        "#     text = re.sub(r\"how's\",\"how is\",text)\n",
        "#     text = re.sub(r\"what's\",\"what is\",text)\n",
        "#     text = re.sub(r\"where's\",\"where is\",text)\n",
        "#     text = re.sub(r\"who's\",\"who is\",text)\n",
        "#     text = re.sub(r\"that's\",\"that is\",text)\n",
        "#     text = re.sub(r\"when's\",\"when is\",text)\n",
        "#     text = re.sub(r\"won't\",\"would not\",text)\n",
        "#     text = re.sub(r\"nt't\",\"can not\",text)\n",
        "#     text = re.sub(r\"\\'bout'\",\"about\",text)\n",
        "#     text = re.sub(r\"\\'till'\",\"untill\",text)\n",
        "#     text = re.sub(r\"\\'ll\",\"will\",text)\n",
        "#     text = re.sub(r\"\\'ve\",\"have\",text)\n",
        "#     text = re.sub(r\"\\'re\",\"are\",text)\n",
        "#     text = re.sub(r\"\\'d\",\"would\",text)\n",
        "#     text = re.sub(r\"\\.\",\" \",text)\n",
        "#     text = re.sub(r\"\\,\",\" \",text)\n",
        "#     text = re.sub(r\"\\!\",\" \",text)\n",
        "#     text = re.sub(r\"\\?\",\" \",text)\n",
        "#     text = re.sub(r\"\\;\",\" \",text)\n",
        "#     text = re.sub(r\"\\:\",\" \",text)\n",
        "#     return text\n",
        "\n",
        "    \n",
        "# df_train['text'] = df_train['text'].apply(clean_data)\n",
        "# df_train['augmented_text'] = df_train['augmented_text'].apply(clean_data)\n",
        "# df_val['text'] = df_val['text'].apply(clean_data)\n",
        "# df_val['augmented_text'] = df_val['augmented_text'].apply(clean_data)\n",
        "\n",
        "# data = pd.concat([df_train,df_val])"
      ]
    },
    {
      "cell_type": "code",
      "execution_count": null,
      "metadata": {},
      "outputs": [],
      "source": []
    },
    {
      "cell_type": "code",
      "execution_count": 4,
      "metadata": {
        "id": "9Rr916ahpnUm"
      },
      "outputs": [],
      "source": [
        "#data.csv is being pre-process to save time for training\n",
        "path = \"Your train.csv file path\"\n",
        "data = pd.read_csv(path)"
      ]
    },
    {
      "cell_type": "code",
      "execution_count": 5,
      "metadata": {
        "id": "p8yRxvmbUQNu"
      },
      "outputs": [],
      "source": [
        "max_length = 8"
      ]
    },
    {
      "cell_type": "code",
      "execution_count": 6,
      "metadata": {
        "id": "oFwaj7r9rIZP"
      },
      "outputs": [],
      "source": [
        "df = data[data['text'].apply(lambda x: len(x.split(\" \"))< max_length +1)]"
      ]
    },
    {
      "cell_type": "code",
      "execution_count": 8,
      "metadata": {
        "id": "X4xURgshSrpT"
      },
      "outputs": [],
      "source": [
        "train_df = df['augmented_text']\n",
        "test_df = df['text']\n",
        "from sklearn.model_selection import train_test_split\n",
        "train_x, test_x, train_y, test_y = train_test_split(train_df, test_df, test_size=0.2, random_state=24)\n",
        "val_x, test_x,val_y, test_y = train_test_split(test_x, test_y, test_size = 0.5, random_state=24)\n"
      ]
    },
    {
      "cell_type": "code",
      "execution_count": 9,
      "metadata": {
        "colab": {
          "base_uri": "https://localhost:8080/"
        },
        "id": "IZMTBLH1H-U7",
        "outputId": "38347b40-c98f-4378-919e-1fa97b0348fb"
      },
      "outputs": [
        {
          "data": {
            "text/plain": [
              "402452               elagl fight over alp cmapagin brochure\n",
              "45026                 0sczrs qhoq goes on but no red dar0et\n",
              "658341     solar hokd precibft launched in qbite gum valley\n",
              "207624      apm housing rental eroprt darwin most expenisev\n",
              "917206           us soldier klilde 4 uhtr in abgdhad attack\n",
              "                                ...                        \n",
              "577944                 airoptr sells benefits of new urcfew\n",
              "623630             chxllehge for tasmanias housing inwusfry\n",
              "254890    action group clasrifies menindee nwatecr situa...\n",
              "1081         qarkizy criticises us yustic2 in polsnzki case\n",
              "292316         oppoistoin questions power sattoin viability\n",
              "Name: augmented_text, Length: 611100, dtype: object"
            ]
          },
          "execution_count": 9,
          "metadata": {},
          "output_type": "execute_result"
        }
      ],
      "source": [
        "train_x"
      ]
    },
    {
      "cell_type": "code",
      "execution_count": 10,
      "metadata": {
        "colab": {
          "base_uri": "https://localhost:8080/"
        },
        "id": "inUltHgQ191H",
        "outputId": "e7733de2-6868-4020-bd4b-038adc3fc8fc"
      },
      "outputs": [
        {
          "data": {
            "text/plain": [
              "423286    serial drink xiver allegedly caught drumk drkv...\n",
              "574202    tourism bpry confident of improved faculties a...\n",
              "147188                   btteer to come from norman  odhges\n",
              "802320    reportevr baea5ts ppnolice to witness in backp...\n",
              "151734    uji9n wants rethink on teacher crimijsl record...\n",
              "                                ...                        \n",
              "132413             phoenix expevtee to ta  fight to t bkrdq\n",
              "57286     timothy baker not guklt5 of murveding glwdo mi...\n",
              "396333                a few words with the lcubhosue ledare\n",
              "704777                congo cu rigbleader surrounded kabila\n",
              "301112        ex62nded interview qitg diuy ferguson ap golf\n",
              "Name: augmented_text, Length: 76388, dtype: object"
            ]
          },
          "execution_count": 10,
          "metadata": {},
          "output_type": "execute_result"
        }
      ],
      "source": [
        "val_x"
      ]
    },
    {
      "cell_type": "code",
      "execution_count": 12,
      "metadata": {
        "id": "sTa8D0WfT1gf"
      },
      "outputs": [],
      "source": [
        "\n",
        "g_text_tokenizer = Tokenizer()\n",
        "g_text_tokenizer.fit_on_texts(train_x)\n",
        "g_text_word_index = g_text_tokenizer.word_index\n",
        "train_sequences = g_text_tokenizer.texts_to_sequences(train_x)\n",
        "train_padded = pad_sequences(train_sequences, maxlen = max_length, padding='post')\n",
        "\n",
        "\n",
        "text_tokenizer = Tokenizer()\n",
        "text_tokenizer.fit_on_texts(train_y)\n",
        "text_word_index = text_tokenizer.word_index\n",
        "test_sequences = text_tokenizer.texts_to_sequences(train_y)\n",
        "test_padded = pad_sequences(test_sequences,maxlen = max_length, padding='post')\n",
        "\n",
        "\n",
        "\n"
      ]
    },
    {
      "cell_type": "code",
      "execution_count": 13,
      "metadata": {
        "id": "4PWLtCPyLNVJ"
      },
      "outputs": [],
      "source": [
        "val_train_sequences = g_text_tokenizer.texts_to_sequences(val_x)\n",
        "val_train_padded = pad_sequences(val_train_sequences, maxlen = max_length, padding='post')\n",
        "\n",
        "val_test_sequences = text_tokenizer.texts_to_sequences(val_y)\n",
        "val_test_padded = pad_sequences(val_test_sequences, maxlen = max_length, padding='post')"
      ]
    },
    {
      "cell_type": "code",
      "execution_count": 15,
      "metadata": {
        "colab": {
          "base_uri": "https://localhost:8080/"
        },
        "id": "npA5T2pATdEK",
        "outputId": "04994929-ae3c-4b8b-a70e-e6354a160dfb"
      },
      "outputs": [
        {
          "name": "stdout",
          "output_type": "stream",
          "text": [
            "844814 79061\n"
          ]
        }
      ],
      "source": [
        "g_vocab_size = len(g_text_word_index)+1\n",
        "vocab_size = len(text_word_index)+1\n",
        "print(g_vocab_size, vocab_size)"
      ]
    },
    {
      "cell_type": "code",
      "execution_count": 16,
      "metadata": {
        "id": "_XpYdlglhS4Z"
      },
      "outputs": [],
      "source": [
        "model = tf.keras.Sequential([\n",
        "    tf.keras.layers.Embedding(input_dim=g_vocab_size, output_dim=256, input_length=max_length),\n",
        "    tf.keras.layers.Bidirectional(tf.keras.layers.LSTM(128, return_sequences=True)),\n",
        "    tf.keras.layers.Dropout(0.5),\n",
        "    tf.keras.layers.Bidirectional(tf.keras.layers.LSTM(128, return_sequences=True)),\n",
        "    tf.keras.layers.Bidirectional(tf.keras.layers.LSTM(128, return_sequences=True)),\n",
        "    tf.keras.layers.Dropout(0.5),\n",
        "    tf.keras.layers.BatchNormalization(),\n",
        "    tf.keras.layers.Dense(vocab_size,activation='softmax')\n",
        "])\n",
        "learning_rate = 0.001\n",
        "optimizer = tf.keras.optimizers.RMSprop(learning_rate)\n",
        "optimizer = tf.keras.mixed_precision.LossScaleOptimizer(optimizer)\n",
        "model.compile(loss=\"sparse_categorical_crossentropy\",\n",
        "              optimizer=optimizer,\n",
        "              metrics=['accuracy'])"
      ]
    },
    {
      "cell_type": "code",
      "execution_count": 18,
      "metadata": {
        "colab": {
          "base_uri": "https://localhost:8080/"
        },
        "id": "BIDyD7DqT-_c",
        "outputId": "b4bd2948-c198-4506-ded6-826acba5e3d1"
      },
      "outputs": [
        {
          "name": "stdout",
          "output_type": "stream",
          "text": [
            "Model: \"sequential\"\n",
            "____________________________________________________________________________\n",
            " Layer (type)                Output Shape              Param #   Trainable  \n",
            "============================================================================\n",
            " embedding (Embedding)       (None, 8, 256)            21627238  Y          \n",
            "                                                       4                    \n",
            "                                                                            \n",
            " bidirectional (Bidirectiona  (None, 8, 256)           394240    Y          \n",
            " l)                                                                         \n",
            "                                                                            \n",
            " dropout (Dropout)           (None, 8, 256)            0         Y          \n",
            "                                                                            \n",
            " bidirectional_1 (Bidirectio  (None, 8, 256)           394240    Y          \n",
            " nal)                                                                       \n",
            "                                                                            \n",
            " bidirectional_2 (Bidirectio  (None, 8, 256)           394240    Y          \n",
            " nal)                                                                       \n",
            "                                                                            \n",
            " dropout_1 (Dropout)         (None, 8, 256)            0         Y          \n",
            "                                                                            \n",
            " batch_normalization (BatchN  (None, 8, 256)           1024      Y          \n",
            " ormalization)                                                              \n",
            "                                                                            \n",
            " dense (Dense)               (None, 8, 79061)          20318677  Y          \n",
            "                                                                            \n",
            "============================================================================\n",
            "Total params: 237,774,805\n",
            "Trainable params: 237,774,293\n",
            "Non-trainable params: 512\n",
            "____________________________________________________________________________\n"
          ]
        }
      ],
      "source": [
        "model.summary(expand_nested=True,\n",
        "    show_trainable=True)"
      ]
    },
    {
      "cell_type": "code",
      "execution_count": 19,
      "metadata": {
        "colab": {
          "base_uri": "https://localhost:8080/"
        },
        "id": "DuTZ37PK2-mh",
        "outputId": "4fa1b4aa-b20b-4df5-ad94-1dec5b076445"
      },
      "outputs": [
        {
          "data": {
            "text/plain": [
              "(611100, 8)"
            ]
          },
          "execution_count": 19,
          "metadata": {},
          "output_type": "execute_result"
        }
      ],
      "source": [
        "train_padded.shape"
      ]
    },
    {
      "cell_type": "code",
      "execution_count": 20,
      "metadata": {
        "id": "eVK8H4m5dqdD"
      },
      "outputs": [],
      "source": [
        "temp_test_padded = test_padded.reshape((test_padded.shape[0], test_padded.shape[1],1))\n",
        "temp_train_padded = train_padded.reshape((train_padded.shape[0], train_padded.shape[1],1))\n"
      ]
    },
    {
      "cell_type": "code",
      "execution_count": 21,
      "metadata": {
        "colab": {
          "base_uri": "https://localhost:8080/"
        },
        "id": "Lz1009MuUGX-",
        "outputId": "fed410d2-0a3c-4bd1-9002-2568080a33b1"
      },
      "outputs": [
        {
          "name": "stdout",
          "output_type": "stream",
          "text": [
            "Epoch 1/14\n"
          ]
        },
        {
          "name": "stderr",
          "output_type": "stream",
          "text": [
            "/usr/local/lib/python3.7/dist-packages/tensorflow/python/framework/indexed_slices.py:439: UserWarning: Converting sparse IndexedSlices to a dense Tensor with 216272384 elements. This may consume a large amount of memory.\n",
            "  num_elements)\n"
          ]
        },
        {
          "name": "stdout",
          "output_type": "stream",
          "text": [
            "1194/1194 [==============================] - 444s 362ms/step - loss: 4.7023 - accuracy: 0.4351 - val_loss: 7.5977 - val_accuracy: 0.5167\n",
            "Epoch 2/14\n",
            "1194/1194 [==============================] - 430s 361ms/step - loss: 2.7481 - accuracy: 0.6741 - val_loss: 7.3020 - val_accuracy: 0.5659\n",
            "Epoch 3/14\n",
            "1194/1194 [==============================] - 430s 361ms/step - loss: 2.2935 - accuracy: 0.7261 - val_loss: 6.8700 - val_accuracy: 0.5812\n",
            "Epoch 4/14\n",
            "1194/1194 [==============================] - 431s 361ms/step - loss: 2.0460 - accuracy: 0.7542 - val_loss: 6.7734 - val_accuracy: 0.5883\n",
            "Epoch 5/14\n",
            "1194/1194 [==============================] - 430s 360ms/step - loss: 1.8912 - accuracy: 0.7744 - val_loss: 6.7057 - val_accuracy: 0.5929\n",
            "Epoch 6/14\n",
            "1194/1194 [==============================] - 430s 360ms/step - loss: 1.7867 - accuracy: 0.7901 - val_loss: 6.7886 - val_accuracy: 0.5971\n",
            "Epoch 7/14\n",
            "1194/1194 [==============================] - 431s 361ms/step - loss: 1.6959 - accuracy: 0.8023 - val_loss: 6.9109 - val_accuracy: 0.5995\n",
            "Epoch 8/14\n",
            "1194/1194 [==============================] - 430s 360ms/step - loss: 1.6248 - accuracy: 0.8116 - val_loss: 6.9971 - val_accuracy: 0.6019\n",
            "Epoch 9/14\n",
            "1194/1194 [==============================] - 430s 360ms/step - loss: 1.5666 - accuracy: 0.8193 - val_loss: 7.0269 - val_accuracy: 0.6039\n",
            "Epoch 10/14\n",
            "1194/1194 [==============================] - 430s 361ms/step - loss: 1.5200 - accuracy: 0.8251 - val_loss: 6.9934 - val_accuracy: 0.6049\n",
            "Epoch 11/14\n",
            "1194/1194 [==============================] - 430s 360ms/step - loss: 1.4783 - accuracy: 0.8303 - val_loss: 7.0068 - val_accuracy: 0.6063\n",
            "Epoch 12/14\n",
            "1194/1194 [==============================] - 430s 360ms/step - loss: 1.4421 - accuracy: 0.8347 - val_loss: 6.8591 - val_accuracy: 0.6077\n",
            "Epoch 13/14\n",
            "1194/1194 [==============================] - 430s 360ms/step - loss: 1.4081 - accuracy: 0.8385 - val_loss: 6.9274 - val_accuracy: 0.6079\n",
            "Epoch 14/14\n",
            "1194/1194 [==============================] - 430s 360ms/step - loss: 1.3789 - accuracy: 0.8418 - val_loss: 6.8861 - val_accuracy: 0.6090\n"
          ]
        }
      ],
      "source": [
        "epoch = 14\n",
        "his = model.fit(train_padded, test_padded, batch_size=512, epochs=epoch, validation_data = (val_train_padded, val_test_padded))"
      ]
    },
    {
      "cell_type": "code",
      "execution_count": 22,
      "metadata": {
        "id": "ADAyQCdl7mmw"
      },
      "outputs": [],
      "source": [
        "# model.save('/content/drive/MyDrive/Colab_Notebooks/accuracy_84_3lstm_rnn_8inputlength')"
      ]
    },
    {
      "cell_type": "code",
      "execution_count": 23,
      "metadata": {
        "colab": {
          "base_uri": "https://localhost:8080/",
          "height": 264
        },
        "id": "SVa9_iLs5njq",
        "outputId": "ad17cf2c-1dcf-400a-c2e0-6febc1134907"
      },
      "outputs": [
        {
          "data": {
            "image/png": "[encoded data removed]",
            "text/plain": [
              "<Figure size 432x288 with 1 Axes>"
            ]
          },
          "metadata": {
            "needs_background": "light"
          },
          "output_type": "display_data"
        }
      ],
      "source": [
        "import matplotlib.pyplot as plt\n",
        "plt.plot(his.history['loss'])\n",
        "plt.plot(his.history['val_loss'])\n",
        "plt.legend(['train','validation'])\n",
        "plt.show()"
      ]
    },
    {
      "cell_type": "code",
      "execution_count": 24,
      "metadata": {
        "id": "KpGWAIiQUe0_"
      },
      "outputs": [],
      "source": [
        "test_sample = test_x.iloc[:10]\n",
        "test_sample = g_text_tokenizer.texts_to_sequences(test_sample)\n",
        "test_sample = pad_sequences(test_sample, maxlen=max_length, padding='post')\n",
        "\n",
        "\n",
        "\n"
      ]
    },
    {
      "cell_type": "code",
      "execution_count": 25,
      "metadata": {
        "colab": {
          "base_uri": "https://localhost:8080/"
        },
        "id": "phthuwn2sMov",
        "outputId": "0c61bc2e-a423-46bb-f261-2e0580c8bf40"
      },
      "outputs": [
        {
          "data": {
            "text/plain": [
              "(10, 8)"
            ]
          },
          "execution_count": 25,
          "metadata": {},
          "output_type": "execute_result"
        }
      ],
      "source": [
        "test_sample.shape"
      ]
    },
    {
      "cell_type": "code",
      "execution_count": 26,
      "metadata": {
        "colab": {
          "base_uri": "https://localhost:8080/"
        },
        "id": "wUHeCyCM02he",
        "outputId": "27b1a411-af1c-47a5-9529-9a8f7d97b666"
      },
      "outputs": [
        {
          "data": {
            "text/plain": [
              "810765    kroena war vetrenas lay wrethas at war memorial\n",
              "647694           clmiaet change still on the radar survey\n",
              "Name: augmented_text, dtype: object"
            ]
          },
          "execution_count": 26,
          "metadata": {},
          "output_type": "execute_result"
        }
      ],
      "source": [
        "test_x.iloc[:2]"
      ]
    },
    {
      "cell_type": "code",
      "execution_count": 27,
      "metadata": {
        "colab": {
          "base_uri": "https://localhost:8080/"
        },
        "id": "o48mfKmhsDv0",
        "outputId": "ac133d04-0496-4e2e-c694-734ea70879e8"
      },
      "outputs": [
        {
          "data": {
            "text/plain": [
              "810765    korean war veterans lay wreaths at war memorial\n",
              "647694           climate change still on the radar survey\n",
              "Name: text, dtype: object"
            ]
          },
          "execution_count": 27,
          "metadata": {},
          "output_type": "execute_result"
        }
      ],
      "source": [
        "test_y.iloc[:2]"
      ]
    },
    {
      "cell_type": "code",
      "execution_count": 28,
      "metadata": {
        "colab": {
          "base_uri": "https://localhost:8080/"
        },
        "id": "kvPsR8hHEQq9",
        "outputId": "f09d64a5-3ca0-4146-a699-c06c04117f76"
      },
      "outputs": [
        {
          "data": {
            "text/plain": [
              "(10, 8, 79061)"
            ]
          },
          "execution_count": 28,
          "metadata": {},
          "output_type": "execute_result"
        }
      ],
      "source": [
        "pre = model.predict(test_sample)\n",
        "pre.shape"
      ]
    },
    {
      "cell_type": "code",
      "execution_count": 31,
      "metadata": {
        "id": "IGZ5AzDTcDHa"
      },
      "outputs": [],
      "source": [
        "def deTokenize(logits):\n",
        "    index_to_words = {id: word for word, id in text_tokenizer.word_index.items()}\n",
        "    index_to_words[0] = ''\n",
        "    pre_index = np.argmax(logits, 1)\n",
        "    return ' '.join(index_to_words[prediction] for prediction in pre_index)"
      ]
    },
    {
      "cell_type": "code",
      "execution_count": 32,
      "metadata": {
        "colab": {
          "base_uri": "https://localhost:8080/"
        },
        "id": "T-6vwxhK56Uw",
        "outputId": "06cc7955-254b-4336-f37e-0ef24a3cbf66"
      },
      "outputs": [
        {
          "name": "stdout",
          "output_type": "stream",
          "text": [
            "Iutput:     clmiaet change still on the radar survey\n",
            "Actual:     climate change still on the radar survey\n",
            "Predicted:  climate change still on the radar survey \n"
          ]
        }
      ],
      "source": [
        "print(\"Iutput:    \",test_x.iloc[1])\n",
        "print(\"Actual:    \",test_y.iloc[1])\n",
        "print(\"Predicted: \",deTokenize(pre[1]))"
      ]
    },
    {
      "cell_type": "code",
      "execution_count": 33,
      "metadata": {
        "id": "JFc6ws8H2MpN"
      },
      "outputs": [],
      "source": [
        "predict = []\n",
        "for i in range(10):\n",
        "  predict.append(deTokenize(pre[i]))\n",
        "\n"
      ]
    },
    {
      "cell_type": "code",
      "execution_count": 34,
      "metadata": {
        "colab": {
          "base_uri": "https://localhost:8080/"
        },
        "id": "twFY9OQb3I6p",
        "outputId": "e7fb0abc-a9cd-4186-b7b0-03419ab2c379"
      },
      "outputs": [
        {
          "data": {
            "text/plain": [
              "['korean war footage lay at war memorial ',\n",
              " 'climate change still on the radar survey ',\n",
              " 'form printed threatens naplan test unrepentant union says',\n",
              " 'norwood risk tasmania processor    ',\n",
              " 'rhino charges removed family at australia zoo ',\n",
              " 'man wins retrial over sex   ',\n",
              " 'health service mental health    ',\n",
              " '11 arrested travelling to 1000   ',\n",
              " 'premier attacks opposition over foi   ',\n",
              " 'cowboys coach queries nrl fine   ']"
            ]
          },
          "execution_count": 34,
          "metadata": {},
          "output_type": "execute_result"
        }
      ],
      "source": [
        "predict"
      ]
    },
    {
      "cell_type": "code",
      "execution_count": 35,
      "metadata": {
        "id": "Q_fA4jdz4ycy"
      },
      "outputs": [],
      "source": [
        "eva = pd.DataFrame({'input': test_x.iloc[:10], 'output': test_y.iloc[:10], 'predict':predict})"
      ]
    },
    {
      "cell_type": "code",
      "execution_count": 36,
      "metadata": {
        "colab": {
          "base_uri": "https://localhost:8080/",
          "height": 363
        },
        "id": "tlmsq58U5GA7",
        "outputId": "0e0e6092-c00e-4edf-c227-bccf921c6037"
      },
      "outputs": [
        {
          "data": {
            "text/html": [
              "\n",
              "  <div id=\"df-05ace99b-c10c-4586-baa7-55f297c5e4a5\">\n",
              "    <div class=\"colab-df-container\">\n",
              "      <div>\n",
              "<style scoped>\n",
              "    .dataframe tbody tr th:only-of-type {\n",
              "        vertical-align: middle;\n",
              "    }\n",
              "\n",
              "    .dataframe tbody tr th {\n",
              "        vertical-align: top;\n",
              "    }\n",
              "\n",
              "    .dataframe thead th {\n",
              "        text-align: right;\n",
              "    }\n",
              "</style>\n",
              "<table border=\"1\" class=\"dataframe\">\n",
              "  <thead>\n",
              "    <tr style=\"text-align: right;\">\n",
              "      <th></th>\n",
              "      <th>input</th>\n",
              "      <th>output</th>\n",
              "      <th>predict</th>\n",
              "    </tr>\n",
              "  </thead>\n",
              "  <tbody>\n",
              "    <tr>\n",
              "      <th>810765</th>\n",
              "      <td>kroena war vetrenas lay wrethas at war memorial</td>\n",
              "      <td>korean war veterans lay wreaths at war memorial</td>\n",
              "      <td>korean war footage lay at war memorial</td>\n",
              "    </tr>\n",
              "    <tr>\n",
              "      <th>647694</th>\n",
              "      <td>clmiaet change still on the radar survey</td>\n",
              "      <td>climate change still on the radar survey</td>\n",
              "      <td>climate change still on the radar survey</td>\n",
              "    </tr>\n",
              "    <tr>\n",
              "      <th>906447</th>\n",
              "      <td>ofmr flaw threatens naplan estt accuracy union...</td>\n",
              "      <td>form flaw threatens naplan test accuracy union...</td>\n",
              "      <td>form printed threatens naplan test unrepentant...</td>\n",
              "    </tr>\n",
              "    <tr>\n",
              "      <th>43169</th>\n",
              "      <td>0ppy mildew risk tazmanix processor</td>\n",
              "      <td>poppy mildew risk tasmania processor</td>\n",
              "      <td>norwood risk tasmania processor</td>\n",
              "    </tr>\n",
              "    <tr>\n",
              "      <th>849703</th>\n",
              "      <td>rhino carhges iirwn family at asurtalia zoo</td>\n",
              "      <td>rhino charges irwin family at australia zoo</td>\n",
              "      <td>rhino charges removed family at australia zoo</td>\n",
              "    </tr>\n",
              "    <tr>\n",
              "      <th>890223</th>\n",
              "      <td>man wins retrial ov3e sex offrnde vharyes</td>\n",
              "      <td>man wins retrial over sex offence charges</td>\n",
              "      <td>man wins retrial over sex</td>\n",
              "    </tr>\n",
              "    <tr>\n",
              "      <th>447621</th>\n",
              "      <td>health service addressgin mental haelht</td>\n",
              "      <td>health service addressing mental health</td>\n",
              "      <td>health service mental health</td>\n",
              "    </tr>\n",
              "    <tr>\n",
              "      <th>329081</th>\n",
              "      <td>11 arrested rtavelilng to bathruts 1000</td>\n",
              "      <td>11 arrested travelling to bathurst 1000</td>\n",
              "      <td>11 arrested travelling to 1000</td>\n",
              "    </tr>\n",
              "    <tr>\n",
              "      <th>151255</th>\n",
              "      <td>premier attacks opposition oc4r foi tequesfs</td>\n",
              "      <td>premier attacks opposition over foi requests</td>\n",
              "      <td>premier attacks opposition over foi</td>\n",
              "    </tr>\n",
              "    <tr>\n",
              "      <th>598551</th>\n",
              "      <td>owcboys coach queries nrl atmuo fine</td>\n",
              "      <td>cowboys coach queries nrl tamou fine</td>\n",
              "      <td>cowboys coach queries nrl fine</td>\n",
              "    </tr>\n",
              "  </tbody>\n",
              "</table>\n",
              "</div>\n",
              "      <button class=\"colab-df-convert\" onclick=\"convertToInteractive('df-05ace99b-c10c-4586-baa7-55f297c5e4a5')\"\n",
              "              title=\"Convert this dataframe to an interactive table.\"\n",
              "              style=\"display:none;\">\n",
              "        \n",
              "  <svg xmlns=\"http://www.w3.org/2000/svg\" height=\"24px\"viewBox=\"0 0 24 24\"\n",
              "       width=\"24px\">\n",
              "    <path d=\"M0 0h24v24H0V0z\" fill=\"none\"/>\n",
              "    <path d=\"M18.56 5.44l.94 2.06.94-2.06 2.06-.94-2.06-.94-.94-2.06-.94 2.06-2.06.94zm-11 1L8.5 8.5l.94-2.06 2.06-.94-2.06-.94L8.5 2.5l-.94 2.06-2.06.94zm10 10l.94 2.06.94-2.06 2.06-.94-2.06-.94-.94-2.06-.94 2.06-2.06.94z\"/><path d=\"M17.41 7.96l-1.37-1.37c-.4-.4-.92-.59-1.43-.59-.52 0-1.04.2-1.43.59L10.3 9.45l-7.72 7.72c-.78.78-.78 2.05 0 2.83L4 21.41c.39.39.9.59 1.41.59.51 0 1.02-.2 1.41-.59l7.78-7.78 2.81-2.81c.8-.78.8-2.07 0-2.86zM5.41 20L4 18.59l7.72-7.72 1.47 1.35L5.41 20z\"/>\n",
              "  </svg>\n",
              "      </button>\n",
              "      \n",
              "  <style>\n",
              "    .colab-df-container {\n",
              "      display:flex;\n",
              "      flex-wrap:wrap;\n",
              "      gap: 12px;\n",
              "    }\n",
              "\n",
              "    .colab-df-convert {\n",
              "      background-color: #E8F0FE;\n",
              "      border: none;\n",
              "      border-radius: 50%;\n",
              "      cursor: pointer;\n",
              "      display: none;\n",
              "      fill: #1967D2;\n",
              "      height: 32px;\n",
              "      padding: 0 0 0 0;\n",
              "      width: 32px;\n",
              "    }\n",
              "\n",
              "    .colab-df-convert:hover {\n",
              "      background-color: #E2EBFA;\n",
              "      box-shadow: 0px 1px 2px rgba(60, 64, 67, 0.3), 0px 1px 3px 1px rgba(60, 64, 67, 0.15);\n",
              "      fill: #174EA6;\n",
              "    }\n",
              "\n",
              "    [theme=dark] .colab-df-convert {\n",
              "      background-color: #3B4455;\n",
              "      fill: #D2E3FC;\n",
              "    }\n",
              "\n",
              "    [theme=dark] .colab-df-convert:hover {\n",
              "      background-color: #434B5C;\n",
              "      box-shadow: 0px 1px 3px 1px rgba(0, 0, 0, 0.15);\n",
              "      filter: drop-shadow(0px 1px 2px rgba(0, 0, 0, 0.3));\n",
              "      fill: #FFFFFF;\n",
              "    }\n",
              "  </style>\n",
              "\n",
              "      <script>\n",
              "        const buttonEl =\n",
              "          document.querySelector('#df-05ace99b-c10c-4586-baa7-55f297c5e4a5 button.colab-df-convert');\n",
              "        buttonEl.style.display =\n",
              "          google.colab.kernel.accessAllowed ? 'block' : 'none';\n",
              "\n",
              "        async function convertToInteractive(key) {\n",
              "          const element = document.querySelector('#df-05ace99b-c10c-4586-baa7-55f297c5e4a5');\n",
              "          const dataTable =\n",
              "            await google.colab.kernel.invokeFunction('convertToInteractive',\n",
              "                                                     [key], {});\n",
              "          if (!dataTable) return;\n",
              "\n",
              "          const docLinkHtml = 'Like what you see? Visit the ' +\n",
              "            '<a target=\"_blank\" href=https://colab.research.google.com/notebooks/data_table.ipynb>data table notebook</a>'\n",
              "            + ' to learn more about interactive tables.';\n",
              "          element.innerHTML = '';\n",
              "          dataTable['output_type'] = 'display_data';\n",
              "          await google.colab.output.renderOutput(dataTable, element);\n",
              "          const docLink = document.createElement('div');\n",
              "          docLink.innerHTML = docLinkHtml;\n",
              "          element.appendChild(docLink);\n",
              "        }\n",
              "      </script>\n",
              "    </div>\n",
              "  </div>\n",
              "  "
            ],
            "text/plain": [
              "                                                    input  \\\n",
              "810765    kroena war vetrenas lay wrethas at war memorial   \n",
              "647694           clmiaet change still on the radar survey   \n",
              "906447  ofmr flaw threatens naplan estt accuracy union...   \n",
              "43169                 0ppy mildew risk tazmanix processor   \n",
              "849703        rhino carhges iirwn family at asurtalia zoo   \n",
              "890223          man wins retrial ov3e sex offrnde vharyes   \n",
              "447621            health service addressgin mental haelht   \n",
              "329081            11 arrested rtavelilng to bathruts 1000   \n",
              "151255       premier attacks opposition oc4r foi tequesfs   \n",
              "598551               owcboys coach queries nrl atmuo fine   \n",
              "\n",
              "                                                   output  \\\n",
              "810765    korean war veterans lay wreaths at war memorial   \n",
              "647694           climate change still on the radar survey   \n",
              "906447  form flaw threatens naplan test accuracy union...   \n",
              "43169                poppy mildew risk tasmania processor   \n",
              "849703        rhino charges irwin family at australia zoo   \n",
              "890223          man wins retrial over sex offence charges   \n",
              "447621            health service addressing mental health   \n",
              "329081            11 arrested travelling to bathurst 1000   \n",
              "151255       premier attacks opposition over foi requests   \n",
              "598551               cowboys coach queries nrl tamou fine   \n",
              "\n",
              "                                                  predict  \n",
              "810765            korean war footage lay at war memorial   \n",
              "647694          climate change still on the radar survey   \n",
              "906447  form printed threatens naplan test unrepentant...  \n",
              "43169                 norwood risk tasmania processor      \n",
              "849703     rhino charges removed family at australia zoo   \n",
              "890223                       man wins retrial over sex     \n",
              "447621                   health service mental health      \n",
              "329081                  11 arrested travelling to 1000     \n",
              "151255             premier attacks opposition over foi     \n",
              "598551                  cowboys coach queries nrl fine     "
            ]
          },
          "execution_count": 36,
          "metadata": {},
          "output_type": "execute_result"
        }
      ],
      "source": [
        "eva"
      ]
    },
    {
      "cell_type": "code",
      "execution_count": 36,
      "metadata": {
        "id": "Za9Vd_dEED-H"
      },
      "outputs": [],
      "source": []
    }
  ],
  "metadata": {
    "accelerator": "GPU",
    "colab": {
      "collapsed_sections": [],
      "machine_shape": "hm",
      "name": "project.ipynb",
      "provenance": []
    },
    "kernelspec": {
      "display_name": "Python 3",
      "name": "python3"
    },
    "language_info": {
      "name": "python"
    }
  },
  "nbformat": 4,
  "nbformat_minor": 0
}
