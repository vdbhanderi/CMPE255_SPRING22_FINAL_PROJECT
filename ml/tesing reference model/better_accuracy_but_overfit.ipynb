{
  "cells": [
    {
      "cell_type": "code",
      "execution_count": 1,
      "metadata": {
        "colab": {
          "base_uri": "https://localhost:8080/"
        },
        "id": "2NEWAoUNP8xH",
        "outputId": "393222c5-538b-4085-e2e1-d7cf606ae4ec"
      },
      "outputs": [
        {
          "output_type": "stream",
          "name": "stdout",
          "text": [
            "Drive already mounted at /content/drive/; to attempt to forcibly remount, call drive.mount(\"/content/drive/\", force_remount=True).\n"
          ]
        }
      ],
      "source": [
        "import tensorflow as tf\n",
        "import numpy as np\n",
        "import pandas as pd\n",
        "from keras.preprocessing.sequence import pad_sequences\n",
        "from keras.preprocessing.text import Tokenizer\n",
        "import re\n",
        "import os\n",
        "tf.__version__\n",
        "from google.colab import drive\n",
        "drive.mount('/content/drive/')"
      ]
    },
    {
      "cell_type": "code",
      "execution_count": 2,
      "metadata": {
        "id": "CLrsbOIpTU1m"
      },
      "outputs": [],
      "source": [
        "# df = pd.read_csv(\"/content/drive/MyDrive/Colab_Notebooks/train.csv\")\n",
        "# df_val = pd.read_csv(\"/content/drive/MyDrive/Colab_Notebooks/val.csv\")\n"
      ]
    },
    {
      "cell_type": "code",
      "execution_count": 3,
      "metadata": {
        "id": "s5oWgBqmTp7p"
      },
      "outputs": [],
      "source": [
        "# def clean_data(text):\n",
        "#     text = text.lower()\n",
        "#     text = re.sub(r\"[-=+*\\\"#@!$%^&()`<>\\[\\]]\",\"\",text)\n",
        "#     text = re.sub(r\"i'm\",\"i am\",text)\n",
        "#     text = re.sub(r\"he's\",\"he is\",text)\n",
        "#     text = re.sub(r\"she's\",\"she is\",text)\n",
        "#     text = re.sub(r\"it's\",\"it is\",text)\n",
        "#     text = re.sub(r\"they're\",\"they are\",text)\n",
        "#     text = re.sub(r\"there're\",\"there are\",text)\n",
        "#     text = re.sub(r\"there's\",\"there is\",text)\n",
        "#     text = re.sub(r\"how're\",\"how are\",text)\n",
        "#     text = re.sub(r\"what're\",\"what are\",text)\n",
        "#     text = re.sub(r\"where're\",\"where \",text)\n",
        "#     text = re.sub(r\"who're\",\"who are\",text)\n",
        "#     text = re.sub(r\"that're\",\"that are\",text)\n",
        "#     text = re.sub(r\"when're\",\"when are\",text)\n",
        "#     text = re.sub(r\"how's\",\"how is\",text)\n",
        "#     text = re.sub(r\"what's\",\"what is\",text)\n",
        "#     text = re.sub(r\"where's\",\"where is\",text)\n",
        "#     text = re.sub(r\"who's\",\"who is\",text)\n",
        "#     text = re.sub(r\"that's\",\"that is\",text)\n",
        "#     text = re.sub(r\"when's\",\"when is\",text)\n",
        "#     text = re.sub(r\"won't\",\"would not\",text)\n",
        "#     text = re.sub(r\"nt't\",\"can not\",text)\n",
        "#     text = re.sub(r\"\\'bout'\",\"about\",text)\n",
        "#     text = re.sub(r\"\\'till'\",\"untill\",text)\n",
        "#     text = re.sub(r\"\\'ll\",\"will\",text)\n",
        "#     text = re.sub(r\"\\'ve\",\"have\",text)\n",
        "#     text = re.sub(r\"\\'re\",\"are\",text)\n",
        "#     text = re.sub(r\"\\'d\",\"would\",text)\n",
        "#     text = re.sub(r\"\\.\",\" \",text)\n",
        "#     text = re.sub(r\"\\,\",\" \",text)\n",
        "#     text = re.sub(r\"\\!\",\" \",text)\n",
        "#     text = re.sub(r\"\\?\",\" \",text)\n",
        "#     text = re.sub(r\"\\;\",\" \",text)\n",
        "#     text = re.sub(r\"\\:\",\" \",text)\n",
        "#     return text\n",
        "\n",
        "    \n",
        "# df['text'] = df['text'].apply(clean_data)\n",
        "# df['augmented_text'] = df['augmented_text'].apply(clean_data)\n",
        "# df_val['text'] = df['text'].apply(clean_data)\n",
        "# df_val['augmented_text'] = df['augmented_text'].apply(clean_data)\n",
        "# data = pd.concat([df_train,df_val])\n"
      ]
    },
    {
      "cell_type": "code",
      "execution_count": 4,
      "metadata": {
        "id": "9Rr916ahpnUm"
      },
      "outputs": [],
      "source": [
        "#data.csv is being pre-process to save time for training\n",
        "data = pd.read_csv('/content/drive/MyDrive/Colab_Notebooks/Copy of data.csv')"
      ]
    },
    {
      "cell_type": "code",
      "execution_count": 5,
      "metadata": {
        "id": "p8yRxvmbUQNu"
      },
      "outputs": [],
      "source": [
        "max_length = 8"
      ]
    },
    {
      "cell_type": "code",
      "execution_count": 6,
      "metadata": {
        "id": "oFwaj7r9rIZP"
      },
      "outputs": [],
      "source": [
        "df = data[data['text'].apply(lambda x: len(x.split(\" \"))< max_length +1)]"
      ]
    },
    {
      "cell_type": "code",
      "execution_count": 7,
      "metadata": {
        "id": "X4xURgshSrpT"
      },
      "outputs": [],
      "source": [
        "# df = df[:82000]\n",
        "train_df = df['augmented_text']\n",
        "test_df = df['text']\n",
        "from sklearn.model_selection import train_test_split\n",
        "train_x, test_x, train_y, test_y = train_test_split(train_df, test_df, test_size=0.2, random_state=24)\n",
        "val_x, test_x,val_y, test_y = train_test_split(test_x, test_y, test_size = 0.5, random_state=24)\n"
      ]
    },
    {
      "cell_type": "code",
      "execution_count": 8,
      "metadata": {
        "colab": {
          "base_uri": "https://localhost:8080/"
        },
        "id": "IZMTBLH1H-U7",
        "outputId": "6aef5f29-424a-4eea-88a6-1a93d7cf69c4"
      },
      "outputs": [
        {
          "output_type": "execute_result",
          "data": {
            "text/plain": [
              "402452               elagl fight over alp cmapagin brochure\n",
              "45026                 0sczrs qhoq goes on but no red dar0et\n",
              "658341     solar hokd precibft launched in qbite gum valley\n",
              "207624      apm housing rental eroprt darwin most expenisev\n",
              "917206           us soldier klilde 4 uhtr in abgdhad attack\n",
              "                                ...                        \n",
              "577944                 airoptr sells benefits of new urcfew\n",
              "623630             chxllehge for tasmanias housing inwusfry\n",
              "254890    action group clasrifies menindee nwatecr situa...\n",
              "1081         qarkizy criticises us yustic2 in polsnzki case\n",
              "292316         oppoistoin questions power sattoin viability\n",
              "Name: augmented_text, Length: 611100, dtype: object"
            ]
          },
          "metadata": {},
          "execution_count": 8
        }
      ],
      "source": [
        "train_x"
      ]
    },
    {
      "cell_type": "code",
      "execution_count": 9,
      "metadata": {
        "colab": {
          "base_uri": "https://localhost:8080/"
        },
        "id": "inUltHgQ191H",
        "outputId": "4a0993c3-d172-4277-d513-0ef63cf490b5"
      },
      "outputs": [
        {
          "output_type": "execute_result",
          "data": {
            "text/plain": [
              "402452              legal fight over alp campaign brochure\n",
              "45026                oscars show goes on but no red carpet\n",
              "658341    solar home precinct launched in white gum valley\n",
              "207624     apm housing rental report darwin most expensive\n",
              "917206          us soldier killed 4 hurt in baghdad attack\n",
              "                                ...                       \n",
              "577944                airport sells benefits of new curfew\n",
              "623630            challenge for tasmanias housing industry\n",
              "254890     action group clarifies menindee water situation\n",
              "1081        sarkozy criticises us justice in polanski case\n",
              "292316        opposition questions power station viability\n",
              "Name: text, Length: 611100, dtype: object"
            ]
          },
          "metadata": {},
          "execution_count": 9
        }
      ],
      "source": [
        "train_y"
      ]
    },
    {
      "cell_type": "code",
      "execution_count": 10,
      "metadata": {
        "id": "sTa8D0WfT1gf"
      },
      "outputs": [],
      "source": [
        "\n",
        "g_text_tokenizer = Tokenizer()\n",
        "g_text_tokenizer.fit_on_texts(train_x)\n",
        "g_text_word_index = g_text_tokenizer.word_index\n",
        "train_sequences = g_text_tokenizer.texts_to_sequences(train_x)\n",
        "train_padded = pad_sequences(train_sequences, maxlen = max_length, padding='post')\n",
        "\n",
        "\n",
        "text_tokenizer = Tokenizer()\n",
        "text_tokenizer.fit_on_texts(train_y)\n",
        "text_word_index = text_tokenizer.word_index\n",
        "test_sequences = text_tokenizer.texts_to_sequences(train_y)\n",
        "test_padded = pad_sequences(test_sequences,maxlen = max_length, padding='post')\n",
        "\n",
        "\n",
        "\n"
      ]
    },
    {
      "cell_type": "code",
      "execution_count": 11,
      "metadata": {
        "id": "4PWLtCPyLNVJ"
      },
      "outputs": [],
      "source": [
        "val_train_sequences = g_text_tokenizer.texts_to_sequences(val_x)\n",
        "val_train_padded = pad_sequences(val_train_sequences, maxlen = max_length, padding='post')\n",
        "\n",
        "val_test_sequences = text_tokenizer.texts_to_sequences(val_y)\n",
        "val_test_padded = pad_sequences(val_test_sequences, maxlen = max_length, padding='post')"
      ]
    },
    {
      "cell_type": "code",
      "execution_count": 12,
      "metadata": {
        "colab": {
          "base_uri": "https://localhost:8080/"
        },
        "id": "npA5T2pATdEK",
        "outputId": "89d0555e-a7b7-4fd8-c5a6-fbfc1928126d"
      },
      "outputs": [
        {
          "output_type": "stream",
          "name": "stdout",
          "text": [
            "844814 79061\n"
          ]
        }
      ],
      "source": [
        "g_vocab_size = len(g_text_word_index)+1\n",
        "vocab_size = len(text_word_index)+1\n",
        "print(g_vocab_size, vocab_size)"
      ]
    },
    {
      "cell_type": "code",
      "execution_count": 13,
      "metadata": {
        "id": "_XpYdlglhS4Z"
      },
      "outputs": [],
      "source": [
        "model = tf.keras.Sequential([\n",
        "    tf.keras.layers.Embedding(input_dim=g_vocab_size, output_dim=256, input_length=max_length),\n",
        "    tf.keras.layers.Bidirectional(tf.keras.layers.LSTM(128, return_sequences=True)),\n",
        "    # tf.keras.layers.BatchNormalization(),\n",
        "    tf.keras.layers.Dropout(0.5),\n",
        "    # tf.keras.layers.Dense(512, activation='relu'),\n",
        "    tf.keras.layers.Bidirectional(tf.keras.layers.LSTM(128, return_sequences=True)),\n",
        "    # tf.keras.layers.Dropout(0.5),\n",
        "    tf.keras.layers.Bidirectional(tf.keras.layers.LSTM(128, return_sequences=True)),\n",
        "    tf.keras.layers.Dropout(0.5),\n",
        "    tf.keras.layers.BatchNormalization(),\n",
        "    tf.keras.layers.Dense(vocab_size,activation='softmax')\n",
        "])\n",
        "learning_rate = 0.0005\n",
        "optimizer = tf.keras.optimizers.Adam(learning_rate)\n",
        "\n",
        "# optimizer = tf.keras.optimizers.RMSprop(learning_rate)\n",
        "# optimizer = tf.keras.mixed_precision.LossScaleOptimizer(optimizer)\n",
        "model.compile(loss=\"sparse_categorical_crossentropy\",\n",
        "              optimizer=optimizer,\n",
        "              metrics=['accuracy'])"
      ]
    },
    {
      "cell_type": "code",
      "execution_count": 14,
      "metadata": {
        "id": "EoIOVmTlT7c5"
      },
      "outputs": [],
      "source": [
        "# model = tf.keras.Sequential([\n",
        "#     tf.keras.layers.Embedding(input_dim=g_vocab_size, output_dim=128, input_length=max_length, mask_zero=True),\n",
        "#     tf.keras.layers.LSTM(128),\n",
        "#     tf.keras.layers.RepeatVector(max_length),\n",
        "#     tf.keras.layers.LSTM(128,return_sequences=True),\n",
        "#     tf.keras.layers.LSTM(128,return_sequences=True),\n",
        "#     tf.keras.layers.Dropout(0.5),\n",
        "#     tf.keras.layers.BatchNormalization(),\n",
        "#     tf.keras.layers.Dense(vocab_size,activation='softmax')\n",
        "# ])\n",
        "# learning_rate = 0.005\n",
        "# optimizer = tf.keras.optimizers.RMSprop(learning_rate)\n",
        "# optimizer = tf.keras.mixed_precision.LossScaleOptimizer(optimizer)\n",
        "# model.compile(loss=\"sparse_categorical_crossentropy\",\n",
        "#               optimizer=optimizer,\n",
        "#               metrics=['accuracy'])"
      ]
    },
    {
      "cell_type": "code",
      "execution_count": 15,
      "metadata": {
        "colab": {
          "base_uri": "https://localhost:8080/"
        },
        "id": "BIDyD7DqT-_c",
        "outputId": "4c96dae8-2115-4f9b-f275-84cbfdddb830"
      },
      "outputs": [
        {
          "output_type": "stream",
          "name": "stdout",
          "text": [
            "Model: \"sequential\"\n",
            "____________________________________________________________________________\n",
            " Layer (type)                Output Shape              Param #   Trainable  \n",
            "============================================================================\n",
            " embedding (Embedding)       (None, 8, 256)            21627238  Y          \n",
            "                                                       4                    \n",
            "                                                                            \n",
            " bidirectional (Bidirectiona  (None, 8, 256)           394240    Y          \n",
            " l)                                                                         \n",
            "                                                                            \n",
            " dropout (Dropout)           (None, 8, 256)            0         Y          \n",
            "                                                                            \n",
            " bidirectional_1 (Bidirectio  (None, 8, 256)           394240    Y          \n",
            " nal)                                                                       \n",
            "                                                                            \n",
            " bidirectional_2 (Bidirectio  (None, 8, 256)           394240    Y          \n",
            " nal)                                                                       \n",
            "                                                                            \n",
            " dropout_1 (Dropout)         (None, 8, 256)            0         Y          \n",
            "                                                                            \n",
            " batch_normalization (BatchN  (None, 8, 256)           1024      Y          \n",
            " ormalization)                                                              \n",
            "                                                                            \n",
            " dense (Dense)               (None, 8, 79061)          20318677  Y          \n",
            "                                                                            \n",
            "============================================================================\n",
            "Total params: 237,774,805\n",
            "Trainable params: 237,774,293\n",
            "Non-trainable params: 512\n",
            "____________________________________________________________________________\n"
          ]
        }
      ],
      "source": [
        "model.summary(expand_nested=True,\n",
        "    show_trainable=True)"
      ]
    },
    {
      "cell_type": "code",
      "execution_count": 16,
      "metadata": {
        "colab": {
          "base_uri": "https://localhost:8080/"
        },
        "id": "DuTZ37PK2-mh",
        "outputId": "64d76dc9-893b-4717-b6ae-b752c500d68d"
      },
      "outputs": [
        {
          "output_type": "execute_result",
          "data": {
            "text/plain": [
              "(611100, 8)"
            ]
          },
          "metadata": {},
          "execution_count": 16
        }
      ],
      "source": [
        "train_padded.shape"
      ]
    },
    {
      "cell_type": "code",
      "execution_count": 17,
      "metadata": {
        "id": "eVK8H4m5dqdD"
      },
      "outputs": [],
      "source": [
        "temp_test_padded = test_padded.reshape((test_padded.shape[0], test_padded.shape[1],1))\n",
        "# temp_train_padded = train_padded.reshape((train_padded.shape[0], train_padded.shape[1],1))\n"
      ]
    },
    {
      "cell_type": "code",
      "execution_count": 18,
      "metadata": {
        "colab": {
          "base_uri": "https://localhost:8080/"
        },
        "id": "Lz1009MuUGX-",
        "outputId": "e07e6861-622e-4005-87a8-8728a147c7c0"
      },
      "outputs": [
        {
          "output_type": "stream",
          "name": "stdout",
          "text": [
            "Epoch 1/20\n",
            "1194/1194 [==============================] - 470s 387ms/step - loss: 5.4529 - accuracy: 0.3470 - val_loss: 6.8924 - val_accuracy: 0.4922\n",
            "Epoch 2/20\n",
            "1194/1194 [==============================] - 460s 385ms/step - loss: 2.4037 - accuracy: 0.6916 - val_loss: 7.1642 - val_accuracy: 0.5900\n",
            "Epoch 3/20\n",
            "1194/1194 [==============================] - 460s 385ms/step - loss: 1.2982 - accuracy: 0.8035 - val_loss: 7.6953 - val_accuracy: 0.6085\n",
            "Epoch 4/20\n",
            "1194/1194 [==============================] - 460s 385ms/step - loss: 0.9701 - accuracy: 0.8406 - val_loss: 8.0152 - val_accuracy: 0.6195\n",
            "Epoch 5/20\n",
            "1194/1194 [==============================] - 460s 385ms/step - loss: 0.7260 - accuracy: 0.8773 - val_loss: 8.3528 - val_accuracy: 0.6247\n",
            "Epoch 6/20\n",
            "1194/1194 [==============================] - 460s 385ms/step - loss: 0.5839 - accuracy: 0.8989 - val_loss: 8.6185 - val_accuracy: 0.6281\n",
            "Epoch 7/20\n",
            "1194/1194 [==============================] - 460s 385ms/step - loss: 0.4856 - accuracy: 0.9131 - val_loss: 8.8664 - val_accuracy: 0.6304\n",
            "Epoch 8/20\n",
            "1194/1194 [==============================] - 460s 385ms/step - loss: 0.4139 - accuracy: 0.9236 - val_loss: 8.9446 - val_accuracy: 0.6317\n",
            "Epoch 9/20\n",
            "1194/1194 [==============================] - 460s 385ms/step - loss: 0.3588 - accuracy: 0.9316 - val_loss: 9.0512 - val_accuracy: 0.6326\n",
            "Epoch 10/20\n",
            "1194/1194 [==============================] - 460s 385ms/step - loss: 0.3148 - accuracy: 0.9380 - val_loss: 9.2281 - val_accuracy: 0.6333\n",
            "Epoch 11/20\n",
            "1194/1194 [==============================] - 460s 385ms/step - loss: 0.2787 - accuracy: 0.9437 - val_loss: 9.2687 - val_accuracy: 0.6340\n",
            "Epoch 12/20\n",
            "1194/1194 [==============================] - 460s 385ms/step - loss: 0.2483 - accuracy: 0.9485 - val_loss: 9.3141 - val_accuracy: 0.6348\n",
            "Epoch 13/20\n",
            "1194/1194 [==============================] - 460s 385ms/step - loss: 0.2238 - accuracy: 0.9527 - val_loss: 9.3019 - val_accuracy: 0.6347\n",
            "Epoch 14/20\n",
            "1194/1194 [==============================] - 460s 385ms/step - loss: 0.2030 - accuracy: 0.9564 - val_loss: 9.1959 - val_accuracy: 0.6354\n",
            "Epoch 15/20\n",
            "1194/1194 [==============================] - 460s 385ms/step - loss: 0.1863 - accuracy: 0.9594 - val_loss: 9.3252 - val_accuracy: 0.6357\n",
            "Epoch 16/20\n",
            "1194/1194 [==============================] - 460s 385ms/step - loss: 0.1728 - accuracy: 0.9621 - val_loss: 9.4749 - val_accuracy: 0.6357\n",
            "Epoch 17/20\n",
            "1194/1194 [==============================] - 461s 386ms/step - loss: 0.1596 - accuracy: 0.9645 - val_loss: 9.5199 - val_accuracy: 0.6359\n",
            "Epoch 18/20\n",
            "1194/1194 [==============================] - 460s 385ms/step - loss: 0.1492 - accuracy: 0.9665 - val_loss: 9.5729 - val_accuracy: 0.6362\n",
            "Epoch 19/20\n",
            "1194/1194 [==============================] - 461s 386ms/step - loss: 0.1408 - accuracy: 0.9681 - val_loss: 9.9333 - val_accuracy: 0.6360\n",
            "Epoch 20/20\n",
            "1194/1194 [==============================] - 461s 386ms/step - loss: 0.1334 - accuracy: 0.9695 - val_loss: 9.8178 - val_accuracy: 0.6362\n"
          ]
        }
      ],
      "source": [
        "epoch = 20\n",
        "his = model.fit(train_padded, test_padded, batch_size=512, epochs=epoch, validation_data = (val_train_padded, val_test_padded))"
      ]
    },
    {
      "cell_type": "code",
      "execution_count": 19,
      "metadata": {
        "id": "ADAyQCdl7mmw"
      },
      "outputs": [],
      "source": [
        "# model.save('/content/drive/MyDrive/Colab_Notebooks/accuracy_84_3lstm_rnn_8inputlength')"
      ]
    },
    {
      "cell_type": "code",
      "execution_count": 20,
      "metadata": {
        "id": "SVa9_iLs5njq",
        "colab": {
          "base_uri": "https://localhost:8080/",
          "height": 264
        },
        "outputId": "d42b4668-bf21-416b-c4b8-2c5b89167475"
      },
      "outputs": [
        {
          "output_type": "display_data",
          "data": {
            "text/plain": [
              "<Figure size 432x288 with 1 Axes>"
            ],
            "image/png": "[encoded data removed]"
          },
          "metadata": {
            "needs_background": "light"
          }
        }
      ],
      "source": [
        "import matplotlib.pyplot as plt\n",
        "plt.plot(his.history['loss'])\n",
        "plt.plot(his.history['val_loss'])\n",
        "plt.legend(['train','validation'])\n",
        "plt.show()"
      ]
    },
    {
      "cell_type": "code",
      "execution_count": 21,
      "metadata": {
        "id": "KpGWAIiQUe0_"
      },
      "outputs": [],
      "source": [
        "test_sample = test_x.iloc[:10]\n",
        "test_sample = g_text_tokenizer.texts_to_sequences(test_sample)\n",
        "test_sample = pad_sequences(test_sample, maxlen=max_length, padding='post')\n"
      ]
    },
    {
      "cell_type": "code",
      "execution_count": 22,
      "metadata": {
        "id": "wUHeCyCM02he",
        "colab": {
          "base_uri": "https://localhost:8080/"
        },
        "outputId": "376a546d-32eb-414c-d599-05d281fdefc3"
      },
      "outputs": [
        {
          "output_type": "execute_result",
          "data": {
            "text/plain": [
              "810765      kroena war vetrenas lay wrethas at war memorial\n",
              "647694             clmiaet change still on the radar survey\n",
              "906447    ofmr flaw threatens naplan estt accuracy union...\n",
              "43169                   0ppy mildew risk tazmanix processor\n",
              "849703          rhino carhges iirwn family at asurtalia zoo\n",
              "890223            man wins retrial ov3e sex offrnde vharyes\n",
              "447621              health service addressgin mental haelht\n",
              "329081              11 arrested rtavelilng to bathruts 1000\n",
              "151255         premier attacks opposition oc4r foi tequesfs\n",
              "598551                 owcboys coach queries nrl atmuo fine\n",
              "Name: augmented_text, dtype: object"
            ]
          },
          "metadata": {},
          "execution_count": 22
        }
      ],
      "source": [
        "test_x.iloc[:10]"
      ]
    },
    {
      "cell_type": "code",
      "execution_count": 23,
      "metadata": {
        "id": "o48mfKmhsDv0",
        "colab": {
          "base_uri": "https://localhost:8080/"
        },
        "outputId": "e8470c8e-6dd0-416a-b3b0-8cfa58dbb4f9"
      },
      "outputs": [
        {
          "output_type": "execute_result",
          "data": {
            "text/plain": [
              "810765      korean war veterans lay wreaths at war memorial\n",
              "647694             climate change still on the radar survey\n",
              "906447    form flaw threatens naplan test accuracy union...\n",
              "43169                  poppy mildew risk tasmania processor\n",
              "849703          rhino charges irwin family at australia zoo\n",
              "890223            man wins retrial over sex offence charges\n",
              "447621              health service addressing mental health\n",
              "329081              11 arrested travelling to bathurst 1000\n",
              "151255         premier attacks opposition over foi requests\n",
              "598551                 cowboys coach queries nrl tamou fine\n",
              "Name: text, dtype: object"
            ]
          },
          "metadata": {},
          "execution_count": 23
        }
      ],
      "source": [
        "test_y.iloc[:10]"
      ]
    },
    {
      "cell_type": "code",
      "execution_count": 24,
      "metadata": {
        "id": "kvPsR8hHEQq9"
      },
      "outputs": [],
      "source": [
        "pre = model.predict(test_sample)\n",
        "def deTokenize(logits):\n",
        "    index_to_words = {id: word for word, id in text_tokenizer.word_index.items()}\n",
        "    index_to_words[0] = ''\n",
        "    pre_index = np.argmax(logits, 1)\n",
        "    return ' '.join(index_to_words[prediction] for prediction in pre_index)\n",
        "predict = []\n",
        "for i in range(10):\n",
        "  predict.append(deTokenize(pre[i]))"
      ]
    },
    {
      "cell_type": "code",
      "execution_count": 25,
      "metadata": {
        "id": "LCXcto7u1iTa",
        "colab": {
          "base_uri": "https://localhost:8080/",
          "height": 324
        },
        "outputId": "efbaadff-cd5d-4d62-b5e9-3b1e5449f93c"
      },
      "outputs": [
        {
          "output_type": "execute_result",
          "data": {
            "text/plain": [
              "                                                    input  \\\n",
              "810765    kroena war vetrenas lay wrethas at war memorial   \n",
              "647694           clmiaet change still on the radar survey   \n",
              "906447  ofmr flaw threatens naplan estt accuracy union...   \n",
              "43169                 0ppy mildew risk tazmanix processor   \n",
              "849703        rhino carhges iirwn family at asurtalia zoo   \n",
              "890223          man wins retrial ov3e sex offrnde vharyes   \n",
              "447621            health service addressgin mental haelht   \n",
              "329081            11 arrested rtavelilng to bathruts 1000   \n",
              "151255       premier attacks opposition oc4r foi tequesfs   \n",
              "598551               owcboys coach queries nrl atmuo fine   \n",
              "\n",
              "                                                   output  \\\n",
              "810765    korean war veterans lay wreaths at war memorial   \n",
              "647694           climate change still on the radar survey   \n",
              "906447  form flaw threatens naplan test accuracy union...   \n",
              "43169                poppy mildew risk tasmania processor   \n",
              "849703        rhino charges irwin family at australia zoo   \n",
              "890223          man wins retrial over sex offence charges   \n",
              "447621            health service addressing mental health   \n",
              "329081            11 arrested travelling to bathurst 1000   \n",
              "151255       premier attacks opposition over foi requests   \n",
              "598551               cowboys coach queries nrl tamou fine   \n",
              "\n",
              "                                                  predict  \n",
              "810765           korean war veterans lay at war memorial   \n",
              "647694          climate change still on the radar survey   \n",
              "906447  form flaw threatens naplan test accuracy union...  \n",
              "43169                  mildew risk tasmania processor      \n",
              "849703       rhino charges irwin family at australia zoo   \n",
              "890223                       man wins retrial over sex     \n",
              "447621                   health service mental health      \n",
              "329081                  11 arrested travelling to 1000     \n",
              "151255             premier attacks opposition over foi     \n",
              "598551                  cowboys coach queries nrl fine     "
            ],
            "text/html": [
              "\n",
              "  <div id=\"df-f6495b2e-36e0-4ab0-a5e6-02b09beb5283\">\n",
              "    <div class=\"colab-df-container\">\n",
              "      <div>\n",
              "<style scoped>\n",
              "    .dataframe tbody tr th:only-of-type {\n",
              "        vertical-align: middle;\n",
              "    }\n",
              "\n",
              "    .dataframe tbody tr th {\n",
              "        vertical-align: top;\n",
              "    }\n",
              "\n",
              "    .dataframe thead th {\n",
              "        text-align: right;\n",
              "    }\n",
              "</style>\n",
              "<table border=\"1\" class=\"dataframe\">\n",
              "  <thead>\n",
              "    <tr style=\"text-align: right;\">\n",
              "      <th></th>\n",
              "      <th>input</th>\n",
              "      <th>output</th>\n",
              "      <th>predict</th>\n",
              "    </tr>\n",
              "  </thead>\n",
              "  <tbody>\n",
              "    <tr>\n",
              "      <th>810765</th>\n",
              "      <td>kroena war vetrenas lay wrethas at war memorial</td>\n",
              "      <td>korean war veterans lay wreaths at war memorial</td>\n",
              "      <td>korean war veterans lay at war memorial</td>\n",
              "    </tr>\n",
              "    <tr>\n",
              "      <th>647694</th>\n",
              "      <td>clmiaet change still on the radar survey</td>\n",
              "      <td>climate change still on the radar survey</td>\n",
              "      <td>climate change still on the radar survey</td>\n",
              "    </tr>\n",
              "    <tr>\n",
              "      <th>906447</th>\n",
              "      <td>ofmr flaw threatens naplan estt accuracy union...</td>\n",
              "      <td>form flaw threatens naplan test accuracy union...</td>\n",
              "      <td>form flaw threatens naplan test accuracy union...</td>\n",
              "    </tr>\n",
              "    <tr>\n",
              "      <th>43169</th>\n",
              "      <td>0ppy mildew risk tazmanix processor</td>\n",
              "      <td>poppy mildew risk tasmania processor</td>\n",
              "      <td>mildew risk tasmania processor</td>\n",
              "    </tr>\n",
              "    <tr>\n",
              "      <th>849703</th>\n",
              "      <td>rhino carhges iirwn family at asurtalia zoo</td>\n",
              "      <td>rhino charges irwin family at australia zoo</td>\n",
              "      <td>rhino charges irwin family at australia zoo</td>\n",
              "    </tr>\n",
              "    <tr>\n",
              "      <th>890223</th>\n",
              "      <td>man wins retrial ov3e sex offrnde vharyes</td>\n",
              "      <td>man wins retrial over sex offence charges</td>\n",
              "      <td>man wins retrial over sex</td>\n",
              "    </tr>\n",
              "    <tr>\n",
              "      <th>447621</th>\n",
              "      <td>health service addressgin mental haelht</td>\n",
              "      <td>health service addressing mental health</td>\n",
              "      <td>health service mental health</td>\n",
              "    </tr>\n",
              "    <tr>\n",
              "      <th>329081</th>\n",
              "      <td>11 arrested rtavelilng to bathruts 1000</td>\n",
              "      <td>11 arrested travelling to bathurst 1000</td>\n",
              "      <td>11 arrested travelling to 1000</td>\n",
              "    </tr>\n",
              "    <tr>\n",
              "      <th>151255</th>\n",
              "      <td>premier attacks opposition oc4r foi tequesfs</td>\n",
              "      <td>premier attacks opposition over foi requests</td>\n",
              "      <td>premier attacks opposition over foi</td>\n",
              "    </tr>\n",
              "    <tr>\n",
              "      <th>598551</th>\n",
              "      <td>owcboys coach queries nrl atmuo fine</td>\n",
              "      <td>cowboys coach queries nrl tamou fine</td>\n",
              "      <td>cowboys coach queries nrl fine</td>\n",
              "    </tr>\n",
              "  </tbody>\n",
              "</table>\n",
              "</div>\n",
              "      <button class=\"colab-df-convert\" onclick=\"convertToInteractive('df-f6495b2e-36e0-4ab0-a5e6-02b09beb5283')\"\n",
              "              title=\"Convert this dataframe to an interactive table.\"\n",
              "              style=\"display:none;\">\n",
              "        \n",
              "  <svg xmlns=\"http://www.w3.org/2000/svg\" height=\"24px\"viewBox=\"0 0 24 24\"\n",
              "       width=\"24px\">\n",
              "    <path d=\"M0 0h24v24H0V0z\" fill=\"none\"/>\n",
              "    <path d=\"M18.56 5.44l.94 2.06.94-2.06 2.06-.94-2.06-.94-.94-2.06-.94 2.06-2.06.94zm-11 1L8.5 8.5l.94-2.06 2.06-.94-2.06-.94L8.5 2.5l-.94 2.06-2.06.94zm10 10l.94 2.06.94-2.06 2.06-.94-2.06-.94-.94-2.06-.94 2.06-2.06.94z\"/><path d=\"M17.41 7.96l-1.37-1.37c-.4-.4-.92-.59-1.43-.59-.52 0-1.04.2-1.43.59L10.3 9.45l-7.72 7.72c-.78.78-.78 2.05 0 2.83L4 21.41c.39.39.9.59 1.41.59.51 0 1.02-.2 1.41-.59l7.78-7.78 2.81-2.81c.8-.78.8-2.07 0-2.86zM5.41 20L4 18.59l7.72-7.72 1.47 1.35L5.41 20z\"/>\n",
              "  </svg>\n",
              "      </button>\n",
              "      \n",
              "  <style>\n",
              "    .colab-df-container {\n",
              "      display:flex;\n",
              "      flex-wrap:wrap;\n",
              "      gap: 12px;\n",
              "    }\n",
              "\n",
              "    .colab-df-convert {\n",
              "      background-color: #E8F0FE;\n",
              "      border: none;\n",
              "      border-radius: 50%;\n",
              "      cursor: pointer;\n",
              "      display: none;\n",
              "      fill: #1967D2;\n",
              "      height: 32px;\n",
              "      padding: 0 0 0 0;\n",
              "      width: 32px;\n",
              "    }\n",
              "\n",
              "    .colab-df-convert:hover {\n",
              "      background-color: #E2EBFA;\n",
              "      box-shadow: 0px 1px 2px rgba(60, 64, 67, 0.3), 0px 1px 3px 1px rgba(60, 64, 67, 0.15);\n",
              "      fill: #174EA6;\n",
              "    }\n",
              "\n",
              "    [theme=dark] .colab-df-convert {\n",
              "      background-color: #3B4455;\n",
              "      fill: #D2E3FC;\n",
              "    }\n",
              "\n",
              "    [theme=dark] .colab-df-convert:hover {\n",
              "      background-color: #434B5C;\n",
              "      box-shadow: 0px 1px 3px 1px rgba(0, 0, 0, 0.15);\n",
              "      filter: drop-shadow(0px 1px 2px rgba(0, 0, 0, 0.3));\n",
              "      fill: #FFFFFF;\n",
              "    }\n",
              "  </style>\n",
              "\n",
              "      <script>\n",
              "        const buttonEl =\n",
              "          document.querySelector('#df-f6495b2e-36e0-4ab0-a5e6-02b09beb5283 button.colab-df-convert');\n",
              "        buttonEl.style.display =\n",
              "          google.colab.kernel.accessAllowed ? 'block' : 'none';\n",
              "\n",
              "        async function convertToInteractive(key) {\n",
              "          const element = document.querySelector('#df-f6495b2e-36e0-4ab0-a5e6-02b09beb5283');\n",
              "          const dataTable =\n",
              "            await google.colab.kernel.invokeFunction('convertToInteractive',\n",
              "                                                     [key], {});\n",
              "          if (!dataTable) return;\n",
              "\n",
              "          const docLinkHtml = 'Like what you see? Visit the ' +\n",
              "            '<a target=\"_blank\" href=https://colab.research.google.com/notebooks/data_table.ipynb>data table notebook</a>'\n",
              "            + ' to learn more about interactive tables.';\n",
              "          element.innerHTML = '';\n",
              "          dataTable['output_type'] = 'display_data';\n",
              "          await google.colab.output.renderOutput(dataTable, element);\n",
              "          const docLink = document.createElement('div');\n",
              "          docLink.innerHTML = docLinkHtml;\n",
              "          element.appendChild(docLink);\n",
              "        }\n",
              "      </script>\n",
              "    </div>\n",
              "  </div>\n",
              "  "
            ]
          },
          "metadata": {},
          "execution_count": 25
        }
      ],
      "source": [
        "eva = pd.DataFrame({'input': test_x.iloc[:10], 'output': test_y.iloc[:10], 'predict':predict})\n",
        "eva\n"
      ]
    },
    {
      "cell_type": "code",
      "execution_count": 26,
      "metadata": {
        "id": "T-6vwxhK56Uw",
        "colab": {
          "base_uri": "https://localhost:8080/"
        },
        "outputId": "098cba84-a345-4d25-ea0e-e7e5421d6794"
      },
      "outputs": [
        {
          "output_type": "stream",
          "name": "stdout",
          "text": [
            "Iutput:     clmiaet change still on the radar survey\n",
            "Actual:     climate change still on the radar survey\n",
            "Predicted:  climate change still on the radar survey \n"
          ]
        }
      ],
      "source": [
        "print(\"Iutput:    \",test_x.iloc[1])\n",
        "print(\"Actual:    \",test_y.iloc[1])\n",
        "print(\"Predicted: \",deTokenize(pre[1]))"
      ]
    },
    {
      "cell_type": "code",
      "execution_count": 26,
      "metadata": {
        "id": "Za9Vd_dEED-H"
      },
      "outputs": [],
      "source": [
        ""
      ]
    },
    {
      "cell_type": "code",
      "execution_count": 27,
      "metadata": {
        "id": "xy9wRqu6MKzZ"
      },
      "outputs": [],
      "source": [
        "# model1 = tf.keras.Sequential([\n",
        "#     tf.keras.layers.Embedding(input_dim=g_vocab_size, output_dim=embedding_dim, input_length=20, mask_zero=True),\n",
        "#     tf.keras.layers.LSTM(32),\n",
        "#     tf.keras.layers.RepeatVector(20),\n",
        "#     tf.keras.layers.LSTM(32,return_sequences=True),\n",
        "#     tf.keras.layers.Dense(vocab_size,activation='softmax')\n",
        "# ])\n",
        "# model1.compile(loss='sparse_categorical_crossentropy', optimizer='adam', metrics=[\"accuracy\"])\n",
        "# model1.summary()"
      ]
    },
    {
      "cell_type": "code",
      "execution_count": 28,
      "metadata": {
        "id": "blgYyYSWMOfo"
      },
      "outputs": [],
      "source": [
        "\n",
        "# shape = temp_train.shape\n",
        "# out of memory\n",
        "# model = tf.keras.Sequential([\n",
        "#     tf.keras.layers.Embedding(input_dim=g_vocab_size, output_dim=embedding_dim, input_length=20, mask_zero=True),\n",
        "#     tf.keras.layers.LSTM(32),\n",
        "#     tf.keras.layers.RepeatVector(20),\n",
        "#     tf.keras.layers.LSTM(32,return_sequences=True),\n",
        "#     tf.keras.layers.Dense(vocab_size,activation='softmax')\n",
        "# ])\n",
        "# model.compile(loss='sparse_categorical_crossentropy', optimizer='adam', metrics=[\"accuracy\"])\n",
        "\n",
        "# model = tf.keras.Sequential([\n",
        "#     tf.keras.layers.Bidirectional(tf.keras.layers.LSTM(32, return_sequences=True), input_shape=(10,1)),\n",
        "#     tf.keras.layers.TimeDistributed(tf.keras.layers.Dense(64, activation='relu')),\n",
        "#     tf.keras.layers.Dropout(0.5),\n",
        "#     tf.keras.layers.TimeDistributed(tf.keras.layers.Dense(vocab_size,activation='softmax'))\n",
        "# ])\n",
        "# # learning_rate = 2\n",
        "# optimizer = tf.keras.optimizers.RMSprop()\n",
        "# optimizer = tf.keras.mixed_precision.LossScaleOptimizer(optimizer)\n",
        "# model.compile(loss=\"sparse_categorical_crossentropy\",\n",
        "#               optimizer=optimizer,\n",
        "#               metrics=['accuracy'])\n",
        "\n",
        "\n",
        "# base model\n",
        "# model = tf.keras.Sequential([\n",
        "#     tf.keras.layers.Embedding(vocab_size, embedding_dim),\n",
        "#     tf.keras.layers.Dropout(0.1),\n",
        "    \n",
        "#     tf.keras.layers.Bidirectional(tf.keras.layers.LSTM(200, return_sequences=True)),\n",
        "#     tf.keras.layers.Dropout(0.1),\n",
        "    \n",
        "#     tf.keras.layers.Bidirectional(tf.keras.layers.LSTM(100)),\n",
        "#     tf.keras.layers.Dropout(0.1),\n",
        "#     tf.keras.layers.Dense(20,activation='softmax')\n",
        "# ])\n",
        "# model.compile(loss='sparse_categorical_crossentropy', optimizer='adam', metrics=[\"accuracy\"])"
      ]
    }
  ],
  "metadata": {
    "accelerator": "GPU",
    "colab": {
      "collapsed_sections": [],
      "machine_shape": "hm",
      "name": "project.ipynb",
      "provenance": []
    },
    "kernelspec": {
      "display_name": "Python 3",
      "name": "python3"
    },
    "language_info": {
      "name": "python"
    }
  },
  "nbformat": 4,
  "nbformat_minor": 0
}