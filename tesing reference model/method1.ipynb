{
  "cells": [
    {
      "cell_type": "code",
      "execution_count": null,
      "metadata": {
        "colab": {
          "base_uri": "https://localhost:8080/"
        },
        "id": "2NEWAoUNP8xH",
        "outputId": "a3fcaa0a-652b-4b4d-a697-e05e1ce667a5"
      },
      "outputs": [
        {
          "output_type": "stream",
          "name": "stdout",
          "text": [
            "Mounted at /content/drive/\n"
          ]
        }
      ],
      "source": [
        "import tensorflow as tf\n",
        "import numpy as np\n",
        "import pandas as pd\n",
        "from keras.preprocessing.sequence import pad_sequences\n",
        "from keras.preprocessing.text import Tokenizer\n",
        "import re\n",
        "import os\n",
        "import matplotlib.pyplot as plt\n",
        "\n",
        "tf.__version__\n",
        "from google.colab import drive\n",
        "drive.mount('/content/drive/')"
      ]
    },
    {
      "cell_type": "code",
      "execution_count": null,
      "metadata": {
        "id": "CLrsbOIpTU1m"
      },
      "outputs": [],
      "source": [
        "df_train = pd.read_csv(\"/content/drive/MyDrive/Colab_Notebooks/train.csv\")\n",
        "df_val = pd.read_csv(\"/content/drive/MyDrive/Colab_Notebooks/val.csv\")\n",
        "df_test = pd.read_csv(\"/content/drive/MyDrive/Colab_Notebooks/test.csv\")\n"
      ]
    },
    {
      "cell_type": "code",
      "source": [
        "df_train[df_train.duplicated()]\n"
      ],
      "metadata": {
        "colab": {
          "base_uri": "https://localhost:8080/",
          "height": 424
        },
        "id": "WwEH5j4a-m_g",
        "outputId": "a4899c5e-c682-493e-9c15-6906566cc0e2"
      },
      "execution_count": null,
      "outputs": [
        {
          "output_type": "execute_result",
          "data": {
            "text/plain": [
              "                                         text  \\\n",
              "6906          a league live streaming updates   \n",
              "9455    abc business news and market analysis   \n",
              "9476    abc business news and market analysis   \n",
              "9487    abc business news and market analysis   \n",
              "9498    abc business news and market analysis   \n",
              "...                                       ...   \n",
              "742784     wednesday finance with alan kohler   \n",
              "742790     wednesday finance with alan kohler   \n",
              "742816     wednesday finance with alan kohler   \n",
              "742873     wednesday markets with fiona clark   \n",
              "758107     woman to front court over stabbing   \n",
              "\n",
              "                               augmented_text  \n",
              "6906          a elgaue ivle streaming updates  \n",
              "9455    abc buisnses news and maretk analysis  \n",
              "9476    abc business ensw and market anyalsis  \n",
              "9487    abc ubisness news and market analysis  \n",
              "9498    abc busienss wnes and market analysis  \n",
              "...                                       ...  \n",
              "742784     wednesday finnaec with lana kohler  \n",
              "742790     wednesday finance with lana kohler  \n",
              "742816     wednesday finance with lana kohler  \n",
              "742873     wednesday markets iwht fiona lcakr  \n",
              "758107     woman to front ocutr over stabbing  \n",
              "\n",
              "[71 rows x 2 columns]"
            ],
            "text/html": [
              "\n",
              "  <div id=\"df-4ece0581-94be-4d11-9778-93c31b9cb3c0\">\n",
              "    <div class=\"colab-df-container\">\n",
              "      <div>\n",
              "<style scoped>\n",
              "    .dataframe tbody tr th:only-of-type {\n",
              "        vertical-align: middle;\n",
              "    }\n",
              "\n",
              "    .dataframe tbody tr th {\n",
              "        vertical-align: top;\n",
              "    }\n",
              "\n",
              "    .dataframe thead th {\n",
              "        text-align: right;\n",
              "    }\n",
              "</style>\n",
              "<table border=\"1\" class=\"dataframe\">\n",
              "  <thead>\n",
              "    <tr style=\"text-align: right;\">\n",
              "      <th></th>\n",
              "      <th>text</th>\n",
              "      <th>augmented_text</th>\n",
              "    </tr>\n",
              "  </thead>\n",
              "  <tbody>\n",
              "    <tr>\n",
              "      <th>6906</th>\n",
              "      <td>a league live streaming updates</td>\n",
              "      <td>a elgaue ivle streaming updates</td>\n",
              "    </tr>\n",
              "    <tr>\n",
              "      <th>9455</th>\n",
              "      <td>abc business news and market analysis</td>\n",
              "      <td>abc buisnses news and maretk analysis</td>\n",
              "    </tr>\n",
              "    <tr>\n",
              "      <th>9476</th>\n",
              "      <td>abc business news and market analysis</td>\n",
              "      <td>abc business ensw and market anyalsis</td>\n",
              "    </tr>\n",
              "    <tr>\n",
              "      <th>9487</th>\n",
              "      <td>abc business news and market analysis</td>\n",
              "      <td>abc ubisness news and market analysis</td>\n",
              "    </tr>\n",
              "    <tr>\n",
              "      <th>9498</th>\n",
              "      <td>abc business news and market analysis</td>\n",
              "      <td>abc busienss wnes and market analysis</td>\n",
              "    </tr>\n",
              "    <tr>\n",
              "      <th>...</th>\n",
              "      <td>...</td>\n",
              "      <td>...</td>\n",
              "    </tr>\n",
              "    <tr>\n",
              "      <th>742784</th>\n",
              "      <td>wednesday finance with alan kohler</td>\n",
              "      <td>wednesday finnaec with lana kohler</td>\n",
              "    </tr>\n",
              "    <tr>\n",
              "      <th>742790</th>\n",
              "      <td>wednesday finance with alan kohler</td>\n",
              "      <td>wednesday finance with lana kohler</td>\n",
              "    </tr>\n",
              "    <tr>\n",
              "      <th>742816</th>\n",
              "      <td>wednesday finance with alan kohler</td>\n",
              "      <td>wednesday finance with lana kohler</td>\n",
              "    </tr>\n",
              "    <tr>\n",
              "      <th>742873</th>\n",
              "      <td>wednesday markets with fiona clark</td>\n",
              "      <td>wednesday markets iwht fiona lcakr</td>\n",
              "    </tr>\n",
              "    <tr>\n",
              "      <th>758107</th>\n",
              "      <td>woman to front court over stabbing</td>\n",
              "      <td>woman to front ocutr over stabbing</td>\n",
              "    </tr>\n",
              "  </tbody>\n",
              "</table>\n",
              "<p>71 rows × 2 columns</p>\n",
              "</div>\n",
              "      <button class=\"colab-df-convert\" onclick=\"convertToInteractive('df-4ece0581-94be-4d11-9778-93c31b9cb3c0')\"\n",
              "              title=\"Convert this dataframe to an interactive table.\"\n",
              "              style=\"display:none;\">\n",
              "        \n",
              "  <svg xmlns=\"http://www.w3.org/2000/svg\" height=\"24px\"viewBox=\"0 0 24 24\"\n",
              "       width=\"24px\">\n",
              "    <path d=\"M0 0h24v24H0V0z\" fill=\"none\"/>\n",
              "    <path d=\"M18.56 5.44l.94 2.06.94-2.06 2.06-.94-2.06-.94-.94-2.06-.94 2.06-2.06.94zm-11 1L8.5 8.5l.94-2.06 2.06-.94-2.06-.94L8.5 2.5l-.94 2.06-2.06.94zm10 10l.94 2.06.94-2.06 2.06-.94-2.06-.94-.94-2.06-.94 2.06-2.06.94z\"/><path d=\"M17.41 7.96l-1.37-1.37c-.4-.4-.92-.59-1.43-.59-.52 0-1.04.2-1.43.59L10.3 9.45l-7.72 7.72c-.78.78-.78 2.05 0 2.83L4 21.41c.39.39.9.59 1.41.59.51 0 1.02-.2 1.41-.59l7.78-7.78 2.81-2.81c.8-.78.8-2.07 0-2.86zM5.41 20L4 18.59l7.72-7.72 1.47 1.35L5.41 20z\"/>\n",
              "  </svg>\n",
              "      </button>\n",
              "      \n",
              "  <style>\n",
              "    .colab-df-container {\n",
              "      display:flex;\n",
              "      flex-wrap:wrap;\n",
              "      gap: 12px;\n",
              "    }\n",
              "\n",
              "    .colab-df-convert {\n",
              "      background-color: #E8F0FE;\n",
              "      border: none;\n",
              "      border-radius: 50%;\n",
              "      cursor: pointer;\n",
              "      display: none;\n",
              "      fill: #1967D2;\n",
              "      height: 32px;\n",
              "      padding: 0 0 0 0;\n",
              "      width: 32px;\n",
              "    }\n",
              "\n",
              "    .colab-df-convert:hover {\n",
              "      background-color: #E2EBFA;\n",
              "      box-shadow: 0px 1px 2px rgba(60, 64, 67, 0.3), 0px 1px 3px 1px rgba(60, 64, 67, 0.15);\n",
              "      fill: #174EA6;\n",
              "    }\n",
              "\n",
              "    [theme=dark] .colab-df-convert {\n",
              "      background-color: #3B4455;\n",
              "      fill: #D2E3FC;\n",
              "    }\n",
              "\n",
              "    [theme=dark] .colab-df-convert:hover {\n",
              "      background-color: #434B5C;\n",
              "      box-shadow: 0px 1px 3px 1px rgba(0, 0, 0, 0.15);\n",
              "      filter: drop-shadow(0px 1px 2px rgba(0, 0, 0, 0.3));\n",
              "      fill: #FFFFFF;\n",
              "    }\n",
              "  </style>\n",
              "\n",
              "      <script>\n",
              "        const buttonEl =\n",
              "          document.querySelector('#df-4ece0581-94be-4d11-9778-93c31b9cb3c0 button.colab-df-convert');\n",
              "        buttonEl.style.display =\n",
              "          google.colab.kernel.accessAllowed ? 'block' : 'none';\n",
              "\n",
              "        async function convertToInteractive(key) {\n",
              "          const element = document.querySelector('#df-4ece0581-94be-4d11-9778-93c31b9cb3c0');\n",
              "          const dataTable =\n",
              "            await google.colab.kernel.invokeFunction('convertToInteractive',\n",
              "                                                     [key], {});\n",
              "          if (!dataTable) return;\n",
              "\n",
              "          const docLinkHtml = 'Like what you see? Visit the ' +\n",
              "            '<a target=\"_blank\" href=https://colab.research.google.com/notebooks/data_table.ipynb>data table notebook</a>'\n",
              "            + ' to learn more about interactive tables.';\n",
              "          element.innerHTML = '';\n",
              "          dataTable['output_type'] = 'display_data';\n",
              "          await google.colab.output.renderOutput(dataTable, element);\n",
              "          const docLink = document.createElement('div');\n",
              "          docLink.innerHTML = docLinkHtml;\n",
              "          element.appendChild(docLink);\n",
              "        }\n",
              "      </script>\n",
              "    </div>\n",
              "  </div>\n",
              "  "
            ]
          },
          "metadata": {},
          "execution_count": 23
        }
      ]
    },
    {
      "cell_type": "code",
      "source": [
        "df_val[df_val.duplicated()]\n"
      ],
      "metadata": {
        "colab": {
          "base_uri": "https://localhost:8080/",
          "height": 112
        },
        "id": "fOtnbULR-sI_",
        "outputId": "59a8a137-bb50-418b-d3b5-c98894fa3d6b"
      },
      "execution_count": null,
      "outputs": [
        {
          "output_type": "execute_result",
          "data": {
            "text/plain": [
              "                                         text  \\\n",
              "42958   abc business news and market analysis   \n",
              "150906  abc business news and market analysis   \n",
              "\n",
              "                               augmented_text  \n",
              "42958   abc ubsiness news and market analysis  \n",
              "150906  abc usbiness news and mraekt analysis  "
            ],
            "text/html": [
              "\n",
              "  <div id=\"df-561003bd-a1f9-4bab-9b3d-0c267589f1c8\">\n",
              "    <div class=\"colab-df-container\">\n",
              "      <div>\n",
              "<style scoped>\n",
              "    .dataframe tbody tr th:only-of-type {\n",
              "        vertical-align: middle;\n",
              "    }\n",
              "\n",
              "    .dataframe tbody tr th {\n",
              "        vertical-align: top;\n",
              "    }\n",
              "\n",
              "    .dataframe thead th {\n",
              "        text-align: right;\n",
              "    }\n",
              "</style>\n",
              "<table border=\"1\" class=\"dataframe\">\n",
              "  <thead>\n",
              "    <tr style=\"text-align: right;\">\n",
              "      <th></th>\n",
              "      <th>text</th>\n",
              "      <th>augmented_text</th>\n",
              "    </tr>\n",
              "  </thead>\n",
              "  <tbody>\n",
              "    <tr>\n",
              "      <th>42958</th>\n",
              "      <td>abc business news and market analysis</td>\n",
              "      <td>abc ubsiness news and market analysis</td>\n",
              "    </tr>\n",
              "    <tr>\n",
              "      <th>150906</th>\n",
              "      <td>abc business news and market analysis</td>\n",
              "      <td>abc usbiness news and mraekt analysis</td>\n",
              "    </tr>\n",
              "  </tbody>\n",
              "</table>\n",
              "</div>\n",
              "      <button class=\"colab-df-convert\" onclick=\"convertToInteractive('df-561003bd-a1f9-4bab-9b3d-0c267589f1c8')\"\n",
              "              title=\"Convert this dataframe to an interactive table.\"\n",
              "              style=\"display:none;\">\n",
              "        \n",
              "  <svg xmlns=\"http://www.w3.org/2000/svg\" height=\"24px\"viewBox=\"0 0 24 24\"\n",
              "       width=\"24px\">\n",
              "    <path d=\"M0 0h24v24H0V0z\" fill=\"none\"/>\n",
              "    <path d=\"M18.56 5.44l.94 2.06.94-2.06 2.06-.94-2.06-.94-.94-2.06-.94 2.06-2.06.94zm-11 1L8.5 8.5l.94-2.06 2.06-.94-2.06-.94L8.5 2.5l-.94 2.06-2.06.94zm10 10l.94 2.06.94-2.06 2.06-.94-2.06-.94-.94-2.06-.94 2.06-2.06.94z\"/><path d=\"M17.41 7.96l-1.37-1.37c-.4-.4-.92-.59-1.43-.59-.52 0-1.04.2-1.43.59L10.3 9.45l-7.72 7.72c-.78.78-.78 2.05 0 2.83L4 21.41c.39.39.9.59 1.41.59.51 0 1.02-.2 1.41-.59l7.78-7.78 2.81-2.81c.8-.78.8-2.07 0-2.86zM5.41 20L4 18.59l7.72-7.72 1.47 1.35L5.41 20z\"/>\n",
              "  </svg>\n",
              "      </button>\n",
              "      \n",
              "  <style>\n",
              "    .colab-df-container {\n",
              "      display:flex;\n",
              "      flex-wrap:wrap;\n",
              "      gap: 12px;\n",
              "    }\n",
              "\n",
              "    .colab-df-convert {\n",
              "      background-color: #E8F0FE;\n",
              "      border: none;\n",
              "      border-radius: 50%;\n",
              "      cursor: pointer;\n",
              "      display: none;\n",
              "      fill: #1967D2;\n",
              "      height: 32px;\n",
              "      padding: 0 0 0 0;\n",
              "      width: 32px;\n",
              "    }\n",
              "\n",
              "    .colab-df-convert:hover {\n",
              "      background-color: #E2EBFA;\n",
              "      box-shadow: 0px 1px 2px rgba(60, 64, 67, 0.3), 0px 1px 3px 1px rgba(60, 64, 67, 0.15);\n",
              "      fill: #174EA6;\n",
              "    }\n",
              "\n",
              "    [theme=dark] .colab-df-convert {\n",
              "      background-color: #3B4455;\n",
              "      fill: #D2E3FC;\n",
              "    }\n",
              "\n",
              "    [theme=dark] .colab-df-convert:hover {\n",
              "      background-color: #434B5C;\n",
              "      box-shadow: 0px 1px 3px 1px rgba(0, 0, 0, 0.15);\n",
              "      filter: drop-shadow(0px 1px 2px rgba(0, 0, 0, 0.3));\n",
              "      fill: #FFFFFF;\n",
              "    }\n",
              "  </style>\n",
              "\n",
              "      <script>\n",
              "        const buttonEl =\n",
              "          document.querySelector('#df-561003bd-a1f9-4bab-9b3d-0c267589f1c8 button.colab-df-convert');\n",
              "        buttonEl.style.display =\n",
              "          google.colab.kernel.accessAllowed ? 'block' : 'none';\n",
              "\n",
              "        async function convertToInteractive(key) {\n",
              "          const element = document.querySelector('#df-561003bd-a1f9-4bab-9b3d-0c267589f1c8');\n",
              "          const dataTable =\n",
              "            await google.colab.kernel.invokeFunction('convertToInteractive',\n",
              "                                                     [key], {});\n",
              "          if (!dataTable) return;\n",
              "\n",
              "          const docLinkHtml = 'Like what you see? Visit the ' +\n",
              "            '<a target=\"_blank\" href=https://colab.research.google.com/notebooks/data_table.ipynb>data table notebook</a>'\n",
              "            + ' to learn more about interactive tables.';\n",
              "          element.innerHTML = '';\n",
              "          dataTable['output_type'] = 'display_data';\n",
              "          await google.colab.output.renderOutput(dataTable, element);\n",
              "          const docLink = document.createElement('div');\n",
              "          docLink.innerHTML = docLinkHtml;\n",
              "          element.appendChild(docLink);\n",
              "        }\n",
              "      </script>\n",
              "    </div>\n",
              "  </div>\n",
              "  "
            ]
          },
          "metadata": {},
          "execution_count": 24
        }
      ]
    },
    {
      "cell_type": "code",
      "source": [
        "df_test[df_test.duplicated()]\n"
      ],
      "metadata": {
        "colab": {
          "base_uri": "https://localhost:8080/",
          "height": 112
        },
        "id": "KG_gPvnu-tGt",
        "outputId": "8d4e1e1e-aa6a-4dbe-e093-6746076bde34"
      },
      "execution_count": null,
      "outputs": [
        {
          "output_type": "execute_result",
          "data": {
            "text/plain": [
              "                                        text  \\\n",
              "52797  abc business news and market analysis   \n",
              "98255  abc business news and market analysis   \n",
              "\n",
              "                              augmented_text  \n",
              "52797  abc business wnes and market aanlyiss  \n",
              "98255  abc ubsiness news and market analysis  "
            ],
            "text/html": [
              "\n",
              "  <div id=\"df-7b7dcd45-702c-4d98-ae88-abdc09d3ac55\">\n",
              "    <div class=\"colab-df-container\">\n",
              "      <div>\n",
              "<style scoped>\n",
              "    .dataframe tbody tr th:only-of-type {\n",
              "        vertical-align: middle;\n",
              "    }\n",
              "\n",
              "    .dataframe tbody tr th {\n",
              "        vertical-align: top;\n",
              "    }\n",
              "\n",
              "    .dataframe thead th {\n",
              "        text-align: right;\n",
              "    }\n",
              "</style>\n",
              "<table border=\"1\" class=\"dataframe\">\n",
              "  <thead>\n",
              "    <tr style=\"text-align: right;\">\n",
              "      <th></th>\n",
              "      <th>text</th>\n",
              "      <th>augmented_text</th>\n",
              "    </tr>\n",
              "  </thead>\n",
              "  <tbody>\n",
              "    <tr>\n",
              "      <th>52797</th>\n",
              "      <td>abc business news and market analysis</td>\n",
              "      <td>abc business wnes and market aanlyiss</td>\n",
              "    </tr>\n",
              "    <tr>\n",
              "      <th>98255</th>\n",
              "      <td>abc business news and market analysis</td>\n",
              "      <td>abc ubsiness news and market analysis</td>\n",
              "    </tr>\n",
              "  </tbody>\n",
              "</table>\n",
              "</div>\n",
              "      <button class=\"colab-df-convert\" onclick=\"convertToInteractive('df-7b7dcd45-702c-4d98-ae88-abdc09d3ac55')\"\n",
              "              title=\"Convert this dataframe to an interactive table.\"\n",
              "              style=\"display:none;\">\n",
              "        \n",
              "  <svg xmlns=\"http://www.w3.org/2000/svg\" height=\"24px\"viewBox=\"0 0 24 24\"\n",
              "       width=\"24px\">\n",
              "    <path d=\"M0 0h24v24H0V0z\" fill=\"none\"/>\n",
              "    <path d=\"M18.56 5.44l.94 2.06.94-2.06 2.06-.94-2.06-.94-.94-2.06-.94 2.06-2.06.94zm-11 1L8.5 8.5l.94-2.06 2.06-.94-2.06-.94L8.5 2.5l-.94 2.06-2.06.94zm10 10l.94 2.06.94-2.06 2.06-.94-2.06-.94-.94-2.06-.94 2.06-2.06.94z\"/><path d=\"M17.41 7.96l-1.37-1.37c-.4-.4-.92-.59-1.43-.59-.52 0-1.04.2-1.43.59L10.3 9.45l-7.72 7.72c-.78.78-.78 2.05 0 2.83L4 21.41c.39.39.9.59 1.41.59.51 0 1.02-.2 1.41-.59l7.78-7.78 2.81-2.81c.8-.78.8-2.07 0-2.86zM5.41 20L4 18.59l7.72-7.72 1.47 1.35L5.41 20z\"/>\n",
              "  </svg>\n",
              "      </button>\n",
              "      \n",
              "  <style>\n",
              "    .colab-df-container {\n",
              "      display:flex;\n",
              "      flex-wrap:wrap;\n",
              "      gap: 12px;\n",
              "    }\n",
              "\n",
              "    .colab-df-convert {\n",
              "      background-color: #E8F0FE;\n",
              "      border: none;\n",
              "      border-radius: 50%;\n",
              "      cursor: pointer;\n",
              "      display: none;\n",
              "      fill: #1967D2;\n",
              "      height: 32px;\n",
              "      padding: 0 0 0 0;\n",
              "      width: 32px;\n",
              "    }\n",
              "\n",
              "    .colab-df-convert:hover {\n",
              "      background-color: #E2EBFA;\n",
              "      box-shadow: 0px 1px 2px rgba(60, 64, 67, 0.3), 0px 1px 3px 1px rgba(60, 64, 67, 0.15);\n",
              "      fill: #174EA6;\n",
              "    }\n",
              "\n",
              "    [theme=dark] .colab-df-convert {\n",
              "      background-color: #3B4455;\n",
              "      fill: #D2E3FC;\n",
              "    }\n",
              "\n",
              "    [theme=dark] .colab-df-convert:hover {\n",
              "      background-color: #434B5C;\n",
              "      box-shadow: 0px 1px 3px 1px rgba(0, 0, 0, 0.15);\n",
              "      filter: drop-shadow(0px 1px 2px rgba(0, 0, 0, 0.3));\n",
              "      fill: #FFFFFF;\n",
              "    }\n",
              "  </style>\n",
              "\n",
              "      <script>\n",
              "        const buttonEl =\n",
              "          document.querySelector('#df-7b7dcd45-702c-4d98-ae88-abdc09d3ac55 button.colab-df-convert');\n",
              "        buttonEl.style.display =\n",
              "          google.colab.kernel.accessAllowed ? 'block' : 'none';\n",
              "\n",
              "        async function convertToInteractive(key) {\n",
              "          const element = document.querySelector('#df-7b7dcd45-702c-4d98-ae88-abdc09d3ac55');\n",
              "          const dataTable =\n",
              "            await google.colab.kernel.invokeFunction('convertToInteractive',\n",
              "                                                     [key], {});\n",
              "          if (!dataTable) return;\n",
              "\n",
              "          const docLinkHtml = 'Like what you see? Visit the ' +\n",
              "            '<a target=\"_blank\" href=https://colab.research.google.com/notebooks/data_table.ipynb>data table notebook</a>'\n",
              "            + ' to learn more about interactive tables.';\n",
              "          element.innerHTML = '';\n",
              "          dataTable['output_type'] = 'display_data';\n",
              "          await google.colab.output.renderOutput(dataTable, element);\n",
              "          const docLink = document.createElement('div');\n",
              "          docLink.innerHTML = docLinkHtml;\n",
              "          element.appendChild(docLink);\n",
              "        }\n",
              "      </script>\n",
              "    </div>\n",
              "  </div>\n",
              "  "
            ]
          },
          "metadata": {},
          "execution_count": 25
        }
      ]
    },
    {
      "cell_type": "code",
      "execution_count": null,
      "metadata": {
        "id": "s5oWgBqmTp7p"
      },
      "outputs": [],
      "source": [
        "# def clean_data(text):\n",
        "#     text = text.lower()\n",
        "#     text = re.sub(r\"[-=+*\\\"#@!$%^&()`<>/[\\]]\",\"\",text)\n",
        "#     text = re.sub(r\"i'm\",\"i am\",text)\n",
        "#     text = re.sub(r\"he's\",\"he is\",text)\n",
        "#     text = re.sub(r\"she's\",\"she is\",text)\n",
        "#     text = re.sub(r\"it's\",\"it is\",text)\n",
        "#     text = re.sub(r\"they're\",\"they are\",text)\n",
        "#     text = re.sub(r\"there're\",\"there are\",text)\n",
        "#     text = re.sub(r\"there's\",\"there is\",text)\n",
        "#     text = re.sub(r\"how're\",\"how are\",text)\n",
        "#     text = re.sub(r\"what're\",\"what are\",text)\n",
        "#     text = re.sub(r\"where're\",\"where \",text)\n",
        "#     text = re.sub(r\"who're\",\"who are\",text)\n",
        "#     text = re.sub(r\"that're\",\"that are\",text)\n",
        "#     text = re.sub(r\"when're\",\"when are\",text)\n",
        "#     text = re.sub(r\"how's\",\"how is\",text)\n",
        "#     text = re.sub(r\"what's\",\"what is\",text)\n",
        "#     text = re.sub(r\"where's\",\"where is\",text)\n",
        "#     text = re.sub(r\"who's\",\"who is\",text)\n",
        "#     text = re.sub(r\"that's\",\"that is\",text)\n",
        "#     text = re.sub(r\"when's\",\"when is\",text)\n",
        "#     text = re.sub(r\"won't\",\"would not\",text)\n",
        "#     text = re.sub(r\"nt't\",\"can not\",text)\n",
        "#     text = re.sub(r\"\\'bout'\",\"about\",text)\n",
        "#     text = re.sub(r\"\\'till'\",\"untill\",text)\n",
        "#     text = re.sub(r\"\\'ll\",\"will\",text)\n",
        "#     text = re.sub(r\"\\'ve\",\"have\",text)\n",
        "#     text = re.sub(r\"\\'re\",\"are\",text)\n",
        "#     text = re.sub(r\"\\'d\",\"would\",text)\n",
        "#     text = re.sub(r\"\\.\",\" \",text)\n",
        "#     text = re.sub(r\"\\,\",\" \",text)\n",
        "#     text = re.sub(r\"\\!\",\" \",text)\n",
        "#     text = re.sub(r\"\\?\",\" \",text)\n",
        "#     text = re.sub(r\"\\;\",\" \",text)\n",
        "#     text = re.sub(r\"\\:\",\" \",text)\n",
        "#     return text\n",
        "\n",
        "    \n",
        "# df_train['text'] = df_train['text'].apply(clean_data)\n",
        "# df_train['augmented_text'] = df_train['augmented_text'].apply(clean_data)\n",
        "# df_val['text'] = df_val['text'].apply(clean_data)\n",
        "# df_val['augmented_text'] = df_val['augmented_text'].apply(clean_data)\n",
        "# df_test['text'] = df_test['text'].apply(clean_data)\n",
        "# df_test['augmented_text'] = df_test['augmented_text'].apply(clean_data)\n",
        "# data = pd.concat([df_train,df_val,df_test])\n"
      ]
    },
    {
      "cell_type": "code",
      "execution_count": null,
      "metadata": {
        "id": "cBBa1A3aw0e2"
      },
      "outputs": [],
      "source": [
        "# data.to_csv('/content/drive/MyDrive/Colab_Notebooks/data.csv',index=False,)"
      ]
    },
    {
      "cell_type": "code",
      "execution_count": null,
      "metadata": {
        "id": "9Rr916ahpnUm"
      },
      "outputs": [],
      "source": [
        "#data.csv is being pre-process to save time for training\n",
        "data = pd.read_csv('/content/drive/MyDrive/Colab_Notebooks/data.csv')"
      ]
    },
    {
      "cell_type": "code",
      "source": [
        "print(data.isnull().sum())\n",
        "data = data.drop_duplicates(subset=['augmented_text'])\n",
        "# data = (data[data[\"augmented_text\"] != \"name\"])\n",
        "print(data.duplicated().sum())"
      ],
      "metadata": {
        "colab": {
          "base_uri": "https://localhost:8080/"
        },
        "id": "BV4K4JPt-bXI",
        "outputId": "9d5c4059-819f-4f92-a9e4-af1d09e7a465"
      },
      "execution_count": null,
      "outputs": [
        {
          "output_type": "stream",
          "name": "stdout",
          "text": [
            "text              0\n",
            "augmented_text    0\n",
            "dtype: int64\n",
            "0\n"
          ]
        }
      ]
    },
    {
      "cell_type": "code",
      "execution_count": null,
      "metadata": {
        "id": "p8yRxvmbUQNu"
      },
      "outputs": [],
      "source": [
        "max_length = 8"
      ]
    },
    {
      "cell_type": "code",
      "execution_count": null,
      "metadata": {
        "id": "oFwaj7r9rIZP"
      },
      "outputs": [],
      "source": [
        "df = data[data['text'].apply(lambda x: len(x.split(\" \"))< max_length +1)]"
      ]
    },
    {
      "cell_type": "code",
      "source": [
        "df.describe()"
      ],
      "metadata": {
        "colab": {
          "base_uri": "https://localhost:8080/",
          "height": 175
        },
        "id": "NPdf-5Hn7RET",
        "outputId": "e954a8c4-7553-4c4f-adf4-fb4943619ae1"
      },
      "execution_count": null,
      "outputs": [
        {
          "output_type": "execute_result",
          "data": {
            "text/plain": [
              "                                         text  \\\n",
              "count                                  848707   \n",
              "unique                                 841401   \n",
              "top     abc business news and market analysis   \n",
              "freq                                      516   \n",
              "\n",
              "                                           augmented_text  \n",
              "count                                              848707  \n",
              "unique                                             848707  \n",
              "top      1 billion darling hsarfbour redeevelopment p3...  \n",
              "freq                                                    1  "
            ],
            "text/html": [
              "\n",
              "  <div id=\"df-c7828868-de50-46df-bf31-edc9010dd0cb\">\n",
              "    <div class=\"colab-df-container\">\n",
              "      <div>\n",
              "<style scoped>\n",
              "    .dataframe tbody tr th:only-of-type {\n",
              "        vertical-align: middle;\n",
              "    }\n",
              "\n",
              "    .dataframe tbody tr th {\n",
              "        vertical-align: top;\n",
              "    }\n",
              "\n",
              "    .dataframe thead th {\n",
              "        text-align: right;\n",
              "    }\n",
              "</style>\n",
              "<table border=\"1\" class=\"dataframe\">\n",
              "  <thead>\n",
              "    <tr style=\"text-align: right;\">\n",
              "      <th></th>\n",
              "      <th>text</th>\n",
              "      <th>augmented_text</th>\n",
              "    </tr>\n",
              "  </thead>\n",
              "  <tbody>\n",
              "    <tr>\n",
              "      <th>count</th>\n",
              "      <td>848707</td>\n",
              "      <td>848707</td>\n",
              "    </tr>\n",
              "    <tr>\n",
              "      <th>unique</th>\n",
              "      <td>841401</td>\n",
              "      <td>848707</td>\n",
              "    </tr>\n",
              "    <tr>\n",
              "      <th>top</th>\n",
              "      <td>abc business news and market analysis</td>\n",
              "      <td>1 billion darling hsarfbour redeevelopment p3...</td>\n",
              "    </tr>\n",
              "    <tr>\n",
              "      <th>freq</th>\n",
              "      <td>516</td>\n",
              "      <td>1</td>\n",
              "    </tr>\n",
              "  </tbody>\n",
              "</table>\n",
              "</div>\n",
              "      <button class=\"colab-df-convert\" onclick=\"convertToInteractive('df-c7828868-de50-46df-bf31-edc9010dd0cb')\"\n",
              "              title=\"Convert this dataframe to an interactive table.\"\n",
              "              style=\"display:none;\">\n",
              "        \n",
              "  <svg xmlns=\"http://www.w3.org/2000/svg\" height=\"24px\"viewBox=\"0 0 24 24\"\n",
              "       width=\"24px\">\n",
              "    <path d=\"M0 0h24v24H0V0z\" fill=\"none\"/>\n",
              "    <path d=\"M18.56 5.44l.94 2.06.94-2.06 2.06-.94-2.06-.94-.94-2.06-.94 2.06-2.06.94zm-11 1L8.5 8.5l.94-2.06 2.06-.94-2.06-.94L8.5 2.5l-.94 2.06-2.06.94zm10 10l.94 2.06.94-2.06 2.06-.94-2.06-.94-.94-2.06-.94 2.06-2.06.94z\"/><path d=\"M17.41 7.96l-1.37-1.37c-.4-.4-.92-.59-1.43-.59-.52 0-1.04.2-1.43.59L10.3 9.45l-7.72 7.72c-.78.78-.78 2.05 0 2.83L4 21.41c.39.39.9.59 1.41.59.51 0 1.02-.2 1.41-.59l7.78-7.78 2.81-2.81c.8-.78.8-2.07 0-2.86zM5.41 20L4 18.59l7.72-7.72 1.47 1.35L5.41 20z\"/>\n",
              "  </svg>\n",
              "      </button>\n",
              "      \n",
              "  <style>\n",
              "    .colab-df-container {\n",
              "      display:flex;\n",
              "      flex-wrap:wrap;\n",
              "      gap: 12px;\n",
              "    }\n",
              "\n",
              "    .colab-df-convert {\n",
              "      background-color: #E8F0FE;\n",
              "      border: none;\n",
              "      border-radius: 50%;\n",
              "      cursor: pointer;\n",
              "      display: none;\n",
              "      fill: #1967D2;\n",
              "      height: 32px;\n",
              "      padding: 0 0 0 0;\n",
              "      width: 32px;\n",
              "    }\n",
              "\n",
              "    .colab-df-convert:hover {\n",
              "      background-color: #E2EBFA;\n",
              "      box-shadow: 0px 1px 2px rgba(60, 64, 67, 0.3), 0px 1px 3px 1px rgba(60, 64, 67, 0.15);\n",
              "      fill: #174EA6;\n",
              "    }\n",
              "\n",
              "    [theme=dark] .colab-df-convert {\n",
              "      background-color: #3B4455;\n",
              "      fill: #D2E3FC;\n",
              "    }\n",
              "\n",
              "    [theme=dark] .colab-df-convert:hover {\n",
              "      background-color: #434B5C;\n",
              "      box-shadow: 0px 1px 3px 1px rgba(0, 0, 0, 0.15);\n",
              "      filter: drop-shadow(0px 1px 2px rgba(0, 0, 0, 0.3));\n",
              "      fill: #FFFFFF;\n",
              "    }\n",
              "  </style>\n",
              "\n",
              "      <script>\n",
              "        const buttonEl =\n",
              "          document.querySelector('#df-c7828868-de50-46df-bf31-edc9010dd0cb button.colab-df-convert');\n",
              "        buttonEl.style.display =\n",
              "          google.colab.kernel.accessAllowed ? 'block' : 'none';\n",
              "\n",
              "        async function convertToInteractive(key) {\n",
              "          const element = document.querySelector('#df-c7828868-de50-46df-bf31-edc9010dd0cb');\n",
              "          const dataTable =\n",
              "            await google.colab.kernel.invokeFunction('convertToInteractive',\n",
              "                                                     [key], {});\n",
              "          if (!dataTable) return;\n",
              "\n",
              "          const docLinkHtml = 'Like what you see? Visit the ' +\n",
              "            '<a target=\"_blank\" href=https://colab.research.google.com/notebooks/data_table.ipynb>data table notebook</a>'\n",
              "            + ' to learn more about interactive tables.';\n",
              "          element.innerHTML = '';\n",
              "          dataTable['output_type'] = 'display_data';\n",
              "          await google.colab.output.renderOutput(dataTable, element);\n",
              "          const docLink = document.createElement('div');\n",
              "          docLink.innerHTML = docLinkHtml;\n",
              "          element.appendChild(docLink);\n",
              "        }\n",
              "      </script>\n",
              "    </div>\n",
              "  </div>\n",
              "  "
            ]
          },
          "metadata": {},
          "execution_count": 38
        }
      ]
    },
    {
      "cell_type": "code",
      "execution_count": null,
      "metadata": {
        "id": "X4xURgshSrpT"
      },
      "outputs": [],
      "source": [
        "# df = df[:82000]\n",
        "train_df = df['augmented_text']\n",
        "test_df = df['text']\n",
        "from sklearn.model_selection import train_test_split\n",
        "train_x, test_x, train_y, test_y = train_test_split(train_df, test_df, test_size=0.27, random_state=42)\n",
        "val_x, test_x,val_y, test_y = train_test_split(test_x, test_y, test_size = 0.5, random_state=24)\n"
      ]
    },
    {
      "cell_type": "code",
      "execution_count": null,
      "metadata": {
        "colab": {
          "base_uri": "https://localhost:8080/"
        },
        "id": "IZMTBLH1H-U7",
        "outputId": "fd160a26-b243-4e8d-d35c-86b3f8e7ea12"
      },
      "outputs": [
        {
          "output_type": "execute_result",
          "data": {
            "text/plain": [
              "63521               bali blast survivors gac infection dosk\n",
              "608666                     seocdn aussie in strife at gaesm\n",
              "92482     brisbane photographer hcagred whit 79 sex ofef...\n",
              "298666               hard orwk by enwcastel police apsy off\n",
              "202405       drone used to redorv intensive fz3m lroductjon\n",
              "                                ...                        \n",
              "310255         hogan ateks tax docmunet fight to high cortu\n",
              "440072    mount laexadner hsier to vote on oposl management\n",
              "159128           conucli cracks down on yacht cubl drnikign\n",
              "810630       condamine indeendnt accuses lnp of drt6 tfickw\n",
              "147551             compo order cotur urlnig unlawful arrest\n",
              "Name: augmented_text, Length: 619556, dtype: object"
            ]
          },
          "metadata": {},
          "execution_count": 40
        }
      ],
      "source": [
        "train_x"
      ]
    },
    {
      "cell_type": "code",
      "execution_count": null,
      "metadata": {
        "colab": {
          "base_uri": "https://localhost:8080/"
        },
        "id": "inUltHgQ191H",
        "outputId": "2fa629fd-dbc8-48bc-840c-a5359c4c02f5"
      },
      "outputs": [
        {
          "output_type": "execute_result",
          "data": {
            "text/plain": [
              "63521              bali blast survivors face infection risk\n",
              "608666                     second aussie in strife at games\n",
              "92482     brisbane photographer charged with 79 sex offe...\n",
              "298666               hard work by newcastle police pays off\n",
              "202405       drone used to record intensive farm production\n",
              "                                ...                        \n",
              "310255         hogan takes tax document fight to high court\n",
              "440072    mount alexander shire to vote on pools management\n",
              "159128           council cracks down on yacht club drinking\n",
              "810630    condamine independent accuses lnp of dirty tricks\n",
              "147551             compo order court ruling unlawful arrest\n",
              "Name: text, Length: 619556, dtype: object"
            ]
          },
          "metadata": {},
          "execution_count": 41
        }
      ],
      "source": [
        "train_y"
      ]
    },
    {
      "cell_type": "code",
      "execution_count": null,
      "metadata": {
        "id": "sTa8D0WfT1gf"
      },
      "outputs": [],
      "source": [
        "\n",
        "g_text_tokenizer = Tokenizer()\n",
        "g_text_tokenizer.fit_on_texts(train_x)\n",
        "g_text_word_index = g_text_tokenizer.word_index\n",
        "train_sequences = g_text_tokenizer.texts_to_sequences(train_x)\n",
        "train_padded = pad_sequences(train_sequences, maxlen = max_length, padding='post')\n",
        "\n",
        "\n",
        "text_tokenizer = Tokenizer()\n",
        "text_tokenizer.fit_on_texts(train_y)\n",
        "text_word_index = text_tokenizer.word_index\n",
        "test_sequences = text_tokenizer.texts_to_sequences(train_y)\n",
        "test_padded = pad_sequences(test_sequences,maxlen = max_length, padding='post')\n",
        "\n",
        "\n",
        "\n"
      ]
    },
    {
      "cell_type": "code",
      "execution_count": null,
      "metadata": {
        "id": "4PWLtCPyLNVJ"
      },
      "outputs": [],
      "source": [
        "val_train_sequences = g_text_tokenizer.texts_to_sequences(val_x)\n",
        "val_train_padded = pad_sequences(val_train_sequences, maxlen = max_length, padding='post')\n",
        "\n",
        "val_test_sequences = text_tokenizer.texts_to_sequences(val_y)\n",
        "val_test_padded = pad_sequences(val_test_sequences, maxlen = max_length, padding='post')"
      ]
    },
    {
      "cell_type": "code",
      "execution_count": null,
      "metadata": {
        "colab": {
          "base_uri": "https://localhost:8080/"
        },
        "id": "npA5T2pATdEK",
        "outputId": "b126014b-35f0-471b-ef9c-ed0205ca340e"
      },
      "outputs": [
        {
          "output_type": "stream",
          "name": "stdout",
          "text": [
            "854284 79749\n"
          ]
        }
      ],
      "source": [
        "g_vocab_size = len(g_text_word_index)+1\n",
        "vocab_size = len(text_word_index)+1\n",
        "print(g_vocab_size, vocab_size)"
      ]
    },
    {
      "cell_type": "code",
      "source": [
        "voc = [\"Text Vocabulary\", \"Augmented Text Vocabulary\"]\n",
        "voc_count = [vocab_size, g_vocab_size]\n",
        "\n",
        "plt.bar(voc, voc_count, width = 0.4)\n",
        "plt.title(\"Vocabulary Graph\")\n",
        "plt.show()"
      ],
      "metadata": {
        "colab": {
          "base_uri": "https://localhost:8080/",
          "height": 281
        },
        "id": "9EspCkMbCKx_",
        "outputId": "762c5f71-99f3-4e12-807d-ad897d29e7b7"
      },
      "execution_count": null,
      "outputs": [
        {
          "output_type": "display_data",
          "data": {
            "text/plain": [
              "<Figure size 432x288 with 1 Axes>"
            ],
            "image/png": "[encoded data removed]"
          },
          "metadata": {
            "needs_background": "light"
          }
        }
      ]
    },
    {
      "cell_type": "code",
      "execution_count": null,
      "metadata": {
        "id": "eVK8H4m5dqdD"
      },
      "outputs": [],
      "source": [
        "temp_test_padded = test_padded.reshape((test_padded.shape[0], test_padded.shape[1],1))\n"
      ]
    },
    {
      "cell_type": "code",
      "execution_count": null,
      "metadata": {
        "id": "msrdgdWvea79"
      },
      "outputs": [],
      "source": [
        "epoch = 20"
      ]
    },
    {
      "cell_type": "code",
      "execution_count": null,
      "metadata": {
        "id": "Z-aIfKjVddt0",
        "colab": {
          "base_uri": "https://localhost:8080/"
        },
        "outputId": "91e9c578-98bc-4b8c-a79c-ba0c3de953d3"
      },
      "outputs": [
        {
          "output_type": "stream",
          "name": "stdout",
          "text": [
            "Model: \"sequential\"\n",
            "____________________________________________________________________________\n",
            " Layer (type)                Output Shape              Param #   Trainable  \n",
            "============================================================================\n",
            " embedding (Embedding)       (None, 8, 64)             54674176  Y          \n",
            "                                                                            \n",
            " bidirectional (Bidirectiona  (None, 8, 128)           66048     Y          \n",
            " l)                                                                         \n",
            "                                                                            \n",
            " dropout (Dropout)           (None, 8, 128)            0         Y          \n",
            "                                                                            \n",
            " bidirectional_1 (Bidirectio  (None, 8, 128)           98816     Y          \n",
            " nal)                                                                       \n",
            "                                                                            \n",
            " bidirectional_2 (Bidirectio  (None, 8, 128)           98816     Y          \n",
            " nal)                                                                       \n",
            "                                                                            \n",
            " dropout_1 (Dropout)         (None, 8, 128)            0         Y          \n",
            "                                                                            \n",
            " bidirectional_3 (Bidirectio  (None, 8, 128)           98816     Y          \n",
            " nal)                                                                       \n",
            "                                                                            \n",
            " dropout_2 (Dropout)         (None, 8, 128)            0         Y          \n",
            "                                                                            \n",
            " batch_normalization (BatchN  (None, 8, 128)           512       Y          \n",
            " ormalization)                                                              \n",
            "                                                                            \n",
            " dense (Dense)               (None, 8, 79749)          10287621  Y          \n",
            "                                                                            \n",
            "============================================================================\n",
            "Total params: 65,324,805\n",
            "Trainable params: 65,324,549\n",
            "Non-trainable params: 256\n",
            "____________________________________________________________________________\n"
          ]
        }
      ],
      "source": [
        "# Reference from this paper, \"Bidirectional recurrent neural networks\" https://ieeexplore.ieee.org/abstract/document/650093\n",
        "\n",
        "\n",
        "model_1 = tf.keras.Sequential([\n",
        "    tf.keras.layers.Embedding(input_dim=g_vocab_size, output_dim=64, input_length=max_length),\n",
        "    tf.keras.layers.Bidirectional(tf.keras.layers.LSTM(64, return_sequences=True)),\n",
        "    tf.keras.layers.Dropout(0.3),\n",
        "    tf.keras.layers.Bidirectional(tf.keras.layers.LSTM(64, return_sequences=True)),\n",
        "    tf.keras.layers.Bidirectional(tf.keras.layers.LSTM(64, return_sequences=True)),\n",
        "    tf.keras.layers.Dropout(0.3),\n",
        "    tf.keras.layers.Bidirectional(tf.keras.layers.LSTM(64, return_sequences=True)),\n",
        "    tf.keras.layers.Dropout(0.3),\n",
        "    tf.keras.layers.BatchNormalization(),\n",
        "    tf.keras.layers.Dense(vocab_size,activation='softmax')\n",
        "])\n",
        "learning_rate = 0.001\n",
        "optimizer = tf.keras.optimizers.Adam(learning_rate)\n",
        "\n",
        "# optimizer = tf.keras.optimizers.RMSprop(learning_rate)\n",
        "# optimizer = tf.keras.mixed_precision.LossScaleOptimizer(optimizer)\n",
        "model_1.compile(loss=\"sparse_categorical_crossentropy\",\n",
        "              optimizer=optimizer,\n",
        "              metrics=['accuracy'])\n",
        "model_1.summary(expand_nested=True,\n",
        "    show_trainable=True)"
      ]
    },
    {
      "cell_type": "code",
      "execution_count": null,
      "metadata": {
        "id": "a-eieNDyhrOx",
        "colab": {
          "base_uri": "https://localhost:8080/",
          "height": 959
        },
        "outputId": "c1952914-8096-4181-b648-e3ce5cac195c"
      },
      "outputs": [
        {
          "output_type": "stream",
          "name": "stdout",
          "text": [
            "Epoch 1/20\n",
            "1211/1211 [==============================] - 424s 337ms/step - loss: 5.8041 - accuracy: 0.2928 - val_loss: 7.1161 - val_accuracy: 0.4156\n",
            "Epoch 2/20\n",
            "1211/1211 [==============================] - 414s 342ms/step - loss: 3.1023 - accuracy: 0.5573 - val_loss: 7.6864 - val_accuracy: 0.5387\n",
            "Epoch 3/20\n",
            "1211/1211 [==============================] - 414s 342ms/step - loss: 2.0630 - accuracy: 0.6733 - val_loss: 8.4665 - val_accuracy: 0.5770\n",
            "Epoch 4/20\n",
            "1211/1211 [==============================] - 414s 342ms/step - loss: 1.5215 - accuracy: 0.7411 - val_loss: 9.0938 - val_accuracy: 0.5954\n",
            "Epoch 5/20\n",
            "1211/1211 [==============================] - 414s 342ms/step - loss: 1.1611 - accuracy: 0.7906 - val_loss: 9.6314 - val_accuracy: 0.6059\n",
            "Epoch 6/20\n",
            "1211/1211 [==============================] - 414s 342ms/step - loss: 0.9278 - accuracy: 0.8261 - val_loss: 10.0282 - val_accuracy: 0.6127\n",
            "Epoch 7/20\n",
            "1211/1211 [==============================] - 414s 342ms/step - loss: 0.7719 - accuracy: 0.8511 - val_loss: 10.3603 - val_accuracy: 0.6170\n",
            "Epoch 8/20\n",
            "1211/1211 [==============================] - 414s 342ms/step - loss: 0.6622 - accuracy: 0.8692 - val_loss: 10.5901 - val_accuracy: 0.6193\n",
            "Epoch 9/20\n",
            "1211/1211 [==============================] - 414s 342ms/step - loss: 0.5805 - accuracy: 0.8829 - val_loss: 10.7271 - val_accuracy: 0.6216\n",
            "Epoch 10/20\n",
            "1211/1211 [==============================] - 414s 342ms/step - loss: 0.5143 - accuracy: 0.8945 - val_loss: 10.8385 - val_accuracy: 0.6235\n",
            "Epoch 11/20\n",
            "1211/1211 [==============================] - 414s 342ms/step - loss: 0.4608 - accuracy: 0.9040 - val_loss: 11.0727 - val_accuracy: 0.6244\n",
            "Epoch 12/20\n",
            "1211/1211 [==============================] - 414s 342ms/step - loss: 0.4174 - accuracy: 0.9123 - val_loss: 11.0747 - val_accuracy: 0.6258\n",
            "Epoch 13/20\n",
            "1211/1211 [==============================] - 414s 342ms/step - loss: 0.3808 - accuracy: 0.9191 - val_loss: 11.2723 - val_accuracy: 0.6262\n",
            "Epoch 14/20\n",
            "1211/1211 [==============================] - 414s 342ms/step - loss: 0.3492 - accuracy: 0.9252 - val_loss: 11.2666 - val_accuracy: 0.6270\n",
            "Epoch 15/20\n",
            "1211/1211 [==============================] - 414s 342ms/step - loss: 0.3232 - accuracy: 0.9303 - val_loss: 11.6622 - val_accuracy: 0.6280\n",
            "Epoch 16/20\n",
            "1211/1211 [==============================] - 414s 342ms/step - loss: 0.3007 - accuracy: 0.9347 - val_loss: 11.8170 - val_accuracy: 0.6281\n",
            "Epoch 17/20\n",
            "1211/1211 [==============================] - 414s 342ms/step - loss: 0.2807 - accuracy: 0.9386 - val_loss: 11.6592 - val_accuracy: 0.6286\n",
            "Epoch 18/20\n",
            "1211/1211 [==============================] - 414s 342ms/step - loss: 0.2634 - accuracy: 0.9421 - val_loss: 12.0938 - val_accuracy: 0.6287\n",
            "Epoch 19/20\n",
            "1211/1211 [==============================] - 414s 342ms/step - loss: 0.2489 - accuracy: 0.9449 - val_loss: 12.3359 - val_accuracy: 0.6293\n",
            "Epoch 20/20\n",
            "1211/1211 [==============================] - 414s 342ms/step - loss: 0.2344 - accuracy: 0.9480 - val_loss: 12.3230 - val_accuracy: 0.6296\n"
          ]
        },
        {
          "output_type": "display_data",
          "data": {
            "text/plain": [
              "<Figure size 432x288 with 1 Axes>"
            ],
            "image/png": "[encoded data removed]"
          },
          "metadata": {
            "needs_background": "light"
          }
        }
      ],
      "source": [
        "his_1 = model_1.fit(train_padded, test_padded, batch_size=512, epochs=epoch, validation_data = (val_train_padded, val_test_padded))\n",
        "plt.plot(his_1.history['loss'])\n",
        "plt.plot(his_1.history['val_loss'])\n",
        "plt.legend(['train','validation'])\n",
        "plt.show()"
      ]
    },
    {
      "cell_type": "code",
      "source": [
        "train_accuracy = his_1.history['accuracy']\n",
        "val_accuracy = his_1.history['val_accuracy']\n",
        "print(\"The training accuracy is \", train_accuracy[-1])\n",
        "print(\"The val accuracy is \", val_accuracy[-1])\n"
      ],
      "metadata": {
        "colab": {
          "base_uri": "https://localhost:8080/"
        },
        "id": "oNNIGMhMjkLJ",
        "outputId": "cab4daff-32d1-4357-866b-c3b06783ef51"
      },
      "execution_count": null,
      "outputs": [
        {
          "output_type": "stream",
          "name": "stdout",
          "text": [
            "The training accuracy is  0.9479900002479553\n",
            "The val accuracy is  0.6296094059944153\n"
          ]
        }
      ]
    },
    {
      "cell_type": "code",
      "execution_count": null,
      "metadata": {
        "id": "ADAyQCdl7mmw"
      },
      "outputs": [],
      "source": [
        "# model.save('/content/drive/MyDrive/Colab_Notebooks/accuracy_84_3lstm_rnn_8inputlength')"
      ]
    },
    {
      "cell_type": "code",
      "execution_count": null,
      "metadata": {
        "id": "KpGWAIiQUe0_"
      },
      "outputs": [],
      "source": [
        "test_sample = test_x.iloc[:10]\n",
        "test_sample = g_text_tokenizer.texts_to_sequences(test_sample)\n",
        "test_sample = pad_sequences(test_sample, maxlen=max_length, padding='post')\n"
      ]
    },
    {
      "cell_type": "code",
      "execution_count": null,
      "metadata": {
        "id": "wUHeCyCM02he"
      },
      "outputs": [],
      "source": [
        "test_x.iloc[:10]"
      ]
    },
    {
      "cell_type": "code",
      "execution_count": null,
      "metadata": {
        "id": "o48mfKmhsDv0"
      },
      "outputs": [],
      "source": [
        "test_y.iloc[:10]"
      ]
    },
    {
      "cell_type": "code",
      "execution_count": null,
      "metadata": {
        "id": "kvPsR8hHEQq9"
      },
      "outputs": [],
      "source": [
        "pre = model_1.predict(test_sample)\n",
        "def deTokenize(logits):\n",
        "    index_to_words = {id: word for word, id in text_tokenizer.word_index.items()}\n",
        "    index_to_words[0] = ''\n",
        "    pre_index = np.argmax(logits, 1)\n",
        "    return ' '.join(index_to_words[prediction] for prediction in pre_index)\n",
        "predict = []\n",
        "for i in range(10):\n",
        "  predict.append(deTokenize(pre[i]))"
      ]
    },
    {
      "cell_type": "code",
      "execution_count": null,
      "metadata": {
        "id": "LCXcto7u1iTa",
        "colab": {
          "base_uri": "https://localhost:8080/",
          "height": 363
        },
        "outputId": "dd2a1572-b572-4cdf-986e-733309454a37"
      },
      "outputs": [
        {
          "output_type": "execute_result",
          "data": {
            "text/plain": [
              "                                                    input  \\\n",
              "240337             fialn decision about pambula mtaerniyt   \n",
              "648707        surpe saturday ybleections chart of the day   \n",
              "82067              bloody brawl results in srroous injugh   \n",
              "622925                    sixers upbeat depstie poor form   \n",
              "104905       businesses fofer uspport to rallying farmers   \n",
              "206660                   eales wouldnt irks hjons signing   \n",
              "612675      esrivce will suffre cbeause of job cuts union   \n",
              "37137                aaphce to edvleop balnaves oil field   \n",
              "714474                    us rnvog visits kabul for taoms   \n",
              "860700  biketawa plus concept nfexs fautios consideration   \n",
              "\n",
              "                                                   output  \\\n",
              "240337             final decision about pambula maternity   \n",
              "648707        super saturday byelections chart of the day   \n",
              "82067              bloody brawl results in serious injury   \n",
              "622925                    sixers upbeat despite poor form   \n",
              "104905       businesses offer support to rallying farmers   \n",
              "206660                   eales wouldnt risk johns signing   \n",
              "612675      service will suffer because of job cuts union   \n",
              "37137                apache to develop balnaves oil field   \n",
              "714474                    us envoy visits kabul for talks   \n",
              "860700  biketawa plus concept needs cautious considera...   \n",
              "\n",
              "                                               predict  \n",
              "240337       final decision about pambula maternity     \n",
              "648707               super saturday chart of the day    \n",
              "82067                      bloody brawl results in      \n",
              "622925              sixers upbeat despite poor form     \n",
              "104905  businesses offer support to rallying farmers    \n",
              "206660             eales wouldnt risk johns signing     \n",
              "612675          service will suffer of job cuts union   \n",
              "37137                 to develop gardasil oil field     \n",
              "714474                    us visits kabul for talks     \n",
              "860700                 plus concept consideration       "
            ],
            "text/html": [
              "\n",
              "  <div id=\"df-eef06135-f900-4d3f-9128-a6fb76cbd073\">\n",
              "    <div class=\"colab-df-container\">\n",
              "      <div>\n",
              "<style scoped>\n",
              "    .dataframe tbody tr th:only-of-type {\n",
              "        vertical-align: middle;\n",
              "    }\n",
              "\n",
              "    .dataframe tbody tr th {\n",
              "        vertical-align: top;\n",
              "    }\n",
              "\n",
              "    .dataframe thead th {\n",
              "        text-align: right;\n",
              "    }\n",
              "</style>\n",
              "<table border=\"1\" class=\"dataframe\">\n",
              "  <thead>\n",
              "    <tr style=\"text-align: right;\">\n",
              "      <th></th>\n",
              "      <th>input</th>\n",
              "      <th>output</th>\n",
              "      <th>predict</th>\n",
              "    </tr>\n",
              "  </thead>\n",
              "  <tbody>\n",
              "    <tr>\n",
              "      <th>240337</th>\n",
              "      <td>fialn decision about pambula mtaerniyt</td>\n",
              "      <td>final decision about pambula maternity</td>\n",
              "      <td>final decision about pambula maternity</td>\n",
              "    </tr>\n",
              "    <tr>\n",
              "      <th>648707</th>\n",
              "      <td>surpe saturday ybleections chart of the day</td>\n",
              "      <td>super saturday byelections chart of the day</td>\n",
              "      <td>super saturday chart of the day</td>\n",
              "    </tr>\n",
              "    <tr>\n",
              "      <th>82067</th>\n",
              "      <td>bloody brawl results in srroous injugh</td>\n",
              "      <td>bloody brawl results in serious injury</td>\n",
              "      <td>bloody brawl results in</td>\n",
              "    </tr>\n",
              "    <tr>\n",
              "      <th>622925</th>\n",
              "      <td>sixers upbeat depstie poor form</td>\n",
              "      <td>sixers upbeat despite poor form</td>\n",
              "      <td>sixers upbeat despite poor form</td>\n",
              "    </tr>\n",
              "    <tr>\n",
              "      <th>104905</th>\n",
              "      <td>businesses fofer uspport to rallying farmers</td>\n",
              "      <td>businesses offer support to rallying farmers</td>\n",
              "      <td>businesses offer support to rallying farmers</td>\n",
              "    </tr>\n",
              "    <tr>\n",
              "      <th>206660</th>\n",
              "      <td>eales wouldnt irks hjons signing</td>\n",
              "      <td>eales wouldnt risk johns signing</td>\n",
              "      <td>eales wouldnt risk johns signing</td>\n",
              "    </tr>\n",
              "    <tr>\n",
              "      <th>612675</th>\n",
              "      <td>esrivce will suffre cbeause of job cuts union</td>\n",
              "      <td>service will suffer because of job cuts union</td>\n",
              "      <td>service will suffer of job cuts union</td>\n",
              "    </tr>\n",
              "    <tr>\n",
              "      <th>37137</th>\n",
              "      <td>aaphce to edvleop balnaves oil field</td>\n",
              "      <td>apache to develop balnaves oil field</td>\n",
              "      <td>to develop gardasil oil field</td>\n",
              "    </tr>\n",
              "    <tr>\n",
              "      <th>714474</th>\n",
              "      <td>us rnvog visits kabul for taoms</td>\n",
              "      <td>us envoy visits kabul for talks</td>\n",
              "      <td>us visits kabul for talks</td>\n",
              "    </tr>\n",
              "    <tr>\n",
              "      <th>860700</th>\n",
              "      <td>biketawa plus concept nfexs fautios consideration</td>\n",
              "      <td>biketawa plus concept needs cautious considera...</td>\n",
              "      <td>plus concept consideration</td>\n",
              "    </tr>\n",
              "  </tbody>\n",
              "</table>\n",
              "</div>\n",
              "      <button class=\"colab-df-convert\" onclick=\"convertToInteractive('df-eef06135-f900-4d3f-9128-a6fb76cbd073')\"\n",
              "              title=\"Convert this dataframe to an interactive table.\"\n",
              "              style=\"display:none;\">\n",
              "        \n",
              "  <svg xmlns=\"http://www.w3.org/2000/svg\" height=\"24px\"viewBox=\"0 0 24 24\"\n",
              "       width=\"24px\">\n",
              "    <path d=\"M0 0h24v24H0V0z\" fill=\"none\"/>\n",
              "    <path d=\"M18.56 5.44l.94 2.06.94-2.06 2.06-.94-2.06-.94-.94-2.06-.94 2.06-2.06.94zm-11 1L8.5 8.5l.94-2.06 2.06-.94-2.06-.94L8.5 2.5l-.94 2.06-2.06.94zm10 10l.94 2.06.94-2.06 2.06-.94-2.06-.94-.94-2.06-.94 2.06-2.06.94z\"/><path d=\"M17.41 7.96l-1.37-1.37c-.4-.4-.92-.59-1.43-.59-.52 0-1.04.2-1.43.59L10.3 9.45l-7.72 7.72c-.78.78-.78 2.05 0 2.83L4 21.41c.39.39.9.59 1.41.59.51 0 1.02-.2 1.41-.59l7.78-7.78 2.81-2.81c.8-.78.8-2.07 0-2.86zM5.41 20L4 18.59l7.72-7.72 1.47 1.35L5.41 20z\"/>\n",
              "  </svg>\n",
              "      </button>\n",
              "      \n",
              "  <style>\n",
              "    .colab-df-container {\n",
              "      display:flex;\n",
              "      flex-wrap:wrap;\n",
              "      gap: 12px;\n",
              "    }\n",
              "\n",
              "    .colab-df-convert {\n",
              "      background-color: #E8F0FE;\n",
              "      border: none;\n",
              "      border-radius: 50%;\n",
              "      cursor: pointer;\n",
              "      display: none;\n",
              "      fill: #1967D2;\n",
              "      height: 32px;\n",
              "      padding: 0 0 0 0;\n",
              "      width: 32px;\n",
              "    }\n",
              "\n",
              "    .colab-df-convert:hover {\n",
              "      background-color: #E2EBFA;\n",
              "      box-shadow: 0px 1px 2px rgba(60, 64, 67, 0.3), 0px 1px 3px 1px rgba(60, 64, 67, 0.15);\n",
              "      fill: #174EA6;\n",
              "    }\n",
              "\n",
              "    [theme=dark] .colab-df-convert {\n",
              "      background-color: #3B4455;\n",
              "      fill: #D2E3FC;\n",
              "    }\n",
              "\n",
              "    [theme=dark] .colab-df-convert:hover {\n",
              "      background-color: #434B5C;\n",
              "      box-shadow: 0px 1px 3px 1px rgba(0, 0, 0, 0.15);\n",
              "      filter: drop-shadow(0px 1px 2px rgba(0, 0, 0, 0.3));\n",
              "      fill: #FFFFFF;\n",
              "    }\n",
              "  </style>\n",
              "\n",
              "      <script>\n",
              "        const buttonEl =\n",
              "          document.querySelector('#df-eef06135-f900-4d3f-9128-a6fb76cbd073 button.colab-df-convert');\n",
              "        buttonEl.style.display =\n",
              "          google.colab.kernel.accessAllowed ? 'block' : 'none';\n",
              "\n",
              "        async function convertToInteractive(key) {\n",
              "          const element = document.querySelector('#df-eef06135-f900-4d3f-9128-a6fb76cbd073');\n",
              "          const dataTable =\n",
              "            await google.colab.kernel.invokeFunction('convertToInteractive',\n",
              "                                                     [key], {});\n",
              "          if (!dataTable) return;\n",
              "\n",
              "          const docLinkHtml = 'Like what you see? Visit the ' +\n",
              "            '<a target=\"_blank\" href=https://colab.research.google.com/notebooks/data_table.ipynb>data table notebook</a>'\n",
              "            + ' to learn more about interactive tables.';\n",
              "          element.innerHTML = '';\n",
              "          dataTable['output_type'] = 'display_data';\n",
              "          await google.colab.output.renderOutput(dataTable, element);\n",
              "          const docLink = document.createElement('div');\n",
              "          docLink.innerHTML = docLinkHtml;\n",
              "          element.appendChild(docLink);\n",
              "        }\n",
              "      </script>\n",
              "    </div>\n",
              "  </div>\n",
              "  "
            ]
          },
          "metadata": {},
          "execution_count": 59
        }
      ],
      "source": [
        "eva = pd.DataFrame({'input': test_x.iloc[:10], 'output': test_y.iloc[:10], 'predict':predict})\n",
        "eva\n"
      ]
    },
    {
      "cell_type": "code",
      "execution_count": null,
      "metadata": {
        "id": "T-6vwxhK56Uw",
        "colab": {
          "base_uri": "https://localhost:8080/"
        },
        "outputId": "3dc92011-97e2-4ad3-95ee-032f6c9b940a"
      },
      "outputs": [
        {
          "output_type": "stream",
          "name": "stdout",
          "text": [
            "Iutput:     fialn decision about pambula mtaerniyt\n",
            "Actual:     final decision about pambula maternity\n",
            "Predicted:  final decision about pambula maternity   \n"
          ]
        }
      ],
      "source": [
        "print(\"Iutput:    \",test_x.iloc[0])\n",
        "print(\"Actual:    \",test_y.iloc[0])\n",
        "print(\"Predicted: \",deTokenize(pre[0]))"
      ]
    },
    {
      "cell_type": "code",
      "execution_count": null,
      "metadata": {
        "id": "Za9Vd_dEED-H"
      },
      "outputs": [],
      "source": [
        ""
      ]
    }
  ],
  "metadata": {
    "accelerator": "GPU",
    "colab": {
      "collapsed_sections": [],
      "name": "method1.ipynb",
      "provenance": []
    },
    "kernelspec": {
      "display_name": "Python 3",
      "name": "python3"
    },
    "language_info": {
      "name": "python"
    }
  },
  "nbformat": 4,
  "nbformat_minor": 0
}